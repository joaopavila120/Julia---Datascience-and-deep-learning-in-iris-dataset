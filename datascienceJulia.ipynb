{
  "cells": [
    {
      "cell_type": "markdown",
      "metadata": {
        "id": "view-in-github",
        "colab_type": "text"
      },
      "source": [
        "<a href=\"https://colab.research.google.com/github/joaopavila120/Julia---Datascience-and-deep-learning-in-iris-dataset/blob/main/datascienceJulia.ipynb\" target=\"_parent\"><img src=\"https://colab.research.google.com/assets/colab-badge.svg\" alt=\"Open In Colab\"/></a>"
      ]
    },
    {
      "cell_type": "markdown",
      "metadata": {
        "id": "tQ1r1bbb0yBv"
      },
      "source": [
        "# <img src=\"https://github.com/JuliaLang/julia-logo-graphics/raw/master/images/julia-logo-color.png\" height=\"100\" /> _Colab Notebook Template_\n",
        "\n",
        "## Instructions\n",
        "1. Work on a copy of this notebook: _File_ > _Save a copy in Drive_ (you will need a Google account). Alternatively, you can download the notebook using _File_ > _Download .ipynb_, then upload it to [Colab](https://colab.research.google.com/).\n",
        "2. If you need a GPU: _Runtime_ > _Change runtime type_ > _Harware accelerator_ = _GPU_.\n",
        "3. Execute the following cell (click on it and press Ctrl+Enter) to install Julia, IJulia and other packages (if needed, update `JULIA_VERSION` and the other parameters). This takes a couple of minutes.\n",
        "4. Reload this page (press Ctrl+R, or ⌘+R, or the F5 key) and continue to the next section.\n",
        "\n",
        "_Notes_:\n",
        "* If your Colab Runtime gets reset (e.g., due to inactivity), repeat steps 2, 3 and 4.\n",
        "* After installation, if you want to change the Julia version or activate/deactivate the GPU, you will need to reset the Runtime: _Runtime_ > _Factory reset runtime_ and repeat steps 3 and 4."
      ]
    },
    {
      "cell_type": "code",
      "execution_count": null,
      "metadata": {
        "colab": {
          "base_uri": "https://localhost:8080/"
        },
        "id": "GIeFXS0F0zww",
        "outputId": "47e0ab86-4065-4858-d912-641aefc153db"
      },
      "outputs": [
        {
          "output_type": "stream",
          "name": "stdout",
          "text": [
            "Installing Julia 1.8.2 on the current Colab Runtime...\n",
            "2023-06-19 23:10:08 URL:https://storage.googleapis.com/julialang2/bin/linux/x64/1.8/julia-1.8.2-linux-x86_64.tar.gz [135859273/135859273] -> \"/tmp/julia.tar.gz\" [1]\n",
            "Installing Julia package IJulia...\n"
          ]
        }
      ],
      "source": [
        "%%shell\n",
        "set -e\n",
        "\n",
        "#---------------------------------------------------#\n",
        "JULIA_VERSION=\"1.8.2\" # any version ≥ 0.7.0\n",
        "JULIA_PACKAGES=\"IJulia BenchmarkTools\"\n",
        "JULIA_PACKAGES_IF_GPU=\"CUDA\" # or CuArrays for older Julia versions\n",
        "JULIA_NUM_THREADS=2\n",
        "#---------------------------------------------------#\n",
        "\n",
        "if [ -z `which julia` ]; then\n",
        "  # Install Julia\n",
        "  JULIA_VER=`cut -d '.' -f -2 <<< \"$JULIA_VERSION\"`\n",
        "  echo \"Installing Julia $JULIA_VERSION on the current Colab Runtime...\"\n",
        "  BASE_URL=\"https://julialang-s3.julialang.org/bin/linux/x64\"\n",
        "  URL=\"$BASE_URL/$JULIA_VER/julia-$JULIA_VERSION-linux-x86_64.tar.gz\"\n",
        "  wget -nv $URL -O /tmp/julia.tar.gz # -nv means \"not verbose\"\n",
        "  tar -x -f /tmp/julia.tar.gz -C /usr/local --strip-components 1\n",
        "  rm /tmp/julia.tar.gz\n",
        "\n",
        "  # Install Packages\n",
        "  nvidia-smi -L &> /dev/null && export GPU=1 || export GPU=0\n",
        "  if [ $GPU -eq 1 ]; then\n",
        "    JULIA_PACKAGES=\"$JULIA_PACKAGES $JULIA_PACKAGES_IF_GPU\"\n",
        "  fi\n",
        "  for PKG in `echo $JULIA_PACKAGES`; do\n",
        "    echo \"Installing Julia package $PKG...\"\n",
        "    julia -e 'using Pkg; pkg\"add '$PKG'; precompile;\"' &> /dev/null\n",
        "  done\n",
        "\n",
        "  # Install kernel and rename it to \"julia\"\n",
        "  echo \"Installing IJulia kernel...\"\n",
        "  julia -e 'using IJulia; IJulia.installkernel(\"julia\", env=Dict(\n",
        "      \"JULIA_NUM_THREADS\"=>\"'\"$JULIA_NUM_THREADS\"'\"))'\n",
        "  KERNEL_DIR=`julia -e \"using IJulia; print(IJulia.kerneldir())\"`\n",
        "  KERNEL_NAME=`ls -d \"$KERNEL_DIR\"/julia*`\n",
        "  mv -f $KERNEL_NAME \"$KERNEL_DIR\"/julia\n",
        "\n",
        "  echo ''\n",
        "  echo \"Successfully installed `julia -v`!\"\n",
        "  echo \"Please reload this page (press Ctrl+R, ⌘+R, or the F5 key) then\"\n",
        "  echo \"jump to the 'Checking the Installation' section.\"\n",
        "fi"
      ]
    },
    {
      "cell_type": "markdown",
      "metadata": {
        "id": "-OS3Ac017T1i"
      },
      "source": [
        "# Checking the Installation\n",
        "The `versioninfo()` function should print your Julia version and some other info about the system:"
      ]
    },
    {
      "cell_type": "code",
      "execution_count": null,
      "metadata": {
        "colab": {
          "base_uri": "https://localhost:8080/"
        },
        "id": "EEzvvzCl1i0F",
        "outputId": "7684016b-2219-45ea-993f-dc53713b4938"
      },
      "outputs": [
        {
          "output_type": "stream",
          "name": "stdout",
          "text": [
            "Julia Version 1.8.2\n",
            "Commit 36034abf260 (2022-09-29 15:21 UTC)\n",
            "Platform Info:\n",
            "  OS: Linux (x86_64-linux-gnu)\n",
            "  CPU: 2 × AMD EPYC 7B12\n",
            "  WORD_SIZE: 64\n",
            "  LIBM: libopenlibm\n",
            "  LLVM: libLLVM-13.0.1 (ORCJIT, znver2)\n",
            "  Threads: 2 on 2 virtual cores\n",
            "Environment:\n",
            "  LD_LIBRARY_PATH = /usr/local/nvidia/lib:/usr/local/nvidia/lib64\n",
            "  JULIA_NUM_THREADS = 2\n"
          ]
        }
      ],
      "source": [
        "versioninfo()"
      ]
    },
    {
      "cell_type": "code",
      "execution_count": null,
      "metadata": {
        "colab": {
          "base_uri": "https://localhost:8080/"
        },
        "id": "YjM_qq54lCcs",
        "outputId": "c41dcbb8-1d7c-4541-c6b1-d2b254f529e7"
      },
      "outputs": [
        {
          "output_type": "stream",
          "name": "stdout",
          "text": [
            "  405.134 ms (2 allocations: 32.00 MiB)\n"
          ]
        }
      ],
      "source": [
        "using BenchmarkTools\n",
        "\n",
        "M = rand(2^11, 2^11)\n",
        "\n",
        "@btime $M * $M;"
      ]
    },
    {
      "cell_type": "code",
      "execution_count": null,
      "metadata": {
        "colab": {
          "base_uri": "https://localhost:8080/"
        },
        "id": "XciCcMAJOT3_",
        "outputId": "d738019e-3a30-4ade-addb-9707623d81cb"
      },
      "outputs": [
        {
          "name": "stdout",
          "output_type": "stream",
          "text": [
            "No GPU found.\n"
          ]
        }
      ],
      "source": [
        "try\n",
        "    using CUDA\n",
        "catch\n",
        "    println(\"No GPU found.\")\n",
        "else\n",
        "    run(`nvidia-smi`)\n",
        "    # Create a new random matrix directly on the GPU:\n",
        "    M_on_gpu = CUDA.CURAND.rand(2^11, 2^11)\n",
        "    @btime $M_on_gpu * $M_on_gpu; nothing\n",
        "end"
      ]
    },
    {
      "cell_type": "markdown",
      "metadata": {
        "id": "2UMidUQB03vJ"
      },
      "source": [
        "Add new code cells by clicking the `+ Code` button (or _Insert_ > _Code cell_).\n",
        "\n",
        "Have fun!\n",
        "\n",
        "<img src=\"https://raw.githubusercontent.com/JuliaLang/julia-logo-graphics/master/images/julia-logo-mask.png\" height=\"100\" />"
      ]
    },
    {
      "cell_type": "code",
      "execution_count": null,
      "metadata": {
        "colab": {
          "base_uri": "https://localhost:8080/"
        },
        "id": "iX1QbPVKuF5T",
        "outputId": "5ebfd2d2-2165-4b77-a9d2-1cb2bc00a039"
      },
      "outputs": [
        {
          "output_type": "stream",
          "name": "stderr",
          "text": [
            "\u001b[32m\u001b[1m    Updating\u001b[22m\u001b[39m registry at `~/.julia/registries/General.toml`\n",
            "\u001b[32m\u001b[1m   Resolving\u001b[22m\u001b[39m package versions...\n",
            "\u001b[32m\u001b[1m   Installed\u001b[22m\u001b[39m Graphite2_jll ──────────────── v1.3.14+0\n",
            "\u001b[32m\u001b[1m   Installed\u001b[22m\u001b[39m Wayland_protocols_jll ──────── v1.25.0+0\n",
            "\u001b[32m\u001b[1m   Installed\u001b[22m\u001b[39m JpegTurbo_jll ──────────────── v2.1.91+0\n",
            "\u001b[32m\u001b[1m   Installed\u001b[22m\u001b[39m Pixman_jll ─────────────────── v0.42.2+0\n",
            "\u001b[32m\u001b[1m   Installed\u001b[22m\u001b[39m Xorg_xcb_util_renderutil_jll ─ v0.3.9+1\n",
            "\u001b[32m\u001b[1m   Installed\u001b[22m\u001b[39m libfdk_aac_jll ─────────────── v2.0.2+0\n",
            "\u001b[32m\u001b[1m   Installed\u001b[22m\u001b[39m x265_jll ───────────────────── v3.5.0+0\n",
            "\u001b[32m\u001b[1m   Installed\u001b[22m\u001b[39m Libmount_jll ───────────────── v2.35.0+0\n",
            "\u001b[32m\u001b[1m   Installed\u001b[22m\u001b[39m XML2_jll ───────────────────── v2.10.3+0\n",
            "\u001b[32m\u001b[1m   Installed\u001b[22m\u001b[39m libass_jll ─────────────────── v0.15.1+0\n",
            "\u001b[32m\u001b[1m   Installed\u001b[22m\u001b[39m GR_jll ─────────────────────── v0.72.7+0\n",
            "\u001b[32m\u001b[1m   Installed\u001b[22m\u001b[39m Xorg_libXext_jll ───────────── v1.3.4+4\n",
            "\u001b[32m\u001b[1m   Installed\u001b[22m\u001b[39m Gettext_jll ────────────────── v0.21.0+0\n",
            "\u001b[32m\u001b[1m   Installed\u001b[22m\u001b[39m Wayland_jll ────────────────── v1.21.0+0\n",
            "\u001b[32m\u001b[1m   Installed\u001b[22m\u001b[39m Zstd_jll ───────────────────── v1.5.5+0\n",
            "\u001b[32m\u001b[1m   Installed\u001b[22m\u001b[39m Qt5Base_jll ────────────────── v5.15.3+2\n",
            "\u001b[32m\u001b[1m   Installed\u001b[22m\u001b[39m LERC_jll ───────────────────── v3.0.0+1\n",
            "\u001b[32m\u001b[1m   Installed\u001b[22m\u001b[39m Xorg_xtrans_jll ────────────── v1.4.0+3\n",
            "\u001b[32m\u001b[1m   Installed\u001b[22m\u001b[39m OpenSSL_jll ────────────────── v1.1.21+0\n",
            "\u001b[32m\u001b[1m   Installed\u001b[22m\u001b[39m LoggingExtras ──────────────── v1.0.0\n",
            "\u001b[32m\u001b[1m   Installed\u001b[22m\u001b[39m BitFlags ───────────────────── v0.1.7\n",
            "\u001b[32m\u001b[1m   Installed\u001b[22m\u001b[39m Opus_jll ───────────────────── v1.3.2+0\n",
            "\u001b[32m\u001b[1m   Installed\u001b[22m\u001b[39m FFMPEG_jll ─────────────────── v4.4.2+2\n",
            "\u001b[32m\u001b[1m   Installed\u001b[22m\u001b[39m Xorg_xcb_util_keysyms_jll ──── v0.4.0+1\n",
            "\u001b[32m\u001b[1m   Installed\u001b[22m\u001b[39m SimpleBufferStream ─────────── v1.1.0\n",
            "\u001b[32m\u001b[1m   Installed\u001b[22m\u001b[39m Bzip2_jll ──────────────────── v1.0.8+0\n",
            "\u001b[32m\u001b[1m   Installed\u001b[22m\u001b[39m Xorg_xkbcomp_jll ───────────── v1.4.2+4\n",
            "\u001b[32m\u001b[1m   Installed\u001b[22m\u001b[39m xkbcommon_jll ──────────────── v1.4.1+0\n",
            "\u001b[32m\u001b[1m   Installed\u001b[22m\u001b[39m Libgcrypt_jll ──────────────── v1.8.7+0\n",
            "\u001b[32m\u001b[1m   Installed\u001b[22m\u001b[39m Xorg_xkeyboard_config_jll ──── v2.27.0+4\n",
            "\u001b[32m\u001b[1m   Installed\u001b[22m\u001b[39m HarfBuzz_jll ───────────────── v2.8.1+1\n",
            "\u001b[32m\u001b[1m   Installed\u001b[22m\u001b[39m Expat_jll ──────────────────── v2.5.0+0\n",
            "\u001b[32m\u001b[1m   Installed\u001b[22m\u001b[39m Xorg_libXrandr_jll ─────────── v1.5.2+4\n",
            "\u001b[32m\u001b[1m   Installed\u001b[22m\u001b[39m LLVMOpenMP_jll ─────────────── v15.0.4+0\n",
            "\u001b[32m\u001b[1m   Installed\u001b[22m\u001b[39m Libtiff_jll ────────────────── v4.4.0+0\n",
            "\u001b[32m\u001b[1m   Installed\u001b[22m\u001b[39m Libiconv_jll ───────────────── v1.16.1+2\n",
            "\u001b[32m\u001b[1m   Installed\u001b[22m\u001b[39m Xorg_libXfixes_jll ─────────── v5.0.3+4\n",
            "\u001b[32m\u001b[1m   Installed\u001b[22m\u001b[39m LAME_jll ───────────────────── v3.100.1+0\n",
            "\u001b[32m\u001b[1m   Installed\u001b[22m\u001b[39m Xorg_xcb_util_image_jll ────── v0.4.0+1\n",
            "\u001b[32m\u001b[1m   Installed\u001b[22m\u001b[39m ConcurrentUtilities ────────── v2.2.0\n",
            "\u001b[32m\u001b[1m   Installed\u001b[22m\u001b[39m URIs ───────────────────────── v1.4.2\n",
            "\u001b[32m\u001b[1m   Installed\u001b[22m\u001b[39m LZO_jll ────────────────────── v2.10.1+0\n",
            "\u001b[32m\u001b[1m   Installed\u001b[22m\u001b[39m Libffi_jll ─────────────────── v3.2.2+1\n",
            "\u001b[32m\u001b[1m   Installed\u001b[22m\u001b[39m Xorg_xcb_util_wm_jll ───────── v0.4.1+1\n",
            "\u001b[32m\u001b[1m   Installed\u001b[22m\u001b[39m Xorg_libXrender_jll ────────── v0.9.10+4\n",
            "\u001b[32m\u001b[1m   Installed\u001b[22m\u001b[39m Glib_jll ───────────────────── v2.74.0+2\n",
            "\u001b[32m\u001b[1m   Installed\u001b[22m\u001b[39m libvorbis_jll ──────────────── v1.3.7+1\n",
            "\u001b[32m\u001b[1m   Installed\u001b[22m\u001b[39m Ogg_jll ────────────────────── v1.3.5+1\n",
            "\u001b[32m\u001b[1m   Installed\u001b[22m\u001b[39m FriBidi_jll ────────────────── v1.0.10+0\n",
            "\u001b[32m\u001b[1m   Installed\u001b[22m\u001b[39m Libglvnd_jll ───────────────── v1.6.0+0\n",
            "\u001b[32m\u001b[1m   Installed\u001b[22m\u001b[39m Xorg_libpthread_stubs_jll ──── v0.1.0+3\n",
            "\u001b[32m\u001b[1m   Installed\u001b[22m\u001b[39m OpenSSL ────────────────────── v1.4.1\n",
            "\u001b[32m\u001b[1m   Installed\u001b[22m\u001b[39m TranscodingStreams ─────────── v0.9.13\n",
            "\u001b[32m\u001b[1m   Installed\u001b[22m\u001b[39m Xorg_libXi_jll ─────────────── v1.7.10+4\n",
            "\u001b[32m\u001b[1m   Installed\u001b[22m\u001b[39m XSLT_jll ───────────────────── v1.1.34+0\n",
            "\u001b[32m\u001b[1m   Installed\u001b[22m\u001b[39m Xorg_xcb_util_jll ──────────── v0.4.0+1\n",
            "\u001b[32m\u001b[1m   Installed\u001b[22m\u001b[39m Cairo_jll ──────────────────── v1.16.1+1\n",
            "\u001b[32m\u001b[1m   Installed\u001b[22m\u001b[39m GLFW_jll ───────────────────── v3.3.8+0\n",
            "\u001b[32m\u001b[1m   Installed\u001b[22m\u001b[39m Fontconfig_jll ─────────────── v2.13.93+0\n",
            "\u001b[32m\u001b[1m   Installed\u001b[22m\u001b[39m x264_jll ───────────────────── v2021.5.5+0\n",
            "\u001b[32m\u001b[1m   Installed\u001b[22m\u001b[39m Libgpg_error_jll ───────────── v1.42.0+0\n",
            "\u001b[32m\u001b[1m   Installed\u001b[22m\u001b[39m Xorg_libxkbfile_jll ────────── v1.1.0+4\n",
            "\u001b[32m\u001b[1m   Installed\u001b[22m\u001b[39m Xorg_libXinerama_jll ───────── v1.1.4+4\n",
            "\u001b[32m\u001b[1m   Installed\u001b[22m\u001b[39m FreeType2_jll ──────────────── v2.10.4+0\n",
            "\u001b[32m\u001b[1m   Installed\u001b[22m\u001b[39m Xorg_libX11_jll ────────────── v1.6.9+4\n",
            "\u001b[32m\u001b[1m   Installed\u001b[22m\u001b[39m Xorg_libXdmcp_jll ──────────── v1.1.3+4\n",
            "\u001b[32m\u001b[1m   Installed\u001b[22m\u001b[39m Xorg_libXau_jll ────────────── v1.0.9+4\n",
            "\u001b[32m\u001b[1m   Installed\u001b[22m\u001b[39m HTTP ───────────────────────── v1.9.6\n",
            "\u001b[32m\u001b[1m   Installed\u001b[22m\u001b[39m Xorg_libXcursor_jll ────────── v1.2.0+4\n",
            "\u001b[32m\u001b[1m   Installed\u001b[22m\u001b[39m Libuuid_jll ────────────────── v2.36.0+0\n",
            "\u001b[32m\u001b[1m   Installed\u001b[22m\u001b[39m libpng_jll ─────────────────── v1.6.38+0\n",
            "\u001b[32m\u001b[1m   Installed\u001b[22m\u001b[39m CodecZlib ──────────────────── v0.7.1\n",
            "\u001b[32m\u001b[1m   Installed\u001b[22m\u001b[39m libaom_jll ─────────────────── v3.4.0+0\n",
            "\u001b[32m\u001b[1m   Installed\u001b[22m\u001b[39m Xorg_libxcb_jll ────────────── v1.13.0+3\n",
            "\u001b[32m\u001b[1m   Installed\u001b[22m\u001b[39m GR ─────────────────────────── v0.72.7\n",
            "\u001b[32m\u001b[1m    Updating\u001b[22m\u001b[39m `~/.julia/environments/v1.8/Project.toml`\n",
            " \u001b[90m [28b8d3ca] \u001b[39m\u001b[92m+ GR v0.72.7\u001b[39m\n",
            "\u001b[32m\u001b[1m    Updating\u001b[22m\u001b[39m `~/.julia/environments/v1.8/Manifest.toml`\n",
            " \u001b[90m [d1d4a3ce] \u001b[39m\u001b[92m+ BitFlags v0.1.7\u001b[39m\n",
            " \u001b[90m [944b1d66] \u001b[39m\u001b[92m+ CodecZlib v0.7.1\u001b[39m\n",
            " \u001b[90m [f0e56b4a] \u001b[39m\u001b[92m+ ConcurrentUtilities v2.2.0\u001b[39m\n",
            " \u001b[90m [28b8d3ca] \u001b[39m\u001b[92m+ GR v0.72.7\u001b[39m\n",
            " \u001b[90m [cd3eb016] \u001b[39m\u001b[92m+ HTTP v1.9.6\u001b[39m\n",
            " \u001b[90m [e6f89c97] \u001b[39m\u001b[92m+ LoggingExtras v1.0.0\u001b[39m\n",
            " \u001b[90m [4d8831e6] \u001b[39m\u001b[92m+ OpenSSL v1.4.1\u001b[39m\n",
            " \u001b[90m [777ac1f9] \u001b[39m\u001b[92m+ SimpleBufferStream v1.1.0\u001b[39m\n",
            " \u001b[90m [3bb67fe8] \u001b[39m\u001b[92m+ TranscodingStreams v0.9.13\u001b[39m\n",
            " \u001b[90m [5c2747f8] \u001b[39m\u001b[92m+ URIs v1.4.2\u001b[39m\n",
            " \u001b[90m [6e34b625] \u001b[39m\u001b[92m+ Bzip2_jll v1.0.8+0\u001b[39m\n",
            " \u001b[90m [83423d85] \u001b[39m\u001b[92m+ Cairo_jll v1.16.1+1\u001b[39m\n",
            " \u001b[90m [2e619515] \u001b[39m\u001b[92m+ Expat_jll v2.5.0+0\u001b[39m\n",
            " \u001b[90m [b22a6f82] \u001b[39m\u001b[92m+ FFMPEG_jll v4.4.2+2\u001b[39m\n",
            " \u001b[90m [a3f928ae] \u001b[39m\u001b[92m+ Fontconfig_jll v2.13.93+0\u001b[39m\n",
            " \u001b[90m [d7e528f0] \u001b[39m\u001b[92m+ FreeType2_jll v2.10.4+0\u001b[39m\n",
            " \u001b[90m [559328eb] \u001b[39m\u001b[92m+ FriBidi_jll v1.0.10+0\u001b[39m\n",
            " \u001b[90m [0656b61e] \u001b[39m\u001b[92m+ GLFW_jll v3.3.8+0\u001b[39m\n",
            " \u001b[90m [d2c73de3] \u001b[39m\u001b[92m+ GR_jll v0.72.7+0\u001b[39m\n",
            " \u001b[90m [78b55507] \u001b[39m\u001b[92m+ Gettext_jll v0.21.0+0\u001b[39m\n",
            " \u001b[90m [7746bdde] \u001b[39m\u001b[92m+ Glib_jll v2.74.0+2\u001b[39m\n",
            " \u001b[90m [3b182d85] \u001b[39m\u001b[92m+ Graphite2_jll v1.3.14+0\u001b[39m\n",
            " \u001b[90m [2e76f6c2] \u001b[39m\u001b[92m+ HarfBuzz_jll v2.8.1+1\u001b[39m\n",
            " \u001b[90m [aacddb02] \u001b[39m\u001b[92m+ JpegTurbo_jll v2.1.91+0\u001b[39m\n",
            " \u001b[90m [c1c5ebd0] \u001b[39m\u001b[92m+ LAME_jll v3.100.1+0\u001b[39m\n",
            " \u001b[90m [88015f11] \u001b[39m\u001b[92m+ LERC_jll v3.0.0+1\u001b[39m\n",
            " \u001b[90m [1d63c593] \u001b[39m\u001b[92m+ LLVMOpenMP_jll v15.0.4+0\u001b[39m\n",
            " \u001b[90m [dd4b983a] \u001b[39m\u001b[92m+ LZO_jll v2.10.1+0\u001b[39m\n",
            "\u001b[33m⌅\u001b[39m\u001b[90m [e9f186c6] \u001b[39m\u001b[92m+ Libffi_jll v3.2.2+1\u001b[39m\n",
            " \u001b[90m [d4300ac3] \u001b[39m\u001b[92m+ Libgcrypt_jll v1.8.7+0\u001b[39m\n",
            " \u001b[90m [7e76a0d4] \u001b[39m\u001b[92m+ Libglvnd_jll v1.6.0+0\u001b[39m\n",
            " \u001b[90m [7add5ba3] \u001b[39m\u001b[92m+ Libgpg_error_jll v1.42.0+0\u001b[39m\n",
            " \u001b[90m [94ce4f54] \u001b[39m\u001b[92m+ Libiconv_jll v1.16.1+2\u001b[39m\n",
            " \u001b[90m [4b2f31a3] \u001b[39m\u001b[92m+ Libmount_jll v2.35.0+0\u001b[39m\n",
            " \u001b[90m [89763e89] \u001b[39m\u001b[92m+ Libtiff_jll v4.4.0+0\u001b[39m\n",
            " \u001b[90m [38a345b3] \u001b[39m\u001b[92m+ Libuuid_jll v2.36.0+0\u001b[39m\n",
            " \u001b[90m [e7412a2a] \u001b[39m\u001b[92m+ Ogg_jll v1.3.5+1\u001b[39m\n",
            "\u001b[33m⌅\u001b[39m\u001b[90m [458c3c95] \u001b[39m\u001b[92m+ OpenSSL_jll v1.1.21+0\u001b[39m\n",
            " \u001b[90m [91d4177d] \u001b[39m\u001b[92m+ Opus_jll v1.3.2+0\u001b[39m\n",
            " \u001b[90m [30392449] \u001b[39m\u001b[92m+ Pixman_jll v0.42.2+0\u001b[39m\n",
            " \u001b[90m [ea2cea3b] \u001b[39m\u001b[92m+ Qt5Base_jll v5.15.3+2\u001b[39m\n",
            " \u001b[90m [a2964d1f] \u001b[39m\u001b[92m+ Wayland_jll v1.21.0+0\u001b[39m\n",
            " \u001b[90m [2381bf8a] \u001b[39m\u001b[92m+ Wayland_protocols_jll v1.25.0+0\u001b[39m\n",
            " \u001b[90m [02c8fc9c] \u001b[39m\u001b[92m+ XML2_jll v2.10.3+0\u001b[39m\n",
            " \u001b[90m [aed1982a] \u001b[39m\u001b[92m+ XSLT_jll v1.1.34+0\u001b[39m\n",
            " \u001b[90m [4f6342f7] \u001b[39m\u001b[92m+ Xorg_libX11_jll v1.6.9+4\u001b[39m\n",
            " \u001b[90m [0c0b7dd1] \u001b[39m\u001b[92m+ Xorg_libXau_jll v1.0.9+4\u001b[39m\n",
            " \u001b[90m [935fb764] \u001b[39m\u001b[92m+ Xorg_libXcursor_jll v1.2.0+4\u001b[39m\n",
            " \u001b[90m [a3789734] \u001b[39m\u001b[92m+ Xorg_libXdmcp_jll v1.1.3+4\u001b[39m\n",
            " \u001b[90m [1082639a] \u001b[39m\u001b[92m+ Xorg_libXext_jll v1.3.4+4\u001b[39m\n",
            " \u001b[90m [d091e8ba] \u001b[39m\u001b[92m+ Xorg_libXfixes_jll v5.0.3+4\u001b[39m\n",
            " \u001b[90m [a51aa0fd] \u001b[39m\u001b[92m+ Xorg_libXi_jll v1.7.10+4\u001b[39m\n",
            " \u001b[90m [d1454406] \u001b[39m\u001b[92m+ Xorg_libXinerama_jll v1.1.4+4\u001b[39m\n",
            " \u001b[90m [ec84b674] \u001b[39m\u001b[92m+ Xorg_libXrandr_jll v1.5.2+4\u001b[39m\n",
            " \u001b[90m [ea2f1a96] \u001b[39m\u001b[92m+ Xorg_libXrender_jll v0.9.10+4\u001b[39m\n",
            " \u001b[90m [14d82f49] \u001b[39m\u001b[92m+ Xorg_libpthread_stubs_jll v0.1.0+3\u001b[39m\n",
            " \u001b[90m [c7cfdc94] \u001b[39m\u001b[92m+ Xorg_libxcb_jll v1.13.0+3\u001b[39m\n",
            " \u001b[90m [cc61e674] \u001b[39m\u001b[92m+ Xorg_libxkbfile_jll v1.1.0+4\u001b[39m\n",
            " \u001b[90m [12413925] \u001b[39m\u001b[92m+ Xorg_xcb_util_image_jll v0.4.0+1\u001b[39m\n",
            " \u001b[90m [2def613f] \u001b[39m\u001b[92m+ Xorg_xcb_util_jll v0.4.0+1\u001b[39m\n",
            " \u001b[90m [975044d2] \u001b[39m\u001b[92m+ Xorg_xcb_util_keysyms_jll v0.4.0+1\u001b[39m\n",
            " \u001b[90m [0d47668e] \u001b[39m\u001b[92m+ Xorg_xcb_util_renderutil_jll v0.3.9+1\u001b[39m\n",
            " \u001b[90m [c22f9ab0] \u001b[39m\u001b[92m+ Xorg_xcb_util_wm_jll v0.4.1+1\u001b[39m\n",
            " \u001b[90m [35661453] \u001b[39m\u001b[92m+ Xorg_xkbcomp_jll v1.4.2+4\u001b[39m\n",
            " \u001b[90m [33bec58e] \u001b[39m\u001b[92m+ Xorg_xkeyboard_config_jll v2.27.0+4\u001b[39m\n",
            " \u001b[90m [c5fb5394] \u001b[39m\u001b[92m+ Xorg_xtrans_jll v1.4.0+3\u001b[39m\n",
            " \u001b[90m [3161d3a3] \u001b[39m\u001b[92m+ Zstd_jll v1.5.5+0\u001b[39m\n",
            " \u001b[90m [a4ae2306] \u001b[39m\u001b[92m+ libaom_jll v3.4.0+0\u001b[39m\n",
            " \u001b[90m [0ac62f75] \u001b[39m\u001b[92m+ libass_jll v0.15.1+0\u001b[39m\n",
            " \u001b[90m [f638f0a6] \u001b[39m\u001b[92m+ libfdk_aac_jll v2.0.2+0\u001b[39m\n",
            " \u001b[90m [b53b4c65] \u001b[39m\u001b[92m+ libpng_jll v1.6.38+0\u001b[39m\n",
            " \u001b[90m [f27f6e37] \u001b[39m\u001b[92m+ libvorbis_jll v1.3.7+1\u001b[39m\n",
            " \u001b[90m [1270edf5] \u001b[39m\u001b[92m+ x264_jll v2021.5.5+0\u001b[39m\n",
            " \u001b[90m [dfaa095f] \u001b[39m\u001b[92m+ x265_jll v3.5.0+0\u001b[39m\n",
            " \u001b[90m [d8fb68d0] \u001b[39m\u001b[92m+ xkbcommon_jll v1.4.1+0\u001b[39m\n",
            " \u001b[90m [8bb1440f] \u001b[39m\u001b[92m+ DelimitedFiles\u001b[39m\n",
            " \u001b[90m [efcefdf7] \u001b[39m\u001b[92m+ PCRE2_jll v10.40.0+0\u001b[39m\n",
            "\u001b[36m\u001b[1m        Info\u001b[22m\u001b[39m Packages marked with \u001b[33m⌅\u001b[39m have new versions available but compatibility constraints restrict them from upgrading. To see why use `status --outdated -m`\n",
            "\u001b[32m\u001b[1mPrecompiling\u001b[22m\u001b[39m project...\n",
            "\u001b[32m  ✓ \u001b[39m\u001b[90mBitFlags\u001b[39m\n",
            "\u001b[32m  ✓ \u001b[39m\u001b[90mSimpleBufferStream\u001b[39m\n",
            "\u001b[32m  ✓ \u001b[39m\u001b[90mURIs\u001b[39m\n",
            "\u001b[32m  ✓ \u001b[39m\u001b[90mLoggingExtras\u001b[39m\n",
            "\u001b[32m  ✓ \u001b[39m\u001b[90mConcurrentUtilities\u001b[39m\n",
            "\u001b[32m  ✓ \u001b[39m\u001b[90mPCRE2_jll\u001b[39m\n",
            "\u001b[32m  ✓ \u001b[39m\u001b[90mOpenSSL_jll\u001b[39m\n",
            "\u001b[32m  ✓ \u001b[39m\u001b[90mTranscodingStreams\u001b[39m\n",
            "\u001b[32m  ✓ \u001b[39m\u001b[90mOpus_jll\u001b[39m\n",
            "\u001b[32m  ✓ \u001b[39m\u001b[90mOgg_jll\u001b[39m\n",
            "\u001b[32m  ✓ \u001b[39m\u001b[90mJpegTurbo_jll\u001b[39m\n",
            "\u001b[32m  ✓ \u001b[39m\u001b[90mXorg_xtrans_jll\u001b[39m\n",
            "\u001b[32m  ✓ \u001b[39m\u001b[90mXorg_libXau_jll\u001b[39m\n",
            "\u001b[32m  ✓ \u001b[39m\u001b[90mXorg_libXdmcp_jll\u001b[39m\n",
            "\u001b[32m  ✓ \u001b[39m\u001b[90mlibpng_jll\u001b[39m\n",
            "\u001b[32m  ✓ \u001b[39m\u001b[90mlibfdk_aac_jll\u001b[39m\n",
            "\u001b[32m  ✓ \u001b[39m\u001b[90mx265_jll\u001b[39m\n",
            "\u001b[32m  ✓ \u001b[39m\u001b[90mx264_jll\u001b[39m\n",
            "\u001b[32m  ✓ \u001b[39m\u001b[90mGraphite2_jll\u001b[39m\n",
            "\u001b[32m  ✓ \u001b[39m\u001b[90mlibaom_jll\u001b[39m\n",
            "\u001b[32m  ✓ \u001b[39m\u001b[90mZstd_jll\u001b[39m\n",
            "\u001b[32m  ✓ \u001b[39m\u001b[90mLibiconv_jll\u001b[39m\n",
            "\u001b[32m  ✓ \u001b[39m\u001b[90mLibmount_jll\u001b[39m\n",
            "\u001b[32m  ✓ \u001b[39m\u001b[90mLLVMOpenMP_jll\u001b[39m\n",
            "\u001b[32m  ✓ \u001b[39m\u001b[90mExpat_jll\u001b[39m\n",
            "\u001b[32m  ✓ \u001b[39m\u001b[90mLibffi_jll\u001b[39m\n",
            "\u001b[32m  ✓ \u001b[39m\u001b[90mBzip2_jll\u001b[39m\n",
            "\u001b[32m  ✓ \u001b[39m\u001b[90mLibgpg_error_jll\u001b[39m\n",
            "\u001b[32m  ✓ \u001b[39m\u001b[90mWayland_protocols_jll\u001b[39m\n",
            "\u001b[32m  ✓ \u001b[39m\u001b[90mLZO_jll\u001b[39m\n",
            "\u001b[32m  ✓ \u001b[39m\u001b[90mLAME_jll\u001b[39m\n",
            "\u001b[32m  ✓ \u001b[39m\u001b[90mXorg_libpthread_stubs_jll\u001b[39m\n",
            "\u001b[32m  ✓ \u001b[39m\u001b[90mLERC_jll\u001b[39m\n",
            "\u001b[32m  ✓ \u001b[39m\u001b[90mFriBidi_jll\u001b[39m\n",
            "\u001b[32m  ✓ \u001b[39m\u001b[90mLibuuid_jll\u001b[39m\n",
            "\u001b[32m  ✓ \u001b[39m\u001b[90mCodecZlib\u001b[39m\n",
            "\u001b[32m  ✓ \u001b[39m\u001b[90mlibvorbis_jll\u001b[39m\n",
            "\u001b[32m  ✓ \u001b[39m\u001b[90mXML2_jll\u001b[39m\n",
            "\u001b[32m  ✓ \u001b[39m\u001b[90mPixman_jll\u001b[39m\n",
            "\u001b[32m  ✓ \u001b[39m\u001b[90mFreeType2_jll\u001b[39m\n",
            "\u001b[32m  ✓ \u001b[39m\u001b[90mLibgcrypt_jll\u001b[39m\n",
            "\u001b[32m  ✓ \u001b[39m\u001b[90mLibtiff_jll\u001b[39m\n",
            "\u001b[32m  ✓ \u001b[39m\u001b[90mOpenSSL\u001b[39m\n",
            "\u001b[32m  ✓ \u001b[39m\u001b[90mGettext_jll\u001b[39m\n",
            "\u001b[32m  ✓ \u001b[39m\u001b[90mWayland_jll\u001b[39m\n",
            "\u001b[32m  ✓ \u001b[39m\u001b[90mFontconfig_jll\u001b[39m\n",
            "\u001b[32m  ✓ \u001b[39m\u001b[90mXSLT_jll\u001b[39m\n",
            "\u001b[32m  ✓ \u001b[39m\u001b[90mGlib_jll\u001b[39m\n",
            "\u001b[32m  ✓ \u001b[39m\u001b[90mXorg_libxcb_jll\u001b[39m\n",
            "\u001b[32m  ✓ \u001b[39m\u001b[90mXorg_xcb_util_jll\u001b[39m\n",
            "\u001b[32m  ✓ \u001b[39m\u001b[90mXorg_libX11_jll\u001b[39m\n",
            "\u001b[32m  ✓ \u001b[39m\u001b[90mXorg_xcb_util_image_jll\u001b[39m\n",
            "\u001b[32m  ✓ \u001b[39m\u001b[90mXorg_xcb_util_keysyms_jll\u001b[39m\n",
            "\u001b[32m  ✓ \u001b[39m\u001b[90mXorg_xcb_util_renderutil_jll\u001b[39m\n",
            "\u001b[32m  ✓ \u001b[39m\u001b[90mXorg_xcb_util_wm_jll\u001b[39m\n",
            "\u001b[32m  ✓ \u001b[39m\u001b[90mXorg_libXfixes_jll\u001b[39m\n",
            "\u001b[32m  ✓ \u001b[39m\u001b[90mXorg_libXext_jll\u001b[39m\n",
            "\u001b[32m  ✓ \u001b[39m\u001b[90mXorg_libxkbfile_jll\u001b[39m\n",
            "\u001b[32m  ✓ \u001b[39m\u001b[90mXorg_libXrender_jll\u001b[39m\n",
            "\u001b[32m  ✓ \u001b[39m\u001b[90mLibglvnd_jll\u001b[39m\n",
            "\u001b[32m  ✓ \u001b[39m\u001b[90mXorg_libXinerama_jll\u001b[39m\n",
            "\u001b[32m  ✓ \u001b[39m\u001b[90mXorg_libXi_jll\u001b[39m\n",
            "\u001b[32m  ✓ \u001b[39m\u001b[90mXorg_xkbcomp_jll\u001b[39m\n",
            "\u001b[32m  ✓ \u001b[39m\u001b[90mHTTP\u001b[39m\n",
            "\u001b[32m  ✓ \u001b[39m\u001b[90mCairo_jll\u001b[39m\n",
            "\u001b[32m  ✓ \u001b[39m\u001b[90mXorg_xkeyboard_config_jll\u001b[39m\n",
            "\u001b[32m  ✓ \u001b[39m\u001b[90mXorg_libXrandr_jll\u001b[39m\n",
            "\u001b[32m  ✓ \u001b[39m\u001b[90mXorg_libXcursor_jll\u001b[39m\n",
            "\u001b[32m  ✓ \u001b[39m\u001b[90mHarfBuzz_jll\u001b[39m\n",
            "\u001b[32m  ✓ \u001b[39m\u001b[90mxkbcommon_jll\u001b[39m\n",
            "\u001b[32m  ✓ \u001b[39m\u001b[90mGLFW_jll\u001b[39m\n",
            "\u001b[32m  ✓ \u001b[39m\u001b[90mlibass_jll\u001b[39m\n",
            "\u001b[32m  ✓ \u001b[39m\u001b[90mQt5Base_jll\u001b[39m\n",
            "\u001b[32m  ✓ \u001b[39m\u001b[90mFFMPEG_jll\u001b[39m\n",
            "\u001b[32m  ✓ \u001b[39m\u001b[90mGR_jll\u001b[39m\n",
            "\u001b[32m  ✓ \u001b[39mGR\n",
            "  76 dependencies successfully precompiled in 22 seconds. 20 already precompiled.\n"
          ]
        }
      ],
      "source": [
        "using Pkg\n",
        "Pkg.add(\"GR\")\n"
      ]
    },
    {
      "cell_type": "code",
      "execution_count": null,
      "metadata": {
        "colab": {
          "base_uri": "https://localhost:8080/"
        },
        "id": "p1cCK600upub",
        "outputId": "50232ecb-ec9e-4f77-b75d-deb4dd61bace"
      },
      "outputs": [
        {
          "output_type": "stream",
          "name": "stderr",
          "text": [
            "\u001b[32m\u001b[1m   Resolving\u001b[22m\u001b[39m package versions...\n",
            "\u001b[32m\u001b[1m   Installed\u001b[22m\u001b[39m RelocatableFolders ── v1.0.0\n",
            "\u001b[32m\u001b[1m   Installed\u001b[22m\u001b[39m PlotUtils ─────────── v1.3.5\n",
            "\u001b[32m\u001b[1m   Installed\u001b[22m\u001b[39m Grisu ─────────────── v1.0.2\n",
            "\u001b[32m\u001b[1m   Installed\u001b[22m\u001b[39m Measures ──────────── v0.3.2\n",
            "\u001b[32m\u001b[1m   Installed\u001b[22m\u001b[39m RecipesPipeline ───── v0.6.12\n",
            "\u001b[32m\u001b[1m   Installed\u001b[22m\u001b[39m Formatting ────────── v0.4.2\n",
            "\u001b[32m\u001b[1m   Installed\u001b[22m\u001b[39m Missings ──────────── v1.1.0\n",
            "\u001b[32m\u001b[1m   Installed\u001b[22m\u001b[39m FFMPEG ────────────── v0.4.1\n",
            "\u001b[32m\u001b[1m   Installed\u001b[22m\u001b[39m IrrationalConstants ─ v0.2.2\n",
            "\u001b[32m\u001b[1m   Installed\u001b[22m\u001b[39m Unitful ───────────── v1.14.0\n",
            "\u001b[32m\u001b[1m   Installed\u001b[22m\u001b[39m Contour ───────────── v0.6.2\n",
            "\u001b[32m\u001b[1m   Installed\u001b[22m\u001b[39m Showoff ───────────── v1.0.3\n",
            "\u001b[32m\u001b[1m   Installed\u001b[22m\u001b[39m Pipe ──────────────── v1.3.0\n",
            "\u001b[32m\u001b[1m   Installed\u001b[22m\u001b[39m fzf_jll ───────────── v0.29.0+0\n",
            "\u001b[32m\u001b[1m   Installed\u001b[22m\u001b[39m NaNMath ───────────── v1.0.2\n",
            "\u001b[32m\u001b[1m   Installed\u001b[22m\u001b[39m PlotThemes ────────── v3.1.0\n",
            "\u001b[32m\u001b[1m   Installed\u001b[22m\u001b[39m SpecialFunctions ──── v2.2.0\n",
            "\u001b[32m\u001b[1m   Installed\u001b[22m\u001b[39m UnicodeFun ────────── v0.4.1\n",
            "\u001b[32m\u001b[1m   Installed\u001b[22m\u001b[39m JLFzf ─────────────── v0.1.5\n",
            "\u001b[32m\u001b[1m   Installed\u001b[22m\u001b[39m StatsAPI ──────────── v1.6.0\n",
            "\u001b[32m\u001b[1m   Installed\u001b[22m\u001b[39m Compat ────────────── v4.6.1\n",
            "\u001b[32m\u001b[1m   Installed\u001b[22m\u001b[39m DataStructures ────── v0.18.13\n",
            "\u001b[32m\u001b[1m   Installed\u001b[22m\u001b[39m Scratch ───────────── v1.2.0\n",
            "\u001b[32m\u001b[1m   Installed\u001b[22m\u001b[39m StatsBase ─────────── v0.34.0\n",
            "\u001b[32m\u001b[1m   Installed\u001b[22m\u001b[39m ColorTypes ────────── v0.11.4\n",
            "\u001b[32m\u001b[1m   Installed\u001b[22m\u001b[39m TensorCore ────────── v0.1.1\n",
            "\u001b[32m\u001b[1m   Installed\u001b[22m\u001b[39m Colors ────────────── v0.12.10\n",
            "\u001b[32m\u001b[1m   Installed\u001b[22m\u001b[39m ConstructionBase ──── v1.5.2\n",
            "\u001b[32m\u001b[1m   Installed\u001b[22m\u001b[39m ColorVectorSpace ──── v0.9.10\n",
            "\u001b[32m\u001b[1m   Installed\u001b[22m\u001b[39m ColorSchemes ──────── v3.21.0\n",
            "\u001b[32m\u001b[1m   Installed\u001b[22m\u001b[39m OrderedCollections ── v1.6.0\n",
            "\u001b[32m\u001b[1m   Installed\u001b[22m\u001b[39m LogExpFunctions ───── v0.3.24\n",
            "\u001b[32m\u001b[1m   Installed\u001b[22m\u001b[39m OpenSpecFun_jll ───── v0.5.5+0\n",
            "\u001b[32m\u001b[1m   Installed\u001b[22m\u001b[39m MacroTools ────────── v0.5.10\n",
            "\u001b[32m\u001b[1m   Installed\u001b[22m\u001b[39m Reexport ──────────── v1.2.2\n",
            "\u001b[32m\u001b[1m   Installed\u001b[22m\u001b[39m ChainRulesCore ────── v1.16.0\n",
            "\u001b[32m\u001b[1m   Installed\u001b[22m\u001b[39m Plots ─────────────── v1.38.16\n",
            "\u001b[32m\u001b[1m   Installed\u001b[22m\u001b[39m InverseFunctions ──── v0.1.9\n",
            "\u001b[32m\u001b[1m   Installed\u001b[22m\u001b[39m DataAPI ───────────── v1.15.0\n",
            "\u001b[32m\u001b[1m   Installed\u001b[22m\u001b[39m RecipesBase ───────── v1.3.4\n",
            "\u001b[32m\u001b[1m   Installed\u001b[22m\u001b[39m LaTeXStrings ──────── v1.3.0\n",
            "\u001b[32m\u001b[1m   Installed\u001b[22m\u001b[39m FixedPointNumbers ─── v0.8.4\n",
            "\u001b[32m\u001b[1m   Installed\u001b[22m\u001b[39m DocStringExtensions ─ v0.9.3\n",
            "\u001b[32m\u001b[1m   Installed\u001b[22m\u001b[39m Latexify ──────────── v0.16.1\n",
            "\u001b[32m\u001b[1m   Installed\u001b[22m\u001b[39m Requires ──────────── v1.3.0\n",
            "\u001b[32m\u001b[1m   Installed\u001b[22m\u001b[39m SortingAlgorithms ─── v1.1.1\n",
            "\u001b[32m\u001b[1m   Installed\u001b[22m\u001b[39m Unzip ─────────────── v0.2.0\n",
            "\u001b[32m\u001b[1m   Installed\u001b[22m\u001b[39m ChangesOfVariables ── v0.1.7\n",
            "\u001b[32m\u001b[1m   Installed\u001b[22m\u001b[39m UnitfulLatexify ───── v1.6.3\n",
            "\u001b[32m\u001b[1m    Updating\u001b[22m\u001b[39m `~/.julia/environments/v1.8/Project.toml`\n",
            " \u001b[90m [91a5bcdd] \u001b[39m\u001b[92m+ Plots v1.38.16\u001b[39m\n",
            "\u001b[32m\u001b[1m    Updating\u001b[22m\u001b[39m `~/.julia/environments/v1.8/Manifest.toml`\n",
            " \u001b[90m [d360d2e6] \u001b[39m\u001b[92m+ ChainRulesCore v1.16.0\u001b[39m\n",
            " \u001b[90m [9e997f8a] \u001b[39m\u001b[92m+ ChangesOfVariables v0.1.7\u001b[39m\n",
            " \u001b[90m [35d6a980] \u001b[39m\u001b[92m+ ColorSchemes v3.21.0\u001b[39m\n",
            " \u001b[90m [3da002f7] \u001b[39m\u001b[92m+ ColorTypes v0.11.4\u001b[39m\n",
            " \u001b[90m [c3611d14] \u001b[39m\u001b[92m+ ColorVectorSpace v0.9.10\u001b[39m\n",
            " \u001b[90m [5ae59095] \u001b[39m\u001b[92m+ Colors v0.12.10\u001b[39m\n",
            " \u001b[90m [34da2185] \u001b[39m\u001b[92m+ Compat v4.6.1\u001b[39m\n",
            " \u001b[90m [187b0558] \u001b[39m\u001b[92m+ ConstructionBase v1.5.2\u001b[39m\n",
            " \u001b[90m [d38c429a] \u001b[39m\u001b[92m+ Contour v0.6.2\u001b[39m\n",
            " \u001b[90m [9a962f9c] \u001b[39m\u001b[92m+ DataAPI v1.15.0\u001b[39m\n",
            " \u001b[90m [864edb3b] \u001b[39m\u001b[92m+ DataStructures v0.18.13\u001b[39m\n",
            " \u001b[90m [ffbed154] \u001b[39m\u001b[92m+ DocStringExtensions v0.9.3\u001b[39m\n",
            " \u001b[90m [c87230d0] \u001b[39m\u001b[92m+ FFMPEG v0.4.1\u001b[39m\n",
            " \u001b[90m [53c48c17] \u001b[39m\u001b[92m+ FixedPointNumbers v0.8.4\u001b[39m\n",
            " \u001b[90m [59287772] \u001b[39m\u001b[92m+ Formatting v0.4.2\u001b[39m\n",
            " \u001b[90m [42e2da0e] \u001b[39m\u001b[92m+ Grisu v1.0.2\u001b[39m\n",
            " \u001b[90m [3587e190] \u001b[39m\u001b[92m+ InverseFunctions v0.1.9\u001b[39m\n",
            " \u001b[90m [92d709cd] \u001b[39m\u001b[92m+ IrrationalConstants v0.2.2\u001b[39m\n",
            " \u001b[90m [1019f520] \u001b[39m\u001b[92m+ JLFzf v0.1.5\u001b[39m\n",
            " \u001b[90m [b964fa9f] \u001b[39m\u001b[92m+ LaTeXStrings v1.3.0\u001b[39m\n",
            " \u001b[90m [23fbe1c1] \u001b[39m\u001b[92m+ Latexify v0.16.1\u001b[39m\n",
            " \u001b[90m [2ab3a3ac] \u001b[39m\u001b[92m+ LogExpFunctions v0.3.24\u001b[39m\n",
            " \u001b[90m [1914dd2f] \u001b[39m\u001b[92m+ MacroTools v0.5.10\u001b[39m\n",
            " \u001b[90m [442fdcdd] \u001b[39m\u001b[92m+ Measures v0.3.2\u001b[39m\n",
            " \u001b[90m [e1d29d7a] \u001b[39m\u001b[92m+ Missings v1.1.0\u001b[39m\n",
            " \u001b[90m [77ba4419] \u001b[39m\u001b[92m+ NaNMath v1.0.2\u001b[39m\n",
            " \u001b[90m [bac558e1] \u001b[39m\u001b[92m+ OrderedCollections v1.6.0\u001b[39m\n",
            " \u001b[90m [b98c9c47] \u001b[39m\u001b[92m+ Pipe v1.3.0\u001b[39m\n",
            " \u001b[90m [ccf2f8ad] \u001b[39m\u001b[92m+ PlotThemes v3.1.0\u001b[39m\n",
            " \u001b[90m [995b91a9] \u001b[39m\u001b[92m+ PlotUtils v1.3.5\u001b[39m\n",
            " \u001b[90m [91a5bcdd] \u001b[39m\u001b[92m+ Plots v1.38.16\u001b[39m\n",
            " \u001b[90m [3cdcf5f2] \u001b[39m\u001b[92m+ RecipesBase v1.3.4\u001b[39m\n",
            " \u001b[90m [01d81517] \u001b[39m\u001b[92m+ RecipesPipeline v0.6.12\u001b[39m\n",
            " \u001b[90m [189a3867] \u001b[39m\u001b[92m+ Reexport v1.2.2\u001b[39m\n",
            " \u001b[90m [05181044] \u001b[39m\u001b[92m+ RelocatableFolders v1.0.0\u001b[39m\n",
            " \u001b[90m [ae029012] \u001b[39m\u001b[92m+ Requires v1.3.0\u001b[39m\n",
            " \u001b[90m [6c6a2e73] \u001b[39m\u001b[92m+ Scratch v1.2.0\u001b[39m\n",
            " \u001b[90m [992d4aef] \u001b[39m\u001b[92m+ Showoff v1.0.3\u001b[39m\n",
            " \u001b[90m [a2af1166] \u001b[39m\u001b[92m+ SortingAlgorithms v1.1.1\u001b[39m\n",
            " \u001b[90m [276daf66] \u001b[39m\u001b[92m+ SpecialFunctions v2.2.0\u001b[39m\n",
            " \u001b[90m [82ae8749] \u001b[39m\u001b[92m+ StatsAPI v1.6.0\u001b[39m\n",
            " \u001b[90m [2913bbd2] \u001b[39m\u001b[92m+ StatsBase v0.34.0\u001b[39m\n",
            " \u001b[90m [62fd8b95] \u001b[39m\u001b[92m+ TensorCore v0.1.1\u001b[39m\n",
            " \u001b[90m [1cfade01] \u001b[39m\u001b[92m+ UnicodeFun v0.4.1\u001b[39m\n",
            " \u001b[90m [1986cc42] \u001b[39m\u001b[92m+ Unitful v1.14.0\u001b[39m\n",
            " \u001b[90m [45397f5d] \u001b[39m\u001b[92m+ UnitfulLatexify v1.6.3\u001b[39m\n",
            " \u001b[90m [41fe7b60] \u001b[39m\u001b[92m+ Unzip v0.2.0\u001b[39m\n",
            " \u001b[90m [efe28fd5] \u001b[39m\u001b[92m+ OpenSpecFun_jll v0.5.5+0\u001b[39m\n",
            "\u001b[33m⌅\u001b[39m\u001b[90m [214eeab7] \u001b[39m\u001b[92m+ fzf_jll v0.29.0+0\u001b[39m\n",
            " \u001b[90m [05823500] \u001b[39m\u001b[92m+ OpenLibm_jll v0.8.1+0\u001b[39m\n",
            "\u001b[36m\u001b[1m        Info\u001b[22m\u001b[39m Packages marked with \u001b[33m⌅\u001b[39m have new versions available but compatibility constraints restrict them from upgrading. To see why use `status --outdated -m`\n",
            "\u001b[32m\u001b[1mPrecompiling\u001b[22m\u001b[39m project...\n",
            "\u001b[32m  ✓ \u001b[39m\u001b[90mTensorCore\u001b[39m\n",
            "\u001b[32m  ✓ \u001b[39m\u001b[90mLaTeXStrings\u001b[39m\n",
            "\u001b[32m  ✓ \u001b[39m\u001b[90mChangesOfVariables\u001b[39m\n",
            "\u001b[32m  ✓ \u001b[39m\u001b[90mContour\u001b[39m\n",
            "\u001b[32m  ✓ \u001b[39m\u001b[90mStatsAPI\u001b[39m\n",
            "\u001b[32m  ✓ \u001b[39m\u001b[90mPipe\u001b[39m\n",
            "\u001b[32m  ✓ \u001b[39m\u001b[90mOpenLibm_jll\u001b[39m\n",
            "\u001b[32m  ✓ \u001b[39m\u001b[90mMeasures\u001b[39m\n",
            "\u001b[32m  ✓ \u001b[39m\u001b[90mInverseFunctions\u001b[39m\n",
            "\u001b[32m  ✓ \u001b[39m\u001b[90mGrisu\u001b[39m\n",
            "\u001b[32m  ✓ \u001b[39m\u001b[90mFixedPointNumbers\u001b[39m\n",
            "\u001b[32m  ✓ \u001b[39m\u001b[90mCompat\u001b[39m\n",
            "\u001b[32m  ✓ \u001b[39m\u001b[90mRequires\u001b[39m\n",
            "\u001b[32m  ✓ \u001b[39m\u001b[90mOrderedCollections\u001b[39m\n",
            "\u001b[32m  ✓ \u001b[39m\u001b[90mMacroTools\u001b[39m\n",
            "\u001b[32m  ✓ \u001b[39m\u001b[90mUnzip\u001b[39m\n",
            "\u001b[32m  ✓ \u001b[39m\u001b[90mReexport\u001b[39m\n",
            "\u001b[32m  ✓ \u001b[39m\u001b[90mDocStringExtensions\u001b[39m\n",
            "\u001b[32m  ✓ \u001b[39m\u001b[90mFormatting\u001b[39m\n",
            "\u001b[32m  ✓ \u001b[39m\u001b[90mUnicodeFun\u001b[39m\n",
            "\u001b[32m  ✓ \u001b[39m\u001b[90mIrrationalConstants\u001b[39m\n",
            "\u001b[32m  ✓ \u001b[39m\u001b[90mDataAPI\u001b[39m\n",
            "\u001b[32m  ✓ \u001b[39m\u001b[90mConstructionBase\u001b[39m\n",
            "\u001b[32m  ✓ \u001b[39m\u001b[90mScratch\u001b[39m\n",
            "\u001b[32m  ✓ \u001b[39m\u001b[90mfzf_jll\u001b[39m\n",
            "\u001b[32m  ✓ \u001b[39m\u001b[90mOpenSpecFun_jll\u001b[39m\n",
            "\u001b[32m  ✓ \u001b[39m\u001b[90mNaNMath\u001b[39m\n",
            "\u001b[32m  ✓ \u001b[39m\u001b[90mRecipesBase\u001b[39m\n",
            "\u001b[32m  ✓ \u001b[39m\u001b[90mFFMPEG\u001b[39m\n",
            "\u001b[32m  ✓ \u001b[39m\u001b[90mShowoff\u001b[39m\n",
            "\u001b[32m  ✓ \u001b[39m\u001b[90mChainRulesCore\u001b[39m\n",
            "\u001b[32m  ✓ \u001b[39m\u001b[90mColorTypes\u001b[39m\n",
            "\u001b[32m  ✓ \u001b[39m\u001b[90mMissings\u001b[39m\n",
            "\u001b[32m  ✓ \u001b[39m\u001b[90mDataStructures\u001b[39m\n",
            "\u001b[32m  ✓ \u001b[39m\u001b[90mRelocatableFolders\u001b[39m\n",
            "\u001b[32m  ✓ \u001b[39m\u001b[90mLatexify\u001b[39m\n",
            "\u001b[32m  ✓ \u001b[39m\u001b[90mJLFzf\u001b[39m\n",
            "\u001b[32m  ✓ \u001b[39m\u001b[90mLogExpFunctions\u001b[39m\n",
            "\u001b[32m  ✓ \u001b[39m\u001b[90mSortingAlgorithms\u001b[39m\n",
            "\u001b[32m  ✓ \u001b[39m\u001b[90mColors\u001b[39m\n",
            "\u001b[32m  ✓ \u001b[39m\u001b[90mSpecialFunctions\u001b[39m\n",
            "\u001b[32m  ✓ \u001b[39m\u001b[90mStatsBase\u001b[39m\n",
            "\u001b[32m  ✓ \u001b[39m\u001b[90mColorVectorSpace\u001b[39m\n",
            "\u001b[32m  ✓ \u001b[39m\u001b[90mColorSchemes\u001b[39m\n",
            "\u001b[32m  ✓ \u001b[39m\u001b[90mUnitful\u001b[39m\n",
            "\u001b[32m  ✓ \u001b[39m\u001b[90mUnitfulLatexify\u001b[39m\n",
            "\u001b[32m  ✓ \u001b[39m\u001b[90mPlotUtils\u001b[39m\n",
            "\u001b[32m  ✓ \u001b[39m\u001b[90mRecipesPipeline\u001b[39m\n",
            "\u001b[32m  ✓ \u001b[39m\u001b[90mPlotThemes\u001b[39m\n",
            "\u001b[32m  ✓ \u001b[39mPlots\n",
            "  50 dependencies successfully precompiled in 104 seconds. 96 already precompiled.\n"
          ]
        }
      ],
      "source": [
        "Pkg.add(\"Plots\")\n"
      ]
    },
    {
      "cell_type": "code",
      "execution_count": null,
      "metadata": {
        "id": "KzmLnhRavjOF"
      },
      "outputs": [],
      "source": [
        "theme(:ggplot2)"
      ]
    },
    {
      "cell_type": "code",
      "execution_count": null,
      "metadata": {
        "colab": {
          "base_uri": "https://localhost:8080/"
        },
        "id": "wK07jZAJyxBS",
        "outputId": "f4ce5495-c919-4878-f3d0-4ded77323b04"
      },
      "outputs": [
        {
          "output_type": "stream",
          "name": "stderr",
          "text": [
            "\u001b[32m\u001b[1m   Resolving\u001b[22m\u001b[39m package versions...\n",
            "\u001b[32m\u001b[1m    Updating\u001b[22m\u001b[39m `~/.julia/environments/v1.8/Project.toml`\n",
            " \u001b[90m [ccf2f8ad] \u001b[39m\u001b[92m+ PlotThemes v3.1.0\u001b[39m\n",
            "\u001b[32m\u001b[1m  No Changes\u001b[22m\u001b[39m to `~/.julia/environments/v1.8/Manifest.toml`\n",
            "\u001b[32m\u001b[1m   Resolving\u001b[22m\u001b[39m package versions...\n",
            "\u001b[32m\u001b[1m  No Changes\u001b[22m\u001b[39m to `~/.julia/environments/v1.8/Project.toml`\n",
            "\u001b[32m\u001b[1m  No Changes\u001b[22m\u001b[39m to `~/.julia/environments/v1.8/Manifest.toml`\n",
            "\u001b[32m\u001b[1m   Resolving\u001b[22m\u001b[39m package versions...\n",
            "\u001b[32m\u001b[1m   Installed\u001b[22m\u001b[39m Chain ────────── v0.5.0\n",
            "\u001b[32m\u001b[1m   Installed\u001b[22m\u001b[39m DataFramesMeta ─ v0.14.0\n",
            "\u001b[32m\u001b[1m    Updating\u001b[22m\u001b[39m `~/.julia/environments/v1.8/Project.toml`\n",
            " \u001b[90m [1313f7d8] \u001b[39m\u001b[92m+ DataFramesMeta v0.14.0\u001b[39m\n",
            "\u001b[32m\u001b[1m    Updating\u001b[22m\u001b[39m `~/.julia/environments/v1.8/Manifest.toml`\n",
            " \u001b[90m [8be319e6] \u001b[39m\u001b[92m+ Chain v0.5.0\u001b[39m\n",
            " \u001b[90m [1313f7d8] \u001b[39m\u001b[92m+ DataFramesMeta v0.14.0\u001b[39m\n",
            "\u001b[32m\u001b[1mPrecompiling\u001b[22m\u001b[39m project...\n",
            "\u001b[32m  ✓ \u001b[39m\u001b[90mChain\u001b[39m\n",
            "\u001b[32m  ✓ \u001b[39mDataFramesMeta\n",
            "  2 dependencies successfully precompiled in 4 seconds. 170 already precompiled.\n",
            "\u001b[32m\u001b[1m   Resolving\u001b[22m\u001b[39m package versions...\n",
            "\u001b[32m\u001b[1m  No Changes\u001b[22m\u001b[39m to `~/.julia/environments/v1.8/Project.toml`\n",
            "\u001b[32m\u001b[1m  No Changes\u001b[22m\u001b[39m to `~/.julia/environments/v1.8/Manifest.toml`\n"
          ]
        }
      ],
      "source": [
        "Pkg.add(\"PlotThemes\")\n",
        "Pkg.add(\"DataFrames\")\n",
        "Pkg.add(\"DataFramesMeta\")\n",
        "Pkg.add(\"RDatasets\")"
      ]
    },
    {
      "cell_type": "markdown",
      "source": [
        "Lib para puxar o dataset das flores"
      ],
      "metadata": {
        "id": "Vlqqpz4d7Stj"
      }
    },
    {
      "cell_type": "markdown",
      "metadata": {
        "id": "PHikdJSJ1737"
      },
      "source": [
        "Iris contém dados de três espécies de flores de íris: setosa, versicolor e virginica. Para cada espécie, contém medidas de comprimento e largura das sépalas e medidas de comprimento e largura das pétalas"
      ]
    },
    {
      "cell_type": "code",
      "source": [
        "iris = dataset(\"datasets\", \"iris\")"
      ],
      "metadata": {
        "colab": {
          "base_uri": "https://localhost:8080/",
          "height": 645
        },
        "id": "0qb1eTHB8pSh",
        "outputId": "aab235ae-a433-4a33-f6fc-516a1e7c12b3"
      },
      "execution_count": null,
      "outputs": [
        {
          "output_type": "execute_result",
          "data": {
            "text/plain": [
              "\u001b[1m150×5 DataFrame\u001b[0m\n",
              "\u001b[1m Row \u001b[0m│\u001b[1m SepalLength \u001b[0m\u001b[1m SepalWidth \u001b[0m\u001b[1m PetalLength \u001b[0m\u001b[1m PetalWidth \u001b[0m\u001b[1m Species   \u001b[0m\n",
              "     │\u001b[90m Float64     \u001b[0m\u001b[90m Float64    \u001b[0m\u001b[90m Float64     \u001b[0m\u001b[90m Float64    \u001b[0m\u001b[90m Cat…      \u001b[0m\n",
              "─────┼─────────────────────────────────────────────────────────────\n",
              "   1 │         5.1         3.5          1.4         0.2  setosa\n",
              "   2 │         4.9         3.0          1.4         0.2  setosa\n",
              "   3 │         4.7         3.2          1.3         0.2  setosa\n",
              "   4 │         4.6         3.1          1.5         0.2  setosa\n",
              "   5 │         5.0         3.6          1.4         0.2  setosa\n",
              "   6 │         5.4         3.9          1.7         0.4  setosa\n",
              "   7 │         4.6         3.4          1.4         0.3  setosa\n",
              "   8 │         5.0         3.4          1.5         0.2  setosa\n",
              "   9 │         4.4         2.9          1.4         0.2  setosa\n",
              "  10 │         4.9         3.1          1.5         0.1  setosa\n",
              "  11 │         5.4         3.7          1.5         0.2  setosa\n",
              "  ⋮  │      ⋮           ⋮            ⋮           ⋮           ⋮\n",
              " 141 │         6.7         3.1          5.6         2.4  virginica\n",
              " 142 │         6.9         3.1          5.1         2.3  virginica\n",
              " 143 │         5.8         2.7          5.1         1.9  virginica\n",
              " 144 │         6.8         3.2          5.9         2.3  virginica\n",
              " 145 │         6.7         3.3          5.7         2.5  virginica\n",
              " 146 │         6.7         3.0          5.2         2.3  virginica\n",
              " 147 │         6.3         2.5          5.0         1.9  virginica\n",
              " 148 │         6.5         3.0          5.2         2.0  virginica\n",
              " 149 │         6.2         3.4          5.4         2.3  virginica\n",
              " 150 │         5.9         3.0          5.1         1.8  virginica\n",
              "\u001b[36m                                                   129 rows omitted\u001b[0m"
            ],
            "text/html": [
              "<div><div style = \"float: left;\"><span>150×5 DataFrame</span></div><div style = \"float: right;\"><span style = \"font-style: italic;\">125 rows omitted</span></div><div style = \"clear: both;\"></div></div><div class = \"data-frame\" style = \"overflow-x: scroll;\"><table class = \"data-frame\" style = \"margin-bottom: 6px;\"><thead><tr class = \"header\"><th class = \"rowNumber\" style = \"font-weight: bold; text-align: right;\">Row</th><th style = \"text-align: left;\">SepalLength</th><th style = \"text-align: left;\">SepalWidth</th><th style = \"text-align: left;\">PetalLength</th><th style = \"text-align: left;\">PetalWidth</th><th style = \"text-align: left;\">Species</th></tr><tr class = \"subheader headerLastRow\"><th class = \"rowNumber\" style = \"font-weight: bold; text-align: right;\"></th><th title = \"Float64\" style = \"text-align: left;\">Float64</th><th title = \"Float64\" style = \"text-align: left;\">Float64</th><th title = \"Float64\" style = \"text-align: left;\">Float64</th><th title = \"Float64\" style = \"text-align: left;\">Float64</th><th title = \"CategoricalArrays.CategoricalValue{String, UInt8}\" style = \"text-align: left;\">Cat…</th></tr></thead><tbody><tr><td class = \"rowNumber\" style = \"font-weight: bold; text-align: right;\">1</td><td style = \"text-align: right;\">5.1</td><td style = \"text-align: right;\">3.5</td><td style = \"text-align: right;\">1.4</td><td style = \"text-align: right;\">0.2</td><td style = \"text-align: left;\">setosa</td></tr><tr><td class = \"rowNumber\" style = \"font-weight: bold; text-align: right;\">2</td><td style = \"text-align: right;\">4.9</td><td style = \"text-align: right;\">3.0</td><td style = \"text-align: right;\">1.4</td><td style = \"text-align: right;\">0.2</td><td style = \"text-align: left;\">setosa</td></tr><tr><td class = \"rowNumber\" style = \"font-weight: bold; text-align: right;\">3</td><td style = \"text-align: right;\">4.7</td><td style = \"text-align: right;\">3.2</td><td style = \"text-align: right;\">1.3</td><td style = \"text-align: right;\">0.2</td><td style = \"text-align: left;\">setosa</td></tr><tr><td class = \"rowNumber\" style = \"font-weight: bold; text-align: right;\">4</td><td style = \"text-align: right;\">4.6</td><td style = \"text-align: right;\">3.1</td><td style = \"text-align: right;\">1.5</td><td style = \"text-align: right;\">0.2</td><td style = \"text-align: left;\">setosa</td></tr><tr><td class = \"rowNumber\" style = \"font-weight: bold; text-align: right;\">5</td><td style = \"text-align: right;\">5.0</td><td style = \"text-align: right;\">3.6</td><td style = \"text-align: right;\">1.4</td><td style = \"text-align: right;\">0.2</td><td style = \"text-align: left;\">setosa</td></tr><tr><td class = \"rowNumber\" style = \"font-weight: bold; text-align: right;\">6</td><td style = \"text-align: right;\">5.4</td><td style = \"text-align: right;\">3.9</td><td style = \"text-align: right;\">1.7</td><td style = \"text-align: right;\">0.4</td><td style = \"text-align: left;\">setosa</td></tr><tr><td class = \"rowNumber\" style = \"font-weight: bold; text-align: right;\">7</td><td style = \"text-align: right;\">4.6</td><td style = \"text-align: right;\">3.4</td><td style = \"text-align: right;\">1.4</td><td style = \"text-align: right;\">0.3</td><td style = \"text-align: left;\">setosa</td></tr><tr><td class = \"rowNumber\" style = \"font-weight: bold; text-align: right;\">8</td><td style = \"text-align: right;\">5.0</td><td style = \"text-align: right;\">3.4</td><td style = \"text-align: right;\">1.5</td><td style = \"text-align: right;\">0.2</td><td style = \"text-align: left;\">setosa</td></tr><tr><td class = \"rowNumber\" style = \"font-weight: bold; text-align: right;\">9</td><td style = \"text-align: right;\">4.4</td><td style = \"text-align: right;\">2.9</td><td style = \"text-align: right;\">1.4</td><td style = \"text-align: right;\">0.2</td><td style = \"text-align: left;\">setosa</td></tr><tr><td class = \"rowNumber\" style = \"font-weight: bold; text-align: right;\">10</td><td style = \"text-align: right;\">4.9</td><td style = \"text-align: right;\">3.1</td><td style = \"text-align: right;\">1.5</td><td style = \"text-align: right;\">0.1</td><td style = \"text-align: left;\">setosa</td></tr><tr><td class = \"rowNumber\" style = \"font-weight: bold; text-align: right;\">11</td><td style = \"text-align: right;\">5.4</td><td style = \"text-align: right;\">3.7</td><td style = \"text-align: right;\">1.5</td><td style = \"text-align: right;\">0.2</td><td style = \"text-align: left;\">setosa</td></tr><tr><td class = \"rowNumber\" style = \"font-weight: bold; text-align: right;\">12</td><td style = \"text-align: right;\">4.8</td><td style = \"text-align: right;\">3.4</td><td style = \"text-align: right;\">1.6</td><td style = \"text-align: right;\">0.2</td><td style = \"text-align: left;\">setosa</td></tr><tr><td class = \"rowNumber\" style = \"font-weight: bold; text-align: right;\">13</td><td style = \"text-align: right;\">4.8</td><td style = \"text-align: right;\">3.0</td><td style = \"text-align: right;\">1.4</td><td style = \"text-align: right;\">0.1</td><td style = \"text-align: left;\">setosa</td></tr><tr><td style = \"text-align: right;\">&vellip;</td><td style = \"text-align: right;\">&vellip;</td><td style = \"text-align: right;\">&vellip;</td><td style = \"text-align: right;\">&vellip;</td><td style = \"text-align: right;\">&vellip;</td><td style = \"text-align: right;\">&vellip;</td></tr><tr><td class = \"rowNumber\" style = \"font-weight: bold; text-align: right;\">139</td><td style = \"text-align: right;\">6.0</td><td style = \"text-align: right;\">3.0</td><td style = \"text-align: right;\">4.8</td><td style = \"text-align: right;\">1.8</td><td style = \"text-align: left;\">virginica</td></tr><tr><td class = \"rowNumber\" style = \"font-weight: bold; text-align: right;\">140</td><td style = \"text-align: right;\">6.9</td><td style = \"text-align: right;\">3.1</td><td style = \"text-align: right;\">5.4</td><td style = \"text-align: right;\">2.1</td><td style = \"text-align: left;\">virginica</td></tr><tr><td class = \"rowNumber\" style = \"font-weight: bold; text-align: right;\">141</td><td style = \"text-align: right;\">6.7</td><td style = \"text-align: right;\">3.1</td><td style = \"text-align: right;\">5.6</td><td style = \"text-align: right;\">2.4</td><td style = \"text-align: left;\">virginica</td></tr><tr><td class = \"rowNumber\" style = \"font-weight: bold; text-align: right;\">142</td><td style = \"text-align: right;\">6.9</td><td style = \"text-align: right;\">3.1</td><td style = \"text-align: right;\">5.1</td><td style = \"text-align: right;\">2.3</td><td style = \"text-align: left;\">virginica</td></tr><tr><td class = \"rowNumber\" style = \"font-weight: bold; text-align: right;\">143</td><td style = \"text-align: right;\">5.8</td><td style = \"text-align: right;\">2.7</td><td style = \"text-align: right;\">5.1</td><td style = \"text-align: right;\">1.9</td><td style = \"text-align: left;\">virginica</td></tr><tr><td class = \"rowNumber\" style = \"font-weight: bold; text-align: right;\">144</td><td style = \"text-align: right;\">6.8</td><td style = \"text-align: right;\">3.2</td><td style = \"text-align: right;\">5.9</td><td style = \"text-align: right;\">2.3</td><td style = \"text-align: left;\">virginica</td></tr><tr><td class = \"rowNumber\" style = \"font-weight: bold; text-align: right;\">145</td><td style = \"text-align: right;\">6.7</td><td style = \"text-align: right;\">3.3</td><td style = \"text-align: right;\">5.7</td><td style = \"text-align: right;\">2.5</td><td style = \"text-align: left;\">virginica</td></tr><tr><td class = \"rowNumber\" style = \"font-weight: bold; text-align: right;\">146</td><td style = \"text-align: right;\">6.7</td><td style = \"text-align: right;\">3.0</td><td style = \"text-align: right;\">5.2</td><td style = \"text-align: right;\">2.3</td><td style = \"text-align: left;\">virginica</td></tr><tr><td class = \"rowNumber\" style = \"font-weight: bold; text-align: right;\">147</td><td style = \"text-align: right;\">6.3</td><td style = \"text-align: right;\">2.5</td><td style = \"text-align: right;\">5.0</td><td style = \"text-align: right;\">1.9</td><td style = \"text-align: left;\">virginica</td></tr><tr><td class = \"rowNumber\" style = \"font-weight: bold; text-align: right;\">148</td><td style = \"text-align: right;\">6.5</td><td style = \"text-align: right;\">3.0</td><td style = \"text-align: right;\">5.2</td><td style = \"text-align: right;\">2.0</td><td style = \"text-align: left;\">virginica</td></tr><tr><td class = \"rowNumber\" style = \"font-weight: bold; text-align: right;\">149</td><td style = \"text-align: right;\">6.2</td><td style = \"text-align: right;\">3.4</td><td style = \"text-align: right;\">5.4</td><td style = \"text-align: right;\">2.3</td><td style = \"text-align: left;\">virginica</td></tr><tr><td class = \"rowNumber\" style = \"font-weight: bold; text-align: right;\">150</td><td style = \"text-align: right;\">5.9</td><td style = \"text-align: right;\">3.0</td><td style = \"text-align: right;\">5.1</td><td style = \"text-align: right;\">1.8</td><td style = \"text-align: left;\">virginica</td></tr></tbody></table></div>"
            ],
            "text/latex": "\\begin{tabular}{r|ccccc}\n\t& SepalLength & SepalWidth & PetalLength & PetalWidth & Species\\\\\n\t\\hline\n\t& Float64 & Float64 & Float64 & Float64 & Cat…\\\\\n\t\\hline\n\t1 & 5.1 & 3.5 & 1.4 & 0.2 & setosa \\\\\n\t2 & 4.9 & 3.0 & 1.4 & 0.2 & setosa \\\\\n\t3 & 4.7 & 3.2 & 1.3 & 0.2 & setosa \\\\\n\t4 & 4.6 & 3.1 & 1.5 & 0.2 & setosa \\\\\n\t5 & 5.0 & 3.6 & 1.4 & 0.2 & setosa \\\\\n\t6 & 5.4 & 3.9 & 1.7 & 0.4 & setosa \\\\\n\t7 & 4.6 & 3.4 & 1.4 & 0.3 & setosa \\\\\n\t8 & 5.0 & 3.4 & 1.5 & 0.2 & setosa \\\\\n\t9 & 4.4 & 2.9 & 1.4 & 0.2 & setosa \\\\\n\t10 & 4.9 & 3.1 & 1.5 & 0.1 & setosa \\\\\n\t11 & 5.4 & 3.7 & 1.5 & 0.2 & setosa \\\\\n\t12 & 4.8 & 3.4 & 1.6 & 0.2 & setosa \\\\\n\t13 & 4.8 & 3.0 & 1.4 & 0.1 & setosa \\\\\n\t14 & 4.3 & 3.0 & 1.1 & 0.1 & setosa \\\\\n\t15 & 5.8 & 4.0 & 1.2 & 0.2 & setosa \\\\\n\t16 & 5.7 & 4.4 & 1.5 & 0.4 & setosa \\\\\n\t17 & 5.4 & 3.9 & 1.3 & 0.4 & setosa \\\\\n\t18 & 5.1 & 3.5 & 1.4 & 0.3 & setosa \\\\\n\t19 & 5.7 & 3.8 & 1.7 & 0.3 & setosa \\\\\n\t20 & 5.1 & 3.8 & 1.5 & 0.3 & setosa \\\\\n\t21 & 5.4 & 3.4 & 1.7 & 0.2 & setosa \\\\\n\t22 & 5.1 & 3.7 & 1.5 & 0.4 & setosa \\\\\n\t23 & 4.6 & 3.6 & 1.0 & 0.2 & setosa \\\\\n\t24 & 5.1 & 3.3 & 1.7 & 0.5 & setosa \\\\\n\t25 & 4.8 & 3.4 & 1.9 & 0.2 & setosa \\\\\n\t26 & 5.0 & 3.0 & 1.6 & 0.2 & setosa \\\\\n\t27 & 5.0 & 3.4 & 1.6 & 0.4 & setosa \\\\\n\t28 & 5.2 & 3.5 & 1.5 & 0.2 & setosa \\\\\n\t29 & 5.2 & 3.4 & 1.4 & 0.2 & setosa \\\\\n\t30 & 4.7 & 3.2 & 1.6 & 0.2 & setosa \\\\\n\t$\\dots$ & $\\dots$ & $\\dots$ & $\\dots$ & $\\dots$ & $\\dots$ \\\\\n\\end{tabular}\n"
          },
          "metadata": {},
          "execution_count": 37
        }
      ]
    },
    {
      "cell_type": "markdown",
      "source": [
        "\n",
        "*   SepalLength: Comprimento da sépala em centímetros.\n",
        "*   SepalWidth: Largura da sépala em centímetros.\n",
        "*   PetalLength: Comprimento da pétala em centímetros.\n",
        "*   PetalWidth: Largura da pétala em centímetros.\n",
        "*   Species: Espécie da flor de íris (setosa, versicolor ou virginica).\n"
      ],
      "metadata": {
        "id": "sMIN-Wlb9i3I"
      }
    },
    {
      "cell_type": "markdown",
      "source": [
        " gráfico de dispersão dos comprimentos das sépalas em relação à largura das sépalas, com diferentes cores para cada espécie de íris."
      ],
      "metadata": {
        "id": "1sClB2H99vGF"
      }
    },
    {
      "cell_type": "code",
      "source": [
        "first(iris, 5)"
      ],
      "metadata": {
        "colab": {
          "base_uri": "https://localhost:8080/",
          "height": 205
        },
        "id": "zjJ36IP8_vwM",
        "outputId": "e61a5c33-d7fc-404a-ebc4-6d9b7b20c44f"
      },
      "execution_count": null,
      "outputs": [
        {
          "output_type": "execute_result",
          "data": {
            "text/plain": [
              "\u001b[1m5×5 DataFrame\u001b[0m\n",
              "\u001b[1m Row \u001b[0m│\u001b[1m SepalLength \u001b[0m\u001b[1m SepalWidth \u001b[0m\u001b[1m PetalLength \u001b[0m\u001b[1m PetalWidth \u001b[0m\u001b[1m Species \u001b[0m\n",
              "     │\u001b[90m Float64     \u001b[0m\u001b[90m Float64    \u001b[0m\u001b[90m Float64     \u001b[0m\u001b[90m Float64    \u001b[0m\u001b[90m Cat…    \u001b[0m\n",
              "─────┼───────────────────────────────────────────────────────────\n",
              "   1 │         5.1         3.5          1.4         0.2  setosa\n",
              "   2 │         4.9         3.0          1.4         0.2  setosa\n",
              "   3 │         4.7         3.2          1.3         0.2  setosa\n",
              "   4 │         4.6         3.1          1.5         0.2  setosa\n",
              "   5 │         5.0         3.6          1.4         0.2  setosa"
            ],
            "text/html": [
              "<div><div style = \"float: left;\"><span>5×5 DataFrame</span></div><div style = \"clear: both;\"></div></div><div class = \"data-frame\" style = \"overflow-x: scroll;\"><table class = \"data-frame\" style = \"margin-bottom: 6px;\"><thead><tr class = \"header\"><th class = \"rowNumber\" style = \"font-weight: bold; text-align: right;\">Row</th><th style = \"text-align: left;\">SepalLength</th><th style = \"text-align: left;\">SepalWidth</th><th style = \"text-align: left;\">PetalLength</th><th style = \"text-align: left;\">PetalWidth</th><th style = \"text-align: left;\">Species</th></tr><tr class = \"subheader headerLastRow\"><th class = \"rowNumber\" style = \"font-weight: bold; text-align: right;\"></th><th title = \"Float64\" style = \"text-align: left;\">Float64</th><th title = \"Float64\" style = \"text-align: left;\">Float64</th><th title = \"Float64\" style = \"text-align: left;\">Float64</th><th title = \"Float64\" style = \"text-align: left;\">Float64</th><th title = \"CategoricalArrays.CategoricalValue{String, UInt8}\" style = \"text-align: left;\">Cat…</th></tr></thead><tbody><tr><td class = \"rowNumber\" style = \"font-weight: bold; text-align: right;\">1</td><td style = \"text-align: right;\">5.1</td><td style = \"text-align: right;\">3.5</td><td style = \"text-align: right;\">1.4</td><td style = \"text-align: right;\">0.2</td><td style = \"text-align: left;\">setosa</td></tr><tr><td class = \"rowNumber\" style = \"font-weight: bold; text-align: right;\">2</td><td style = \"text-align: right;\">4.9</td><td style = \"text-align: right;\">3.0</td><td style = \"text-align: right;\">1.4</td><td style = \"text-align: right;\">0.2</td><td style = \"text-align: left;\">setosa</td></tr><tr><td class = \"rowNumber\" style = \"font-weight: bold; text-align: right;\">3</td><td style = \"text-align: right;\">4.7</td><td style = \"text-align: right;\">3.2</td><td style = \"text-align: right;\">1.3</td><td style = \"text-align: right;\">0.2</td><td style = \"text-align: left;\">setosa</td></tr><tr><td class = \"rowNumber\" style = \"font-weight: bold; text-align: right;\">4</td><td style = \"text-align: right;\">4.6</td><td style = \"text-align: right;\">3.1</td><td style = \"text-align: right;\">1.5</td><td style = \"text-align: right;\">0.2</td><td style = \"text-align: left;\">setosa</td></tr><tr><td class = \"rowNumber\" style = \"font-weight: bold; text-align: right;\">5</td><td style = \"text-align: right;\">5.0</td><td style = \"text-align: right;\">3.6</td><td style = \"text-align: right;\">1.4</td><td style = \"text-align: right;\">0.2</td><td style = \"text-align: left;\">setosa</td></tr></tbody></table></div>"
            ],
            "text/latex": "\\begin{tabular}{r|ccccc}\n\t& SepalLength & SepalWidth & PetalLength & PetalWidth & Species\\\\\n\t\\hline\n\t& Float64 & Float64 & Float64 & Float64 & Cat…\\\\\n\t\\hline\n\t1 & 5.1 & 3.5 & 1.4 & 0.2 & setosa \\\\\n\t2 & 4.9 & 3.0 & 1.4 & 0.2 & setosa \\\\\n\t3 & 4.7 & 3.2 & 1.3 & 0.2 & setosa \\\\\n\t4 & 4.6 & 3.1 & 1.5 & 0.2 & setosa \\\\\n\t5 & 5.0 & 3.6 & 1.4 & 0.2 & setosa \\\\\n\\end{tabular}\n"
          },
          "metadata": {},
          "execution_count": 61
        }
      ]
    },
    {
      "cell_type": "code",
      "source": [
        "size(iris)"
      ],
      "metadata": {
        "colab": {
          "base_uri": "https://localhost:8080/"
        },
        "id": "5ad688a1AqRA",
        "outputId": "1a673200-7a60-4b56-d142-8875289dc95f"
      },
      "execution_count": null,
      "outputs": [
        {
          "output_type": "execute_result",
          "data": {
            "text/plain": [
              "(150, 5)"
            ]
          },
          "metadata": {},
          "execution_count": 62
        }
      ]
    },
    {
      "cell_type": "code",
      "source": [
        "setosa = iris[iris[!, :Species] .== \"setosa\", :]  # Filtra as linhas onde a espécie é \"setosa\"\n"
      ],
      "metadata": {
        "colab": {
          "base_uri": "https://localhost:8080/",
          "height": 645
        },
        "id": "3YQLidiNAtpA",
        "outputId": "fe83eb74-525d-4fc4-aa20-9899d2b70a91"
      },
      "execution_count": null,
      "outputs": [
        {
          "output_type": "execute_result",
          "data": {
            "text/plain": [
              "\u001b[1m50×5 DataFrame\u001b[0m\n",
              "\u001b[1m Row \u001b[0m│\u001b[1m SepalLength \u001b[0m\u001b[1m SepalWidth \u001b[0m\u001b[1m PetalLength \u001b[0m\u001b[1m PetalWidth \u001b[0m\u001b[1m Species \u001b[0m\n",
              "     │\u001b[90m Float64     \u001b[0m\u001b[90m Float64    \u001b[0m\u001b[90m Float64     \u001b[0m\u001b[90m Float64    \u001b[0m\u001b[90m Cat…    \u001b[0m\n",
              "─────┼───────────────────────────────────────────────────────────\n",
              "   1 │         5.1         3.5          1.4         0.2  setosa\n",
              "   2 │         4.9         3.0          1.4         0.2  setosa\n",
              "   3 │         4.7         3.2          1.3         0.2  setosa\n",
              "   4 │         4.6         3.1          1.5         0.2  setosa\n",
              "   5 │         5.0         3.6          1.4         0.2  setosa\n",
              "   6 │         5.4         3.9          1.7         0.4  setosa\n",
              "   7 │         4.6         3.4          1.4         0.3  setosa\n",
              "   8 │         5.0         3.4          1.5         0.2  setosa\n",
              "   9 │         4.4         2.9          1.4         0.2  setosa\n",
              "  10 │         4.9         3.1          1.5         0.1  setosa\n",
              "  11 │         5.4         3.7          1.5         0.2  setosa\n",
              "  ⋮  │      ⋮           ⋮            ⋮           ⋮          ⋮\n",
              "  41 │         5.0         3.5          1.3         0.3  setosa\n",
              "  42 │         4.5         2.3          1.3         0.3  setosa\n",
              "  43 │         4.4         3.2          1.3         0.2  setosa\n",
              "  44 │         5.0         3.5          1.6         0.6  setosa\n",
              "  45 │         5.1         3.8          1.9         0.4  setosa\n",
              "  46 │         4.8         3.0          1.4         0.3  setosa\n",
              "  47 │         5.1         3.8          1.6         0.2  setosa\n",
              "  48 │         4.6         3.2          1.4         0.2  setosa\n",
              "  49 │         5.3         3.7          1.5         0.2  setosa\n",
              "  50 │         5.0         3.3          1.4         0.2  setosa\n",
              "\u001b[36m                                                  29 rows omitted\u001b[0m"
            ],
            "text/html": [
              "<div><div style = \"float: left;\"><span>50×5 DataFrame</span></div><div style = \"float: right;\"><span style = \"font-style: italic;\">25 rows omitted</span></div><div style = \"clear: both;\"></div></div><div class = \"data-frame\" style = \"overflow-x: scroll;\"><table class = \"data-frame\" style = \"margin-bottom: 6px;\"><thead><tr class = \"header\"><th class = \"rowNumber\" style = \"font-weight: bold; text-align: right;\">Row</th><th style = \"text-align: left;\">SepalLength</th><th style = \"text-align: left;\">SepalWidth</th><th style = \"text-align: left;\">PetalLength</th><th style = \"text-align: left;\">PetalWidth</th><th style = \"text-align: left;\">Species</th></tr><tr class = \"subheader headerLastRow\"><th class = \"rowNumber\" style = \"font-weight: bold; text-align: right;\"></th><th title = \"Float64\" style = \"text-align: left;\">Float64</th><th title = \"Float64\" style = \"text-align: left;\">Float64</th><th title = \"Float64\" style = \"text-align: left;\">Float64</th><th title = \"Float64\" style = \"text-align: left;\">Float64</th><th title = \"CategoricalArrays.CategoricalValue{String, UInt8}\" style = \"text-align: left;\">Cat…</th></tr></thead><tbody><tr><td class = \"rowNumber\" style = \"font-weight: bold; text-align: right;\">1</td><td style = \"text-align: right;\">5.1</td><td style = \"text-align: right;\">3.5</td><td style = \"text-align: right;\">1.4</td><td style = \"text-align: right;\">0.2</td><td style = \"text-align: left;\">setosa</td></tr><tr><td class = \"rowNumber\" style = \"font-weight: bold; text-align: right;\">2</td><td style = \"text-align: right;\">4.9</td><td style = \"text-align: right;\">3.0</td><td style = \"text-align: right;\">1.4</td><td style = \"text-align: right;\">0.2</td><td style = \"text-align: left;\">setosa</td></tr><tr><td class = \"rowNumber\" style = \"font-weight: bold; text-align: right;\">3</td><td style = \"text-align: right;\">4.7</td><td style = \"text-align: right;\">3.2</td><td style = \"text-align: right;\">1.3</td><td style = \"text-align: right;\">0.2</td><td style = \"text-align: left;\">setosa</td></tr><tr><td class = \"rowNumber\" style = \"font-weight: bold; text-align: right;\">4</td><td style = \"text-align: right;\">4.6</td><td style = \"text-align: right;\">3.1</td><td style = \"text-align: right;\">1.5</td><td style = \"text-align: right;\">0.2</td><td style = \"text-align: left;\">setosa</td></tr><tr><td class = \"rowNumber\" style = \"font-weight: bold; text-align: right;\">5</td><td style = \"text-align: right;\">5.0</td><td style = \"text-align: right;\">3.6</td><td style = \"text-align: right;\">1.4</td><td style = \"text-align: right;\">0.2</td><td style = \"text-align: left;\">setosa</td></tr><tr><td class = \"rowNumber\" style = \"font-weight: bold; text-align: right;\">6</td><td style = \"text-align: right;\">5.4</td><td style = \"text-align: right;\">3.9</td><td style = \"text-align: right;\">1.7</td><td style = \"text-align: right;\">0.4</td><td style = \"text-align: left;\">setosa</td></tr><tr><td class = \"rowNumber\" style = \"font-weight: bold; text-align: right;\">7</td><td style = \"text-align: right;\">4.6</td><td style = \"text-align: right;\">3.4</td><td style = \"text-align: right;\">1.4</td><td style = \"text-align: right;\">0.3</td><td style = \"text-align: left;\">setosa</td></tr><tr><td class = \"rowNumber\" style = \"font-weight: bold; text-align: right;\">8</td><td style = \"text-align: right;\">5.0</td><td style = \"text-align: right;\">3.4</td><td style = \"text-align: right;\">1.5</td><td style = \"text-align: right;\">0.2</td><td style = \"text-align: left;\">setosa</td></tr><tr><td class = \"rowNumber\" style = \"font-weight: bold; text-align: right;\">9</td><td style = \"text-align: right;\">4.4</td><td style = \"text-align: right;\">2.9</td><td style = \"text-align: right;\">1.4</td><td style = \"text-align: right;\">0.2</td><td style = \"text-align: left;\">setosa</td></tr><tr><td class = \"rowNumber\" style = \"font-weight: bold; text-align: right;\">10</td><td style = \"text-align: right;\">4.9</td><td style = \"text-align: right;\">3.1</td><td style = \"text-align: right;\">1.5</td><td style = \"text-align: right;\">0.1</td><td style = \"text-align: left;\">setosa</td></tr><tr><td class = \"rowNumber\" style = \"font-weight: bold; text-align: right;\">11</td><td style = \"text-align: right;\">5.4</td><td style = \"text-align: right;\">3.7</td><td style = \"text-align: right;\">1.5</td><td style = \"text-align: right;\">0.2</td><td style = \"text-align: left;\">setosa</td></tr><tr><td class = \"rowNumber\" style = \"font-weight: bold; text-align: right;\">12</td><td style = \"text-align: right;\">4.8</td><td style = \"text-align: right;\">3.4</td><td style = \"text-align: right;\">1.6</td><td style = \"text-align: right;\">0.2</td><td style = \"text-align: left;\">setosa</td></tr><tr><td class = \"rowNumber\" style = \"font-weight: bold; text-align: right;\">13</td><td style = \"text-align: right;\">4.8</td><td style = \"text-align: right;\">3.0</td><td style = \"text-align: right;\">1.4</td><td style = \"text-align: right;\">0.1</td><td style = \"text-align: left;\">setosa</td></tr><tr><td style = \"text-align: right;\">&vellip;</td><td style = \"text-align: right;\">&vellip;</td><td style = \"text-align: right;\">&vellip;</td><td style = \"text-align: right;\">&vellip;</td><td style = \"text-align: right;\">&vellip;</td><td style = \"text-align: right;\">&vellip;</td></tr><tr><td class = \"rowNumber\" style = \"font-weight: bold; text-align: right;\">39</td><td style = \"text-align: right;\">4.4</td><td style = \"text-align: right;\">3.0</td><td style = \"text-align: right;\">1.3</td><td style = \"text-align: right;\">0.2</td><td style = \"text-align: left;\">setosa</td></tr><tr><td class = \"rowNumber\" style = \"font-weight: bold; text-align: right;\">40</td><td style = \"text-align: right;\">5.1</td><td style = \"text-align: right;\">3.4</td><td style = \"text-align: right;\">1.5</td><td style = \"text-align: right;\">0.2</td><td style = \"text-align: left;\">setosa</td></tr><tr><td class = \"rowNumber\" style = \"font-weight: bold; text-align: right;\">41</td><td style = \"text-align: right;\">5.0</td><td style = \"text-align: right;\">3.5</td><td style = \"text-align: right;\">1.3</td><td style = \"text-align: right;\">0.3</td><td style = \"text-align: left;\">setosa</td></tr><tr><td class = \"rowNumber\" style = \"font-weight: bold; text-align: right;\">42</td><td style = \"text-align: right;\">4.5</td><td style = \"text-align: right;\">2.3</td><td style = \"text-align: right;\">1.3</td><td style = \"text-align: right;\">0.3</td><td style = \"text-align: left;\">setosa</td></tr><tr><td class = \"rowNumber\" style = \"font-weight: bold; text-align: right;\">43</td><td style = \"text-align: right;\">4.4</td><td style = \"text-align: right;\">3.2</td><td style = \"text-align: right;\">1.3</td><td style = \"text-align: right;\">0.2</td><td style = \"text-align: left;\">setosa</td></tr><tr><td class = \"rowNumber\" style = \"font-weight: bold; text-align: right;\">44</td><td style = \"text-align: right;\">5.0</td><td style = \"text-align: right;\">3.5</td><td style = \"text-align: right;\">1.6</td><td style = \"text-align: right;\">0.6</td><td style = \"text-align: left;\">setosa</td></tr><tr><td class = \"rowNumber\" style = \"font-weight: bold; text-align: right;\">45</td><td style = \"text-align: right;\">5.1</td><td style = \"text-align: right;\">3.8</td><td style = \"text-align: right;\">1.9</td><td style = \"text-align: right;\">0.4</td><td style = \"text-align: left;\">setosa</td></tr><tr><td class = \"rowNumber\" style = \"font-weight: bold; text-align: right;\">46</td><td style = \"text-align: right;\">4.8</td><td style = \"text-align: right;\">3.0</td><td style = \"text-align: right;\">1.4</td><td style = \"text-align: right;\">0.3</td><td style = \"text-align: left;\">setosa</td></tr><tr><td class = \"rowNumber\" style = \"font-weight: bold; text-align: right;\">47</td><td style = \"text-align: right;\">5.1</td><td style = \"text-align: right;\">3.8</td><td style = \"text-align: right;\">1.6</td><td style = \"text-align: right;\">0.2</td><td style = \"text-align: left;\">setosa</td></tr><tr><td class = \"rowNumber\" style = \"font-weight: bold; text-align: right;\">48</td><td style = \"text-align: right;\">4.6</td><td style = \"text-align: right;\">3.2</td><td style = \"text-align: right;\">1.4</td><td style = \"text-align: right;\">0.2</td><td style = \"text-align: left;\">setosa</td></tr><tr><td class = \"rowNumber\" style = \"font-weight: bold; text-align: right;\">49</td><td style = \"text-align: right;\">5.3</td><td style = \"text-align: right;\">3.7</td><td style = \"text-align: right;\">1.5</td><td style = \"text-align: right;\">0.2</td><td style = \"text-align: left;\">setosa</td></tr><tr><td class = \"rowNumber\" style = \"font-weight: bold; text-align: right;\">50</td><td style = \"text-align: right;\">5.0</td><td style = \"text-align: right;\">3.3</td><td style = \"text-align: right;\">1.4</td><td style = \"text-align: right;\">0.2</td><td style = \"text-align: left;\">setosa</td></tr></tbody></table></div>"
            ],
            "text/latex": "\\begin{tabular}{r|ccccc}\n\t& SepalLength & SepalWidth & PetalLength & PetalWidth & Species\\\\\n\t\\hline\n\t& Float64 & Float64 & Float64 & Float64 & Cat…\\\\\n\t\\hline\n\t1 & 5.1 & 3.5 & 1.4 & 0.2 & setosa \\\\\n\t2 & 4.9 & 3.0 & 1.4 & 0.2 & setosa \\\\\n\t3 & 4.7 & 3.2 & 1.3 & 0.2 & setosa \\\\\n\t4 & 4.6 & 3.1 & 1.5 & 0.2 & setosa \\\\\n\t5 & 5.0 & 3.6 & 1.4 & 0.2 & setosa \\\\\n\t6 & 5.4 & 3.9 & 1.7 & 0.4 & setosa \\\\\n\t7 & 4.6 & 3.4 & 1.4 & 0.3 & setosa \\\\\n\t8 & 5.0 & 3.4 & 1.5 & 0.2 & setosa \\\\\n\t9 & 4.4 & 2.9 & 1.4 & 0.2 & setosa \\\\\n\t10 & 4.9 & 3.1 & 1.5 & 0.1 & setosa \\\\\n\t11 & 5.4 & 3.7 & 1.5 & 0.2 & setosa \\\\\n\t12 & 4.8 & 3.4 & 1.6 & 0.2 & setosa \\\\\n\t13 & 4.8 & 3.0 & 1.4 & 0.1 & setosa \\\\\n\t14 & 4.3 & 3.0 & 1.1 & 0.1 & setosa \\\\\n\t15 & 5.8 & 4.0 & 1.2 & 0.2 & setosa \\\\\n\t16 & 5.7 & 4.4 & 1.5 & 0.4 & setosa \\\\\n\t17 & 5.4 & 3.9 & 1.3 & 0.4 & setosa \\\\\n\t18 & 5.1 & 3.5 & 1.4 & 0.3 & setosa \\\\\n\t19 & 5.7 & 3.8 & 1.7 & 0.3 & setosa \\\\\n\t20 & 5.1 & 3.8 & 1.5 & 0.3 & setosa \\\\\n\t21 & 5.4 & 3.4 & 1.7 & 0.2 & setosa \\\\\n\t22 & 5.1 & 3.7 & 1.5 & 0.4 & setosa \\\\\n\t23 & 4.6 & 3.6 & 1.0 & 0.2 & setosa \\\\\n\t24 & 5.1 & 3.3 & 1.7 & 0.5 & setosa \\\\\n\t25 & 4.8 & 3.4 & 1.9 & 0.2 & setosa \\\\\n\t26 & 5.0 & 3.0 & 1.6 & 0.2 & setosa \\\\\n\t27 & 5.0 & 3.4 & 1.6 & 0.4 & setosa \\\\\n\t28 & 5.2 & 3.5 & 1.5 & 0.2 & setosa \\\\\n\t29 & 5.2 & 3.4 & 1.4 & 0.2 & setosa \\\\\n\t30 & 4.7 & 3.2 & 1.6 & 0.2 & setosa \\\\\n\t$\\dots$ & $\\dots$ & $\\dots$ & $\\dots$ & $\\dots$ & $\\dots$ \\\\\n\\end{tabular}\n"
          },
          "metadata": {},
          "execution_count": 65
        }
      ]
    },
    {
      "cell_type": "code",
      "source": [
        "sorted_data = sort(iris, :SepalLength)  # Ordena o conjunto de dados com base na coluna \"SepalLength\"\n"
      ],
      "metadata": {
        "colab": {
          "base_uri": "https://localhost:8080/",
          "height": 645
        },
        "id": "rEmh-XBdA4vw",
        "outputId": "dd25dada-5a3a-4ce1-e2d2-e2c6cbdb486b"
      },
      "execution_count": null,
      "outputs": [
        {
          "output_type": "execute_result",
          "data": {
            "text/plain": [
              "\u001b[1m150×5 DataFrame\u001b[0m\n",
              "\u001b[1m Row \u001b[0m│\u001b[1m SepalLength \u001b[0m\u001b[1m SepalWidth \u001b[0m\u001b[1m PetalLength \u001b[0m\u001b[1m PetalWidth \u001b[0m\u001b[1m Species    \u001b[0m\n",
              "     │\u001b[90m Float64     \u001b[0m\u001b[90m Float64    \u001b[0m\u001b[90m Float64     \u001b[0m\u001b[90m Float64    \u001b[0m\u001b[90m Cat…       \u001b[0m\n",
              "─────┼──────────────────────────────────────────────────────────────\n",
              "   1 │         4.3         3.0          1.1         0.1  setosa\n",
              "   2 │         4.4         2.9          1.4         0.2  setosa\n",
              "   3 │         4.4         3.0          1.3         0.2  setosa\n",
              "   4 │         4.4         3.2          1.3         0.2  setosa\n",
              "   5 │         4.5         2.3          1.3         0.3  setosa\n",
              "   6 │         4.6         3.1          1.5         0.2  setosa\n",
              "   7 │         4.6         3.4          1.4         0.3  setosa\n",
              "   8 │         4.6         3.6          1.0         0.2  setosa\n",
              "   9 │         4.6         3.2          1.4         0.2  setosa\n",
              "  10 │         4.7         3.2          1.3         0.2  setosa\n",
              "  11 │         4.7         3.2          1.6         0.2  setosa\n",
              "  ⋮  │      ⋮           ⋮            ⋮           ⋮           ⋮\n",
              " 141 │         7.2         3.2          6.0         1.8  virginica\n",
              " 142 │         7.2         3.0          5.8         1.6  virginica\n",
              " 143 │         7.3         2.9          6.3         1.8  virginica\n",
              " 144 │         7.4         2.8          6.1         1.9  virginica\n",
              " 145 │         7.6         3.0          6.6         2.1  virginica\n",
              " 146 │         7.7         3.8          6.7         2.2  virginica\n",
              " 147 │         7.7         2.6          6.9         2.3  virginica\n",
              " 148 │         7.7         2.8          6.7         2.0  virginica\n",
              " 149 │         7.7         3.0          6.1         2.3  virginica\n",
              " 150 │         7.9         3.8          6.4         2.0  virginica\n",
              "\u001b[36m                                                    129 rows omitted\u001b[0m"
            ],
            "text/html": [
              "<div><div style = \"float: left;\"><span>150×5 DataFrame</span></div><div style = \"float: right;\"><span style = \"font-style: italic;\">125 rows omitted</span></div><div style = \"clear: both;\"></div></div><div class = \"data-frame\" style = \"overflow-x: scroll;\"><table class = \"data-frame\" style = \"margin-bottom: 6px;\"><thead><tr class = \"header\"><th class = \"rowNumber\" style = \"font-weight: bold; text-align: right;\">Row</th><th style = \"text-align: left;\">SepalLength</th><th style = \"text-align: left;\">SepalWidth</th><th style = \"text-align: left;\">PetalLength</th><th style = \"text-align: left;\">PetalWidth</th><th style = \"text-align: left;\">Species</th></tr><tr class = \"subheader headerLastRow\"><th class = \"rowNumber\" style = \"font-weight: bold; text-align: right;\"></th><th title = \"Float64\" style = \"text-align: left;\">Float64</th><th title = \"Float64\" style = \"text-align: left;\">Float64</th><th title = \"Float64\" style = \"text-align: left;\">Float64</th><th title = \"Float64\" style = \"text-align: left;\">Float64</th><th title = \"CategoricalArrays.CategoricalValue{String, UInt8}\" style = \"text-align: left;\">Cat…</th></tr></thead><tbody><tr><td class = \"rowNumber\" style = \"font-weight: bold; text-align: right;\">1</td><td style = \"text-align: right;\">4.3</td><td style = \"text-align: right;\">3.0</td><td style = \"text-align: right;\">1.1</td><td style = \"text-align: right;\">0.1</td><td style = \"text-align: left;\">setosa</td></tr><tr><td class = \"rowNumber\" style = \"font-weight: bold; text-align: right;\">2</td><td style = \"text-align: right;\">4.4</td><td style = \"text-align: right;\">2.9</td><td style = \"text-align: right;\">1.4</td><td style = \"text-align: right;\">0.2</td><td style = \"text-align: left;\">setosa</td></tr><tr><td class = \"rowNumber\" style = \"font-weight: bold; text-align: right;\">3</td><td style = \"text-align: right;\">4.4</td><td style = \"text-align: right;\">3.0</td><td style = \"text-align: right;\">1.3</td><td style = \"text-align: right;\">0.2</td><td style = \"text-align: left;\">setosa</td></tr><tr><td class = \"rowNumber\" style = \"font-weight: bold; text-align: right;\">4</td><td style = \"text-align: right;\">4.4</td><td style = \"text-align: right;\">3.2</td><td style = \"text-align: right;\">1.3</td><td style = \"text-align: right;\">0.2</td><td style = \"text-align: left;\">setosa</td></tr><tr><td class = \"rowNumber\" style = \"font-weight: bold; text-align: right;\">5</td><td style = \"text-align: right;\">4.5</td><td style = \"text-align: right;\">2.3</td><td style = \"text-align: right;\">1.3</td><td style = \"text-align: right;\">0.3</td><td style = \"text-align: left;\">setosa</td></tr><tr><td class = \"rowNumber\" style = \"font-weight: bold; text-align: right;\">6</td><td style = \"text-align: right;\">4.6</td><td style = \"text-align: right;\">3.1</td><td style = \"text-align: right;\">1.5</td><td style = \"text-align: right;\">0.2</td><td style = \"text-align: left;\">setosa</td></tr><tr><td class = \"rowNumber\" style = \"font-weight: bold; text-align: right;\">7</td><td style = \"text-align: right;\">4.6</td><td style = \"text-align: right;\">3.4</td><td style = \"text-align: right;\">1.4</td><td style = \"text-align: right;\">0.3</td><td style = \"text-align: left;\">setosa</td></tr><tr><td class = \"rowNumber\" style = \"font-weight: bold; text-align: right;\">8</td><td style = \"text-align: right;\">4.6</td><td style = \"text-align: right;\">3.6</td><td style = \"text-align: right;\">1.0</td><td style = \"text-align: right;\">0.2</td><td style = \"text-align: left;\">setosa</td></tr><tr><td class = \"rowNumber\" style = \"font-weight: bold; text-align: right;\">9</td><td style = \"text-align: right;\">4.6</td><td style = \"text-align: right;\">3.2</td><td style = \"text-align: right;\">1.4</td><td style = \"text-align: right;\">0.2</td><td style = \"text-align: left;\">setosa</td></tr><tr><td class = \"rowNumber\" style = \"font-weight: bold; text-align: right;\">10</td><td style = \"text-align: right;\">4.7</td><td style = \"text-align: right;\">3.2</td><td style = \"text-align: right;\">1.3</td><td style = \"text-align: right;\">0.2</td><td style = \"text-align: left;\">setosa</td></tr><tr><td class = \"rowNumber\" style = \"font-weight: bold; text-align: right;\">11</td><td style = \"text-align: right;\">4.7</td><td style = \"text-align: right;\">3.2</td><td style = \"text-align: right;\">1.6</td><td style = \"text-align: right;\">0.2</td><td style = \"text-align: left;\">setosa</td></tr><tr><td class = \"rowNumber\" style = \"font-weight: bold; text-align: right;\">12</td><td style = \"text-align: right;\">4.8</td><td style = \"text-align: right;\">3.4</td><td style = \"text-align: right;\">1.6</td><td style = \"text-align: right;\">0.2</td><td style = \"text-align: left;\">setosa</td></tr><tr><td class = \"rowNumber\" style = \"font-weight: bold; text-align: right;\">13</td><td style = \"text-align: right;\">4.8</td><td style = \"text-align: right;\">3.0</td><td style = \"text-align: right;\">1.4</td><td style = \"text-align: right;\">0.1</td><td style = \"text-align: left;\">setosa</td></tr><tr><td style = \"text-align: right;\">&vellip;</td><td style = \"text-align: right;\">&vellip;</td><td style = \"text-align: right;\">&vellip;</td><td style = \"text-align: right;\">&vellip;</td><td style = \"text-align: right;\">&vellip;</td><td style = \"text-align: right;\">&vellip;</td></tr><tr><td class = \"rowNumber\" style = \"font-weight: bold; text-align: right;\">139</td><td style = \"text-align: right;\">7.1</td><td style = \"text-align: right;\">3.0</td><td style = \"text-align: right;\">5.9</td><td style = \"text-align: right;\">2.1</td><td style = \"text-align: left;\">virginica</td></tr><tr><td class = \"rowNumber\" style = \"font-weight: bold; text-align: right;\">140</td><td style = \"text-align: right;\">7.2</td><td style = \"text-align: right;\">3.6</td><td style = \"text-align: right;\">6.1</td><td style = \"text-align: right;\">2.5</td><td style = \"text-align: left;\">virginica</td></tr><tr><td class = \"rowNumber\" style = \"font-weight: bold; text-align: right;\">141</td><td style = \"text-align: right;\">7.2</td><td style = \"text-align: right;\">3.2</td><td style = \"text-align: right;\">6.0</td><td style = \"text-align: right;\">1.8</td><td style = \"text-align: left;\">virginica</td></tr><tr><td class = \"rowNumber\" style = \"font-weight: bold; text-align: right;\">142</td><td style = \"text-align: right;\">7.2</td><td style = \"text-align: right;\">3.0</td><td style = \"text-align: right;\">5.8</td><td style = \"text-align: right;\">1.6</td><td style = \"text-align: left;\">virginica</td></tr><tr><td class = \"rowNumber\" style = \"font-weight: bold; text-align: right;\">143</td><td style = \"text-align: right;\">7.3</td><td style = \"text-align: right;\">2.9</td><td style = \"text-align: right;\">6.3</td><td style = \"text-align: right;\">1.8</td><td style = \"text-align: left;\">virginica</td></tr><tr><td class = \"rowNumber\" style = \"font-weight: bold; text-align: right;\">144</td><td style = \"text-align: right;\">7.4</td><td style = \"text-align: right;\">2.8</td><td style = \"text-align: right;\">6.1</td><td style = \"text-align: right;\">1.9</td><td style = \"text-align: left;\">virginica</td></tr><tr><td class = \"rowNumber\" style = \"font-weight: bold; text-align: right;\">145</td><td style = \"text-align: right;\">7.6</td><td style = \"text-align: right;\">3.0</td><td style = \"text-align: right;\">6.6</td><td style = \"text-align: right;\">2.1</td><td style = \"text-align: left;\">virginica</td></tr><tr><td class = \"rowNumber\" style = \"font-weight: bold; text-align: right;\">146</td><td style = \"text-align: right;\">7.7</td><td style = \"text-align: right;\">3.8</td><td style = \"text-align: right;\">6.7</td><td style = \"text-align: right;\">2.2</td><td style = \"text-align: left;\">virginica</td></tr><tr><td class = \"rowNumber\" style = \"font-weight: bold; text-align: right;\">147</td><td style = \"text-align: right;\">7.7</td><td style = \"text-align: right;\">2.6</td><td style = \"text-align: right;\">6.9</td><td style = \"text-align: right;\">2.3</td><td style = \"text-align: left;\">virginica</td></tr><tr><td class = \"rowNumber\" style = \"font-weight: bold; text-align: right;\">148</td><td style = \"text-align: right;\">7.7</td><td style = \"text-align: right;\">2.8</td><td style = \"text-align: right;\">6.7</td><td style = \"text-align: right;\">2.0</td><td style = \"text-align: left;\">virginica</td></tr><tr><td class = \"rowNumber\" style = \"font-weight: bold; text-align: right;\">149</td><td style = \"text-align: right;\">7.7</td><td style = \"text-align: right;\">3.0</td><td style = \"text-align: right;\">6.1</td><td style = \"text-align: right;\">2.3</td><td style = \"text-align: left;\">virginica</td></tr><tr><td class = \"rowNumber\" style = \"font-weight: bold; text-align: right;\">150</td><td style = \"text-align: right;\">7.9</td><td style = \"text-align: right;\">3.8</td><td style = \"text-align: right;\">6.4</td><td style = \"text-align: right;\">2.0</td><td style = \"text-align: left;\">virginica</td></tr></tbody></table></div>"
            ],
            "text/latex": "\\begin{tabular}{r|ccccc}\n\t& SepalLength & SepalWidth & PetalLength & PetalWidth & Species\\\\\n\t\\hline\n\t& Float64 & Float64 & Float64 & Float64 & Cat…\\\\\n\t\\hline\n\t1 & 4.3 & 3.0 & 1.1 & 0.1 & setosa \\\\\n\t2 & 4.4 & 2.9 & 1.4 & 0.2 & setosa \\\\\n\t3 & 4.4 & 3.0 & 1.3 & 0.2 & setosa \\\\\n\t4 & 4.4 & 3.2 & 1.3 & 0.2 & setosa \\\\\n\t5 & 4.5 & 2.3 & 1.3 & 0.3 & setosa \\\\\n\t6 & 4.6 & 3.1 & 1.5 & 0.2 & setosa \\\\\n\t7 & 4.6 & 3.4 & 1.4 & 0.3 & setosa \\\\\n\t8 & 4.6 & 3.6 & 1.0 & 0.2 & setosa \\\\\n\t9 & 4.6 & 3.2 & 1.4 & 0.2 & setosa \\\\\n\t10 & 4.7 & 3.2 & 1.3 & 0.2 & setosa \\\\\n\t11 & 4.7 & 3.2 & 1.6 & 0.2 & setosa \\\\\n\t12 & 4.8 & 3.4 & 1.6 & 0.2 & setosa \\\\\n\t13 & 4.8 & 3.0 & 1.4 & 0.1 & setosa \\\\\n\t14 & 4.8 & 3.4 & 1.9 & 0.2 & setosa \\\\\n\t15 & 4.8 & 3.1 & 1.6 & 0.2 & setosa \\\\\n\t16 & 4.8 & 3.0 & 1.4 & 0.3 & setosa \\\\\n\t17 & 4.9 & 3.0 & 1.4 & 0.2 & setosa \\\\\n\t18 & 4.9 & 3.1 & 1.5 & 0.1 & setosa \\\\\n\t19 & 4.9 & 3.1 & 1.5 & 0.2 & setosa \\\\\n\t20 & 4.9 & 3.6 & 1.4 & 0.1 & setosa \\\\\n\t21 & 4.9 & 2.4 & 3.3 & 1.0 & versicolor \\\\\n\t22 & 4.9 & 2.5 & 4.5 & 1.7 & virginica \\\\\n\t23 & 5.0 & 3.6 & 1.4 & 0.2 & setosa \\\\\n\t24 & 5.0 & 3.4 & 1.5 & 0.2 & setosa \\\\\n\t25 & 5.0 & 3.0 & 1.6 & 0.2 & setosa \\\\\n\t26 & 5.0 & 3.4 & 1.6 & 0.4 & setosa \\\\\n\t27 & 5.0 & 3.2 & 1.2 & 0.2 & setosa \\\\\n\t28 & 5.0 & 3.5 & 1.3 & 0.3 & setosa \\\\\n\t29 & 5.0 & 3.5 & 1.6 & 0.6 & setosa \\\\\n\t30 & 5.0 & 3.3 & 1.4 & 0.2 & setosa \\\\\n\t$\\dots$ & $\\dots$ & $\\dots$ & $\\dots$ & $\\dots$ & $\\dots$ \\\\\n\\end{tabular}\n"
          },
          "metadata": {},
          "execution_count": 66
        }
      ]
    },
    {
      "cell_type": "code",
      "source": [
        "mean_sepal_width = mean(iris[!, :SepalWidth])  # Calcula a média da largura da sépala"
      ],
      "metadata": {
        "colab": {
          "base_uri": "https://localhost:8080/"
        },
        "id": "iTD64A5pA9Mi",
        "outputId": "4b3182b0-62c5-4309-aa7c-5b46f67d9fc8"
      },
      "execution_count": null,
      "outputs": [
        {
          "output_type": "execute_result",
          "data": {
            "text/plain": [
              "3.0573333333333337"
            ]
          },
          "metadata": {},
          "execution_count": 68
        }
      ]
    },
    {
      "cell_type": "markdown",
      "source": [
        "# Visualização dos dados\n",
        "\n",
        "O gráfico abaixo é equivalente ao ggplot() do tidyverse em R."
      ],
      "metadata": {
        "id": "hnoEKYMZBLaV"
      }
    },
    {
      "cell_type": "code",
      "source": [
        "using Plots\n",
        "gr()\n",
        "\n",
        "scatter(iris[!, :SepalLength], iris[!, :SepalWidth],\n",
        "        group=iris[!, :Species],\n",
        "        xlabel=\"Comprimento da Sépala\",\n",
        "        ylabel=\"Largura da Sépala\",\n",
        "        title=\"Relação entre comprimento e largura da sépala\")"
      ],
      "metadata": {
        "colab": {
          "base_uri": "https://localhost:8080/",
          "height": 422
        },
        "id": "FpzMa954BCog",
        "outputId": "9de81343-28f4-48e3-b42d-770dfcf1c1f1"
      },
      "execution_count": null,
      "outputs": [
        {
          "output_type": "execute_result",
          "data": {
            "image/svg+xml": "<?xml version=\"1.0\" encoding=\"utf-8\"?>\n<svg xmlns=\"http://www.w3.org/2000/svg\" xmlns:xlink=\"http://www.w3.org/1999/xlink\" width=\"600\" height=\"400\" viewBox=\"0 0 2400 1600\">\n<defs>\n  <clipPath id=\"clip970\">\n    <rect x=\"0\" y=\"0\" width=\"2400\" height=\"1600\"/>\n  </clipPath>\n</defs>\n<path clip-path=\"url(#clip970)\" d=\"M0 1600 L2400 1600 L2400 0 L0 0  Z\" fill=\"#ffffff\" fill-rule=\"evenodd\" fill-opacity=\"1\"/>\n<defs>\n  <clipPath id=\"clip971\">\n    <rect x=\"480\" y=\"0\" width=\"1681\" height=\"1600\"/>\n  </clipPath>\n</defs>\n<path clip-path=\"url(#clip970)\" d=\"M220.19 1423.18 L2352.76 1423.18 L2352.76 123.472 L220.19 123.472  Z\" fill=\"#ffffff\" fill-rule=\"evenodd\" fill-opacity=\"1\"/>\n<defs>\n  <clipPath id=\"clip972\">\n    <rect x=\"220\" y=\"123\" width=\"2134\" height=\"1301\"/>\n  </clipPath>\n</defs>\n<polyline clip-path=\"url(#clip972)\" style=\"stroke:#000000; stroke-linecap:round; stroke-linejoin:round; stroke-width:2; stroke-opacity:0.1; fill:none\" points=\"671.74,1423.18 671.74,123.472 \"/>\n<polyline clip-path=\"url(#clip972)\" style=\"stroke:#000000; stroke-linecap:round; stroke-linejoin:round; stroke-width:2; stroke-opacity:0.1; fill:none\" points=\"1230.59,1423.18 1230.59,123.472 \"/>\n<polyline clip-path=\"url(#clip972)\" style=\"stroke:#000000; stroke-linecap:round; stroke-linejoin:round; stroke-width:2; stroke-opacity:0.1; fill:none\" points=\"1789.44,1423.18 1789.44,123.472 \"/>\n<polyline clip-path=\"url(#clip972)\" style=\"stroke:#000000; stroke-linecap:round; stroke-linejoin:round; stroke-width:2; stroke-opacity:0.1; fill:none\" points=\"2348.29,1423.18 2348.29,123.472 \"/>\n<polyline clip-path=\"url(#clip970)\" style=\"stroke:#000000; stroke-linecap:round; stroke-linejoin:round; stroke-width:4; stroke-opacity:1; fill:none\" points=\"220.19,1423.18 2352.76,1423.18 \"/>\n<polyline clip-path=\"url(#clip970)\" style=\"stroke:#000000; stroke-linecap:round; stroke-linejoin:round; stroke-width:4; stroke-opacity:1; fill:none\" points=\"671.74,1423.18 671.74,1404.28 \"/>\n<polyline clip-path=\"url(#clip970)\" style=\"stroke:#000000; stroke-linecap:round; stroke-linejoin:round; stroke-width:4; stroke-opacity:1; fill:none\" points=\"1230.59,1423.18 1230.59,1404.28 \"/>\n<polyline clip-path=\"url(#clip970)\" style=\"stroke:#000000; stroke-linecap:round; stroke-linejoin:round; stroke-width:4; stroke-opacity:1; fill:none\" points=\"1789.44,1423.18 1789.44,1404.28 \"/>\n<polyline clip-path=\"url(#clip970)\" style=\"stroke:#000000; stroke-linecap:round; stroke-linejoin:round; stroke-width:4; stroke-opacity:1; fill:none\" points=\"2348.29,1423.18 2348.29,1404.28 \"/>\n<path clip-path=\"url(#clip970)\" d=\"M662.018 1451.02 L680.374 1451.02 L680.374 1454.96 L666.3 1454.96 L666.3 1463.43 Q667.319 1463.08 668.337 1462.92 Q669.356 1462.73 670.374 1462.73 Q676.161 1462.73 679.541 1465.9 Q682.92 1469.08 682.92 1474.49 Q682.92 1480.07 679.448 1483.17 Q675.976 1486.25 669.657 1486.25 Q667.481 1486.25 665.212 1485.88 Q662.967 1485.51 660.559 1484.77 L660.559 1480.07 Q662.643 1481.2 664.865 1481.76 Q667.087 1482.32 669.564 1482.32 Q673.569 1482.32 675.907 1480.21 Q678.244 1478.1 678.244 1474.49 Q678.244 1470.88 675.907 1468.77 Q673.569 1466.67 669.564 1466.67 Q667.689 1466.67 665.814 1467.08 Q663.962 1467.5 662.018 1468.38 L662.018 1451.02 Z\" fill=\"#000000\" fill-rule=\"nonzero\" fill-opacity=\"1\" /><path clip-path=\"url(#clip970)\" d=\"M1230.99 1466.44 Q1227.85 1466.44 1225.99 1468.59 Q1224.16 1470.74 1224.16 1474.49 Q1224.16 1478.22 1225.99 1480.39 Q1227.85 1482.55 1230.99 1482.55 Q1234.14 1482.55 1235.97 1480.39 Q1237.82 1478.22 1237.82 1474.49 Q1237.82 1470.74 1235.97 1468.59 Q1234.14 1466.44 1230.99 1466.44 M1240.28 1451.78 L1240.28 1456.04 Q1238.52 1455.21 1236.71 1454.77 Q1234.93 1454.33 1233.17 1454.33 Q1228.54 1454.33 1226.09 1457.45 Q1223.66 1460.58 1223.31 1466.9 Q1224.67 1464.89 1226.73 1463.82 Q1228.79 1462.73 1231.27 1462.73 Q1236.48 1462.73 1239.49 1465.9 Q1242.52 1469.05 1242.52 1474.49 Q1242.52 1479.82 1239.37 1483.03 Q1236.22 1486.25 1230.99 1486.25 Q1225 1486.25 1221.83 1481.67 Q1218.66 1477.06 1218.66 1468.33 Q1218.66 1460.14 1222.54 1455.28 Q1226.43 1450.39 1232.98 1450.39 Q1234.74 1450.39 1236.53 1450.74 Q1238.33 1451.09 1240.28 1451.78 Z\" fill=\"#000000\" fill-rule=\"nonzero\" fill-opacity=\"1\" /><path clip-path=\"url(#clip970)\" d=\"M1778.33 1451.02 L1800.55 1451.02 L1800.55 1453.01 L1788 1485.58 L1783.12 1485.58 L1794.92 1454.96 L1778.33 1454.96 L1778.33 1451.02 Z\" fill=\"#000000\" fill-rule=\"nonzero\" fill-opacity=\"1\" /><path clip-path=\"url(#clip970)\" d=\"M2348.29 1469.17 Q2344.95 1469.17 2343.03 1470.95 Q2341.13 1472.73 2341.13 1475.86 Q2341.13 1478.98 2343.03 1480.77 Q2344.95 1482.55 2348.29 1482.55 Q2351.62 1482.55 2353.54 1480.77 Q2355.46 1478.96 2355.46 1475.86 Q2355.46 1472.73 2353.54 1470.95 Q2351.64 1469.17 2348.29 1469.17 M2343.61 1467.18 Q2340.6 1466.44 2338.91 1464.38 Q2337.24 1462.32 2337.24 1459.35 Q2337.24 1455.21 2340.18 1452.8 Q2343.15 1450.39 2348.29 1450.39 Q2353.45 1450.39 2356.39 1452.8 Q2359.33 1455.21 2359.33 1459.35 Q2359.33 1462.32 2357.64 1464.38 Q2355.97 1466.44 2352.98 1467.18 Q2356.36 1467.96 2358.24 1470.26 Q2360.14 1472.55 2360.14 1475.86 Q2360.14 1480.88 2357.06 1483.57 Q2354 1486.25 2348.29 1486.25 Q2342.57 1486.25 2339.49 1483.57 Q2336.43 1480.88 2336.43 1475.86 Q2336.43 1472.55 2338.33 1470.26 Q2340.23 1467.96 2343.61 1467.18 M2341.9 1459.79 Q2341.9 1462.48 2343.56 1463.98 Q2345.25 1465.49 2348.29 1465.49 Q2351.29 1465.49 2352.98 1463.98 Q2354.7 1462.48 2354.7 1459.79 Q2354.7 1457.11 2352.98 1455.6 Q2351.29 1454.1 2348.29 1454.1 Q2345.25 1454.1 2343.56 1455.6 Q2341.9 1457.11 2341.9 1459.79 Z\" fill=\"#000000\" fill-rule=\"nonzero\" fill-opacity=\"1\" /><path clip-path=\"url(#clip970)\" d=\"M935.007 1524.18 L935.007 1530.96 Q931.76 1527.94 928.068 1526.44 Q924.408 1524.95 920.27 1524.95 Q912.122 1524.95 907.793 1529.95 Q903.464 1534.91 903.464 1544.33 Q903.464 1553.72 907.793 1558.72 Q912.122 1563.68 920.27 1563.68 Q924.408 1563.68 928.068 1562.19 Q931.76 1560.69 935.007 1557.67 L935.007 1564.38 Q931.633 1566.68 927.845 1567.82 Q924.089 1568.97 919.888 1568.97 Q909.098 1568.97 902.892 1562.38 Q896.685 1555.76 896.685 1544.33 Q896.685 1532.87 902.892 1526.28 Q909.098 1519.66 919.888 1519.66 Q924.153 1519.66 927.909 1520.81 Q931.696 1521.92 935.007 1524.18 Z\" fill=\"#000000\" fill-rule=\"nonzero\" fill-opacity=\"1\" /><path clip-path=\"url(#clip970)\" d=\"M958.496 1536.5 Q953.785 1536.5 951.048 1540.19 Q948.311 1543.85 948.311 1550.25 Q948.311 1556.65 951.016 1560.34 Q953.754 1564 958.496 1564 Q963.175 1564 965.912 1560.31 Q968.649 1556.62 968.649 1550.25 Q968.649 1543.92 965.912 1540.23 Q963.175 1536.5 958.496 1536.5 M958.496 1531.54 Q966.135 1531.54 970.495 1536.5 Q974.856 1541.47 974.856 1550.25 Q974.856 1559 970.495 1564 Q966.135 1568.97 958.496 1568.97 Q950.825 1568.97 946.465 1564 Q942.136 1559 942.136 1550.25 Q942.136 1541.47 946.465 1536.5 Q950.825 1531.54 958.496 1531.54 Z\" fill=\"#000000\" fill-rule=\"nonzero\" fill-opacity=\"1\" /><path clip-path=\"url(#clip970)\" d=\"M1012.32 1539.24 Q1014.51 1535.29 1017.57 1533.41 Q1020.63 1531.54 1024.76 1531.54 Q1030.33 1531.54 1033.36 1535.45 Q1036.38 1539.33 1036.38 1546.53 L1036.38 1568.04 L1030.49 1568.04 L1030.49 1546.72 Q1030.49 1541.59 1028.68 1539.11 Q1026.86 1536.63 1023.14 1536.63 Q1018.59 1536.63 1015.95 1539.65 Q1013.3 1542.68 1013.3 1547.9 L1013.3 1568.04 L1007.42 1568.04 L1007.42 1546.72 Q1007.42 1541.56 1005.6 1539.11 Q1003.79 1536.63 1000 1536.63 Q995.513 1536.63 992.871 1539.68 Q990.229 1542.71 990.229 1547.9 L990.229 1568.04 L984.341 1568.04 L984.341 1532.4 L990.229 1532.4 L990.229 1537.93 Q992.234 1534.66 995.035 1533.1 Q997.836 1531.54 1001.69 1531.54 Q1005.57 1531.54 1008.28 1533.51 Q1011.01 1535.48 1012.32 1539.24 Z\" fill=\"#000000\" fill-rule=\"nonzero\" fill-opacity=\"1\" /><path clip-path=\"url(#clip970)\" d=\"M1053.73 1562.7 L1053.73 1581.6 L1047.84 1581.6 L1047.84 1532.4 L1053.73 1532.4 L1053.73 1537.81 Q1055.57 1534.62 1058.37 1533.1 Q1061.21 1531.54 1065.12 1531.54 Q1071.61 1531.54 1075.66 1536.69 Q1079.73 1541.85 1079.73 1550.25 Q1079.73 1558.65 1075.66 1563.81 Q1071.61 1568.97 1065.12 1568.97 Q1061.21 1568.97 1058.37 1567.44 Q1055.57 1565.88 1053.73 1562.7 M1073.65 1550.25 Q1073.65 1543.79 1070.98 1540.13 Q1068.34 1536.44 1063.69 1536.44 Q1059.04 1536.44 1056.37 1540.13 Q1053.73 1543.79 1053.73 1550.25 Q1053.73 1556.71 1056.37 1560.4 Q1059.04 1564.07 1063.69 1564.07 Q1068.34 1564.07 1070.98 1560.4 Q1073.65 1556.71 1073.65 1550.25 Z\" fill=\"#000000\" fill-rule=\"nonzero\" fill-opacity=\"1\" /><path clip-path=\"url(#clip970)\" d=\"M1110.1 1537.87 Q1109.11 1537.3 1107.93 1537.04 Q1106.79 1536.76 1105.38 1536.76 Q1100.42 1536.76 1097.75 1540 Q1095.1 1543.22 1095.1 1549.27 L1095.1 1568.04 L1089.22 1568.04 L1089.22 1532.4 L1095.1 1532.4 L1095.1 1537.93 Q1096.95 1534.69 1099.91 1533.13 Q1102.87 1531.54 1107.1 1531.54 Q1107.71 1531.54 1108.44 1531.63 Q1109.17 1531.7 1110.06 1531.85 L1110.1 1537.87 Z\" fill=\"#000000\" fill-rule=\"nonzero\" fill-opacity=\"1\" /><path clip-path=\"url(#clip970)\" d=\"M1116.24 1532.4 L1122.09 1532.4 L1122.09 1568.04 L1116.24 1568.04 L1116.24 1532.4 M1116.24 1518.52 L1122.09 1518.52 L1122.09 1525.93 L1116.24 1525.93 L1116.24 1518.52 Z\" fill=\"#000000\" fill-rule=\"nonzero\" fill-opacity=\"1\" /><path clip-path=\"url(#clip970)\" d=\"M1162.1 1539.24 Q1164.3 1535.29 1167.35 1533.41 Q1170.41 1531.54 1174.55 1531.54 Q1180.12 1531.54 1183.14 1535.45 Q1186.17 1539.33 1186.17 1546.53 L1186.17 1568.04 L1180.28 1568.04 L1180.28 1546.72 Q1180.28 1541.59 1178.46 1539.11 Q1176.65 1536.63 1172.92 1536.63 Q1168.37 1536.63 1165.73 1539.65 Q1163.09 1542.68 1163.09 1547.9 L1163.09 1568.04 L1157.2 1568.04 L1157.2 1546.72 Q1157.2 1541.56 1155.39 1539.11 Q1153.57 1536.63 1149.79 1536.63 Q1145.3 1536.63 1142.66 1539.68 Q1140.01 1542.71 1140.01 1547.9 L1140.01 1568.04 L1134.13 1568.04 L1134.13 1532.4 L1140.01 1532.4 L1140.01 1537.93 Q1142.02 1534.66 1144.82 1533.1 Q1147.62 1531.54 1151.47 1531.54 Q1155.36 1531.54 1158.06 1533.51 Q1160.8 1535.48 1162.1 1539.24 Z\" fill=\"#000000\" fill-rule=\"nonzero\" fill-opacity=\"1\" /><path clip-path=\"url(#clip970)\" d=\"M1228.34 1548.76 L1228.34 1551.62 L1201.41 1551.62 Q1201.79 1557.67 1205.04 1560.85 Q1208.32 1564 1214.14 1564 Q1217.52 1564 1220.67 1563.17 Q1223.85 1562.35 1226.97 1560.69 L1226.97 1566.23 Q1223.82 1567.57 1220.51 1568.27 Q1217.2 1568.97 1213.79 1568.97 Q1205.26 1568.97 1200.27 1564 Q1195.3 1559.04 1195.3 1550.57 Q1195.3 1541.82 1200.01 1536.69 Q1204.75 1531.54 1212.77 1531.54 Q1219.97 1531.54 1224.14 1536.18 Q1228.34 1540.8 1228.34 1548.76 M1222.48 1547.04 Q1222.42 1542.23 1219.78 1539.37 Q1217.17 1536.5 1212.84 1536.5 Q1207.94 1536.5 1204.98 1539.27 Q1202.05 1542.04 1201.6 1547.07 L1222.48 1547.04 Z\" fill=\"#000000\" fill-rule=\"nonzero\" fill-opacity=\"1\" /><path clip-path=\"url(#clip970)\" d=\"M1267.58 1546.53 L1267.58 1568.04 L1261.73 1568.04 L1261.73 1546.72 Q1261.73 1541.66 1259.75 1539.14 Q1257.78 1536.63 1253.83 1536.63 Q1249.09 1536.63 1246.35 1539.65 Q1243.62 1542.68 1243.62 1547.9 L1243.62 1568.04 L1237.73 1568.04 L1237.73 1532.4 L1243.62 1532.4 L1243.62 1537.93 Q1245.72 1534.72 1248.55 1533.13 Q1251.41 1531.54 1255.14 1531.54 Q1261.28 1531.54 1264.43 1535.36 Q1267.58 1539.14 1267.58 1546.53 Z\" fill=\"#000000\" fill-rule=\"nonzero\" fill-opacity=\"1\" /><path clip-path=\"url(#clip970)\" d=\"M1285.06 1522.27 L1285.06 1532.4 L1297.12 1532.4 L1297.12 1536.95 L1285.06 1536.95 L1285.06 1556.3 Q1285.06 1560.66 1286.23 1561.9 Q1287.44 1563.14 1291.1 1563.14 L1297.12 1563.14 L1297.12 1568.04 L1291.1 1568.04 Q1284.32 1568.04 1281.75 1565.53 Q1279.17 1562.98 1279.17 1556.3 L1279.17 1536.95 L1274.87 1536.95 L1274.87 1532.4 L1279.17 1532.4 L1279.17 1522.27 L1285.06 1522.27 Z\" fill=\"#000000\" fill-rule=\"nonzero\" fill-opacity=\"1\" /><path clip-path=\"url(#clip970)\" d=\"M1318.64 1536.5 Q1313.93 1536.5 1311.19 1540.19 Q1308.45 1543.85 1308.45 1550.25 Q1308.45 1556.65 1311.16 1560.34 Q1313.89 1564 1318.64 1564 Q1323.31 1564 1326.05 1560.31 Q1328.79 1556.62 1328.79 1550.25 Q1328.79 1543.92 1326.05 1540.23 Q1323.31 1536.5 1318.64 1536.5 M1318.64 1531.54 Q1326.27 1531.54 1330.64 1536.5 Q1335 1541.47 1335 1550.25 Q1335 1559 1330.64 1564 Q1326.27 1568.97 1318.64 1568.97 Q1310.97 1568.97 1306.6 1564 Q1302.28 1559 1302.28 1550.25 Q1302.28 1541.47 1306.6 1536.5 Q1310.97 1531.54 1318.64 1531.54 Z\" fill=\"#000000\" fill-rule=\"nonzero\" fill-opacity=\"1\" /><path clip-path=\"url(#clip970)\" d=\"M1388.88 1537.81 L1388.88 1518.52 L1394.74 1518.52 L1394.74 1568.04 L1388.88 1568.04 L1388.88 1562.7 Q1387.04 1565.88 1384.2 1567.44 Q1381.4 1568.97 1377.45 1568.97 Q1370.99 1568.97 1366.92 1563.81 Q1362.88 1558.65 1362.88 1550.25 Q1362.88 1541.85 1366.92 1536.69 Q1370.99 1531.54 1377.45 1531.54 Q1381.4 1531.54 1384.2 1533.1 Q1387.04 1534.62 1388.88 1537.81 M1368.92 1550.25 Q1368.92 1556.71 1371.57 1560.4 Q1374.24 1564.07 1378.89 1564.07 Q1383.53 1564.07 1386.21 1560.4 Q1388.88 1556.71 1388.88 1550.25 Q1388.88 1543.79 1386.21 1540.13 Q1383.53 1536.44 1378.89 1536.44 Q1374.24 1536.44 1371.57 1540.13 Q1368.92 1543.79 1368.92 1550.25 Z\" fill=\"#000000\" fill-rule=\"nonzero\" fill-opacity=\"1\" /><path clip-path=\"url(#clip970)\" d=\"M1423 1550.12 Q1415.9 1550.12 1413.17 1551.75 Q1410.43 1553.37 1410.43 1557.29 Q1410.43 1560.4 1412.47 1562.25 Q1414.54 1564.07 1418.07 1564.07 Q1422.94 1564.07 1425.87 1560.63 Q1428.83 1557.16 1428.83 1551.43 L1428.83 1550.12 L1423 1550.12 M1434.68 1547.71 L1434.68 1568.04 L1428.83 1568.04 L1428.83 1562.63 Q1426.82 1565.88 1423.83 1567.44 Q1420.84 1568.97 1416.51 1568.97 Q1411.03 1568.97 1407.79 1565.91 Q1404.57 1562.82 1404.57 1557.67 Q1404.57 1551.65 1408.58 1548.6 Q1412.63 1545.54 1420.61 1545.54 L1428.83 1545.54 L1428.83 1544.97 Q1428.83 1540.93 1426.15 1538.73 Q1423.51 1536.5 1418.7 1536.5 Q1415.65 1536.5 1412.75 1537.23 Q1409.86 1537.97 1407.18 1539.43 L1407.18 1534.02 Q1410.4 1532.78 1413.42 1532.17 Q1416.44 1531.54 1419.31 1531.54 Q1427.04 1531.54 1430.86 1535.55 Q1434.68 1539.56 1434.68 1547.71 Z\" fill=\"#000000\" fill-rule=\"nonzero\" fill-opacity=\"1\" /><path clip-path=\"url(#clip970)\" d=\"M1496.21 1522.08 L1496.21 1528.35 Q1492.55 1526.6 1489.3 1525.74 Q1486.05 1524.88 1483.03 1524.88 Q1477.78 1524.88 1474.91 1526.92 Q1472.08 1528.96 1472.08 1532.71 Q1472.08 1535.87 1473.96 1537.49 Q1475.87 1539.08 1481.15 1540.07 L1485.04 1540.86 Q1492.23 1542.23 1495.63 1545.7 Q1499.07 1549.14 1499.07 1554.93 Q1499.07 1561.84 1494.42 1565.4 Q1489.81 1568.97 1480.87 1568.97 Q1477.49 1568.97 1473.67 1568.2 Q1469.89 1567.44 1465.81 1565.94 L1465.81 1559.32 Q1469.73 1561.52 1473.48 1562.63 Q1477.24 1563.75 1480.87 1563.75 Q1486.37 1563.75 1489.36 1561.58 Q1492.36 1559.42 1492.36 1555.41 Q1492.36 1551.91 1490.19 1549.93 Q1488.06 1547.96 1483.16 1546.97 L1479.24 1546.21 Q1472.05 1544.78 1468.83 1541.72 Q1465.62 1538.67 1465.62 1533.22 Q1465.62 1526.92 1470.04 1523.29 Q1474.5 1519.66 1482.3 1519.66 Q1485.64 1519.66 1489.11 1520.27 Q1492.58 1520.87 1496.21 1522.08 Z\" fill=\"#000000\" fill-rule=\"nonzero\" fill-opacity=\"1\" /><path clip-path=\"url(#clip970)\" d=\"M1539.33 1548.76 L1539.33 1551.62 L1512.41 1551.62 Q1512.79 1557.67 1516.04 1560.85 Q1519.31 1564 1525.14 1564 Q1528.51 1564 1531.66 1563.17 Q1534.85 1562.35 1537.97 1560.69 L1537.97 1566.23 Q1534.82 1567.57 1531.51 1568.27 Q1528.19 1568.97 1524.79 1568.97 Q1516.26 1568.97 1511.26 1564 Q1506.3 1559.04 1506.3 1550.57 Q1506.3 1541.82 1511.01 1536.69 Q1515.75 1531.54 1523.77 1531.54 Q1530.96 1531.54 1535.13 1536.18 Q1539.33 1540.8 1539.33 1548.76 M1533.48 1547.04 Q1533.41 1542.23 1530.77 1539.37 Q1528.16 1536.5 1523.83 1536.5 Q1518.93 1536.5 1515.97 1539.27 Q1513.04 1542.04 1512.6 1547.07 L1533.48 1547.04 M1527.84 1515.91 L1534.18 1515.91 L1523.8 1527.88 L1518.93 1527.88 L1527.84 1515.91 Z\" fill=\"#000000\" fill-rule=\"nonzero\" fill-opacity=\"1\" /><path clip-path=\"url(#clip970)\" d=\"M1554.61 1562.7 L1554.61 1581.6 L1548.72 1581.6 L1548.72 1532.4 L1554.61 1532.4 L1554.61 1537.81 Q1556.46 1534.62 1559.26 1533.1 Q1562.09 1531.54 1566.01 1531.54 Q1572.5 1531.54 1576.54 1536.69 Q1580.62 1541.85 1580.62 1550.25 Q1580.62 1558.65 1576.54 1563.81 Q1572.5 1568.97 1566.01 1568.97 Q1562.09 1568.97 1559.26 1567.44 Q1556.46 1565.88 1554.61 1562.7 M1574.54 1550.25 Q1574.54 1543.79 1571.86 1540.13 Q1569.22 1536.44 1564.57 1536.44 Q1559.93 1536.44 1557.25 1540.13 Q1554.61 1543.79 1554.61 1550.25 Q1554.61 1556.71 1557.25 1560.4 Q1559.93 1564.07 1564.57 1564.07 Q1569.22 1564.07 1571.86 1560.4 Q1574.54 1556.71 1574.54 1550.25 Z\" fill=\"#000000\" fill-rule=\"nonzero\" fill-opacity=\"1\" /><path clip-path=\"url(#clip970)\" d=\"M1606.52 1550.12 Q1599.43 1550.12 1596.69 1551.75 Q1593.95 1553.37 1593.95 1557.29 Q1593.95 1560.4 1595.99 1562.25 Q1598.06 1564.07 1601.59 1564.07 Q1606.46 1564.07 1609.39 1560.63 Q1612.35 1557.16 1612.35 1551.43 L1612.35 1550.12 L1606.52 1550.12 M1618.21 1547.71 L1618.21 1568.04 L1612.35 1568.04 L1612.35 1562.63 Q1610.34 1565.88 1607.35 1567.44 Q1604.36 1568.97 1600.03 1568.97 Q1594.56 1568.97 1591.31 1565.91 Q1588.1 1562.82 1588.1 1557.67 Q1588.1 1551.65 1592.11 1548.6 Q1596.15 1545.54 1604.14 1545.54 L1612.35 1545.54 L1612.35 1544.97 Q1612.35 1540.93 1609.68 1538.73 Q1607.03 1536.5 1602.23 1536.5 Q1599.17 1536.5 1596.28 1537.23 Q1593.38 1537.97 1590.71 1539.43 L1590.71 1534.02 Q1593.92 1532.78 1596.94 1532.17 Q1599.97 1531.54 1602.83 1531.54 Q1610.57 1531.54 1614.39 1535.55 Q1618.21 1539.56 1618.21 1547.71 Z\" fill=\"#000000\" fill-rule=\"nonzero\" fill-opacity=\"1\" /><path clip-path=\"url(#clip970)\" d=\"M1630.27 1518.52 L1636.13 1518.52 L1636.13 1568.04 L1630.27 1568.04 L1630.27 1518.52 Z\" fill=\"#000000\" fill-rule=\"nonzero\" fill-opacity=\"1\" /><path clip-path=\"url(#clip970)\" d=\"M1664.58 1550.12 Q1657.48 1550.12 1654.75 1551.75 Q1652.01 1553.37 1652.01 1557.29 Q1652.01 1560.4 1654.04 1562.25 Q1656.11 1564.07 1659.65 1564.07 Q1664.52 1564.07 1667.44 1560.63 Q1670.4 1557.16 1670.4 1551.43 L1670.4 1550.12 L1664.58 1550.12 M1676.26 1547.71 L1676.26 1568.04 L1670.4 1568.04 L1670.4 1562.63 Q1668.4 1565.88 1665.41 1567.44 Q1662.42 1568.97 1658.09 1568.97 Q1652.61 1568.97 1649.37 1565.91 Q1646.15 1562.82 1646.15 1557.67 Q1646.15 1551.65 1650.16 1548.6 Q1654.2 1545.54 1662.19 1545.54 L1670.4 1545.54 L1670.4 1544.97 Q1670.4 1540.93 1667.73 1538.73 Q1665.09 1536.5 1660.28 1536.5 Q1657.23 1536.5 1654.33 1537.23 Q1651.43 1537.97 1648.76 1539.43 L1648.76 1534.02 Q1651.98 1532.78 1655 1532.17 Q1658.02 1531.54 1660.89 1531.54 Q1668.62 1531.54 1672.44 1535.55 Q1676.26 1539.56 1676.26 1547.71 Z\" fill=\"#000000\" fill-rule=\"nonzero\" fill-opacity=\"1\" /><polyline clip-path=\"url(#clip972)\" style=\"stroke:#000000; stroke-linecap:round; stroke-linejoin:round; stroke-width:2; stroke-opacity:0.1; fill:none\" points=\"220.19,1386.4 2352.76,1386.4 \"/>\n<polyline clip-path=\"url(#clip972)\" style=\"stroke:#000000; stroke-linecap:round; stroke-linejoin:round; stroke-width:2; stroke-opacity:0.1; fill:none\" points=\"220.19,1130.95 2352.76,1130.95 \"/>\n<polyline clip-path=\"url(#clip972)\" style=\"stroke:#000000; stroke-linecap:round; stroke-linejoin:round; stroke-width:2; stroke-opacity:0.1; fill:none\" points=\"220.19,875.504 2352.76,875.504 \"/>\n<polyline clip-path=\"url(#clip972)\" style=\"stroke:#000000; stroke-linecap:round; stroke-linejoin:round; stroke-width:2; stroke-opacity:0.1; fill:none\" points=\"220.19,620.059 2352.76,620.059 \"/>\n<polyline clip-path=\"url(#clip972)\" style=\"stroke:#000000; stroke-linecap:round; stroke-linejoin:round; stroke-width:2; stroke-opacity:0.1; fill:none\" points=\"220.19,364.613 2352.76,364.613 \"/>\n<polyline clip-path=\"url(#clip970)\" style=\"stroke:#000000; stroke-linecap:round; stroke-linejoin:round; stroke-width:4; stroke-opacity:1; fill:none\" points=\"220.19,1423.18 220.19,123.472 \"/>\n<polyline clip-path=\"url(#clip970)\" style=\"stroke:#000000; stroke-linecap:round; stroke-linejoin:round; stroke-width:4; stroke-opacity:1; fill:none\" points=\"220.19,1386.4 239.088,1386.4 \"/>\n<polyline clip-path=\"url(#clip970)\" style=\"stroke:#000000; stroke-linecap:round; stroke-linejoin:round; stroke-width:4; stroke-opacity:1; fill:none\" points=\"220.19,1130.95 239.088,1130.95 \"/>\n<polyline clip-path=\"url(#clip970)\" style=\"stroke:#000000; stroke-linecap:round; stroke-linejoin:round; stroke-width:4; stroke-opacity:1; fill:none\" points=\"220.19,875.504 239.088,875.504 \"/>\n<polyline clip-path=\"url(#clip970)\" style=\"stroke:#000000; stroke-linecap:round; stroke-linejoin:round; stroke-width:4; stroke-opacity:1; fill:none\" points=\"220.19,620.059 239.088,620.059 \"/>\n<polyline clip-path=\"url(#clip970)\" style=\"stroke:#000000; stroke-linecap:round; stroke-linejoin:round; stroke-width:4; stroke-opacity:1; fill:none\" points=\"220.19,364.613 239.088,364.613 \"/>\n<path clip-path=\"url(#clip970)\" d=\"M121.043 1399.74 L137.362 1399.74 L137.362 1403.68 L115.418 1403.68 L115.418 1399.74 Q118.08 1396.99 122.663 1392.36 Q127.269 1387.7 128.45 1386.36 Q130.695 1383.84 131.575 1382.1 Q132.478 1380.34 132.478 1378.65 Q132.478 1375.9 130.533 1374.16 Q128.612 1372.43 125.51 1372.43 Q123.311 1372.43 120.857 1373.19 Q118.427 1373.95 115.649 1375.5 L115.649 1370.78 Q118.473 1369.65 120.927 1369.07 Q123.38 1368.49 125.418 1368.49 Q130.788 1368.49 133.982 1371.18 Q137.177 1373.86 137.177 1378.35 Q137.177 1380.48 136.367 1382.4 Q135.579 1384.3 133.473 1386.89 Q132.894 1387.56 129.792 1390.78 Q126.691 1393.98 121.043 1399.74 Z\" fill=\"#000000\" fill-rule=\"nonzero\" fill-opacity=\"1\" /><path clip-path=\"url(#clip970)\" d=\"M147.177 1397.8 L152.061 1397.8 L152.061 1403.68 L147.177 1403.68 L147.177 1397.8 Z\" fill=\"#000000\" fill-rule=\"nonzero\" fill-opacity=\"1\" /><path clip-path=\"url(#clip970)\" d=\"M172.246 1372.19 Q168.635 1372.19 166.806 1375.76 Q165.001 1379.3 165.001 1386.43 Q165.001 1393.54 166.806 1397.1 Q168.635 1400.64 172.246 1400.64 Q175.88 1400.64 177.686 1397.1 Q179.514 1393.54 179.514 1386.43 Q179.514 1379.3 177.686 1375.76 Q175.88 1372.19 172.246 1372.19 M172.246 1368.49 Q178.056 1368.49 181.112 1373.1 Q184.19 1377.68 184.19 1386.43 Q184.19 1395.16 181.112 1399.76 Q178.056 1404.35 172.246 1404.35 Q166.436 1404.35 163.357 1399.76 Q160.302 1395.16 160.302 1386.43 Q160.302 1377.68 163.357 1373.1 Q166.436 1368.49 172.246 1368.49 Z\" fill=\"#000000\" fill-rule=\"nonzero\" fill-opacity=\"1\" /><path clip-path=\"url(#clip970)\" d=\"M122.038 1144.29 L138.357 1144.29 L138.357 1148.23 L116.413 1148.23 L116.413 1144.29 Q119.075 1141.54 123.658 1136.91 Q128.265 1132.26 129.445 1130.92 Q131.691 1128.39 132.57 1126.66 Q133.473 1124.9 133.473 1123.21 Q133.473 1120.45 131.529 1118.72 Q129.607 1116.98 126.505 1116.98 Q124.306 1116.98 121.853 1117.74 Q119.422 1118.51 116.644 1120.06 L116.644 1115.34 Q119.468 1114.2 121.922 1113.62 Q124.376 1113.04 126.413 1113.04 Q131.783 1113.04 134.978 1115.73 Q138.172 1118.42 138.172 1122.91 Q138.172 1125.04 137.362 1126.96 Q136.575 1128.86 134.468 1131.45 Q133.89 1132.12 130.788 1135.34 Q127.686 1138.53 122.038 1144.29 Z\" fill=\"#000000\" fill-rule=\"nonzero\" fill-opacity=\"1\" /><path clip-path=\"url(#clip970)\" d=\"M148.172 1142.35 L153.056 1142.35 L153.056 1148.23 L148.172 1148.23 L148.172 1142.35 Z\" fill=\"#000000\" fill-rule=\"nonzero\" fill-opacity=\"1\" /><path clip-path=\"url(#clip970)\" d=\"M163.288 1113.67 L181.644 1113.67 L181.644 1117.61 L167.57 1117.61 L167.57 1126.08 Q168.589 1125.73 169.607 1125.57 Q170.626 1125.38 171.644 1125.38 Q177.431 1125.38 180.811 1128.55 Q184.19 1131.73 184.19 1137.14 Q184.19 1142.72 180.718 1145.82 Q177.246 1148.9 170.927 1148.9 Q168.751 1148.9 166.482 1148.53 Q164.237 1148.16 161.829 1147.42 L161.829 1142.72 Q163.913 1143.85 166.135 1144.41 Q168.357 1144.97 170.834 1144.97 Q174.839 1144.97 177.176 1142.86 Q179.514 1140.75 179.514 1137.14 Q179.514 1133.53 177.176 1131.42 Q174.839 1129.32 170.834 1129.32 Q168.959 1129.32 167.084 1129.73 Q165.232 1130.15 163.288 1131.03 L163.288 1113.67 Z\" fill=\"#000000\" fill-rule=\"nonzero\" fill-opacity=\"1\" /><path clip-path=\"url(#clip970)\" d=\"M131.181 874.15 Q134.538 874.868 136.413 877.136 Q138.311 879.405 138.311 882.738 Q138.311 887.854 134.792 890.655 Q131.274 893.456 124.793 893.456 Q122.617 893.456 120.302 893.016 Q118.01 892.599 115.556 891.743 L115.556 887.229 Q117.501 888.363 119.816 888.942 Q122.13 889.52 124.654 889.52 Q129.052 889.52 131.343 887.784 Q133.658 886.048 133.658 882.738 Q133.658 879.682 131.505 877.97 Q129.376 876.233 125.556 876.233 L121.529 876.233 L121.529 872.391 L125.742 872.391 Q129.191 872.391 131.019 871.025 Q132.848 869.636 132.848 867.044 Q132.848 864.382 130.95 862.97 Q129.075 861.534 125.556 861.534 Q123.635 861.534 121.436 861.951 Q119.237 862.368 116.598 863.247 L116.598 859.081 Q119.26 858.34 121.575 857.97 Q123.913 857.599 125.973 857.599 Q131.297 857.599 134.399 860.03 Q137.501 862.437 137.501 866.558 Q137.501 869.428 135.857 871.419 Q134.214 873.386 131.181 874.15 Z\" fill=\"#000000\" fill-rule=\"nonzero\" fill-opacity=\"1\" /><path clip-path=\"url(#clip970)\" d=\"M147.177 886.905 L152.061 886.905 L152.061 892.784 L147.177 892.784 L147.177 886.905 Z\" fill=\"#000000\" fill-rule=\"nonzero\" fill-opacity=\"1\" /><path clip-path=\"url(#clip970)\" d=\"M172.246 861.303 Q168.635 861.303 166.806 864.868 Q165.001 868.409 165.001 875.539 Q165.001 882.645 166.806 886.21 Q168.635 889.752 172.246 889.752 Q175.88 889.752 177.686 886.21 Q179.514 882.645 179.514 875.539 Q179.514 868.409 177.686 864.868 Q175.88 861.303 172.246 861.303 M172.246 857.599 Q178.056 857.599 181.112 862.206 Q184.19 866.789 184.19 875.539 Q184.19 884.266 181.112 888.872 Q178.056 893.456 172.246 893.456 Q166.436 893.456 163.357 888.872 Q160.302 884.266 160.302 875.539 Q160.302 866.789 163.357 862.206 Q166.436 857.599 172.246 857.599 Z\" fill=\"#000000\" fill-rule=\"nonzero\" fill-opacity=\"1\" /><path clip-path=\"url(#clip970)\" d=\"M132.177 618.704 Q135.533 619.422 137.408 621.691 Q139.306 623.959 139.306 627.292 Q139.306 632.408 135.788 635.209 Q132.269 638.01 125.788 638.01 Q123.612 638.01 121.297 637.57 Q119.006 637.153 116.552 636.297 L116.552 631.783 Q118.496 632.917 120.811 633.496 Q123.126 634.075 125.649 634.075 Q130.047 634.075 132.339 632.339 Q134.654 630.602 134.654 627.292 Q134.654 624.237 132.501 622.524 Q130.371 620.788 126.552 620.788 L122.524 620.788 L122.524 616.945 L126.737 616.945 Q130.186 616.945 132.015 615.579 Q133.843 614.191 133.843 611.598 Q133.843 608.936 131.945 607.524 Q130.07 606.089 126.552 606.089 Q124.63 606.089 122.431 606.505 Q120.232 606.922 117.593 607.802 L117.593 603.635 Q120.255 602.894 122.57 602.524 Q124.908 602.154 126.968 602.154 Q132.292 602.154 135.394 604.584 Q138.496 606.992 138.496 611.112 Q138.496 613.982 136.853 615.973 Q135.209 617.941 132.177 618.704 Z\" fill=\"#000000\" fill-rule=\"nonzero\" fill-opacity=\"1\" /><path clip-path=\"url(#clip970)\" d=\"M148.172 631.459 L153.056 631.459 L153.056 637.339 L148.172 637.339 L148.172 631.459 Z\" fill=\"#000000\" fill-rule=\"nonzero\" fill-opacity=\"1\" /><path clip-path=\"url(#clip970)\" d=\"M163.288 602.779 L181.644 602.779 L181.644 606.714 L167.57 606.714 L167.57 615.186 Q168.589 614.839 169.607 614.677 Q170.626 614.491 171.644 614.491 Q177.431 614.491 180.811 617.663 Q184.19 620.834 184.19 626.251 Q184.19 631.829 180.718 634.931 Q177.246 638.01 170.927 638.01 Q168.751 638.01 166.482 637.639 Q164.237 637.269 161.829 636.528 L161.829 631.829 Q163.913 632.964 166.135 633.519 Q168.357 634.075 170.834 634.075 Q174.839 634.075 177.176 631.968 Q179.514 629.862 179.514 626.251 Q179.514 622.64 177.176 620.533 Q174.839 618.427 170.834 618.427 Q168.959 618.427 167.084 618.843 Q165.232 619.26 163.288 620.14 L163.288 602.779 Z\" fill=\"#000000\" fill-rule=\"nonzero\" fill-opacity=\"1\" /><path clip-path=\"url(#clip970)\" d=\"M129.862 351.407 L118.056 369.856 L129.862 369.856 L129.862 351.407 M128.635 347.333 L134.515 347.333 L134.515 369.856 L139.445 369.856 L139.445 373.745 L134.515 373.745 L134.515 381.893 L129.862 381.893 L129.862 373.745 L114.26 373.745 L114.26 369.231 L128.635 347.333 Z\" fill=\"#000000\" fill-rule=\"nonzero\" fill-opacity=\"1\" /><path clip-path=\"url(#clip970)\" d=\"M147.177 376.013 L152.061 376.013 L152.061 381.893 L147.177 381.893 L147.177 376.013 Z\" fill=\"#000000\" fill-rule=\"nonzero\" fill-opacity=\"1\" /><path clip-path=\"url(#clip970)\" d=\"M172.246 350.412 Q168.635 350.412 166.806 353.976 Q165.001 357.518 165.001 364.648 Q165.001 371.754 166.806 375.319 Q168.635 378.86 172.246 378.86 Q175.88 378.86 177.686 375.319 Q179.514 371.754 179.514 364.648 Q179.514 357.518 177.686 353.976 Q175.88 350.412 172.246 350.412 M172.246 346.708 Q178.056 346.708 181.112 351.314 Q184.19 355.898 184.19 364.648 Q184.19 373.374 181.112 377.981 Q178.056 382.564 172.246 382.564 Q166.436 382.564 163.357 377.981 Q160.302 373.374 160.302 364.648 Q160.302 355.898 163.357 351.314 Q166.436 346.708 172.246 346.708 Z\" fill=\"#000000\" fill-rule=\"nonzero\" fill-opacity=\"1\" /><path clip-path=\"url(#clip970)\" d=\"M16.4842 1064.65 L16.4842 1058.22 L58.5933 1058.22 L58.5933 1035.08 L64.0042 1035.08 L64.0042 1064.65 L16.4842 1064.65 Z\" fill=\"#000000\" fill-rule=\"nonzero\" fill-opacity=\"1\" /><path clip-path=\"url(#clip970)\" d=\"M46.0847 1012.39 Q46.0847 1019.49 47.7079 1022.23 Q49.3312 1024.96 53.2461 1024.96 Q56.3653 1024.96 58.2114 1022.93 Q60.0256 1020.86 60.0256 1017.32 Q60.0256 1012.45 56.5881 1009.53 Q53.1188 1006.57 47.3897 1006.57 L46.0847 1006.57 L46.0847 1012.39 M43.6657 1000.71 L64.0042 1000.71 L64.0042 1006.57 L58.5933 1006.57 Q61.8398 1008.57 63.3994 1011.56 Q64.9272 1014.55 64.9272 1018.88 Q64.9272 1024.36 61.8716 1027.6 Q58.7843 1030.82 53.6281 1030.82 Q47.6125 1030.82 44.5569 1026.81 Q41.5014 1022.77 41.5014 1014.78 L41.5014 1006.57 L40.9285 1006.57 Q36.8862 1006.57 34.6901 1009.24 Q32.4621 1011.88 32.4621 1016.69 Q32.4621 1019.74 33.1941 1022.64 Q33.9262 1025.54 35.3903 1028.21 L29.9795 1028.21 Q28.7381 1024.99 28.1334 1021.97 Q27.4968 1018.95 27.4968 1016.08 Q27.4968 1008.35 31.5072 1004.53 Q35.5176 1000.71 43.6657 1000.71 Z\" fill=\"#000000\" fill-rule=\"nonzero\" fill-opacity=\"1\" /><path clip-path=\"url(#clip970)\" d=\"M33.8307 967.989 Q33.2578 968.976 33.0032 970.154 Q32.7167 971.299 32.7167 972.7 Q32.7167 977.665 35.9632 980.339 Q39.1779 982.981 45.2253 982.981 L64.0042 982.981 L64.0042 988.869 L28.3562 988.869 L28.3562 982.981 L33.8944 982.981 Q30.6479 981.134 29.0883 978.174 Q27.4968 975.214 27.4968 970.981 Q27.4968 970.376 27.5923 969.644 Q27.656 968.912 27.8151 968.021 L33.8307 967.989 Z\" fill=\"#000000\" fill-rule=\"nonzero\" fill-opacity=\"1\" /><path clip-path=\"url(#clip970)\" d=\"M45.7664 939.535 Q39.4007 939.535 35.8996 942.176 Q32.3984 944.786 32.3984 949.529 Q32.3984 954.239 35.8996 956.881 Q39.4007 959.491 45.7664 959.491 Q52.1003 959.491 55.6014 956.881 Q59.1026 954.239 59.1026 949.529 Q59.1026 944.786 55.6014 942.176 Q52.1003 939.535 45.7664 939.535 M59.58 933.678 Q68.683 933.678 73.1071 937.72 Q77.5631 941.763 77.5631 950.102 Q77.5631 953.189 77.0857 955.926 Q76.6401 958.664 75.6852 961.242 L69.9879 961.242 Q71.3884 958.664 72.0568 956.149 Q72.7252 953.635 72.7252 951.025 Q72.7252 945.264 69.7015 942.399 Q66.7096 939.535 60.6303 939.535 L57.7339 939.535 Q60.885 941.349 62.4446 944.182 Q64.0042 947.014 64.0042 950.961 Q64.0042 957.518 59.0071 961.528 Q54.01 965.538 45.7664 965.538 Q37.491 965.538 32.4939 961.528 Q27.4968 957.518 27.4968 950.961 Q27.4968 947.014 29.0564 944.182 Q30.616 941.349 33.7671 939.535 L28.3562 939.535 L28.3562 933.678 L59.58 933.678 Z\" fill=\"#000000\" fill-rule=\"nonzero\" fill-opacity=\"1\" /><path clip-path=\"url(#clip970)\" d=\"M49.9359 922.22 L28.3562 922.22 L28.3562 916.363 L49.7131 916.363 Q54.7739 916.363 57.3202 914.39 Q59.8346 912.417 59.8346 908.47 Q59.8346 903.727 56.8109 900.99 Q53.7872 898.221 48.5673 898.221 L28.3562 898.221 L28.3562 892.365 L64.0042 892.365 L64.0042 898.221 L58.5296 898.221 Q61.7762 900.354 63.3676 903.186 Q64.9272 905.987 64.9272 909.711 Q64.9272 915.854 61.1078 919.037 Q57.2883 922.22 49.9359 922.22 M27.4968 907.483 L27.4968 907.483 Z\" fill=\"#000000\" fill-rule=\"nonzero\" fill-opacity=\"1\" /><path clip-path=\"url(#clip970)\" d=\"M33.8307 859.645 Q33.2578 860.632 33.0032 861.809 Q32.7167 862.955 32.7167 864.356 Q32.7167 869.321 35.9632 871.994 Q39.1779 874.636 45.2253 874.636 L64.0042 874.636 L64.0042 880.524 L28.3562 880.524 L28.3562 874.636 L33.8944 874.636 Q30.6479 872.79 29.0883 869.83 Q27.4968 866.87 27.4968 862.637 Q27.4968 862.032 27.5923 861.3 Q27.656 860.568 27.8151 859.677 L33.8307 859.645 Z\" fill=\"#000000\" fill-rule=\"nonzero\" fill-opacity=\"1\" /><path clip-path=\"url(#clip970)\" d=\"M46.0847 837.301 Q46.0847 844.399 47.7079 847.136 Q49.3312 849.874 53.2461 849.874 Q56.3653 849.874 58.2114 847.837 Q60.0256 845.768 60.0256 842.235 Q60.0256 837.365 56.5881 834.437 Q53.1188 831.477 47.3897 831.477 L46.0847 831.477 L46.0847 837.301 M43.6657 825.62 L64.0042 825.62 L64.0042 831.477 L58.5933 831.477 Q61.8398 833.482 63.3994 836.474 Q64.9272 839.466 64.9272 843.794 Q64.9272 849.269 61.8716 852.515 Q58.7843 855.73 53.6281 855.73 Q47.6125 855.73 44.5569 851.72 Q41.5014 847.677 41.5014 839.688 L41.5014 831.477 L40.9285 831.477 Q36.8862 831.477 34.6901 834.15 Q32.4621 836.792 32.4621 841.598 Q32.4621 844.654 33.1941 847.55 Q33.9262 850.447 35.3903 853.12 L29.9795 853.12 Q28.7381 849.905 28.1334 846.882 Q27.4968 843.858 27.4968 840.993 Q27.4968 833.259 31.5072 829.44 Q35.5176 825.62 43.6657 825.62 Z\" fill=\"#000000\" fill-rule=\"nonzero\" fill-opacity=\"1\" /><path clip-path=\"url(#clip970)\" d=\"M33.7671 769.379 L14.479 769.379 L14.479 763.523 L64.0042 763.523 L64.0042 769.379 L58.657 769.379 Q61.8398 771.225 63.3994 774.058 Q64.9272 776.859 64.9272 780.806 Q64.9272 787.267 59.771 791.341 Q54.6147 795.383 46.212 795.383 Q37.8093 795.383 32.6531 791.341 Q27.4968 787.267 27.4968 780.806 Q27.4968 776.859 29.0564 774.058 Q30.5842 771.225 33.7671 769.379 M46.212 789.336 Q52.6732 789.336 56.3653 786.694 Q60.0256 784.02 60.0256 779.373 Q60.0256 774.726 56.3653 772.053 Q52.6732 769.379 46.212 769.379 Q39.7508 769.379 36.0905 772.053 Q32.3984 774.726 32.3984 779.373 Q32.3984 784.02 36.0905 786.694 Q39.7508 789.336 46.212 789.336 Z\" fill=\"#000000\" fill-rule=\"nonzero\" fill-opacity=\"1\" /><path clip-path=\"url(#clip970)\" d=\"M46.0847 735.259 Q46.0847 742.357 47.7079 745.094 Q49.3312 747.831 53.2461 747.831 Q56.3653 747.831 58.2114 745.794 Q60.0256 743.725 60.0256 740.192 Q60.0256 735.323 56.5881 732.394 Q53.1188 729.434 47.3897 729.434 L46.0847 729.434 L46.0847 735.259 M43.6657 723.578 L64.0042 723.578 L64.0042 729.434 L58.5933 729.434 Q61.8398 731.44 63.3994 734.432 Q64.9272 737.423 64.9272 741.752 Q64.9272 747.227 61.8716 750.473 Q58.7843 753.688 53.6281 753.688 Q47.6125 753.688 44.5569 749.677 Q41.5014 745.635 41.5014 737.646 L41.5014 729.434 L40.9285 729.434 Q36.8862 729.434 34.6901 732.108 Q32.4621 734.75 32.4621 739.556 Q32.4621 742.611 33.1941 745.508 Q33.9262 748.404 35.3903 751.078 L29.9795 751.078 Q28.7381 747.863 28.1334 744.839 Q27.4968 741.816 27.4968 738.951 Q27.4968 731.217 31.5072 727.397 Q35.5176 723.578 43.6657 723.578 Z\" fill=\"#000000\" fill-rule=\"nonzero\" fill-opacity=\"1\" /><path clip-path=\"url(#clip970)\" d=\"M18.0438 662.053 L24.314 662.053 Q22.5634 665.714 21.704 668.96 Q20.8447 672.207 20.8447 675.23 Q20.8447 680.482 22.8817 683.347 Q24.9187 686.179 28.6745 686.179 Q31.8255 686.179 33.4488 684.302 Q35.0402 682.392 36.0269 677.108 L36.8226 673.225 Q38.1912 666.032 41.6605 662.626 Q45.098 659.189 50.8908 659.189 Q57.7976 659.189 61.3624 663.836 Q64.9272 668.451 64.9272 677.395 Q64.9272 680.769 64.1633 684.588 Q63.3994 688.376 61.9035 692.45 L55.2831 692.45 Q57.4793 688.535 58.5933 684.779 Q59.7073 681.023 59.7073 677.395 Q59.7073 671.888 57.543 668.897 Q55.3786 665.905 51.3682 665.905 Q47.8671 665.905 45.8937 668.069 Q43.9204 670.202 42.9337 675.103 L42.1698 679.018 Q40.7375 686.211 37.682 689.426 Q34.6264 692.641 29.1837 692.641 Q22.8817 692.641 19.2532 688.216 Q15.6248 683.76 15.6248 675.963 Q15.6248 672.621 16.2295 669.151 Q16.8343 665.682 18.0438 662.053 Z\" fill=\"#000000\" fill-rule=\"nonzero\" fill-opacity=\"1\" /><path clip-path=\"url(#clip970)\" d=\"M44.7161 618.926 L47.5806 618.926 L47.5806 645.853 Q53.6281 645.471 56.8109 642.224 Q59.9619 638.946 59.9619 633.121 Q59.9619 629.747 59.1344 626.596 Q58.3069 623.414 56.6518 620.294 L62.1899 620.294 Q63.5267 623.445 64.227 626.756 Q64.9272 630.066 64.9272 633.471 Q64.9272 642.001 59.9619 646.999 Q54.9967 651.964 46.5303 651.964 Q37.7774 651.964 32.6531 647.253 Q27.4968 642.511 27.4968 634.49 Q27.4968 627.297 32.1438 623.127 Q36.7589 618.926 44.7161 618.926 M42.9973 624.782 Q38.1912 624.846 35.3266 627.488 Q32.4621 630.098 32.4621 634.426 Q32.4621 639.328 35.2312 642.288 Q38.0002 645.216 43.0292 645.662 L42.9973 624.782 M11.869 630.416 L11.869 624.082 L23.8365 634.458 L23.8365 639.328 L11.869 630.416 Z\" fill=\"#000000\" fill-rule=\"nonzero\" fill-opacity=\"1\" /><path clip-path=\"url(#clip970)\" d=\"M58.657 603.648 L77.5631 603.648 L77.5631 609.536 L28.3562 609.536 L28.3562 603.648 L33.7671 603.648 Q30.5842 601.802 29.0564 599.001 Q27.4968 596.168 27.4968 592.253 Q27.4968 585.76 32.6531 581.718 Q37.8093 577.644 46.212 577.644 Q54.6147 577.644 59.771 581.718 Q64.9272 585.76 64.9272 592.253 Q64.9272 596.168 63.3994 599.001 Q61.8398 601.802 58.657 603.648 M46.212 583.723 Q39.7508 583.723 36.0905 586.397 Q32.3984 589.039 32.3984 593.686 Q32.3984 598.333 36.0905 601.006 Q39.7508 603.648 46.212 603.648 Q52.6732 603.648 56.3653 601.006 Q60.0256 598.333 60.0256 593.686 Q60.0256 589.039 56.3653 586.397 Q52.6732 583.723 46.212 583.723 Z\" fill=\"#000000\" fill-rule=\"nonzero\" fill-opacity=\"1\" /><path clip-path=\"url(#clip970)\" d=\"M46.0847 551.736 Q46.0847 558.833 47.7079 561.571 Q49.3312 564.308 53.2461 564.308 Q56.3653 564.308 58.2114 562.271 Q60.0256 560.202 60.0256 556.669 Q60.0256 551.799 56.5881 548.871 Q53.1188 545.911 47.3897 545.911 L46.0847 545.911 L46.0847 551.736 M43.6657 540.055 L64.0042 540.055 L64.0042 545.911 L58.5933 545.911 Q61.8398 547.916 63.3994 550.908 Q64.9272 553.9 64.9272 558.229 Q64.9272 563.703 61.8716 566.95 Q58.7843 570.164 53.6281 570.164 Q47.6125 570.164 44.5569 566.154 Q41.5014 562.112 41.5014 554.123 L41.5014 545.911 L40.9285 545.911 Q36.8862 545.911 34.6901 548.585 Q32.4621 551.226 32.4621 556.033 Q32.4621 559.088 33.1941 561.985 Q33.9262 564.881 35.3903 567.555 L29.9795 567.555 Q28.7381 564.34 28.1334 561.316 Q27.4968 558.292 27.4968 555.428 Q27.4968 547.694 31.5072 543.874 Q35.5176 540.055 43.6657 540.055 Z\" fill=\"#000000\" fill-rule=\"nonzero\" fill-opacity=\"1\" /><path clip-path=\"url(#clip970)\" d=\"M14.479 527.992 L14.479 522.135 L64.0042 522.135 L64.0042 527.992 L14.479 527.992 Z\" fill=\"#000000\" fill-rule=\"nonzero\" fill-opacity=\"1\" /><path clip-path=\"url(#clip970)\" d=\"M46.0847 493.68 Q46.0847 500.778 47.7079 503.516 Q49.3312 506.253 53.2461 506.253 Q56.3653 506.253 58.2114 504.216 Q60.0256 502.147 60.0256 498.614 Q60.0256 493.744 56.5881 490.816 Q53.1188 487.856 47.3897 487.856 L46.0847 487.856 L46.0847 493.68 M43.6657 481.999 L64.0042 481.999 L64.0042 487.856 L58.5933 487.856 Q61.8398 489.861 63.3994 492.853 Q64.9272 495.845 64.9272 500.174 Q64.9272 505.648 61.8716 508.895 Q58.7843 512.109 53.6281 512.109 Q47.6125 512.109 44.5569 508.099 Q41.5014 504.057 41.5014 496.068 L41.5014 487.856 L40.9285 487.856 Q36.8862 487.856 34.6901 490.529 Q32.4621 493.171 32.4621 497.977 Q32.4621 501.033 33.1941 503.929 Q33.9262 506.826 35.3903 509.499 L29.9795 509.499 Q28.7381 506.285 28.1334 503.261 Q27.4968 500.237 27.4968 497.373 Q27.4968 489.638 31.5072 485.819 Q35.5176 481.999 43.6657 481.999 Z\" fill=\"#000000\" fill-rule=\"nonzero\" fill-opacity=\"1\" /><path clip-path=\"url(#clip970)\" d=\"M332.283 44.2197 Q334.916 45.1109 337.387 48.0275 Q339.898 50.9442 342.41 56.0483 L350.714 72.576 L341.924 72.576 L334.187 57.061 Q331.189 50.9847 328.353 48.9997 Q325.558 47.0148 320.697 47.0148 L311.785 47.0148 L311.785 72.576 L303.602 72.576 L303.602 12.096 L322.074 12.096 Q332.445 12.096 337.549 16.4305 Q342.653 20.7649 342.653 29.5149 Q342.653 35.2267 339.979 38.994 Q337.346 42.7613 332.283 44.2197 M311.785 18.8205 L311.785 40.2903 L322.074 40.2903 Q327.989 40.2903 330.986 37.5762 Q334.025 34.8216 334.025 29.5149 Q334.025 24.2082 330.986 21.5346 Q327.989 18.8205 322.074 18.8205 L311.785 18.8205 Z\" fill=\"#000000\" fill-rule=\"nonzero\" fill-opacity=\"1\" /><path clip-path=\"url(#clip970)\" d=\"M396.003 48.0275 L396.003 51.6733 L361.733 51.6733 Q362.219 59.3701 366.351 63.421 Q370.523 67.4314 377.936 67.4314 Q382.23 67.4314 386.241 66.3781 Q390.292 65.3249 394.261 63.2184 L394.261 70.267 Q390.251 71.9684 386.038 72.8596 Q381.825 73.7508 377.491 73.7508 Q366.634 73.7508 360.274 67.4314 Q353.955 61.1119 353.955 50.3365 Q353.955 39.1965 359.95 32.6746 Q365.986 26.1121 376.194 26.1121 Q385.349 26.1121 390.656 32.0264 Q396.003 37.9003 396.003 48.0275 M388.55 45.84 Q388.469 39.7232 385.106 36.0774 Q381.785 32.4315 376.275 32.4315 Q370.037 32.4315 366.27 35.9558 Q362.543 39.4801 361.976 45.8805 L388.55 45.84 Z\" fill=\"#000000\" fill-rule=\"nonzero\" fill-opacity=\"1\" /><path clip-path=\"url(#clip970)\" d=\"M408.237 9.54393 L415.691 9.54393 L415.691 72.576 L408.237 72.576 L408.237 9.54393 Z\" fill=\"#000000\" fill-rule=\"nonzero\" fill-opacity=\"1\" /><path clip-path=\"url(#clip970)\" d=\"M451.906 49.7694 Q442.872 49.7694 439.389 51.8354 Q435.905 53.9013 435.905 58.8839 Q435.905 62.8538 438.497 65.2034 Q441.13 67.5124 445.627 67.5124 Q451.825 67.5124 455.552 63.1374 Q459.319 58.7219 459.319 51.4303 L459.319 49.7694 L451.906 49.7694 M466.773 46.6907 L466.773 72.576 L459.319 72.576 L459.319 65.6895 Q456.767 69.8214 452.959 71.8063 Q449.151 73.7508 443.642 73.7508 Q436.674 73.7508 432.543 69.8619 Q428.451 65.9325 428.451 59.3701 Q428.451 51.7138 433.555 47.825 Q438.7 43.9361 448.868 43.9361 L459.319 43.9361 L459.319 43.2069 Q459.319 38.0623 455.916 35.2672 Q452.554 32.4315 446.437 32.4315 Q442.548 32.4315 438.862 33.3632 Q435.176 34.295 431.773 36.1584 L431.773 29.2718 Q435.864 27.692 439.713 26.9223 Q443.561 26.1121 447.207 26.1121 Q457.05 26.1121 461.912 31.2163 Q466.773 36.3204 466.773 46.6907 Z\" fill=\"#000000\" fill-rule=\"nonzero\" fill-opacity=\"1\" /><path clip-path=\"url(#clip970)\" d=\"M514.776 28.9478 L514.776 35.9153 Q511.616 34.1734 508.416 33.3227 Q505.256 32.4315 502.016 32.4315 Q494.764 32.4315 490.754 37.0496 Q486.744 41.6271 486.744 49.9314 Q486.744 58.2358 490.754 62.8538 Q494.764 67.4314 502.016 67.4314 Q505.256 67.4314 508.416 66.5807 Q511.616 65.6895 514.776 63.9476 L514.776 70.8341 Q511.657 72.2924 508.294 73.0216 Q504.973 73.7508 501.205 73.7508 Q490.957 73.7508 484.921 67.3098 Q478.885 60.8689 478.885 49.9314 Q478.885 38.832 484.961 32.472 Q491.078 26.1121 501.691 26.1121 Q505.135 26.1121 508.416 26.8413 Q511.697 27.5299 514.776 28.9478 M504.244 72.576 Q506.472 75.0876 507.565 77.194 Q508.659 79.341 508.659 81.2854 Q508.659 84.8907 506.228 86.7137 Q503.798 88.5771 499.018 88.5771 Q497.154 88.5771 495.372 88.334 Q493.63 88.091 491.888 87.6049 L491.888 82.2982 Q493.266 82.9868 494.764 83.2704 Q496.263 83.5945 498.167 83.5945 Q500.557 83.5945 501.772 82.6222 Q502.988 81.65 502.988 79.7866 Q502.988 78.5713 502.097 76.7889 Q501.246 75.0471 499.423 72.576 L504.244 72.576 Z\" fill=\"#000000\" fill-rule=\"nonzero\" fill-opacity=\"1\" /><path clip-path=\"url(#clip970)\" d=\"M548.358 49.7694 Q539.324 49.7694 535.841 51.8354 Q532.357 53.9013 532.357 58.8839 Q532.357 62.8538 534.949 65.2034 Q537.582 67.5124 542.079 67.5124 Q548.277 67.5124 552.004 63.1374 Q555.771 58.7219 555.771 51.4303 L555.771 49.7694 L548.358 49.7694 M563.225 46.6907 L563.225 72.576 L555.771 72.576 L555.771 65.6895 Q553.219 69.8214 549.411 71.8063 Q545.603 73.7508 540.094 73.7508 Q533.126 73.7508 528.995 69.8619 Q524.903 65.9325 524.903 59.3701 Q524.903 51.7138 530.007 47.825 Q535.152 43.9361 545.32 43.9361 L555.771 43.9361 L555.771 43.2069 Q555.771 38.0623 552.368 35.2672 Q549.006 32.4315 542.889 32.4315 Q539 32.4315 535.314 33.3632 Q531.628 34.295 528.225 36.1584 L528.225 29.2718 Q532.316 27.692 536.165 26.9223 Q540.013 26.1121 543.659 26.1121 Q553.503 26.1121 558.364 31.2163 Q563.225 36.3204 563.225 46.6907 M543.821 17.0786 L541.512 14.8506 Q540.621 14.0404 539.932 13.6759 Q539.284 13.2708 538.757 13.2708 Q537.218 13.2708 536.489 14.7696 Q535.76 16.2279 535.679 19.5497 L530.615 19.5497 Q530.696 14.0809 532.762 11.1238 Q534.828 8.12611 538.514 8.12611 Q540.054 8.12611 541.35 8.69324 Q542.646 9.26037 544.145 10.5972 L546.454 12.8252 Q547.345 13.6353 547.993 14.0404 Q548.682 14.405 549.209 14.405 Q550.748 14.405 551.477 12.9467 Q552.206 11.4479 552.287 8.12611 L557.351 8.12611 Q557.27 13.5948 555.204 16.5925 Q553.138 19.5497 549.452 19.5497 Q547.912 19.5497 546.616 18.9825 Q545.32 18.4154 543.821 17.0786 Z\" fill=\"#000000\" fill-rule=\"nonzero\" fill-opacity=\"1\" /><path clip-path=\"url(#clip970)\" d=\"M596.159 32.4315 Q590.163 32.4315 586.679 37.1306 Q583.196 41.7891 583.196 49.9314 Q583.196 58.0738 586.639 62.7728 Q590.123 67.4314 596.159 67.4314 Q602.113 67.4314 605.597 62.7323 Q609.081 58.0333 609.081 49.9314 Q609.081 41.8701 605.597 37.1711 Q602.113 32.4315 596.159 32.4315 M596.159 26.1121 Q605.881 26.1121 611.43 32.4315 Q616.98 38.7509 616.98 49.9314 Q616.98 61.0714 611.43 67.4314 Q605.881 73.7508 596.159 73.7508 Q586.396 73.7508 580.846 67.4314 Q575.337 61.0714 575.337 49.9314 Q575.337 38.7509 580.846 32.4315 Q586.396 26.1121 596.159 26.1121 Z\" fill=\"#000000\" fill-rule=\"nonzero\" fill-opacity=\"1\" /><path clip-path=\"url(#clip970)\" d=\"M694.514 48.0275 L694.514 51.6733 L660.244 51.6733 Q660.73 59.3701 664.862 63.421 Q669.034 67.4314 676.447 67.4314 Q680.741 67.4314 684.752 66.3781 Q688.803 65.3249 692.773 63.2184 L692.773 70.267 Q688.762 71.9684 684.549 72.8596 Q680.336 73.7508 676.002 73.7508 Q665.145 73.7508 658.786 67.4314 Q652.466 61.1119 652.466 50.3365 Q652.466 39.1965 658.461 32.6746 Q664.497 26.1121 674.706 26.1121 Q683.861 26.1121 689.167 32.0264 Q694.514 37.9003 694.514 48.0275 M687.061 45.84 Q686.98 39.7232 683.618 36.0774 Q680.296 32.4315 674.787 32.4315 Q668.548 32.4315 664.781 35.9558 Q661.054 39.4801 660.487 45.8805 L687.061 45.84 Z\" fill=\"#000000\" fill-rule=\"nonzero\" fill-opacity=\"1\" /><path clip-path=\"url(#clip970)\" d=\"M744.462 45.1919 L744.462 72.576 L737.008 72.576 L737.008 45.4349 Q737.008 38.994 734.497 35.7938 Q731.985 32.5936 726.962 32.5936 Q720.926 32.5936 717.443 36.4419 Q713.959 40.2903 713.959 46.9338 L713.959 72.576 L706.465 72.576 L706.465 27.2059 L713.959 27.2059 L713.959 34.2544 Q716.632 30.163 720.238 28.1376 Q723.884 26.1121 728.623 26.1121 Q736.441 26.1121 740.452 30.9732 Q744.462 35.7938 744.462 45.1919 Z\" fill=\"#000000\" fill-rule=\"nonzero\" fill-opacity=\"1\" /><path clip-path=\"url(#clip970)\" d=\"M766.702 14.324 L766.702 27.2059 L782.055 27.2059 L782.055 32.9987 L766.702 32.9987 L766.702 57.6282 Q766.702 63.1779 768.2 64.7578 Q769.74 66.3376 774.398 66.3376 L782.055 66.3376 L782.055 72.576 L774.398 72.576 Q765.77 72.576 762.489 69.3758 Q759.207 66.1351 759.207 57.6282 L759.207 32.9987 L753.739 32.9987 L753.739 27.2059 L759.207 27.2059 L759.207 14.324 L766.702 14.324 Z\" fill=\"#000000\" fill-rule=\"nonzero\" fill-opacity=\"1\" /><path clip-path=\"url(#clip970)\" d=\"M818.148 34.1734 Q816.892 33.4443 815.393 33.1202 Q813.935 32.7556 812.153 32.7556 Q805.833 32.7556 802.431 36.8875 Q799.068 40.9789 799.068 48.6757 L799.068 72.576 L791.574 72.576 L791.574 27.2059 L799.068 27.2059 L799.068 34.2544 Q801.418 30.1225 805.185 28.1376 Q808.953 26.1121 814.34 26.1121 Q815.11 26.1121 816.042 26.2337 Q816.973 26.3147 818.108 26.5172 L818.148 34.1734 Z\" fill=\"#000000\" fill-rule=\"nonzero\" fill-opacity=\"1\" /><path clip-path=\"url(#clip970)\" d=\"M862.951 48.0275 L862.951 51.6733 L828.68 51.6733 Q829.167 59.3701 833.298 63.421 Q837.471 67.4314 844.884 67.4314 Q849.178 67.4314 853.188 66.3781 Q857.239 65.3249 861.209 63.2184 L861.209 70.267 Q857.199 71.9684 852.986 72.8596 Q848.773 73.7508 844.438 73.7508 Q833.582 73.7508 827.222 67.4314 Q820.903 61.1119 820.903 50.3365 Q820.903 39.1965 826.898 32.6746 Q832.934 26.1121 843.142 26.1121 Q852.297 26.1121 857.604 32.0264 Q862.951 37.9003 862.951 48.0275 M855.497 45.84 Q855.416 39.7232 852.054 36.0774 Q848.732 32.4315 843.223 32.4315 Q836.985 32.4315 833.217 35.9558 Q829.491 39.4801 828.923 45.8805 L855.497 45.84 Z\" fill=\"#000000\" fill-rule=\"nonzero\" fill-opacity=\"1\" /><path clip-path=\"url(#clip970)\" d=\"M934.206 28.9478 L934.206 35.9153 Q931.047 34.1734 927.847 33.3227 Q924.687 32.4315 921.446 32.4315 Q914.195 32.4315 910.185 37.0496 Q906.174 41.6271 906.174 49.9314 Q906.174 58.2358 910.185 62.8538 Q914.195 67.4314 921.446 67.4314 Q924.687 67.4314 927.847 66.5807 Q931.047 65.6895 934.206 63.9476 L934.206 70.8341 Q931.087 72.2924 927.725 73.0216 Q924.403 73.7508 920.636 73.7508 Q910.387 73.7508 904.351 67.3098 Q898.315 60.8689 898.315 49.9314 Q898.315 38.832 904.392 32.472 Q910.509 26.1121 921.122 26.1121 Q924.565 26.1121 927.847 26.8413 Q931.128 27.5299 934.206 28.9478 Z\" fill=\"#000000\" fill-rule=\"nonzero\" fill-opacity=\"1\" /><path clip-path=\"url(#clip970)\" d=\"M964.75 32.4315 Q958.755 32.4315 955.271 37.1306 Q951.787 41.7891 951.787 49.9314 Q951.787 58.0738 955.231 62.7728 Q958.714 67.4314 964.75 67.4314 Q970.705 67.4314 974.189 62.7323 Q977.673 58.0333 977.673 49.9314 Q977.673 41.8701 974.189 37.1711 Q970.705 32.4315 964.75 32.4315 M964.75 26.1121 Q974.472 26.1121 980.022 32.4315 Q985.572 38.7509 985.572 49.9314 Q985.572 61.0714 980.022 67.4314 Q974.472 73.7508 964.75 73.7508 Q954.988 73.7508 949.438 67.4314 Q943.929 61.0714 943.929 49.9314 Q943.929 38.7509 949.438 32.4315 Q954.988 26.1121 964.75 26.1121 Z\" fill=\"#000000\" fill-rule=\"nonzero\" fill-opacity=\"1\" /><path clip-path=\"url(#clip970)\" d=\"M1033.25 35.9153 Q1036.05 30.8922 1039.94 28.5022 Q1043.82 26.1121 1049.09 26.1121 Q1056.18 26.1121 1060.03 31.0947 Q1063.88 36.0368 1063.88 45.1919 L1063.88 72.576 L1056.38 72.576 L1056.38 45.4349 Q1056.38 38.913 1054.07 35.7533 Q1051.76 32.5936 1047.02 32.5936 Q1041.23 32.5936 1037.87 36.4419 Q1034.51 40.2903 1034.51 46.9338 L1034.51 72.576 L1027.01 72.576 L1027.01 45.4349 Q1027.01 38.8725 1024.7 35.7533 Q1022.39 32.5936 1017.57 32.5936 Q1011.86 32.5936 1008.5 36.4824 Q1005.14 40.3308 1005.14 46.9338 L1005.14 72.576 L997.644 72.576 L997.644 27.2059 L1005.14 27.2059 L1005.14 34.2544 Q1007.69 30.082 1011.25 28.0971 Q1014.82 26.1121 1019.72 26.1121 Q1024.66 26.1121 1028.11 28.6237 Q1031.59 31.1352 1033.25 35.9153 Z\" fill=\"#000000\" fill-rule=\"nonzero\" fill-opacity=\"1\" /><path clip-path=\"url(#clip970)\" d=\"M1085.95 65.7705 L1085.95 89.8329 L1078.46 89.8329 L1078.46 27.2059 L1085.95 27.2059 L1085.95 34.0924 Q1088.3 30.0415 1091.87 28.0971 Q1095.47 26.1121 1100.46 26.1121 Q1108.72 26.1121 1113.86 32.6746 Q1119.05 39.2371 1119.05 49.9314 Q1119.05 60.6258 1113.86 67.1883 Q1108.72 73.7508 1100.46 73.7508 Q1095.47 73.7508 1091.87 71.8063 Q1088.3 69.8214 1085.95 65.7705 M1111.31 49.9314 Q1111.31 41.7081 1107.91 37.0496 Q1104.55 32.3505 1098.63 32.3505 Q1092.72 32.3505 1089.32 37.0496 Q1085.95 41.7081 1085.95 49.9314 Q1085.95 58.1548 1089.32 62.8538 Q1092.72 67.5124 1098.63 67.5124 Q1104.55 67.5124 1107.91 62.8538 Q1111.31 58.1548 1111.31 49.9314 Z\" fill=\"#000000\" fill-rule=\"nonzero\" fill-opacity=\"1\" /><path clip-path=\"url(#clip970)\" d=\"M1157.69 34.1734 Q1156.44 33.4443 1154.94 33.1202 Q1153.48 32.7556 1151.7 32.7556 Q1145.38 32.7556 1141.98 36.8875 Q1138.62 40.9789 1138.62 48.6757 L1138.62 72.576 L1131.12 72.576 L1131.12 27.2059 L1138.62 27.2059 L1138.62 34.2544 Q1140.96 30.1225 1144.73 28.1376 Q1148.5 26.1121 1153.89 26.1121 Q1154.66 26.1121 1155.59 26.2337 Q1156.52 26.3147 1157.65 26.5172 L1157.69 34.1734 Z\" fill=\"#000000\" fill-rule=\"nonzero\" fill-opacity=\"1\" /><path clip-path=\"url(#clip970)\" d=\"M1165.51 27.2059 L1172.97 27.2059 L1172.97 72.576 L1165.51 72.576 L1165.51 27.2059 M1165.51 9.54393 L1172.97 9.54393 L1172.97 18.9825 L1165.51 18.9825 L1165.51 9.54393 Z\" fill=\"#000000\" fill-rule=\"nonzero\" fill-opacity=\"1\" /><path clip-path=\"url(#clip970)\" d=\"M1223.89 35.9153 Q1226.68 30.8922 1230.57 28.5022 Q1234.46 26.1121 1239.73 26.1121 Q1246.81 26.1121 1250.66 31.0947 Q1254.51 36.0368 1254.51 45.1919 L1254.51 72.576 L1247.02 72.576 L1247.02 45.4349 Q1247.02 38.913 1244.71 35.7533 Q1242.4 32.5936 1237.66 32.5936 Q1231.87 32.5936 1228.5 36.4419 Q1225.14 40.2903 1225.14 46.9338 L1225.14 72.576 L1217.65 72.576 L1217.65 45.4349 Q1217.65 38.8725 1215.34 35.7533 Q1213.03 32.5936 1208.21 32.5936 Q1202.5 32.5936 1199.14 36.4824 Q1195.77 40.3308 1195.77 46.9338 L1195.77 72.576 L1188.28 72.576 L1188.28 27.2059 L1195.77 27.2059 L1195.77 34.2544 Q1198.33 30.082 1201.89 28.0971 Q1205.46 26.1121 1210.36 26.1121 Q1215.3 26.1121 1218.74 28.6237 Q1222.23 31.1352 1223.89 35.9153 Z\" fill=\"#000000\" fill-rule=\"nonzero\" fill-opacity=\"1\" /><path clip-path=\"url(#clip970)\" d=\"M1308.19 48.0275 L1308.19 51.6733 L1273.92 51.6733 Q1274.4 59.3701 1278.53 63.421 Q1282.71 67.4314 1290.12 67.4314 Q1294.41 67.4314 1298.42 66.3781 Q1302.47 65.3249 1306.44 63.2184 L1306.44 70.267 Q1302.43 71.9684 1298.22 72.8596 Q1294.01 73.7508 1289.67 73.7508 Q1278.82 73.7508 1272.46 67.4314 Q1266.14 61.1119 1266.14 50.3365 Q1266.14 39.1965 1272.13 32.6746 Q1278.17 26.1121 1288.38 26.1121 Q1297.53 26.1121 1302.84 32.0264 Q1308.19 37.9003 1308.19 48.0275 M1300.73 45.84 Q1300.65 39.7232 1297.29 36.0774 Q1293.97 32.4315 1288.46 32.4315 Q1282.22 32.4315 1278.45 35.9558 Q1274.73 39.4801 1274.16 45.8805 L1300.73 45.84 Z\" fill=\"#000000\" fill-rule=\"nonzero\" fill-opacity=\"1\" /><path clip-path=\"url(#clip970)\" d=\"M1358.13 45.1919 L1358.13 72.576 L1350.68 72.576 L1350.68 45.4349 Q1350.68 38.994 1348.17 35.7938 Q1345.66 32.5936 1340.63 32.5936 Q1334.6 32.5936 1331.11 36.4419 Q1327.63 40.2903 1327.63 46.9338 L1327.63 72.576 L1320.14 72.576 L1320.14 27.2059 L1327.63 27.2059 L1327.63 34.2544 Q1330.3 30.163 1333.91 28.1376 Q1337.56 26.1121 1342.29 26.1121 Q1350.11 26.1121 1354.12 30.9732 Q1358.13 35.7938 1358.13 45.1919 Z\" fill=\"#000000\" fill-rule=\"nonzero\" fill-opacity=\"1\" /><path clip-path=\"url(#clip970)\" d=\"M1380.37 14.324 L1380.37 27.2059 L1395.73 27.2059 L1395.73 32.9987 L1380.37 32.9987 L1380.37 57.6282 Q1380.37 63.1779 1381.87 64.7578 Q1383.41 66.3376 1388.07 66.3376 L1395.73 66.3376 L1395.73 72.576 L1388.07 72.576 Q1379.44 72.576 1376.16 69.3758 Q1372.88 66.1351 1372.88 57.6282 L1372.88 32.9987 L1367.41 32.9987 L1367.41 27.2059 L1372.88 27.2059 L1372.88 14.324 L1380.37 14.324 Z\" fill=\"#000000\" fill-rule=\"nonzero\" fill-opacity=\"1\" /><path clip-path=\"url(#clip970)\" d=\"M1423.11 32.4315 Q1417.11 32.4315 1413.63 37.1306 Q1410.15 41.7891 1410.15 49.9314 Q1410.15 58.0738 1413.59 62.7728 Q1417.07 67.4314 1423.11 67.4314 Q1429.06 67.4314 1432.55 62.7323 Q1436.03 58.0333 1436.03 49.9314 Q1436.03 41.8701 1432.55 37.1711 Q1429.06 32.4315 1423.11 32.4315 M1423.11 26.1121 Q1432.83 26.1121 1438.38 32.4315 Q1443.93 38.7509 1443.93 49.9314 Q1443.93 61.0714 1438.38 67.4314 Q1432.83 73.7508 1423.11 73.7508 Q1413.35 73.7508 1407.8 67.4314 Q1402.29 61.0714 1402.29 49.9314 Q1402.29 38.7509 1407.8 32.4315 Q1413.35 26.1121 1423.11 26.1121 Z\" fill=\"#000000\" fill-rule=\"nonzero\" fill-opacity=\"1\" /><path clip-path=\"url(#clip970)\" d=\"M1521.47 48.0275 L1521.47 51.6733 L1487.2 51.6733 Q1487.68 59.3701 1491.81 63.421 Q1495.99 67.4314 1503.4 67.4314 Q1507.69 67.4314 1511.7 66.3781 Q1515.75 65.3249 1519.72 63.2184 L1519.72 70.267 Q1515.71 71.9684 1511.5 72.8596 Q1507.29 73.7508 1502.95 73.7508 Q1492.1 73.7508 1485.74 67.4314 Q1479.42 61.1119 1479.42 50.3365 Q1479.42 39.1965 1485.41 32.6746 Q1491.45 26.1121 1501.66 26.1121 Q1510.81 26.1121 1516.12 32.0264 Q1521.47 37.9003 1521.47 48.0275 M1514.01 45.84 Q1513.93 39.7232 1510.57 36.0774 Q1507.25 32.4315 1501.74 32.4315 Q1495.5 32.4315 1491.73 35.9558 Q1488.01 39.4801 1487.44 45.8805 L1514.01 45.84 Z\" fill=\"#000000\" fill-rule=\"nonzero\" fill-opacity=\"1\" /><path clip-path=\"url(#clip970)\" d=\"M1560.07 9.54393 L1567.52 9.54393 L1567.52 72.576 L1560.07 72.576 L1560.07 9.54393 Z\" fill=\"#000000\" fill-rule=\"nonzero\" fill-opacity=\"1\" /><path clip-path=\"url(#clip970)\" d=\"M1603.74 49.7694 Q1594.71 49.7694 1591.22 51.8354 Q1587.74 53.9013 1587.74 58.8839 Q1587.74 62.8538 1590.33 65.2034 Q1592.96 67.5124 1597.46 67.5124 Q1603.66 67.5124 1607.39 63.1374 Q1611.15 58.7219 1611.15 51.4303 L1611.15 49.7694 L1603.74 49.7694 M1618.61 46.6907 L1618.61 72.576 L1611.15 72.576 L1611.15 65.6895 Q1608.6 69.8214 1604.79 71.8063 Q1600.99 73.7508 1595.48 73.7508 Q1588.51 73.7508 1584.38 69.8619 Q1580.29 65.9325 1580.29 59.3701 Q1580.29 51.7138 1585.39 47.825 Q1590.53 43.9361 1600.7 43.9361 L1611.15 43.9361 L1611.15 43.2069 Q1611.15 38.0623 1607.75 35.2672 Q1604.39 32.4315 1598.27 32.4315 Q1594.38 32.4315 1590.7 33.3632 Q1587.01 34.295 1583.61 36.1584 L1583.61 29.2718 Q1587.7 27.692 1591.55 26.9223 Q1595.4 26.1121 1599.04 26.1121 Q1608.88 26.1121 1613.75 31.2163 Q1618.61 36.3204 1618.61 46.6907 Z\" fill=\"#000000\" fill-rule=\"nonzero\" fill-opacity=\"1\" /><path clip-path=\"url(#clip970)\" d=\"M1660.25 34.1734 Q1658.99 33.4443 1657.5 33.1202 Q1656.04 32.7556 1654.25 32.7556 Q1647.94 32.7556 1644.53 36.8875 Q1641.17 40.9789 1641.17 48.6757 L1641.17 72.576 L1633.68 72.576 L1633.68 27.2059 L1641.17 27.2059 L1641.17 34.2544 Q1643.52 30.1225 1647.29 28.1376 Q1651.05 26.1121 1656.44 26.1121 Q1657.21 26.1121 1658.14 26.2337 Q1659.08 26.3147 1660.21 26.5172 L1660.25 34.1734 Z\" fill=\"#000000\" fill-rule=\"nonzero\" fill-opacity=\"1\" /><path clip-path=\"url(#clip970)\" d=\"M1696.47 49.3643 Q1696.47 41.2625 1693.1 36.8065 Q1689.78 32.3505 1683.75 32.3505 Q1677.75 32.3505 1674.39 36.8065 Q1671.07 41.2625 1671.07 49.3643 Q1671.07 57.4256 1674.39 61.8816 Q1677.75 66.3376 1683.75 66.3376 Q1689.78 66.3376 1693.1 61.8816 Q1696.47 57.4256 1696.47 49.3643 M1703.92 66.9452 Q1703.92 78.5308 1698.77 84.1616 Q1693.63 89.8329 1683.02 89.8329 Q1679.09 89.8329 1675.6 89.2252 Q1672.12 88.6581 1668.84 87.4428 L1668.84 80.1917 Q1672.12 81.9741 1675.32 82.8248 Q1678.52 83.6755 1681.84 83.6755 Q1689.17 83.6755 1692.82 79.8271 Q1696.47 76.0193 1696.47 68.282 L1696.47 64.5957 Q1694.16 68.6061 1690.55 70.5911 Q1686.95 72.576 1681.92 72.576 Q1673.58 72.576 1668.47 66.2161 Q1663.37 59.8562 1663.37 49.3643 Q1663.37 38.832 1668.47 32.472 Q1673.58 26.1121 1681.92 26.1121 Q1686.95 26.1121 1690.55 28.0971 Q1694.16 30.082 1696.47 34.0924 L1696.47 27.2059 L1703.92 27.2059 L1703.92 66.9452 Z\" fill=\"#000000\" fill-rule=\"nonzero\" fill-opacity=\"1\" /><path clip-path=\"url(#clip970)\" d=\"M1718.5 54.671 L1718.5 27.2059 L1725.96 27.2059 L1725.96 54.3874 Q1725.96 60.8284 1728.47 64.0691 Q1730.98 67.2693 1736 67.2693 Q1742.04 67.2693 1745.52 63.421 Q1749.05 59.5726 1749.05 52.9291 L1749.05 27.2059 L1756.5 27.2059 L1756.5 72.576 L1749.05 72.576 L1749.05 65.6084 Q1746.33 69.7404 1742.73 71.7658 Q1739.16 73.7508 1734.42 73.7508 Q1726.6 73.7508 1722.55 68.8897 Q1718.5 64.0286 1718.5 54.671 M1737.26 26.1121 L1737.26 26.1121 Z\" fill=\"#000000\" fill-rule=\"nonzero\" fill-opacity=\"1\" /><path clip-path=\"url(#clip970)\" d=\"M1798.14 34.1734 Q1796.89 33.4443 1795.39 33.1202 Q1793.93 32.7556 1792.15 32.7556 Q1785.83 32.7556 1782.43 36.8875 Q1779.06 40.9789 1779.06 48.6757 L1779.06 72.576 L1771.57 72.576 L1771.57 27.2059 L1779.06 27.2059 L1779.06 34.2544 Q1781.41 30.1225 1785.18 28.1376 Q1788.95 26.1121 1794.33 26.1121 Q1795.1 26.1121 1796.04 26.2337 Q1796.97 26.3147 1798.1 26.5172 L1798.14 34.1734 Z\" fill=\"#000000\" fill-rule=\"nonzero\" fill-opacity=\"1\" /><path clip-path=\"url(#clip970)\" d=\"M1826.58 49.7694 Q1817.55 49.7694 1814.06 51.8354 Q1810.58 53.9013 1810.58 58.8839 Q1810.58 62.8538 1813.17 65.2034 Q1815.8 67.5124 1820.3 67.5124 Q1826.5 67.5124 1830.23 63.1374 Q1833.99 58.7219 1833.99 51.4303 L1833.99 49.7694 L1826.58 49.7694 M1841.45 46.6907 L1841.45 72.576 L1833.99 72.576 L1833.99 65.6895 Q1831.44 69.8214 1827.63 71.8063 Q1823.83 73.7508 1818.32 73.7508 Q1811.35 73.7508 1807.22 69.8619 Q1803.13 65.9325 1803.13 59.3701 Q1803.13 51.7138 1808.23 47.825 Q1813.37 43.9361 1823.54 43.9361 L1833.99 43.9361 L1833.99 43.2069 Q1833.99 38.0623 1830.59 35.2672 Q1827.23 32.4315 1821.11 32.4315 Q1817.22 32.4315 1813.54 33.3632 Q1809.85 34.295 1806.45 36.1584 L1806.45 29.2718 Q1810.54 27.692 1814.39 26.9223 Q1818.24 26.1121 1821.88 26.1121 Q1831.72 26.1121 1836.59 31.2163 Q1841.45 36.3204 1841.45 46.6907 Z\" fill=\"#000000\" fill-rule=\"nonzero\" fill-opacity=\"1\" /><path clip-path=\"url(#clip970)\" d=\"M1913.03 34.0924 L1913.03 9.54393 L1920.48 9.54393 L1920.48 72.576 L1913.03 72.576 L1913.03 65.7705 Q1910.68 69.8214 1907.07 71.8063 Q1903.51 73.7508 1898.48 73.7508 Q1890.26 73.7508 1885.08 67.1883 Q1879.93 60.6258 1879.93 49.9314 Q1879.93 39.2371 1885.08 32.6746 Q1890.26 26.1121 1898.48 26.1121 Q1903.51 26.1121 1907.07 28.0971 Q1910.68 30.0415 1913.03 34.0924 M1887.63 49.9314 Q1887.63 58.1548 1890.99 62.8538 Q1894.39 67.5124 1900.31 67.5124 Q1906.22 67.5124 1909.62 62.8538 Q1913.03 58.1548 1913.03 49.9314 Q1913.03 41.7081 1909.62 37.0496 Q1906.22 32.3505 1900.31 32.3505 Q1894.39 32.3505 1890.99 37.0496 Q1887.63 41.7081 1887.63 49.9314 Z\" fill=\"#000000\" fill-rule=\"nonzero\" fill-opacity=\"1\" /><path clip-path=\"url(#clip970)\" d=\"M1956.45 49.7694 Q1947.42 49.7694 1943.93 51.8354 Q1940.45 53.9013 1940.45 58.8839 Q1940.45 62.8538 1943.04 65.2034 Q1945.68 67.5124 1950.17 67.5124 Q1956.37 67.5124 1960.1 63.1374 Q1963.87 58.7219 1963.87 51.4303 L1963.87 49.7694 L1956.45 49.7694 M1971.32 46.6907 L1971.32 72.576 L1963.87 72.576 L1963.87 65.6895 Q1961.31 69.8214 1957.51 71.8063 Q1953.7 73.7508 1948.19 73.7508 Q1941.22 73.7508 1937.09 69.8619 Q1933 65.9325 1933 59.3701 Q1933 51.7138 1938.1 47.825 Q1943.25 43.9361 1953.41 43.9361 L1963.87 43.9361 L1963.87 43.2069 Q1963.87 38.0623 1960.46 35.2672 Q1957.1 32.4315 1950.98 32.4315 Q1947.09 32.4315 1943.41 33.3632 Q1939.72 34.295 1936.32 36.1584 L1936.32 29.2718 Q1940.41 27.692 1944.26 26.9223 Q1948.11 26.1121 1951.75 26.1121 Q1961.6 26.1121 1966.46 31.2163 Q1971.32 36.3204 1971.32 46.6907 Z\" fill=\"#000000\" fill-rule=\"nonzero\" fill-opacity=\"1\" /><path clip-path=\"url(#clip970)\" d=\"M2041.97 28.5427 L2041.97 35.5912 Q2038.81 33.9709 2035.4 33.1607 Q2032 32.3505 2028.36 32.3505 Q2022.81 32.3505 2020.01 34.0519 Q2017.26 35.7533 2017.26 39.156 Q2017.26 41.7486 2019.24 43.2475 Q2021.23 44.7058 2027.22 46.0426 L2029.77 46.6097 Q2037.71 48.3111 2041.04 51.4303 Q2044.4 54.509 2044.4 60.0587 Q2044.4 66.3781 2039.37 70.0644 Q2034.39 73.7508 2025.64 73.7508 Q2022 73.7508 2018.03 73.0216 Q2014.1 72.3329 2009.72 70.9151 L2009.72 63.2184 Q2013.85 65.3654 2017.86 66.4591 Q2021.87 67.5124 2025.8 67.5124 Q2031.07 67.5124 2033.91 65.73 Q2036.74 63.9071 2036.74 60.6258 Q2036.74 57.5877 2034.68 55.9673 Q2032.65 54.3469 2025.72 52.8481 L2023.13 52.2405 Q2016.2 50.7821 2013.12 47.7845 Q2010.05 44.7463 2010.05 39.4801 Q2010.05 33.0797 2014.58 29.5959 Q2019.12 26.1121 2027.46 26.1121 Q2031.6 26.1121 2035.24 26.7198 Q2038.89 27.3274 2041.97 28.5427 Z\" fill=\"#000000\" fill-rule=\"nonzero\" fill-opacity=\"1\" /><path clip-path=\"url(#clip970)\" d=\"M2095.07 48.0275 L2095.07 51.6733 L2060.8 51.6733 Q2061.29 59.3701 2065.42 63.421 Q2069.59 67.4314 2077.01 67.4314 Q2081.3 67.4314 2085.31 66.3781 Q2089.36 65.3249 2093.33 63.2184 L2093.33 70.267 Q2089.32 71.9684 2085.11 72.8596 Q2080.9 73.7508 2076.56 73.7508 Q2065.71 73.7508 2059.35 67.4314 Q2053.03 61.1119 2053.03 50.3365 Q2053.03 39.1965 2059.02 32.6746 Q2065.06 26.1121 2075.27 26.1121 Q2084.42 26.1121 2089.73 32.0264 Q2095.07 37.9003 2095.07 48.0275 M2087.62 45.84 Q2087.54 39.7232 2084.18 36.0774 Q2080.86 32.4315 2075.35 32.4315 Q2069.11 32.4315 2065.34 35.9558 Q2061.61 39.4801 2061.05 45.8805 L2087.62 45.84 M2080.45 6.22219 L2088.51 6.22219 L2075.31 21.4536 L2069.11 21.4536 L2080.45 6.22219 Z\" fill=\"#000000\" fill-rule=\"nonzero\" fill-opacity=\"1\" /><path clip-path=\"url(#clip970)\" d=\"M2114.52 65.7705 L2114.52 89.8329 L2107.02 89.8329 L2107.02 27.2059 L2114.52 27.2059 L2114.52 34.0924 Q2116.87 30.0415 2120.43 28.0971 Q2124.04 26.1121 2129.02 26.1121 Q2137.28 26.1121 2142.43 32.6746 Q2147.61 39.2371 2147.61 49.9314 Q2147.61 60.6258 2142.43 67.1883 Q2137.28 73.7508 2129.02 73.7508 Q2124.04 73.7508 2120.43 71.8063 Q2116.87 69.8214 2114.52 65.7705 M2139.88 49.9314 Q2139.88 41.7081 2136.47 37.0496 Q2133.11 32.3505 2127.2 32.3505 Q2121.28 32.3505 2117.88 37.0496 Q2114.52 41.7081 2114.52 49.9314 Q2114.52 58.1548 2117.88 62.8538 Q2121.28 67.5124 2127.2 67.5124 Q2133.11 67.5124 2136.47 62.8538 Q2139.88 58.1548 2139.88 49.9314 Z\" fill=\"#000000\" fill-rule=\"nonzero\" fill-opacity=\"1\" /><path clip-path=\"url(#clip970)\" d=\"M2180.59 49.7694 Q2171.56 49.7694 2168.07 51.8354 Q2164.59 53.9013 2164.59 58.8839 Q2164.59 62.8538 2167.18 65.2034 Q2169.81 67.5124 2174.31 67.5124 Q2180.51 67.5124 2184.23 63.1374 Q2188 58.7219 2188 51.4303 L2188 49.7694 L2180.59 49.7694 M2195.46 46.6907 L2195.46 72.576 L2188 72.576 L2188 65.6895 Q2185.45 69.8214 2181.64 71.8063 Q2177.83 73.7508 2172.32 73.7508 Q2165.36 73.7508 2161.23 69.8619 Q2157.13 65.9325 2157.13 59.3701 Q2157.13 51.7138 2162.24 47.825 Q2167.38 43.9361 2177.55 43.9361 L2188 43.9361 L2188 43.2069 Q2188 38.0623 2184.6 35.2672 Q2181.24 32.4315 2175.12 32.4315 Q2171.23 32.4315 2167.54 33.3632 Q2163.86 34.295 2160.46 36.1584 L2160.46 29.2718 Q2164.55 27.692 2168.4 26.9223 Q2172.24 26.1121 2175.89 26.1121 Q2185.73 26.1121 2190.59 31.2163 Q2195.46 36.3204 2195.46 46.6907 Z\" fill=\"#000000\" fill-rule=\"nonzero\" fill-opacity=\"1\" /><path clip-path=\"url(#clip970)\" d=\"M2210.81 9.54393 L2218.26 9.54393 L2218.26 72.576 L2210.81 72.576 L2210.81 9.54393 Z\" fill=\"#000000\" fill-rule=\"nonzero\" fill-opacity=\"1\" /><path clip-path=\"url(#clip970)\" d=\"M2254.48 49.7694 Q2245.44 49.7694 2241.96 51.8354 Q2238.48 53.9013 2238.48 58.8839 Q2238.48 62.8538 2241.07 65.2034 Q2243.7 67.5124 2248.2 67.5124 Q2254.4 67.5124 2258.12 63.1374 Q2261.89 58.7219 2261.89 51.4303 L2261.89 49.7694 L2254.48 49.7694 M2269.34 46.6907 L2269.34 72.576 L2261.89 72.576 L2261.89 65.6895 Q2259.34 69.8214 2255.53 71.8063 Q2251.72 73.7508 2246.21 73.7508 Q2239.25 73.7508 2235.11 69.8619 Q2231.02 65.9325 2231.02 59.3701 Q2231.02 51.7138 2236.13 47.825 Q2241.27 43.9361 2251.44 43.9361 L2261.89 43.9361 L2261.89 43.2069 Q2261.89 38.0623 2258.49 35.2672 Q2255.13 32.4315 2249.01 32.4315 Q2245.12 32.4315 2241.43 33.3632 Q2237.75 34.295 2234.34 36.1584 L2234.34 29.2718 Q2238.44 27.692 2242.28 26.9223 Q2246.13 26.1121 2249.78 26.1121 Q2259.62 26.1121 2264.48 31.2163 Q2269.34 36.3204 2269.34 46.6907 Z\" fill=\"#000000\" fill-rule=\"nonzero\" fill-opacity=\"1\" /><circle clip-path=\"url(#clip972)\" cx=\"727.625\" cy=\"620.059\" r=\"14.4\" fill=\"#009af9\" fill-rule=\"evenodd\" fill-opacity=\"1\" stroke=\"#000000\" stroke-opacity=\"1\" stroke-width=\"3.2\"/>\n<circle clip-path=\"url(#clip972)\" cx=\"615.855\" cy=\"875.504\" r=\"14.4\" fill=\"#009af9\" fill-rule=\"evenodd\" fill-opacity=\"1\" stroke=\"#000000\" stroke-opacity=\"1\" stroke-width=\"3.2\"/>\n<circle clip-path=\"url(#clip972)\" cx=\"504.085\" cy=\"773.326\" r=\"14.4\" fill=\"#009af9\" fill-rule=\"evenodd\" fill-opacity=\"1\" stroke=\"#000000\" stroke-opacity=\"1\" stroke-width=\"3.2\"/>\n<circle clip-path=\"url(#clip972)\" cx=\"448.2\" cy=\"824.415\" r=\"14.4\" fill=\"#009af9\" fill-rule=\"evenodd\" fill-opacity=\"1\" stroke=\"#000000\" stroke-opacity=\"1\" stroke-width=\"3.2\"/>\n<circle clip-path=\"url(#clip972)\" cx=\"671.74\" cy=\"568.969\" r=\"14.4\" fill=\"#009af9\" fill-rule=\"evenodd\" fill-opacity=\"1\" stroke=\"#000000\" stroke-opacity=\"1\" stroke-width=\"3.2\"/>\n<circle clip-path=\"url(#clip972)\" cx=\"895.279\" cy=\"415.702\" r=\"14.4\" fill=\"#009af9\" fill-rule=\"evenodd\" fill-opacity=\"1\" stroke=\"#000000\" stroke-opacity=\"1\" stroke-width=\"3.2\"/>\n<circle clip-path=\"url(#clip972)\" cx=\"448.2\" cy=\"671.148\" r=\"14.4\" fill=\"#009af9\" fill-rule=\"evenodd\" fill-opacity=\"1\" stroke=\"#000000\" stroke-opacity=\"1\" stroke-width=\"3.2\"/>\n<circle clip-path=\"url(#clip972)\" cx=\"671.74\" cy=\"671.148\" r=\"14.4\" fill=\"#009af9\" fill-rule=\"evenodd\" fill-opacity=\"1\" stroke=\"#000000\" stroke-opacity=\"1\" stroke-width=\"3.2\"/>\n<circle clip-path=\"url(#clip972)\" cx=\"336.431\" cy=\"926.593\" r=\"14.4\" fill=\"#009af9\" fill-rule=\"evenodd\" fill-opacity=\"1\" stroke=\"#000000\" stroke-opacity=\"1\" stroke-width=\"3.2\"/>\n<circle clip-path=\"url(#clip972)\" cx=\"615.855\" cy=\"824.415\" r=\"14.4\" fill=\"#009af9\" fill-rule=\"evenodd\" fill-opacity=\"1\" stroke=\"#000000\" stroke-opacity=\"1\" stroke-width=\"3.2\"/>\n<circle clip-path=\"url(#clip972)\" cx=\"895.279\" cy=\"517.88\" r=\"14.4\" fill=\"#009af9\" fill-rule=\"evenodd\" fill-opacity=\"1\" stroke=\"#000000\" stroke-opacity=\"1\" stroke-width=\"3.2\"/>\n<circle clip-path=\"url(#clip972)\" cx=\"559.97\" cy=\"671.148\" r=\"14.4\" fill=\"#009af9\" fill-rule=\"evenodd\" fill-opacity=\"1\" stroke=\"#000000\" stroke-opacity=\"1\" stroke-width=\"3.2\"/>\n<circle clip-path=\"url(#clip972)\" cx=\"559.97\" cy=\"875.504\" r=\"14.4\" fill=\"#009af9\" fill-rule=\"evenodd\" fill-opacity=\"1\" stroke=\"#000000\" stroke-opacity=\"1\" stroke-width=\"3.2\"/>\n<circle clip-path=\"url(#clip972)\" cx=\"280.546\" cy=\"875.504\" r=\"14.4\" fill=\"#009af9\" fill-rule=\"evenodd\" fill-opacity=\"1\" stroke=\"#000000\" stroke-opacity=\"1\" stroke-width=\"3.2\"/>\n<circle clip-path=\"url(#clip972)\" cx=\"1118.82\" cy=\"364.613\" r=\"14.4\" fill=\"#009af9\" fill-rule=\"evenodd\" fill-opacity=\"1\" stroke=\"#000000\" stroke-opacity=\"1\" stroke-width=\"3.2\"/>\n<circle clip-path=\"url(#clip972)\" cx=\"1062.93\" cy=\"160.256\" r=\"14.4\" fill=\"#009af9\" fill-rule=\"evenodd\" fill-opacity=\"1\" stroke=\"#000000\" stroke-opacity=\"1\" stroke-width=\"3.2\"/>\n<circle clip-path=\"url(#clip972)\" cx=\"895.279\" cy=\"415.702\" r=\"14.4\" fill=\"#009af9\" fill-rule=\"evenodd\" fill-opacity=\"1\" stroke=\"#000000\" stroke-opacity=\"1\" stroke-width=\"3.2\"/>\n<circle clip-path=\"url(#clip972)\" cx=\"727.625\" cy=\"620.059\" r=\"14.4\" fill=\"#009af9\" fill-rule=\"evenodd\" fill-opacity=\"1\" stroke=\"#000000\" stroke-opacity=\"1\" stroke-width=\"3.2\"/>\n<circle clip-path=\"url(#clip972)\" cx=\"1062.93\" cy=\"466.791\" r=\"14.4\" fill=\"#009af9\" fill-rule=\"evenodd\" fill-opacity=\"1\" stroke=\"#000000\" stroke-opacity=\"1\" stroke-width=\"3.2\"/>\n<circle clip-path=\"url(#clip972)\" cx=\"727.625\" cy=\"466.791\" r=\"14.4\" fill=\"#009af9\" fill-rule=\"evenodd\" fill-opacity=\"1\" stroke=\"#000000\" stroke-opacity=\"1\" stroke-width=\"3.2\"/>\n<circle clip-path=\"url(#clip972)\" cx=\"895.279\" cy=\"671.148\" r=\"14.4\" fill=\"#009af9\" fill-rule=\"evenodd\" fill-opacity=\"1\" stroke=\"#000000\" stroke-opacity=\"1\" stroke-width=\"3.2\"/>\n<circle clip-path=\"url(#clip972)\" cx=\"727.625\" cy=\"517.88\" r=\"14.4\" fill=\"#009af9\" fill-rule=\"evenodd\" fill-opacity=\"1\" stroke=\"#000000\" stroke-opacity=\"1\" stroke-width=\"3.2\"/>\n<circle clip-path=\"url(#clip972)\" cx=\"448.2\" cy=\"568.969\" r=\"14.4\" fill=\"#009af9\" fill-rule=\"evenodd\" fill-opacity=\"1\" stroke=\"#000000\" stroke-opacity=\"1\" stroke-width=\"3.2\"/>\n<circle clip-path=\"url(#clip972)\" cx=\"727.625\" cy=\"722.237\" r=\"14.4\" fill=\"#009af9\" fill-rule=\"evenodd\" fill-opacity=\"1\" stroke=\"#000000\" stroke-opacity=\"1\" stroke-width=\"3.2\"/>\n<circle clip-path=\"url(#clip972)\" cx=\"559.97\" cy=\"671.148\" r=\"14.4\" fill=\"#009af9\" fill-rule=\"evenodd\" fill-opacity=\"1\" stroke=\"#000000\" stroke-opacity=\"1\" stroke-width=\"3.2\"/>\n<circle clip-path=\"url(#clip972)\" cx=\"671.74\" cy=\"875.504\" r=\"14.4\" fill=\"#009af9\" fill-rule=\"evenodd\" fill-opacity=\"1\" stroke=\"#000000\" stroke-opacity=\"1\" stroke-width=\"3.2\"/>\n<circle clip-path=\"url(#clip972)\" cx=\"671.74\" cy=\"671.148\" r=\"14.4\" fill=\"#009af9\" fill-rule=\"evenodd\" fill-opacity=\"1\" stroke=\"#000000\" stroke-opacity=\"1\" stroke-width=\"3.2\"/>\n<circle clip-path=\"url(#clip972)\" cx=\"783.51\" cy=\"620.059\" r=\"14.4\" fill=\"#009af9\" fill-rule=\"evenodd\" fill-opacity=\"1\" stroke=\"#000000\" stroke-opacity=\"1\" stroke-width=\"3.2\"/>\n<circle clip-path=\"url(#clip972)\" cx=\"783.51\" cy=\"671.148\" r=\"14.4\" fill=\"#009af9\" fill-rule=\"evenodd\" fill-opacity=\"1\" stroke=\"#000000\" stroke-opacity=\"1\" stroke-width=\"3.2\"/>\n<circle clip-path=\"url(#clip972)\" cx=\"504.085\" cy=\"773.326\" r=\"14.4\" fill=\"#009af9\" fill-rule=\"evenodd\" fill-opacity=\"1\" stroke=\"#000000\" stroke-opacity=\"1\" stroke-width=\"3.2\"/>\n<circle clip-path=\"url(#clip972)\" cx=\"559.97\" cy=\"824.415\" r=\"14.4\" fill=\"#009af9\" fill-rule=\"evenodd\" fill-opacity=\"1\" stroke=\"#000000\" stroke-opacity=\"1\" stroke-width=\"3.2\"/>\n<circle clip-path=\"url(#clip972)\" cx=\"895.279\" cy=\"671.148\" r=\"14.4\" fill=\"#009af9\" fill-rule=\"evenodd\" fill-opacity=\"1\" stroke=\"#000000\" stroke-opacity=\"1\" stroke-width=\"3.2\"/>\n<circle clip-path=\"url(#clip972)\" cx=\"783.51\" cy=\"313.524\" r=\"14.4\" fill=\"#009af9\" fill-rule=\"evenodd\" fill-opacity=\"1\" stroke=\"#000000\" stroke-opacity=\"1\" stroke-width=\"3.2\"/>\n<circle clip-path=\"url(#clip972)\" cx=\"951.164\" cy=\"262.435\" r=\"14.4\" fill=\"#009af9\" fill-rule=\"evenodd\" fill-opacity=\"1\" stroke=\"#000000\" stroke-opacity=\"1\" stroke-width=\"3.2\"/>\n<circle clip-path=\"url(#clip972)\" cx=\"615.855\" cy=\"824.415\" r=\"14.4\" fill=\"#009af9\" fill-rule=\"evenodd\" fill-opacity=\"1\" stroke=\"#000000\" stroke-opacity=\"1\" stroke-width=\"3.2\"/>\n<circle clip-path=\"url(#clip972)\" cx=\"671.74\" cy=\"773.326\" r=\"14.4\" fill=\"#009af9\" fill-rule=\"evenodd\" fill-opacity=\"1\" stroke=\"#000000\" stroke-opacity=\"1\" stroke-width=\"3.2\"/>\n<circle clip-path=\"url(#clip972)\" cx=\"951.164\" cy=\"620.059\" r=\"14.4\" fill=\"#009af9\" fill-rule=\"evenodd\" fill-opacity=\"1\" stroke=\"#000000\" stroke-opacity=\"1\" stroke-width=\"3.2\"/>\n<circle clip-path=\"url(#clip972)\" cx=\"615.855\" cy=\"568.969\" r=\"14.4\" fill=\"#009af9\" fill-rule=\"evenodd\" fill-opacity=\"1\" stroke=\"#000000\" stroke-opacity=\"1\" stroke-width=\"3.2\"/>\n<circle clip-path=\"url(#clip972)\" cx=\"336.431\" cy=\"875.504\" r=\"14.4\" fill=\"#009af9\" fill-rule=\"evenodd\" fill-opacity=\"1\" stroke=\"#000000\" stroke-opacity=\"1\" stroke-width=\"3.2\"/>\n<circle clip-path=\"url(#clip972)\" cx=\"727.625\" cy=\"671.148\" r=\"14.4\" fill=\"#009af9\" fill-rule=\"evenodd\" fill-opacity=\"1\" stroke=\"#000000\" stroke-opacity=\"1\" stroke-width=\"3.2\"/>\n<circle clip-path=\"url(#clip972)\" cx=\"671.74\" cy=\"620.059\" r=\"14.4\" fill=\"#009af9\" fill-rule=\"evenodd\" fill-opacity=\"1\" stroke=\"#000000\" stroke-opacity=\"1\" stroke-width=\"3.2\"/>\n<circle clip-path=\"url(#clip972)\" cx=\"392.316\" cy=\"1233.13\" r=\"14.4\" fill=\"#009af9\" fill-rule=\"evenodd\" fill-opacity=\"1\" stroke=\"#000000\" stroke-opacity=\"1\" stroke-width=\"3.2\"/>\n<circle clip-path=\"url(#clip972)\" cx=\"336.431\" cy=\"773.326\" r=\"14.4\" fill=\"#009af9\" fill-rule=\"evenodd\" fill-opacity=\"1\" stroke=\"#000000\" stroke-opacity=\"1\" stroke-width=\"3.2\"/>\n<circle clip-path=\"url(#clip972)\" cx=\"671.74\" cy=\"620.059\" r=\"14.4\" fill=\"#009af9\" fill-rule=\"evenodd\" fill-opacity=\"1\" stroke=\"#000000\" stroke-opacity=\"1\" stroke-width=\"3.2\"/>\n<circle clip-path=\"url(#clip972)\" cx=\"727.625\" cy=\"466.791\" r=\"14.4\" fill=\"#009af9\" fill-rule=\"evenodd\" fill-opacity=\"1\" stroke=\"#000000\" stroke-opacity=\"1\" stroke-width=\"3.2\"/>\n<circle clip-path=\"url(#clip972)\" cx=\"559.97\" cy=\"875.504\" r=\"14.4\" fill=\"#009af9\" fill-rule=\"evenodd\" fill-opacity=\"1\" stroke=\"#000000\" stroke-opacity=\"1\" stroke-width=\"3.2\"/>\n<circle clip-path=\"url(#clip972)\" cx=\"727.625\" cy=\"466.791\" r=\"14.4\" fill=\"#009af9\" fill-rule=\"evenodd\" fill-opacity=\"1\" stroke=\"#000000\" stroke-opacity=\"1\" stroke-width=\"3.2\"/>\n<circle clip-path=\"url(#clip972)\" cx=\"448.2\" cy=\"773.326\" r=\"14.4\" fill=\"#009af9\" fill-rule=\"evenodd\" fill-opacity=\"1\" stroke=\"#000000\" stroke-opacity=\"1\" stroke-width=\"3.2\"/>\n<circle clip-path=\"url(#clip972)\" cx=\"839.394\" cy=\"517.88\" r=\"14.4\" fill=\"#009af9\" fill-rule=\"evenodd\" fill-opacity=\"1\" stroke=\"#000000\" stroke-opacity=\"1\" stroke-width=\"3.2\"/>\n<circle clip-path=\"url(#clip972)\" cx=\"671.74\" cy=\"722.237\" r=\"14.4\" fill=\"#009af9\" fill-rule=\"evenodd\" fill-opacity=\"1\" stroke=\"#000000\" stroke-opacity=\"1\" stroke-width=\"3.2\"/>\n<circle clip-path=\"url(#clip972)\" cx=\"1789.44\" cy=\"773.326\" r=\"14.4\" fill=\"#e26f46\" fill-rule=\"evenodd\" fill-opacity=\"1\" stroke=\"#000000\" stroke-opacity=\"1\" stroke-width=\"3.2\"/>\n<circle clip-path=\"url(#clip972)\" cx=\"1454.13\" cy=\"773.326\" r=\"14.4\" fill=\"#e26f46\" fill-rule=\"evenodd\" fill-opacity=\"1\" stroke=\"#000000\" stroke-opacity=\"1\" stroke-width=\"3.2\"/>\n<circle clip-path=\"url(#clip972)\" cx=\"1733.55\" cy=\"824.415\" r=\"14.4\" fill=\"#e26f46\" fill-rule=\"evenodd\" fill-opacity=\"1\" stroke=\"#000000\" stroke-opacity=\"1\" stroke-width=\"3.2\"/>\n<circle clip-path=\"url(#clip972)\" cx=\"951.164\" cy=\"1233.13\" r=\"14.4\" fill=\"#e26f46\" fill-rule=\"evenodd\" fill-opacity=\"1\" stroke=\"#000000\" stroke-opacity=\"1\" stroke-width=\"3.2\"/>\n<circle clip-path=\"url(#clip972)\" cx=\"1510.01\" cy=\"977.683\" r=\"14.4\" fill=\"#e26f46\" fill-rule=\"evenodd\" fill-opacity=\"1\" stroke=\"#000000\" stroke-opacity=\"1\" stroke-width=\"3.2\"/>\n<circle clip-path=\"url(#clip972)\" cx=\"1062.93\" cy=\"977.683\" r=\"14.4\" fill=\"#e26f46\" fill-rule=\"evenodd\" fill-opacity=\"1\" stroke=\"#000000\" stroke-opacity=\"1\" stroke-width=\"3.2\"/>\n<circle clip-path=\"url(#clip972)\" cx=\"1398.24\" cy=\"722.237\" r=\"14.4\" fill=\"#e26f46\" fill-rule=\"evenodd\" fill-opacity=\"1\" stroke=\"#000000\" stroke-opacity=\"1\" stroke-width=\"3.2\"/>\n<circle clip-path=\"url(#clip972)\" cx=\"615.855\" cy=\"1182.04\" r=\"14.4\" fill=\"#e26f46\" fill-rule=\"evenodd\" fill-opacity=\"1\" stroke=\"#000000\" stroke-opacity=\"1\" stroke-width=\"3.2\"/>\n<circle clip-path=\"url(#clip972)\" cx=\"1565.9\" cy=\"926.593\" r=\"14.4\" fill=\"#e26f46\" fill-rule=\"evenodd\" fill-opacity=\"1\" stroke=\"#000000\" stroke-opacity=\"1\" stroke-width=\"3.2\"/>\n<circle clip-path=\"url(#clip972)\" cx=\"783.51\" cy=\"1028.77\" r=\"14.4\" fill=\"#e26f46\" fill-rule=\"evenodd\" fill-opacity=\"1\" stroke=\"#000000\" stroke-opacity=\"1\" stroke-width=\"3.2\"/>\n<circle clip-path=\"url(#clip972)\" cx=\"671.74\" cy=\"1386.4\" r=\"14.4\" fill=\"#e26f46\" fill-rule=\"evenodd\" fill-opacity=\"1\" stroke=\"#000000\" stroke-opacity=\"1\" stroke-width=\"3.2\"/>\n<circle clip-path=\"url(#clip972)\" cx=\"1174.7\" cy=\"875.504\" r=\"14.4\" fill=\"#e26f46\" fill-rule=\"evenodd\" fill-opacity=\"1\" stroke=\"#000000\" stroke-opacity=\"1\" stroke-width=\"3.2\"/>\n<circle clip-path=\"url(#clip972)\" cx=\"1230.59\" cy=\"1284.22\" r=\"14.4\" fill=\"#e26f46\" fill-rule=\"evenodd\" fill-opacity=\"1\" stroke=\"#000000\" stroke-opacity=\"1\" stroke-width=\"3.2\"/>\n<circle clip-path=\"url(#clip972)\" cx=\"1286.47\" cy=\"926.593\" r=\"14.4\" fill=\"#e26f46\" fill-rule=\"evenodd\" fill-opacity=\"1\" stroke=\"#000000\" stroke-opacity=\"1\" stroke-width=\"3.2\"/>\n<circle clip-path=\"url(#clip972)\" cx=\"1007.05\" cy=\"926.593\" r=\"14.4\" fill=\"#e26f46\" fill-rule=\"evenodd\" fill-opacity=\"1\" stroke=\"#000000\" stroke-opacity=\"1\" stroke-width=\"3.2\"/>\n<circle clip-path=\"url(#clip972)\" cx=\"1621.78\" cy=\"824.415\" r=\"14.4\" fill=\"#e26f46\" fill-rule=\"evenodd\" fill-opacity=\"1\" stroke=\"#000000\" stroke-opacity=\"1\" stroke-width=\"3.2\"/>\n<circle clip-path=\"url(#clip972)\" cx=\"1007.05\" cy=\"875.504\" r=\"14.4\" fill=\"#e26f46\" fill-rule=\"evenodd\" fill-opacity=\"1\" stroke=\"#000000\" stroke-opacity=\"1\" stroke-width=\"3.2\"/>\n<circle clip-path=\"url(#clip972)\" cx=\"1118.82\" cy=\"1028.77\" r=\"14.4\" fill=\"#e26f46\" fill-rule=\"evenodd\" fill-opacity=\"1\" stroke=\"#000000\" stroke-opacity=\"1\" stroke-width=\"3.2\"/>\n<circle clip-path=\"url(#clip972)\" cx=\"1342.36\" cy=\"1284.22\" r=\"14.4\" fill=\"#e26f46\" fill-rule=\"evenodd\" fill-opacity=\"1\" stroke=\"#000000\" stroke-opacity=\"1\" stroke-width=\"3.2\"/>\n<circle clip-path=\"url(#clip972)\" cx=\"1007.05\" cy=\"1130.95\" r=\"14.4\" fill=\"#e26f46\" fill-rule=\"evenodd\" fill-opacity=\"1\" stroke=\"#000000\" stroke-opacity=\"1\" stroke-width=\"3.2\"/>\n<circle clip-path=\"url(#clip972)\" cx=\"1174.7\" cy=\"773.326\" r=\"14.4\" fill=\"#e26f46\" fill-rule=\"evenodd\" fill-opacity=\"1\" stroke=\"#000000\" stroke-opacity=\"1\" stroke-width=\"3.2\"/>\n<circle clip-path=\"url(#clip972)\" cx=\"1286.47\" cy=\"977.683\" r=\"14.4\" fill=\"#e26f46\" fill-rule=\"evenodd\" fill-opacity=\"1\" stroke=\"#000000\" stroke-opacity=\"1\" stroke-width=\"3.2\"/>\n<circle clip-path=\"url(#clip972)\" cx=\"1398.24\" cy=\"1130.95\" r=\"14.4\" fill=\"#e26f46\" fill-rule=\"evenodd\" fill-opacity=\"1\" stroke=\"#000000\" stroke-opacity=\"1\" stroke-width=\"3.2\"/>\n<circle clip-path=\"url(#clip972)\" cx=\"1286.47\" cy=\"977.683\" r=\"14.4\" fill=\"#e26f46\" fill-rule=\"evenodd\" fill-opacity=\"1\" stroke=\"#000000\" stroke-opacity=\"1\" stroke-width=\"3.2\"/>\n<circle clip-path=\"url(#clip972)\" cx=\"1454.13\" cy=\"926.593\" r=\"14.4\" fill=\"#e26f46\" fill-rule=\"evenodd\" fill-opacity=\"1\" stroke=\"#000000\" stroke-opacity=\"1\" stroke-width=\"3.2\"/>\n<circle clip-path=\"url(#clip972)\" cx=\"1565.9\" cy=\"875.504\" r=\"14.4\" fill=\"#e26f46\" fill-rule=\"evenodd\" fill-opacity=\"1\" stroke=\"#000000\" stroke-opacity=\"1\" stroke-width=\"3.2\"/>\n<circle clip-path=\"url(#clip972)\" cx=\"1677.67\" cy=\"977.683\" r=\"14.4\" fill=\"#e26f46\" fill-rule=\"evenodd\" fill-opacity=\"1\" stroke=\"#000000\" stroke-opacity=\"1\" stroke-width=\"3.2\"/>\n<circle clip-path=\"url(#clip972)\" cx=\"1621.78\" cy=\"875.504\" r=\"14.4\" fill=\"#e26f46\" fill-rule=\"evenodd\" fill-opacity=\"1\" stroke=\"#000000\" stroke-opacity=\"1\" stroke-width=\"3.2\"/>\n<circle clip-path=\"url(#clip972)\" cx=\"1230.59\" cy=\"926.593\" r=\"14.4\" fill=\"#e26f46\" fill-rule=\"evenodd\" fill-opacity=\"1\" stroke=\"#000000\" stroke-opacity=\"1\" stroke-width=\"3.2\"/>\n<circle clip-path=\"url(#clip972)\" cx=\"1062.93\" cy=\"1079.86\" r=\"14.4\" fill=\"#e26f46\" fill-rule=\"evenodd\" fill-opacity=\"1\" stroke=\"#000000\" stroke-opacity=\"1\" stroke-width=\"3.2\"/>\n<circle clip-path=\"url(#clip972)\" cx=\"951.164\" cy=\"1182.04\" r=\"14.4\" fill=\"#e26f46\" fill-rule=\"evenodd\" fill-opacity=\"1\" stroke=\"#000000\" stroke-opacity=\"1\" stroke-width=\"3.2\"/>\n<circle clip-path=\"url(#clip972)\" cx=\"951.164\" cy=\"1182.04\" r=\"14.4\" fill=\"#e26f46\" fill-rule=\"evenodd\" fill-opacity=\"1\" stroke=\"#000000\" stroke-opacity=\"1\" stroke-width=\"3.2\"/>\n<circle clip-path=\"url(#clip972)\" cx=\"1118.82\" cy=\"1028.77\" r=\"14.4\" fill=\"#e26f46\" fill-rule=\"evenodd\" fill-opacity=\"1\" stroke=\"#000000\" stroke-opacity=\"1\" stroke-width=\"3.2\"/>\n<circle clip-path=\"url(#clip972)\" cx=\"1230.59\" cy=\"1028.77\" r=\"14.4\" fill=\"#e26f46\" fill-rule=\"evenodd\" fill-opacity=\"1\" stroke=\"#000000\" stroke-opacity=\"1\" stroke-width=\"3.2\"/>\n<circle clip-path=\"url(#clip972)\" cx=\"895.279\" cy=\"875.504\" r=\"14.4\" fill=\"#e26f46\" fill-rule=\"evenodd\" fill-opacity=\"1\" stroke=\"#000000\" stroke-opacity=\"1\" stroke-width=\"3.2\"/>\n<circle clip-path=\"url(#clip972)\" cx=\"1230.59\" cy=\"671.148\" r=\"14.4\" fill=\"#e26f46\" fill-rule=\"evenodd\" fill-opacity=\"1\" stroke=\"#000000\" stroke-opacity=\"1\" stroke-width=\"3.2\"/>\n<circle clip-path=\"url(#clip972)\" cx=\"1621.78\" cy=\"824.415\" r=\"14.4\" fill=\"#e26f46\" fill-rule=\"evenodd\" fill-opacity=\"1\" stroke=\"#000000\" stroke-opacity=\"1\" stroke-width=\"3.2\"/>\n<circle clip-path=\"url(#clip972)\" cx=\"1398.24\" cy=\"1233.13\" r=\"14.4\" fill=\"#e26f46\" fill-rule=\"evenodd\" fill-opacity=\"1\" stroke=\"#000000\" stroke-opacity=\"1\" stroke-width=\"3.2\"/>\n<circle clip-path=\"url(#clip972)\" cx=\"1007.05\" cy=\"875.504\" r=\"14.4\" fill=\"#e26f46\" fill-rule=\"evenodd\" fill-opacity=\"1\" stroke=\"#000000\" stroke-opacity=\"1\" stroke-width=\"3.2\"/>\n<circle clip-path=\"url(#clip972)\" cx=\"951.164\" cy=\"1130.95\" r=\"14.4\" fill=\"#e26f46\" fill-rule=\"evenodd\" fill-opacity=\"1\" stroke=\"#000000\" stroke-opacity=\"1\" stroke-width=\"3.2\"/>\n<circle clip-path=\"url(#clip972)\" cx=\"951.164\" cy=\"1079.86\" r=\"14.4\" fill=\"#e26f46\" fill-rule=\"evenodd\" fill-opacity=\"1\" stroke=\"#000000\" stroke-opacity=\"1\" stroke-width=\"3.2\"/>\n<circle clip-path=\"url(#clip972)\" cx=\"1286.47\" cy=\"875.504\" r=\"14.4\" fill=\"#e26f46\" fill-rule=\"evenodd\" fill-opacity=\"1\" stroke=\"#000000\" stroke-opacity=\"1\" stroke-width=\"3.2\"/>\n<circle clip-path=\"url(#clip972)\" cx=\"1118.82\" cy=\"1079.86\" r=\"14.4\" fill=\"#e26f46\" fill-rule=\"evenodd\" fill-opacity=\"1\" stroke=\"#000000\" stroke-opacity=\"1\" stroke-width=\"3.2\"/>\n<circle clip-path=\"url(#clip972)\" cx=\"671.74\" cy=\"1233.13\" r=\"14.4\" fill=\"#e26f46\" fill-rule=\"evenodd\" fill-opacity=\"1\" stroke=\"#000000\" stroke-opacity=\"1\" stroke-width=\"3.2\"/>\n<circle clip-path=\"url(#clip972)\" cx=\"1007.05\" cy=\"1028.77\" r=\"14.4\" fill=\"#e26f46\" fill-rule=\"evenodd\" fill-opacity=\"1\" stroke=\"#000000\" stroke-opacity=\"1\" stroke-width=\"3.2\"/>\n<circle clip-path=\"url(#clip972)\" cx=\"1062.93\" cy=\"875.504\" r=\"14.4\" fill=\"#e26f46\" fill-rule=\"evenodd\" fill-opacity=\"1\" stroke=\"#000000\" stroke-opacity=\"1\" stroke-width=\"3.2\"/>\n<circle clip-path=\"url(#clip972)\" cx=\"1062.93\" cy=\"926.593\" r=\"14.4\" fill=\"#e26f46\" fill-rule=\"evenodd\" fill-opacity=\"1\" stroke=\"#000000\" stroke-opacity=\"1\" stroke-width=\"3.2\"/>\n<circle clip-path=\"url(#clip972)\" cx=\"1342.36\" cy=\"926.593\" r=\"14.4\" fill=\"#e26f46\" fill-rule=\"evenodd\" fill-opacity=\"1\" stroke=\"#000000\" stroke-opacity=\"1\" stroke-width=\"3.2\"/>\n<circle clip-path=\"url(#clip972)\" cx=\"727.625\" cy=\"1130.95\" r=\"14.4\" fill=\"#e26f46\" fill-rule=\"evenodd\" fill-opacity=\"1\" stroke=\"#000000\" stroke-opacity=\"1\" stroke-width=\"3.2\"/>\n<circle clip-path=\"url(#clip972)\" cx=\"1062.93\" cy=\"977.683\" r=\"14.4\" fill=\"#e26f46\" fill-rule=\"evenodd\" fill-opacity=\"1\" stroke=\"#000000\" stroke-opacity=\"1\" stroke-width=\"3.2\"/>\n<circle clip-path=\"url(#clip972)\" cx=\"1398.24\" cy=\"722.237\" r=\"14.4\" fill=\"#3da44d\" fill-rule=\"evenodd\" fill-opacity=\"1\" stroke=\"#000000\" stroke-opacity=\"1\" stroke-width=\"3.2\"/>\n<circle clip-path=\"url(#clip972)\" cx=\"1118.82\" cy=\"1028.77\" r=\"14.4\" fill=\"#3da44d\" fill-rule=\"evenodd\" fill-opacity=\"1\" stroke=\"#000000\" stroke-opacity=\"1\" stroke-width=\"3.2\"/>\n<circle clip-path=\"url(#clip972)\" cx=\"1845.32\" cy=\"875.504\" r=\"14.4\" fill=\"#3da44d\" fill-rule=\"evenodd\" fill-opacity=\"1\" stroke=\"#000000\" stroke-opacity=\"1\" stroke-width=\"3.2\"/>\n<circle clip-path=\"url(#clip972)\" cx=\"1398.24\" cy=\"926.593\" r=\"14.4\" fill=\"#3da44d\" fill-rule=\"evenodd\" fill-opacity=\"1\" stroke=\"#000000\" stroke-opacity=\"1\" stroke-width=\"3.2\"/>\n<circle clip-path=\"url(#clip972)\" cx=\"1510.01\" cy=\"875.504\" r=\"14.4\" fill=\"#3da44d\" fill-rule=\"evenodd\" fill-opacity=\"1\" stroke=\"#000000\" stroke-opacity=\"1\" stroke-width=\"3.2\"/>\n<circle clip-path=\"url(#clip972)\" cx=\"2124.75\" cy=\"875.504\" r=\"14.4\" fill=\"#3da44d\" fill-rule=\"evenodd\" fill-opacity=\"1\" stroke=\"#000000\" stroke-opacity=\"1\" stroke-width=\"3.2\"/>\n<circle clip-path=\"url(#clip972)\" cx=\"615.855\" cy=\"1130.95\" r=\"14.4\" fill=\"#3da44d\" fill-rule=\"evenodd\" fill-opacity=\"1\" stroke=\"#000000\" stroke-opacity=\"1\" stroke-width=\"3.2\"/>\n<circle clip-path=\"url(#clip972)\" cx=\"1957.09\" cy=\"926.593\" r=\"14.4\" fill=\"#3da44d\" fill-rule=\"evenodd\" fill-opacity=\"1\" stroke=\"#000000\" stroke-opacity=\"1\" stroke-width=\"3.2\"/>\n<circle clip-path=\"url(#clip972)\" cx=\"1621.78\" cy=\"1130.95\" r=\"14.4\" fill=\"#3da44d\" fill-rule=\"evenodd\" fill-opacity=\"1\" stroke=\"#000000\" stroke-opacity=\"1\" stroke-width=\"3.2\"/>\n<circle clip-path=\"url(#clip972)\" cx=\"1901.21\" cy=\"568.969\" r=\"14.4\" fill=\"#3da44d\" fill-rule=\"evenodd\" fill-opacity=\"1\" stroke=\"#000000\" stroke-opacity=\"1\" stroke-width=\"3.2\"/>\n<circle clip-path=\"url(#clip972)\" cx=\"1510.01\" cy=\"773.326\" r=\"14.4\" fill=\"#3da44d\" fill-rule=\"evenodd\" fill-opacity=\"1\" stroke=\"#000000\" stroke-opacity=\"1\" stroke-width=\"3.2\"/>\n<circle clip-path=\"url(#clip972)\" cx=\"1454.13\" cy=\"1028.77\" r=\"14.4\" fill=\"#3da44d\" fill-rule=\"evenodd\" fill-opacity=\"1\" stroke=\"#000000\" stroke-opacity=\"1\" stroke-width=\"3.2\"/>\n<circle clip-path=\"url(#clip972)\" cx=\"1677.67\" cy=\"875.504\" r=\"14.4\" fill=\"#3da44d\" fill-rule=\"evenodd\" fill-opacity=\"1\" stroke=\"#000000\" stroke-opacity=\"1\" stroke-width=\"3.2\"/>\n<circle clip-path=\"url(#clip972)\" cx=\"1062.93\" cy=\"1130.95\" r=\"14.4\" fill=\"#3da44d\" fill-rule=\"evenodd\" fill-opacity=\"1\" stroke=\"#000000\" stroke-opacity=\"1\" stroke-width=\"3.2\"/>\n<circle clip-path=\"url(#clip972)\" cx=\"1118.82\" cy=\"977.683\" r=\"14.4\" fill=\"#3da44d\" fill-rule=\"evenodd\" fill-opacity=\"1\" stroke=\"#000000\" stroke-opacity=\"1\" stroke-width=\"3.2\"/>\n<circle clip-path=\"url(#clip972)\" cx=\"1454.13\" cy=\"773.326\" r=\"14.4\" fill=\"#3da44d\" fill-rule=\"evenodd\" fill-opacity=\"1\" stroke=\"#000000\" stroke-opacity=\"1\" stroke-width=\"3.2\"/>\n<circle clip-path=\"url(#clip972)\" cx=\"1510.01\" cy=\"875.504\" r=\"14.4\" fill=\"#3da44d\" fill-rule=\"evenodd\" fill-opacity=\"1\" stroke=\"#000000\" stroke-opacity=\"1\" stroke-width=\"3.2\"/>\n<circle clip-path=\"url(#clip972)\" cx=\"2180.63\" cy=\"466.791\" r=\"14.4\" fill=\"#3da44d\" fill-rule=\"evenodd\" fill-opacity=\"1\" stroke=\"#000000\" stroke-opacity=\"1\" stroke-width=\"3.2\"/>\n<circle clip-path=\"url(#clip972)\" cx=\"2180.63\" cy=\"1079.86\" r=\"14.4\" fill=\"#3da44d\" fill-rule=\"evenodd\" fill-opacity=\"1\" stroke=\"#000000\" stroke-opacity=\"1\" stroke-width=\"3.2\"/>\n<circle clip-path=\"url(#clip972)\" cx=\"1230.59\" cy=\"1284.22\" r=\"14.4\" fill=\"#3da44d\" fill-rule=\"evenodd\" fill-opacity=\"1\" stroke=\"#000000\" stroke-opacity=\"1\" stroke-width=\"3.2\"/>\n<circle clip-path=\"url(#clip972)\" cx=\"1733.55\" cy=\"773.326\" r=\"14.4\" fill=\"#3da44d\" fill-rule=\"evenodd\" fill-opacity=\"1\" stroke=\"#000000\" stroke-opacity=\"1\" stroke-width=\"3.2\"/>\n<circle clip-path=\"url(#clip972)\" cx=\"1007.05\" cy=\"977.683\" r=\"14.4\" fill=\"#3da44d\" fill-rule=\"evenodd\" fill-opacity=\"1\" stroke=\"#000000\" stroke-opacity=\"1\" stroke-width=\"3.2\"/>\n<circle clip-path=\"url(#clip972)\" cx=\"2180.63\" cy=\"977.683\" r=\"14.4\" fill=\"#3da44d\" fill-rule=\"evenodd\" fill-opacity=\"1\" stroke=\"#000000\" stroke-opacity=\"1\" stroke-width=\"3.2\"/>\n<circle clip-path=\"url(#clip972)\" cx=\"1398.24\" cy=\"1028.77\" r=\"14.4\" fill=\"#3da44d\" fill-rule=\"evenodd\" fill-opacity=\"1\" stroke=\"#000000\" stroke-opacity=\"1\" stroke-width=\"3.2\"/>\n<circle clip-path=\"url(#clip972)\" cx=\"1621.78\" cy=\"722.237\" r=\"14.4\" fill=\"#3da44d\" fill-rule=\"evenodd\" fill-opacity=\"1\" stroke=\"#000000\" stroke-opacity=\"1\" stroke-width=\"3.2\"/>\n<circle clip-path=\"url(#clip972)\" cx=\"1901.21\" cy=\"773.326\" r=\"14.4\" fill=\"#3da44d\" fill-rule=\"evenodd\" fill-opacity=\"1\" stroke=\"#000000\" stroke-opacity=\"1\" stroke-width=\"3.2\"/>\n<circle clip-path=\"url(#clip972)\" cx=\"1342.36\" cy=\"977.683\" r=\"14.4\" fill=\"#3da44d\" fill-rule=\"evenodd\" fill-opacity=\"1\" stroke=\"#000000\" stroke-opacity=\"1\" stroke-width=\"3.2\"/>\n<circle clip-path=\"url(#clip972)\" cx=\"1286.47\" cy=\"875.504\" r=\"14.4\" fill=\"#3da44d\" fill-rule=\"evenodd\" fill-opacity=\"1\" stroke=\"#000000\" stroke-opacity=\"1\" stroke-width=\"3.2\"/>\n<circle clip-path=\"url(#clip972)\" cx=\"1454.13\" cy=\"977.683\" r=\"14.4\" fill=\"#3da44d\" fill-rule=\"evenodd\" fill-opacity=\"1\" stroke=\"#000000\" stroke-opacity=\"1\" stroke-width=\"3.2\"/>\n<circle clip-path=\"url(#clip972)\" cx=\"1901.21\" cy=\"875.504\" r=\"14.4\" fill=\"#3da44d\" fill-rule=\"evenodd\" fill-opacity=\"1\" stroke=\"#000000\" stroke-opacity=\"1\" stroke-width=\"3.2\"/>\n<circle clip-path=\"url(#clip972)\" cx=\"2012.98\" cy=\"977.683\" r=\"14.4\" fill=\"#3da44d\" fill-rule=\"evenodd\" fill-opacity=\"1\" stroke=\"#000000\" stroke-opacity=\"1\" stroke-width=\"3.2\"/>\n<circle clip-path=\"url(#clip972)\" cx=\"2292.4\" cy=\"466.791\" r=\"14.4\" fill=\"#3da44d\" fill-rule=\"evenodd\" fill-opacity=\"1\" stroke=\"#000000\" stroke-opacity=\"1\" stroke-width=\"3.2\"/>\n<circle clip-path=\"url(#clip972)\" cx=\"1454.13\" cy=\"977.683\" r=\"14.4\" fill=\"#3da44d\" fill-rule=\"evenodd\" fill-opacity=\"1\" stroke=\"#000000\" stroke-opacity=\"1\" stroke-width=\"3.2\"/>\n<circle clip-path=\"url(#clip972)\" cx=\"1398.24\" cy=\"977.683\" r=\"14.4\" fill=\"#3da44d\" fill-rule=\"evenodd\" fill-opacity=\"1\" stroke=\"#000000\" stroke-opacity=\"1\" stroke-width=\"3.2\"/>\n<circle clip-path=\"url(#clip972)\" cx=\"1286.47\" cy=\"1079.86\" r=\"14.4\" fill=\"#3da44d\" fill-rule=\"evenodd\" fill-opacity=\"1\" stroke=\"#000000\" stroke-opacity=\"1\" stroke-width=\"3.2\"/>\n<circle clip-path=\"url(#clip972)\" cx=\"2180.63\" cy=\"875.504\" r=\"14.4\" fill=\"#3da44d\" fill-rule=\"evenodd\" fill-opacity=\"1\" stroke=\"#000000\" stroke-opacity=\"1\" stroke-width=\"3.2\"/>\n<circle clip-path=\"url(#clip972)\" cx=\"1398.24\" cy=\"671.148\" r=\"14.4\" fill=\"#3da44d\" fill-rule=\"evenodd\" fill-opacity=\"1\" stroke=\"#000000\" stroke-opacity=\"1\" stroke-width=\"3.2\"/>\n<circle clip-path=\"url(#clip972)\" cx=\"1454.13\" cy=\"824.415\" r=\"14.4\" fill=\"#3da44d\" fill-rule=\"evenodd\" fill-opacity=\"1\" stroke=\"#000000\" stroke-opacity=\"1\" stroke-width=\"3.2\"/>\n<circle clip-path=\"url(#clip972)\" cx=\"1230.59\" cy=\"875.504\" r=\"14.4\" fill=\"#3da44d\" fill-rule=\"evenodd\" fill-opacity=\"1\" stroke=\"#000000\" stroke-opacity=\"1\" stroke-width=\"3.2\"/>\n<circle clip-path=\"url(#clip972)\" cx=\"1733.55\" cy=\"824.415\" r=\"14.4\" fill=\"#3da44d\" fill-rule=\"evenodd\" fill-opacity=\"1\" stroke=\"#000000\" stroke-opacity=\"1\" stroke-width=\"3.2\"/>\n<circle clip-path=\"url(#clip972)\" cx=\"1621.78\" cy=\"824.415\" r=\"14.4\" fill=\"#3da44d\" fill-rule=\"evenodd\" fill-opacity=\"1\" stroke=\"#000000\" stroke-opacity=\"1\" stroke-width=\"3.2\"/>\n<circle clip-path=\"url(#clip972)\" cx=\"1733.55\" cy=\"824.415\" r=\"14.4\" fill=\"#3da44d\" fill-rule=\"evenodd\" fill-opacity=\"1\" stroke=\"#000000\" stroke-opacity=\"1\" stroke-width=\"3.2\"/>\n<circle clip-path=\"url(#clip972)\" cx=\"1118.82\" cy=\"1028.77\" r=\"14.4\" fill=\"#3da44d\" fill-rule=\"evenodd\" fill-opacity=\"1\" stroke=\"#000000\" stroke-opacity=\"1\" stroke-width=\"3.2\"/>\n<circle clip-path=\"url(#clip972)\" cx=\"1677.67\" cy=\"773.326\" r=\"14.4\" fill=\"#3da44d\" fill-rule=\"evenodd\" fill-opacity=\"1\" stroke=\"#000000\" stroke-opacity=\"1\" stroke-width=\"3.2\"/>\n<circle clip-path=\"url(#clip972)\" cx=\"1621.78\" cy=\"722.237\" r=\"14.4\" fill=\"#3da44d\" fill-rule=\"evenodd\" fill-opacity=\"1\" stroke=\"#000000\" stroke-opacity=\"1\" stroke-width=\"3.2\"/>\n<circle clip-path=\"url(#clip972)\" cx=\"1621.78\" cy=\"875.504\" r=\"14.4\" fill=\"#3da44d\" fill-rule=\"evenodd\" fill-opacity=\"1\" stroke=\"#000000\" stroke-opacity=\"1\" stroke-width=\"3.2\"/>\n<circle clip-path=\"url(#clip972)\" cx=\"1398.24\" cy=\"1130.95\" r=\"14.4\" fill=\"#3da44d\" fill-rule=\"evenodd\" fill-opacity=\"1\" stroke=\"#000000\" stroke-opacity=\"1\" stroke-width=\"3.2\"/>\n<circle clip-path=\"url(#clip972)\" cx=\"1510.01\" cy=\"875.504\" r=\"14.4\" fill=\"#3da44d\" fill-rule=\"evenodd\" fill-opacity=\"1\" stroke=\"#000000\" stroke-opacity=\"1\" stroke-width=\"3.2\"/>\n<circle clip-path=\"url(#clip972)\" cx=\"1342.36\" cy=\"671.148\" r=\"14.4\" fill=\"#3da44d\" fill-rule=\"evenodd\" fill-opacity=\"1\" stroke=\"#000000\" stroke-opacity=\"1\" stroke-width=\"3.2\"/>\n<circle clip-path=\"url(#clip972)\" cx=\"1174.7\" cy=\"875.504\" r=\"14.4\" fill=\"#3da44d\" fill-rule=\"evenodd\" fill-opacity=\"1\" stroke=\"#000000\" stroke-opacity=\"1\" stroke-width=\"3.2\"/>\n<path clip-path=\"url(#clip970)\" d=\"M1838.51 374.156 L2281.67 374.156 L2281.67 166.796 L1838.51 166.796  Z\" fill=\"#ffffff\" fill-rule=\"evenodd\" fill-opacity=\"1\"/>\n<polyline clip-path=\"url(#clip970)\" style=\"stroke:#000000; stroke-linecap:round; stroke-linejoin:round; stroke-width:4; stroke-opacity:1; fill:none\" points=\"1838.51,374.156 2281.67,374.156 2281.67,166.796 1838.51,166.796 1838.51,374.156 \"/>\n<circle clip-path=\"url(#clip970)\" cx=\"1933.29\" cy=\"218.636\" r=\"20.48\" fill=\"#009af9\" fill-rule=\"evenodd\" fill-opacity=\"1\" stroke=\"#000000\" stroke-opacity=\"1\" stroke-width=\"4.55111\"/>\n<path clip-path=\"url(#clip970)\" d=\"M2046.49 210.754 L2046.49 214.782 Q2044.69 213.856 2042.74 213.393 Q2040.8 212.93 2038.72 212.93 Q2035.55 212.93 2033.95 213.902 Q2032.37 214.874 2032.37 216.819 Q2032.37 218.3 2033.51 219.157 Q2034.64 219.99 2038.07 220.754 L2039.53 221.078 Q2044.06 222.05 2045.96 223.832 Q2047.88 225.592 2047.88 228.763 Q2047.88 232.374 2045.01 234.481 Q2042.17 236.587 2037.17 236.587 Q2035.08 236.587 2032.81 236.17 Q2030.57 235.777 2028.07 234.967 L2028.07 230.569 Q2030.43 231.795 2032.72 232.42 Q2035.01 233.022 2037.26 233.022 Q2040.27 233.022 2041.89 232.004 Q2043.51 230.962 2043.51 229.087 Q2043.51 227.351 2042.33 226.425 Q2041.17 225.499 2037.21 224.643 L2035.73 224.295 Q2031.77 223.462 2030.01 221.749 Q2028.25 220.013 2028.25 217.004 Q2028.25 213.346 2030.85 211.356 Q2033.44 209.365 2038.21 209.365 Q2040.57 209.365 2042.65 209.712 Q2044.74 210.059 2046.49 210.754 Z\" fill=\"#000000\" fill-rule=\"nonzero\" fill-opacity=\"1\" /><path clip-path=\"url(#clip970)\" d=\"M2076.84 221.888 L2076.84 223.971 L2057.26 223.971 Q2057.54 228.369 2059.9 230.684 Q2062.28 232.976 2066.52 232.976 Q2068.97 232.976 2071.26 232.374 Q2073.58 231.772 2075.85 230.569 L2075.85 234.596 Q2073.55 235.568 2071.15 236.078 Q2068.74 236.587 2066.26 236.587 Q2060.06 236.587 2056.43 232.976 Q2052.81 229.365 2052.81 223.207 Q2052.81 216.842 2056.24 213.115 Q2059.69 209.365 2065.52 209.365 Q2070.75 209.365 2073.79 212.745 Q2076.84 216.101 2076.84 221.888 M2072.58 220.638 Q2072.54 217.143 2070.62 215.059 Q2068.72 212.976 2065.57 212.976 Q2062 212.976 2059.85 214.99 Q2057.72 217.004 2057.4 220.661 L2072.58 220.638 Z\" fill=\"#000000\" fill-rule=\"nonzero\" fill-opacity=\"1\" /><path clip-path=\"url(#clip970)\" d=\"M2088.05 202.629 L2088.05 209.99 L2096.82 209.99 L2096.82 213.3 L2088.05 213.3 L2088.05 227.374 Q2088.05 230.545 2088.9 231.448 Q2089.78 232.351 2092.44 232.351 L2096.82 232.351 L2096.82 235.916 L2092.44 235.916 Q2087.51 235.916 2085.64 234.087 Q2083.76 232.235 2083.76 227.374 L2083.76 213.3 L2080.64 213.3 L2080.64 209.99 L2083.76 209.99 L2083.76 202.629 L2088.05 202.629 Z\" fill=\"#000000\" fill-rule=\"nonzero\" fill-opacity=\"1\" /><path clip-path=\"url(#clip970)\" d=\"M2112.47 212.976 Q2109.04 212.976 2107.05 215.661 Q2105.06 218.323 2105.06 222.976 Q2105.06 227.629 2107.03 230.314 Q2109.02 232.976 2112.47 232.976 Q2115.87 232.976 2117.86 230.291 Q2119.85 227.606 2119.85 222.976 Q2119.85 218.37 2117.86 215.684 Q2115.87 212.976 2112.47 212.976 M2112.47 209.365 Q2118.02 209.365 2121.19 212.976 Q2124.36 216.587 2124.36 222.976 Q2124.36 229.342 2121.19 232.976 Q2118.02 236.587 2112.47 236.587 Q2106.89 236.587 2103.72 232.976 Q2100.57 229.342 2100.57 222.976 Q2100.57 216.587 2103.72 212.976 Q2106.89 209.365 2112.47 209.365 Z\" fill=\"#000000\" fill-rule=\"nonzero\" fill-opacity=\"1\" /><path clip-path=\"url(#clip970)\" d=\"M2147.95 210.754 L2147.95 214.782 Q2146.15 213.856 2144.2 213.393 Q2142.26 212.93 2140.17 212.93 Q2137 212.93 2135.41 213.902 Q2133.83 214.874 2133.83 216.819 Q2133.83 218.3 2134.97 219.157 Q2136.1 219.99 2139.53 220.754 L2140.99 221.078 Q2145.52 222.05 2147.42 223.832 Q2149.34 225.592 2149.34 228.763 Q2149.34 232.374 2146.47 234.481 Q2143.62 236.587 2138.62 236.587 Q2136.54 236.587 2134.27 236.17 Q2132.03 235.777 2129.53 234.967 L2129.53 230.569 Q2131.89 231.795 2134.18 232.42 Q2136.47 233.022 2138.72 233.022 Q2141.73 233.022 2143.35 232.004 Q2144.97 230.962 2144.97 229.087 Q2144.97 227.351 2143.79 226.425 Q2142.63 225.499 2138.67 224.643 L2137.19 224.295 Q2133.23 223.462 2131.47 221.749 Q2129.71 220.013 2129.71 217.004 Q2129.71 213.346 2132.3 211.356 Q2134.9 209.365 2139.67 209.365 Q2142.03 209.365 2144.11 209.712 Q2146.19 210.059 2147.95 210.754 Z\" fill=\"#000000\" fill-rule=\"nonzero\" fill-opacity=\"1\" /><path clip-path=\"url(#clip970)\" d=\"M2167.91 222.883 Q2162.74 222.883 2160.75 224.064 Q2158.76 225.244 2158.76 228.092 Q2158.76 230.36 2160.24 231.703 Q2161.75 233.022 2164.32 233.022 Q2167.86 233.022 2169.99 230.522 Q2172.14 227.999 2172.14 223.832 L2172.14 222.883 L2167.91 222.883 M2176.4 221.124 L2176.4 235.916 L2172.14 235.916 L2172.14 231.981 Q2170.68 234.342 2168.51 235.476 Q2166.33 236.587 2163.18 236.587 Q2159.2 236.587 2156.84 234.365 Q2154.5 232.119 2154.5 228.369 Q2154.5 223.994 2157.42 221.772 Q2160.36 219.55 2166.17 219.55 L2172.14 219.55 L2172.14 219.133 Q2172.14 216.194 2170.2 214.596 Q2168.28 212.976 2164.78 212.976 Q2162.56 212.976 2160.45 213.508 Q2158.35 214.041 2156.4 215.106 L2156.4 211.17 Q2158.74 210.268 2160.94 209.828 Q2163.14 209.365 2165.22 209.365 Q2170.85 209.365 2173.62 212.282 Q2176.4 215.198 2176.4 221.124 Z\" fill=\"#000000\" fill-rule=\"nonzero\" fill-opacity=\"1\" /><circle clip-path=\"url(#clip970)\" cx=\"1933.29\" cy=\"270.476\" r=\"20.48\" fill=\"#e26f46\" fill-rule=\"evenodd\" fill-opacity=\"1\" stroke=\"#000000\" stroke-opacity=\"1\" stroke-width=\"4.55111\"/>\n<path clip-path=\"url(#clip970)\" d=\"M2028.07 261.83 L2032.58 261.83 L2040.68 283.589 L2048.79 261.83 L2053.3 261.83 L2043.58 287.756 L2037.79 287.756 L2028.07 261.83 Z\" fill=\"#000000\" fill-rule=\"nonzero\" fill-opacity=\"1\" /><path clip-path=\"url(#clip970)\" d=\"M2081.36 273.728 L2081.36 275.811 L2061.77 275.811 Q2062.05 280.209 2064.41 282.524 Q2066.8 284.816 2071.03 284.816 Q2073.49 284.816 2075.78 284.214 Q2078.09 283.612 2080.36 282.409 L2080.36 286.436 Q2078.07 287.408 2075.66 287.918 Q2073.25 288.427 2070.78 288.427 Q2064.57 288.427 2060.94 284.816 Q2057.33 281.205 2057.33 275.047 Q2057.33 268.682 2060.75 264.955 Q2064.2 261.205 2070.04 261.205 Q2075.27 261.205 2078.3 264.585 Q2081.36 267.941 2081.36 273.728 M2077.1 272.478 Q2077.05 268.983 2075.13 266.899 Q2073.23 264.816 2070.08 264.816 Q2066.52 264.816 2064.37 266.83 Q2062.24 268.844 2061.91 272.501 L2077.1 272.478 Z\" fill=\"#000000\" fill-rule=\"nonzero\" fill-opacity=\"1\" /><path clip-path=\"url(#clip970)\" d=\"M2103.37 265.811 Q2102.65 265.395 2101.8 265.21 Q2100.96 265.001 2099.94 265.001 Q2096.33 265.001 2094.39 267.362 Q2092.47 269.7 2092.47 274.098 L2092.47 287.756 L2088.18 287.756 L2088.18 261.83 L2092.47 261.83 L2092.47 265.858 Q2093.81 263.497 2095.96 262.362 Q2098.11 261.205 2101.19 261.205 Q2101.63 261.205 2102.17 261.274 Q2102.7 261.321 2103.35 261.436 L2103.37 265.811 Z\" fill=\"#000000\" fill-rule=\"nonzero\" fill-opacity=\"1\" /><path clip-path=\"url(#clip970)\" d=\"M2124.36 262.594 L2124.36 266.622 Q2122.56 265.696 2120.61 265.233 Q2118.67 264.77 2116.59 264.77 Q2113.42 264.77 2111.82 265.742 Q2110.24 266.714 2110.24 268.659 Q2110.24 270.14 2111.38 270.997 Q2112.51 271.83 2115.94 272.594 L2117.4 272.918 Q2121.93 273.89 2123.83 275.672 Q2125.75 277.432 2125.75 280.603 Q2125.75 284.214 2122.88 286.321 Q2120.04 288.427 2115.04 288.427 Q2112.95 288.427 2110.68 288.01 Q2108.44 287.617 2105.94 286.807 L2105.94 282.409 Q2108.3 283.635 2110.59 284.26 Q2112.88 284.862 2115.13 284.862 Q2118.14 284.862 2119.76 283.844 Q2121.38 282.802 2121.38 280.927 Q2121.38 279.191 2120.2 278.265 Q2119.04 277.339 2115.08 276.483 L2113.6 276.135 Q2109.64 275.302 2107.88 273.589 Q2106.12 271.853 2106.12 268.844 Q2106.12 265.186 2108.72 263.196 Q2111.31 261.205 2116.08 261.205 Q2118.44 261.205 2120.52 261.552 Q2122.61 261.899 2124.36 262.594 Z\" fill=\"#000000\" fill-rule=\"nonzero\" fill-opacity=\"1\" /><path clip-path=\"url(#clip970)\" d=\"M2132.54 261.83 L2136.8 261.83 L2136.8 287.756 L2132.54 287.756 L2132.54 261.83 M2132.54 251.737 L2136.8 251.737 L2136.8 257.131 L2132.54 257.131 L2132.54 251.737 Z\" fill=\"#000000\" fill-rule=\"nonzero\" fill-opacity=\"1\" /><path clip-path=\"url(#clip970)\" d=\"M2164.36 262.825 L2164.36 266.807 Q2162.56 265.811 2160.73 265.325 Q2158.92 264.816 2157.07 264.816 Q2152.93 264.816 2150.64 267.455 Q2148.35 270.071 2148.35 274.816 Q2148.35 279.561 2150.64 282.2 Q2152.93 284.816 2157.07 284.816 Q2158.92 284.816 2160.73 284.33 Q2162.56 283.821 2164.36 282.825 L2164.36 286.76 Q2162.58 287.594 2160.66 288.01 Q2158.76 288.427 2156.61 288.427 Q2150.75 288.427 2147.3 284.746 Q2143.86 281.066 2143.86 274.816 Q2143.86 268.473 2147.33 264.839 Q2150.82 261.205 2156.89 261.205 Q2158.86 261.205 2160.73 261.622 Q2162.61 262.015 2164.36 262.825 Z\" fill=\"#000000\" fill-rule=\"nonzero\" fill-opacity=\"1\" /><path clip-path=\"url(#clip970)\" d=\"M2181.82 264.816 Q2178.39 264.816 2176.4 267.501 Q2174.41 270.163 2174.41 274.816 Q2174.41 279.469 2176.38 282.154 Q2178.37 284.816 2181.82 284.816 Q2185.22 284.816 2187.21 282.131 Q2189.2 279.446 2189.2 274.816 Q2189.2 270.21 2187.21 267.524 Q2185.22 264.816 2181.82 264.816 M2181.82 261.205 Q2187.37 261.205 2190.55 264.816 Q2193.72 268.427 2193.72 274.816 Q2193.72 281.182 2190.55 284.816 Q2187.37 288.427 2181.82 288.427 Q2176.24 288.427 2173.07 284.816 Q2169.92 281.182 2169.92 274.816 Q2169.92 268.427 2173.07 264.816 Q2176.24 261.205 2181.82 261.205 Z\" fill=\"#000000\" fill-rule=\"nonzero\" fill-opacity=\"1\" /><path clip-path=\"url(#clip970)\" d=\"M2200.78 251.737 L2205.04 251.737 L2205.04 287.756 L2200.78 287.756 L2200.78 251.737 Z\" fill=\"#000000\" fill-rule=\"nonzero\" fill-opacity=\"1\" /><path clip-path=\"url(#clip970)\" d=\"M2223.99 264.816 Q2220.57 264.816 2218.58 267.501 Q2216.59 270.163 2216.59 274.816 Q2216.59 279.469 2218.55 282.154 Q2220.54 284.816 2223.99 284.816 Q2227.4 284.816 2229.39 282.131 Q2231.38 279.446 2231.38 274.816 Q2231.38 270.21 2229.39 267.524 Q2227.4 264.816 2223.99 264.816 M2223.99 261.205 Q2229.55 261.205 2232.72 264.816 Q2235.89 268.427 2235.89 274.816 Q2235.89 281.182 2232.72 284.816 Q2229.55 288.427 2223.99 288.427 Q2218.42 288.427 2215.24 284.816 Q2212.1 281.182 2212.1 274.816 Q2212.1 268.427 2215.24 264.816 Q2218.42 261.205 2223.99 261.205 Z\" fill=\"#000000\" fill-rule=\"nonzero\" fill-opacity=\"1\" /><path clip-path=\"url(#clip970)\" d=\"M2257.98 265.811 Q2257.26 265.395 2256.4 265.21 Q2255.57 265.001 2254.55 265.001 Q2250.94 265.001 2248.99 267.362 Q2247.07 269.7 2247.07 274.098 L2247.07 287.756 L2242.79 287.756 L2242.79 261.83 L2247.07 261.83 L2247.07 265.858 Q2248.42 263.497 2250.57 262.362 Q2252.72 261.205 2255.8 261.205 Q2256.24 261.205 2256.77 261.274 Q2257.3 261.321 2257.95 261.436 L2257.98 265.811 Z\" fill=\"#000000\" fill-rule=\"nonzero\" fill-opacity=\"1\" /><circle clip-path=\"url(#clip970)\" cx=\"1933.29\" cy=\"322.316\" r=\"20.48\" fill=\"#3da44d\" fill-rule=\"evenodd\" fill-opacity=\"1\" stroke=\"#000000\" stroke-opacity=\"1\" stroke-width=\"4.55111\"/>\n<path clip-path=\"url(#clip970)\" d=\"M2028.07 313.67 L2032.58 313.67 L2040.68 335.429 L2048.79 313.67 L2053.3 313.67 L2043.58 339.596 L2037.79 339.596 L2028.07 313.67 Z\" fill=\"#000000\" fill-rule=\"nonzero\" fill-opacity=\"1\" /><path clip-path=\"url(#clip970)\" d=\"M2059.18 313.67 L2063.44 313.67 L2063.44 339.596 L2059.18 339.596 L2059.18 313.67 M2059.18 303.577 L2063.44 303.577 L2063.44 308.971 L2059.18 308.971 L2059.18 303.577 Z\" fill=\"#000000\" fill-rule=\"nonzero\" fill-opacity=\"1\" /><path clip-path=\"url(#clip970)\" d=\"M2087.37 317.651 Q2086.66 317.235 2085.8 317.05 Q2084.97 316.841 2083.95 316.841 Q2080.34 316.841 2078.39 319.202 Q2076.47 321.54 2076.47 325.938 L2076.47 339.596 L2072.19 339.596 L2072.19 313.67 L2076.47 313.67 L2076.47 317.698 Q2077.81 315.337 2079.97 314.202 Q2082.12 313.045 2085.2 313.045 Q2085.64 313.045 2086.17 313.114 Q2086.7 313.161 2087.35 313.276 L2087.37 317.651 Z\" fill=\"#000000\" fill-rule=\"nonzero\" fill-opacity=\"1\" /><path clip-path=\"url(#clip970)\" d=\"M2108.07 326.332 Q2108.07 321.702 2106.15 319.156 Q2104.25 316.61 2100.8 316.61 Q2097.37 316.61 2095.45 319.156 Q2093.55 321.702 2093.55 326.332 Q2093.55 330.938 2095.45 333.485 Q2097.37 336.031 2100.8 336.031 Q2104.25 336.031 2106.15 333.485 Q2108.07 330.938 2108.07 326.332 M2112.33 336.378 Q2112.33 342.998 2109.39 346.216 Q2106.45 349.457 2100.38 349.457 Q2098.14 349.457 2096.15 349.11 Q2094.16 348.785 2092.28 348.091 L2092.28 343.948 Q2094.16 344.966 2095.99 345.452 Q2097.81 345.938 2099.71 345.938 Q2103.9 345.938 2105.99 343.739 Q2108.07 341.563 2108.07 337.142 L2108.07 335.036 Q2106.75 337.327 2104.69 338.461 Q2102.63 339.596 2099.76 339.596 Q2094.99 339.596 2092.07 335.961 Q2089.16 332.327 2089.16 326.332 Q2089.16 320.313 2092.07 316.679 Q2094.99 313.045 2099.76 313.045 Q2102.63 313.045 2104.69 314.179 Q2106.75 315.313 2108.07 317.605 L2108.07 313.67 L2112.33 313.67 L2112.33 336.378 Z\" fill=\"#000000\" fill-rule=\"nonzero\" fill-opacity=\"1\" /><path clip-path=\"url(#clip970)\" d=\"M2121.1 313.67 L2125.36 313.67 L2125.36 339.596 L2121.1 339.596 L2121.1 313.67 M2121.1 303.577 L2125.36 303.577 L2125.36 308.971 L2121.1 308.971 L2121.1 303.577 Z\" fill=\"#000000\" fill-rule=\"nonzero\" fill-opacity=\"1\" /><path clip-path=\"url(#clip970)\" d=\"M2155.82 323.948 L2155.82 339.596 L2151.56 339.596 L2151.56 324.087 Q2151.56 320.406 2150.13 318.577 Q2148.69 316.749 2145.82 316.749 Q2142.37 316.749 2140.38 318.948 Q2138.39 321.147 2138.39 324.943 L2138.39 339.596 L2134.11 339.596 L2134.11 313.67 L2138.39 313.67 L2138.39 317.698 Q2139.92 315.36 2141.98 314.202 Q2144.06 313.045 2146.77 313.045 Q2151.24 313.045 2153.53 315.823 Q2155.82 318.577 2155.82 323.948 Z\" fill=\"#000000\" fill-rule=\"nonzero\" fill-opacity=\"1\" /><path clip-path=\"url(#clip970)\" d=\"M2164.32 313.67 L2168.58 313.67 L2168.58 339.596 L2164.32 339.596 L2164.32 313.67 M2164.32 303.577 L2168.58 303.577 L2168.58 308.971 L2164.32 308.971 L2164.32 303.577 Z\" fill=\"#000000\" fill-rule=\"nonzero\" fill-opacity=\"1\" /><path clip-path=\"url(#clip970)\" d=\"M2196.15 314.665 L2196.15 318.647 Q2194.34 317.651 2192.51 317.165 Q2190.71 316.656 2188.86 316.656 Q2184.71 316.656 2182.42 319.295 Q2180.13 321.911 2180.13 326.656 Q2180.13 331.401 2182.42 334.04 Q2184.71 336.656 2188.86 336.656 Q2190.71 336.656 2192.51 336.17 Q2194.34 335.661 2196.15 334.665 L2196.15 338.6 Q2194.36 339.434 2192.44 339.85 Q2190.55 340.267 2188.39 340.267 Q2182.54 340.267 2179.09 336.586 Q2175.64 332.906 2175.64 326.656 Q2175.64 320.313 2179.11 316.679 Q2182.61 313.045 2188.67 313.045 Q2190.64 313.045 2192.51 313.462 Q2194.39 313.855 2196.15 314.665 Z\" fill=\"#000000\" fill-rule=\"nonzero\" fill-opacity=\"1\" /><path clip-path=\"url(#clip970)\" d=\"M2215.34 326.563 Q2210.17 326.563 2208.18 327.744 Q2206.19 328.924 2206.19 331.772 Q2206.19 334.04 2207.67 335.383 Q2209.18 336.702 2211.75 336.702 Q2215.29 336.702 2217.42 334.202 Q2219.57 331.679 2219.57 327.512 L2219.57 326.563 L2215.34 326.563 M2223.83 324.804 L2223.83 339.596 L2219.57 339.596 L2219.57 335.661 Q2218.11 338.022 2215.94 339.156 Q2213.76 340.267 2210.61 340.267 Q2206.63 340.267 2204.27 338.045 Q2201.93 335.799 2201.93 332.049 Q2201.93 327.674 2204.85 325.452 Q2207.79 323.23 2213.6 323.23 L2219.57 323.23 L2219.57 322.813 Q2219.57 319.874 2217.63 318.276 Q2215.71 316.656 2212.21 316.656 Q2209.99 316.656 2207.88 317.188 Q2205.78 317.721 2203.83 318.786 L2203.83 314.85 Q2206.17 313.948 2208.37 313.508 Q2210.57 313.045 2212.65 313.045 Q2218.28 313.045 2221.05 315.962 Q2223.83 318.878 2223.83 324.804 Z\" fill=\"#000000\" fill-rule=\"nonzero\" fill-opacity=\"1\" /></svg>\n"
          },
          "metadata": {},
          "execution_count": 69
        }
      ]
    },
    {
      "cell_type": "markdown",
      "source": [
        "O histograma abaixo é equivalente ao ggplot() do tidyverse em R."
      ],
      "metadata": {
        "id": "9n8SBnOfBWHK"
      }
    },
    {
      "cell_type": "code",
      "source": [
        "histogram(iris[!, :PetalLength],\n",
        "          bins=10,\n",
        "          xlabel=\"Comprimento da Pétala\",\n",
        "          ylabel=\"Frequência\",\n",
        "          title=\"Distribuição do comprimento da pétala\")"
      ],
      "metadata": {
        "colab": {
          "base_uri": "https://localhost:8080/",
          "height": 422
        },
        "id": "w-MNc6PQBT89",
        "outputId": "9573353d-5169-4690-8501-83b5e4c19456"
      },
      "execution_count": null,
      "outputs": [
        {
          "output_type": "execute_result",
          "data": {
            "image/svg+xml": "<?xml version=\"1.0\" encoding=\"utf-8\"?>\n<svg xmlns=\"http://www.w3.org/2000/svg\" xmlns:xlink=\"http://www.w3.org/1999/xlink\" width=\"600\" height=\"400\" viewBox=\"0 0 2400 1600\">\n<defs>\n  <clipPath id=\"clip010\">\n    <rect x=\"0\" y=\"0\" width=\"2400\" height=\"1600\"/>\n  </clipPath>\n</defs>\n<path clip-path=\"url(#clip010)\" d=\"M0 1600 L2400 1600 L2400 0 L0 0  Z\" fill=\"#ffffff\" fill-rule=\"evenodd\" fill-opacity=\"1\"/>\n<defs>\n  <clipPath id=\"clip011\">\n    <rect x=\"480\" y=\"0\" width=\"1681\" height=\"1600\"/>\n  </clipPath>\n</defs>\n<path clip-path=\"url(#clip010)\" d=\"M205.121 1423.18 L2352.76 1423.18 L2352.76 123.472 L205.121 123.472  Z\" fill=\"#ffffff\" fill-rule=\"evenodd\" fill-opacity=\"1\"/>\n<defs>\n  <clipPath id=\"clip012\">\n    <rect x=\"205\" y=\"123\" width=\"2149\" height=\"1301\"/>\n  </clipPath>\n</defs>\n<polyline clip-path=\"url(#clip012)\" style=\"stroke:#000000; stroke-linecap:round; stroke-linejoin:round; stroke-width:2; stroke-opacity:0.1; fill:none\" points=\"323.245,1423.18 323.245,123.472 \"/>\n<polyline clip-path=\"url(#clip012)\" style=\"stroke:#000000; stroke-linecap:round; stroke-linejoin:round; stroke-width:2; stroke-opacity:0.1; fill:none\" points=\"641.809,1423.18 641.809,123.472 \"/>\n<polyline clip-path=\"url(#clip012)\" style=\"stroke:#000000; stroke-linecap:round; stroke-linejoin:round; stroke-width:2; stroke-opacity:0.1; fill:none\" points=\"960.374,1423.18 960.374,123.472 \"/>\n<polyline clip-path=\"url(#clip012)\" style=\"stroke:#000000; stroke-linecap:round; stroke-linejoin:round; stroke-width:2; stroke-opacity:0.1; fill:none\" points=\"1278.94,1423.18 1278.94,123.472 \"/>\n<polyline clip-path=\"url(#clip012)\" style=\"stroke:#000000; stroke-linecap:round; stroke-linejoin:round; stroke-width:2; stroke-opacity:0.1; fill:none\" points=\"1597.5,1423.18 1597.5,123.472 \"/>\n<polyline clip-path=\"url(#clip012)\" style=\"stroke:#000000; stroke-linecap:round; stroke-linejoin:round; stroke-width:2; stroke-opacity:0.1; fill:none\" points=\"1916.07,1423.18 1916.07,123.472 \"/>\n<polyline clip-path=\"url(#clip012)\" style=\"stroke:#000000; stroke-linecap:round; stroke-linejoin:round; stroke-width:2; stroke-opacity:0.1; fill:none\" points=\"2234.63,1423.18 2234.63,123.472 \"/>\n<polyline clip-path=\"url(#clip010)\" style=\"stroke:#000000; stroke-linecap:round; stroke-linejoin:round; stroke-width:4; stroke-opacity:1; fill:none\" points=\"205.121,1423.18 2352.76,1423.18 \"/>\n<polyline clip-path=\"url(#clip010)\" style=\"stroke:#000000; stroke-linecap:round; stroke-linejoin:round; stroke-width:4; stroke-opacity:1; fill:none\" points=\"323.245,1423.18 323.245,1404.28 \"/>\n<polyline clip-path=\"url(#clip010)\" style=\"stroke:#000000; stroke-linecap:round; stroke-linejoin:round; stroke-width:4; stroke-opacity:1; fill:none\" points=\"641.809,1423.18 641.809,1404.28 \"/>\n<polyline clip-path=\"url(#clip010)\" style=\"stroke:#000000; stroke-linecap:round; stroke-linejoin:round; stroke-width:4; stroke-opacity:1; fill:none\" points=\"960.374,1423.18 960.374,1404.28 \"/>\n<polyline clip-path=\"url(#clip010)\" style=\"stroke:#000000; stroke-linecap:round; stroke-linejoin:round; stroke-width:4; stroke-opacity:1; fill:none\" points=\"1278.94,1423.18 1278.94,1404.28 \"/>\n<polyline clip-path=\"url(#clip010)\" style=\"stroke:#000000; stroke-linecap:round; stroke-linejoin:round; stroke-width:4; stroke-opacity:1; fill:none\" points=\"1597.5,1423.18 1597.5,1404.28 \"/>\n<polyline clip-path=\"url(#clip010)\" style=\"stroke:#000000; stroke-linecap:round; stroke-linejoin:round; stroke-width:4; stroke-opacity:1; fill:none\" points=\"1916.07,1423.18 1916.07,1404.28 \"/>\n<polyline clip-path=\"url(#clip010)\" style=\"stroke:#000000; stroke-linecap:round; stroke-linejoin:round; stroke-width:4; stroke-opacity:1; fill:none\" points=\"2234.63,1423.18 2234.63,1404.28 \"/>\n<path clip-path=\"url(#clip010)\" d=\"M313.627 1481.64 L321.266 1481.64 L321.266 1455.28 L312.955 1456.95 L312.955 1452.69 L321.219 1451.02 L325.895 1451.02 L325.895 1481.64 L333.534 1481.64 L333.534 1485.58 L313.627 1485.58 L313.627 1481.64 Z\" fill=\"#000000\" fill-rule=\"nonzero\" fill-opacity=\"1\" /><path clip-path=\"url(#clip010)\" d=\"M636.462 1481.64 L652.781 1481.64 L652.781 1485.58 L630.837 1485.58 L630.837 1481.64 Q633.499 1478.89 638.082 1474.26 Q642.689 1469.61 643.869 1468.27 Q646.115 1465.74 646.994 1464.01 Q647.897 1462.25 647.897 1460.56 Q647.897 1457.8 645.953 1456.07 Q644.032 1454.33 640.93 1454.33 Q638.731 1454.33 636.277 1455.09 Q633.846 1455.86 631.069 1457.41 L631.069 1452.69 Q633.893 1451.55 636.346 1450.97 Q638.8 1450.39 640.837 1450.39 Q646.207 1450.39 649.402 1453.08 Q652.596 1455.77 652.596 1460.26 Q652.596 1462.39 651.786 1464.31 Q650.999 1466.2 648.893 1468.8 Q648.314 1469.47 645.212 1472.69 Q642.11 1475.88 636.462 1481.64 Z\" fill=\"#000000\" fill-rule=\"nonzero\" fill-opacity=\"1\" /><path clip-path=\"url(#clip010)\" d=\"M964.622 1466.95 Q967.978 1467.66 969.853 1469.93 Q971.751 1472.2 971.751 1475.53 Q971.751 1480.65 968.233 1483.45 Q964.714 1486.25 958.233 1486.25 Q956.057 1486.25 953.742 1485.81 Q951.45 1485.39 948.997 1484.54 L948.997 1480.02 Q950.941 1481.16 953.256 1481.74 Q955.571 1482.32 958.094 1482.32 Q962.492 1482.32 964.784 1480.58 Q967.098 1478.84 967.098 1475.53 Q967.098 1472.48 964.946 1470.77 Q962.816 1469.03 958.997 1469.03 L954.969 1469.03 L954.969 1465.19 L959.182 1465.19 Q962.631 1465.19 964.459 1463.82 Q966.288 1462.43 966.288 1459.84 Q966.288 1457.18 964.39 1455.77 Q962.515 1454.33 958.997 1454.33 Q957.075 1454.33 954.876 1454.75 Q952.677 1455.16 950.038 1456.04 L950.038 1451.88 Q952.7 1451.14 955.015 1450.77 Q957.353 1450.39 959.413 1450.39 Q964.737 1450.39 967.839 1452.83 Q970.941 1455.23 970.941 1459.35 Q970.941 1462.22 969.297 1464.21 Q967.654 1466.18 964.622 1466.95 Z\" fill=\"#000000\" fill-rule=\"nonzero\" fill-opacity=\"1\" /><path clip-path=\"url(#clip010)\" d=\"M1281.95 1455.09 L1270.14 1473.54 L1281.95 1473.54 L1281.95 1455.09 M1280.72 1451.02 L1286.6 1451.02 L1286.6 1473.54 L1291.53 1473.54 L1291.53 1477.43 L1286.6 1477.43 L1286.6 1485.58 L1281.95 1485.58 L1281.95 1477.43 L1266.35 1477.43 L1266.35 1472.92 L1280.72 1451.02 Z\" fill=\"#000000\" fill-rule=\"nonzero\" fill-opacity=\"1\" /><path clip-path=\"url(#clip010)\" d=\"M1587.78 1451.02 L1606.14 1451.02 L1606.14 1454.96 L1592.06 1454.96 L1592.06 1463.43 Q1593.08 1463.08 1594.1 1462.92 Q1595.12 1462.73 1596.14 1462.73 Q1601.92 1462.73 1605.3 1465.9 Q1608.68 1469.08 1608.68 1474.49 Q1608.68 1480.07 1605.21 1483.17 Q1601.74 1486.25 1595.42 1486.25 Q1593.24 1486.25 1590.98 1485.88 Q1588.73 1485.51 1586.32 1484.77 L1586.32 1480.07 Q1588.41 1481.2 1590.63 1481.76 Q1592.85 1482.32 1595.33 1482.32 Q1599.33 1482.32 1601.67 1480.21 Q1604.01 1478.1 1604.01 1474.49 Q1604.01 1470.88 1601.67 1468.77 Q1599.33 1466.67 1595.33 1466.67 Q1593.45 1466.67 1591.58 1467.08 Q1589.73 1467.5 1587.78 1468.38 L1587.78 1451.02 Z\" fill=\"#000000\" fill-rule=\"nonzero\" fill-opacity=\"1\" /><path clip-path=\"url(#clip010)\" d=\"M1916.47 1466.44 Q1913.32 1466.44 1911.47 1468.59 Q1909.64 1470.74 1909.64 1474.49 Q1909.64 1478.22 1911.47 1480.39 Q1913.32 1482.55 1916.47 1482.55 Q1919.62 1482.55 1921.45 1480.39 Q1923.3 1478.22 1923.3 1474.49 Q1923.3 1470.74 1921.45 1468.59 Q1919.62 1466.44 1916.47 1466.44 M1925.76 1451.78 L1925.76 1456.04 Q1924 1455.21 1922.19 1454.77 Q1920.41 1454.33 1918.65 1454.33 Q1914.02 1454.33 1911.57 1457.45 Q1909.13 1460.58 1908.79 1466.9 Q1910.15 1464.89 1912.21 1463.82 Q1914.27 1462.73 1916.75 1462.73 Q1921.96 1462.73 1924.97 1465.9 Q1928 1469.05 1928 1474.49 Q1928 1479.82 1924.85 1483.03 Q1921.7 1486.25 1916.47 1486.25 Q1910.48 1486.25 1907.31 1481.67 Q1904.13 1477.06 1904.13 1468.33 Q1904.13 1460.14 1908.02 1455.28 Q1911.91 1450.39 1918.46 1450.39 Q1920.22 1450.39 1922.01 1450.74 Q1923.81 1451.09 1925.76 1451.78 Z\" fill=\"#000000\" fill-rule=\"nonzero\" fill-opacity=\"1\" /><path clip-path=\"url(#clip010)\" d=\"M2223.52 1451.02 L2245.74 1451.02 L2245.74 1453.01 L2233.2 1485.58 L2228.31 1485.58 L2240.12 1454.96 L2223.52 1454.96 L2223.52 1451.02 Z\" fill=\"#000000\" fill-rule=\"nonzero\" fill-opacity=\"1\" /><path clip-path=\"url(#clip010)\" d=\"M937.577 1524.18 L937.577 1530.96 Q934.331 1527.94 930.639 1526.44 Q926.979 1524.95 922.841 1524.95 Q914.693 1524.95 910.364 1529.95 Q906.035 1534.91 906.035 1544.33 Q906.035 1553.72 910.364 1558.72 Q914.693 1563.68 922.841 1563.68 Q926.979 1563.68 930.639 1562.19 Q934.331 1560.69 937.577 1557.67 L937.577 1564.38 Q934.204 1566.68 930.416 1567.82 Q926.66 1568.97 922.459 1568.97 Q911.669 1568.97 905.462 1562.38 Q899.256 1555.76 899.256 1544.33 Q899.256 1532.87 905.462 1526.28 Q911.669 1519.66 922.459 1519.66 Q926.724 1519.66 930.48 1520.81 Q934.267 1521.92 937.577 1524.18 Z\" fill=\"#000000\" fill-rule=\"nonzero\" fill-opacity=\"1\" /><path clip-path=\"url(#clip010)\" d=\"M961.067 1536.5 Q956.356 1536.5 953.619 1540.19 Q950.882 1543.85 950.882 1550.25 Q950.882 1556.65 953.587 1560.34 Q956.324 1564 961.067 1564 Q965.746 1564 968.483 1560.31 Q971.22 1556.62 971.22 1550.25 Q971.22 1543.92 968.483 1540.23 Q965.746 1536.5 961.067 1536.5 M961.067 1531.54 Q968.706 1531.54 973.066 1536.5 Q977.427 1541.47 977.427 1550.25 Q977.427 1559 973.066 1564 Q968.706 1568.97 961.067 1568.97 Q953.396 1568.97 949.036 1564 Q944.707 1559 944.707 1550.25 Q944.707 1541.47 949.036 1536.5 Q953.396 1531.54 961.067 1531.54 Z\" fill=\"#000000\" fill-rule=\"nonzero\" fill-opacity=\"1\" /><path clip-path=\"url(#clip010)\" d=\"M1014.89 1539.24 Q1017.09 1535.29 1020.14 1533.41 Q1023.2 1531.54 1027.33 1531.54 Q1032.9 1531.54 1035.93 1535.45 Q1038.95 1539.33 1038.95 1546.53 L1038.95 1568.04 L1033.06 1568.04 L1033.06 1546.72 Q1033.06 1541.59 1031.25 1539.11 Q1029.43 1536.63 1025.71 1536.63 Q1021.16 1536.63 1018.52 1539.65 Q1015.88 1542.68 1015.88 1547.9 L1015.88 1568.04 L1009.99 1568.04 L1009.99 1546.72 Q1009.99 1541.56 1008.17 1539.11 Q1006.36 1536.63 1002.57 1536.63 Q998.083 1536.63 995.442 1539.68 Q992.8 1542.71 992.8 1547.9 L992.8 1568.04 L986.912 1568.04 L986.912 1532.4 L992.8 1532.4 L992.8 1537.93 Q994.805 1534.66 997.606 1533.1 Q1000.41 1531.54 1004.26 1531.54 Q1008.14 1531.54 1010.85 1533.51 Q1013.58 1535.48 1014.89 1539.24 Z\" fill=\"#000000\" fill-rule=\"nonzero\" fill-opacity=\"1\" /><path clip-path=\"url(#clip010)\" d=\"M1056.3 1562.7 L1056.3 1581.6 L1050.41 1581.6 L1050.41 1532.4 L1056.3 1532.4 L1056.3 1537.81 Q1058.14 1534.62 1060.94 1533.1 Q1063.78 1531.54 1067.69 1531.54 Q1074.19 1531.54 1078.23 1536.69 Q1082.3 1541.85 1082.3 1550.25 Q1082.3 1558.65 1078.23 1563.81 Q1074.19 1568.97 1067.69 1568.97 Q1063.78 1568.97 1060.94 1567.44 Q1058.14 1565.88 1056.3 1562.7 M1076.22 1550.25 Q1076.22 1543.79 1073.55 1540.13 Q1070.91 1536.44 1066.26 1536.44 Q1061.61 1536.44 1058.94 1540.13 Q1056.3 1543.79 1056.3 1550.25 Q1056.3 1556.71 1058.94 1560.4 Q1061.61 1564.07 1066.26 1564.07 Q1070.91 1564.07 1073.55 1560.4 Q1076.22 1556.71 1076.22 1550.25 Z\" fill=\"#000000\" fill-rule=\"nonzero\" fill-opacity=\"1\" /><path clip-path=\"url(#clip010)\" d=\"M1112.67 1537.87 Q1111.68 1537.3 1110.5 1537.04 Q1109.36 1536.76 1107.96 1536.76 Q1102.99 1536.76 1100.32 1540 Q1097.67 1543.22 1097.67 1549.27 L1097.67 1568.04 L1091.79 1568.04 L1091.79 1532.4 L1097.67 1532.4 L1097.67 1537.93 Q1099.52 1534.69 1102.48 1533.13 Q1105.44 1531.54 1109.67 1531.54 Q1110.28 1531.54 1111.01 1531.63 Q1111.74 1531.7 1112.63 1531.85 L1112.67 1537.87 Z\" fill=\"#000000\" fill-rule=\"nonzero\" fill-opacity=\"1\" /><path clip-path=\"url(#clip010)\" d=\"M1118.81 1532.4 L1124.67 1532.4 L1124.67 1568.04 L1118.81 1568.04 L1118.81 1532.4 M1118.81 1518.52 L1124.67 1518.52 L1124.67 1525.93 L1118.81 1525.93 L1118.81 1518.52 Z\" fill=\"#000000\" fill-rule=\"nonzero\" fill-opacity=\"1\" /><path clip-path=\"url(#clip010)\" d=\"M1164.67 1539.24 Q1166.87 1535.29 1169.93 1533.41 Q1172.98 1531.54 1177.12 1531.54 Q1182.69 1531.54 1185.71 1535.45 Q1188.74 1539.33 1188.74 1546.53 L1188.74 1568.04 L1182.85 1568.04 L1182.85 1546.72 Q1182.85 1541.59 1181.03 1539.11 Q1179.22 1536.63 1175.5 1536.63 Q1170.94 1536.63 1168.3 1539.65 Q1165.66 1542.68 1165.66 1547.9 L1165.66 1568.04 L1159.77 1568.04 L1159.77 1546.72 Q1159.77 1541.56 1157.96 1539.11 Q1156.14 1536.63 1152.36 1536.63 Q1147.87 1536.63 1145.23 1539.68 Q1142.59 1542.71 1142.59 1547.9 L1142.59 1568.04 L1136.7 1568.04 L1136.7 1532.4 L1142.59 1532.4 L1142.59 1537.93 Q1144.59 1534.66 1147.39 1533.1 Q1150.19 1531.54 1154.04 1531.54 Q1157.93 1531.54 1160.63 1533.51 Q1163.37 1535.48 1164.67 1539.24 Z\" fill=\"#000000\" fill-rule=\"nonzero\" fill-opacity=\"1\" /><path clip-path=\"url(#clip010)\" d=\"M1230.91 1548.76 L1230.91 1551.62 L1203.98 1551.62 Q1204.36 1557.67 1207.61 1560.85 Q1210.89 1564 1216.71 1564 Q1220.09 1564 1223.24 1563.17 Q1226.42 1562.35 1229.54 1560.69 L1229.54 1566.23 Q1226.39 1567.57 1223.08 1568.27 Q1219.77 1568.97 1216.36 1568.97 Q1207.83 1568.97 1202.84 1564 Q1197.87 1559.04 1197.87 1550.57 Q1197.87 1541.82 1202.58 1536.69 Q1207.32 1531.54 1215.35 1531.54 Q1222.54 1531.54 1226.71 1536.18 Q1230.91 1540.8 1230.91 1548.76 M1225.05 1547.04 Q1224.99 1542.23 1222.35 1539.37 Q1219.74 1536.5 1215.41 1536.5 Q1210.51 1536.5 1207.55 1539.27 Q1204.62 1542.04 1204.17 1547.07 L1225.05 1547.04 Z\" fill=\"#000000\" fill-rule=\"nonzero\" fill-opacity=\"1\" /><path clip-path=\"url(#clip010)\" d=\"M1270.15 1546.53 L1270.15 1568.04 L1264.3 1568.04 L1264.3 1546.72 Q1264.3 1541.66 1262.32 1539.14 Q1260.35 1536.63 1256.4 1536.63 Q1251.66 1536.63 1248.92 1539.65 Q1246.19 1542.68 1246.19 1547.9 L1246.19 1568.04 L1240.3 1568.04 L1240.3 1532.4 L1246.19 1532.4 L1246.19 1537.93 Q1248.29 1534.72 1251.12 1533.13 Q1253.98 1531.54 1257.71 1531.54 Q1263.85 1531.54 1267 1535.36 Q1270.15 1539.14 1270.15 1546.53 Z\" fill=\"#000000\" fill-rule=\"nonzero\" fill-opacity=\"1\" /><path clip-path=\"url(#clip010)\" d=\"M1287.63 1522.27 L1287.63 1532.4 L1299.69 1532.4 L1299.69 1536.95 L1287.63 1536.95 L1287.63 1556.3 Q1287.63 1560.66 1288.81 1561.9 Q1290.01 1563.14 1293.68 1563.14 L1299.69 1563.14 L1299.69 1568.04 L1293.68 1568.04 Q1286.9 1568.04 1284.32 1565.53 Q1281.74 1562.98 1281.74 1556.3 L1281.74 1536.95 L1277.44 1536.95 L1277.44 1532.4 L1281.74 1532.4 L1281.74 1522.27 L1287.63 1522.27 Z\" fill=\"#000000\" fill-rule=\"nonzero\" fill-opacity=\"1\" /><path clip-path=\"url(#clip010)\" d=\"M1321.21 1536.5 Q1316.5 1536.5 1313.76 1540.19 Q1311.02 1543.85 1311.02 1550.25 Q1311.02 1556.65 1313.73 1560.34 Q1316.46 1564 1321.21 1564 Q1325.89 1564 1328.62 1560.31 Q1331.36 1556.62 1331.36 1550.25 Q1331.36 1543.92 1328.62 1540.23 Q1325.89 1536.5 1321.21 1536.5 M1321.21 1531.54 Q1328.85 1531.54 1333.21 1536.5 Q1337.57 1541.47 1337.57 1550.25 Q1337.57 1559 1333.21 1564 Q1328.85 1568.97 1321.21 1568.97 Q1313.54 1568.97 1309.18 1564 Q1304.85 1559 1304.85 1550.25 Q1304.85 1541.47 1309.18 1536.5 Q1313.54 1531.54 1321.21 1531.54 Z\" fill=\"#000000\" fill-rule=\"nonzero\" fill-opacity=\"1\" /><path clip-path=\"url(#clip010)\" d=\"M1391.45 1537.81 L1391.45 1518.52 L1397.31 1518.52 L1397.31 1568.04 L1391.45 1568.04 L1391.45 1562.7 Q1389.61 1565.88 1386.77 1567.44 Q1383.97 1568.97 1380.03 1568.97 Q1373.56 1568.97 1369.49 1563.81 Q1365.45 1558.65 1365.45 1550.25 Q1365.45 1541.85 1369.49 1536.69 Q1373.56 1531.54 1380.03 1531.54 Q1383.97 1531.54 1386.77 1533.1 Q1389.61 1534.62 1391.45 1537.81 M1371.5 1550.25 Q1371.5 1556.71 1374.14 1560.4 Q1376.81 1564.07 1381.46 1564.07 Q1386.11 1564.07 1388.78 1560.4 Q1391.45 1556.71 1391.45 1550.25 Q1391.45 1543.79 1388.78 1540.13 Q1386.11 1536.44 1381.46 1536.44 Q1376.81 1536.44 1374.14 1540.13 Q1371.5 1543.79 1371.5 1550.25 Z\" fill=\"#000000\" fill-rule=\"nonzero\" fill-opacity=\"1\" /><path clip-path=\"url(#clip010)\" d=\"M1425.57 1550.12 Q1418.47 1550.12 1415.74 1551.75 Q1413 1553.37 1413 1557.29 Q1413 1560.4 1415.04 1562.25 Q1417.11 1564.07 1420.64 1564.07 Q1425.51 1564.07 1428.44 1560.63 Q1431.4 1557.16 1431.4 1551.43 L1431.4 1550.12 L1425.57 1550.12 M1437.25 1547.71 L1437.25 1568.04 L1431.4 1568.04 L1431.4 1562.63 Q1429.39 1565.88 1426.4 1567.44 Q1423.41 1568.97 1419.08 1568.97 Q1413.6 1568.97 1410.36 1565.91 Q1407.14 1562.82 1407.14 1557.67 Q1407.14 1551.65 1411.15 1548.6 Q1415.2 1545.54 1423.19 1545.54 L1431.4 1545.54 L1431.4 1544.97 Q1431.4 1540.93 1428.72 1538.73 Q1426.08 1536.5 1421.28 1536.5 Q1418.22 1536.5 1415.32 1537.23 Q1412.43 1537.97 1409.75 1539.43 L1409.75 1534.02 Q1412.97 1532.78 1415.99 1532.17 Q1419.02 1531.54 1421.88 1531.54 Q1429.61 1531.54 1433.43 1535.55 Q1437.25 1539.56 1437.25 1547.71 Z\" fill=\"#000000\" fill-rule=\"nonzero\" fill-opacity=\"1\" /><path clip-path=\"url(#clip010)\" d=\"M1476.72 1525.81 L1476.72 1543.66 L1484.81 1543.66 Q1489.29 1543.66 1491.74 1541.34 Q1494.19 1539.02 1494.19 1534.72 Q1494.19 1530.45 1491.74 1528.13 Q1489.29 1525.81 1484.81 1525.81 L1476.72 1525.81 M1470.29 1520.52 L1484.81 1520.52 Q1492.79 1520.52 1496.87 1524.15 Q1500.97 1527.75 1500.97 1534.72 Q1500.97 1541.75 1496.87 1545.35 Q1492.79 1548.95 1484.81 1548.95 L1476.72 1548.95 L1476.72 1568.04 L1470.29 1568.04 L1470.29 1520.52 Z\" fill=\"#000000\" fill-rule=\"nonzero\" fill-opacity=\"1\" /><path clip-path=\"url(#clip010)\" d=\"M1537.51 1548.76 L1537.51 1551.62 L1510.59 1551.62 Q1510.97 1557.67 1514.21 1560.85 Q1517.49 1564 1523.32 1564 Q1526.69 1564 1529.84 1563.17 Q1533.03 1562.35 1536.14 1560.69 L1536.14 1566.23 Q1532.99 1567.57 1529.68 1568.27 Q1526.37 1568.97 1522.97 1568.97 Q1514.44 1568.97 1509.44 1564 Q1504.48 1559.04 1504.48 1550.57 Q1504.48 1541.82 1509.19 1536.69 Q1513.93 1531.54 1521.95 1531.54 Q1529.14 1531.54 1533.31 1536.18 Q1537.51 1540.8 1537.51 1548.76 M1531.66 1547.04 Q1531.59 1542.23 1528.95 1539.37 Q1526.34 1536.5 1522.01 1536.5 Q1517.11 1536.5 1514.15 1539.27 Q1511.22 1542.04 1510.78 1547.07 L1531.66 1547.04 M1526.02 1515.91 L1532.36 1515.91 L1521.98 1527.88 L1517.11 1527.88 L1526.02 1515.91 Z\" fill=\"#000000\" fill-rule=\"nonzero\" fill-opacity=\"1\" /><path clip-path=\"url(#clip010)\" d=\"M1552.92 1522.27 L1552.92 1532.4 L1564.98 1532.4 L1564.98 1536.95 L1552.92 1536.95 L1552.92 1556.3 Q1552.92 1560.66 1554.1 1561.9 Q1555.31 1563.14 1558.97 1563.14 L1564.98 1563.14 L1564.98 1568.04 L1558.97 1568.04 Q1552.19 1568.04 1549.61 1565.53 Q1547.03 1562.98 1547.03 1556.3 L1547.03 1536.95 L1542.73 1536.95 L1542.73 1532.4 L1547.03 1532.4 L1547.03 1522.27 L1552.92 1522.27 Z\" fill=\"#000000\" fill-rule=\"nonzero\" fill-opacity=\"1\" /><path clip-path=\"url(#clip010)\" d=\"M1588.88 1550.12 Q1581.79 1550.12 1579.05 1551.75 Q1576.31 1553.37 1576.31 1557.29 Q1576.31 1560.4 1578.35 1562.25 Q1580.42 1564.07 1583.95 1564.07 Q1588.82 1564.07 1591.75 1560.63 Q1594.71 1557.16 1594.71 1551.43 L1594.71 1550.12 L1588.88 1550.12 M1600.57 1547.71 L1600.57 1568.04 L1594.71 1568.04 L1594.71 1562.63 Q1592.7 1565.88 1589.71 1567.44 Q1586.72 1568.97 1582.39 1568.97 Q1576.92 1568.97 1573.67 1565.91 Q1570.46 1562.82 1570.46 1557.67 Q1570.46 1551.65 1574.47 1548.6 Q1578.51 1545.54 1586.5 1545.54 L1594.71 1545.54 L1594.71 1544.97 Q1594.71 1540.93 1592.04 1538.73 Q1589.39 1536.5 1584.59 1536.5 Q1581.53 1536.5 1578.64 1537.23 Q1575.74 1537.97 1573.07 1539.43 L1573.07 1534.02 Q1576.28 1532.78 1579.3 1532.17 Q1582.33 1531.54 1585.19 1531.54 Q1592.93 1531.54 1596.75 1535.55 Q1600.57 1539.56 1600.57 1547.71 Z\" fill=\"#000000\" fill-rule=\"nonzero\" fill-opacity=\"1\" /><path clip-path=\"url(#clip010)\" d=\"M1612.63 1518.52 L1618.49 1518.52 L1618.49 1568.04 L1612.63 1568.04 L1612.63 1518.52 Z\" fill=\"#000000\" fill-rule=\"nonzero\" fill-opacity=\"1\" /><path clip-path=\"url(#clip010)\" d=\"M1646.94 1550.12 Q1639.84 1550.12 1637.1 1551.75 Q1634.37 1553.37 1634.37 1557.29 Q1634.37 1560.4 1636.4 1562.25 Q1638.47 1564.07 1642.01 1564.07 Q1646.88 1564.07 1649.8 1560.63 Q1652.76 1557.16 1652.76 1551.43 L1652.76 1550.12 L1646.94 1550.12 M1658.62 1547.71 L1658.62 1568.04 L1652.76 1568.04 L1652.76 1562.63 Q1650.76 1565.88 1647.77 1567.44 Q1644.78 1568.97 1640.45 1568.97 Q1634.97 1568.97 1631.73 1565.91 Q1628.51 1562.82 1628.51 1557.67 Q1628.51 1551.65 1632.52 1548.6 Q1636.56 1545.54 1644.55 1545.54 L1652.76 1545.54 L1652.76 1544.97 Q1652.76 1540.93 1650.09 1538.73 Q1647.45 1536.5 1642.64 1536.5 Q1639.59 1536.5 1636.69 1537.23 Q1633.79 1537.97 1631.12 1539.43 L1631.12 1534.02 Q1634.34 1532.78 1637.36 1532.17 Q1640.38 1531.54 1643.25 1531.54 Q1650.98 1531.54 1654.8 1535.55 Q1658.62 1539.56 1658.62 1547.71 Z\" fill=\"#000000\" fill-rule=\"nonzero\" fill-opacity=\"1\" /><polyline clip-path=\"url(#clip012)\" style=\"stroke:#000000; stroke-linecap:round; stroke-linejoin:round; stroke-width:2; stroke-opacity:0.1; fill:none\" points=\"205.121,1386.4 2352.76,1386.4 \"/>\n<polyline clip-path=\"url(#clip012)\" style=\"stroke:#000000; stroke-linecap:round; stroke-linejoin:round; stroke-width:2; stroke-opacity:0.1; fill:none\" points=\"205.121,1141.17 2352.76,1141.17 \"/>\n<polyline clip-path=\"url(#clip012)\" style=\"stroke:#000000; stroke-linecap:round; stroke-linejoin:round; stroke-width:2; stroke-opacity:0.1; fill:none\" points=\"205.121,895.94 2352.76,895.94 \"/>\n<polyline clip-path=\"url(#clip012)\" style=\"stroke:#000000; stroke-linecap:round; stroke-linejoin:round; stroke-width:2; stroke-opacity:0.1; fill:none\" points=\"205.121,650.712 2352.76,650.712 \"/>\n<polyline clip-path=\"url(#clip012)\" style=\"stroke:#000000; stroke-linecap:round; stroke-linejoin:round; stroke-width:2; stroke-opacity:0.1; fill:none\" points=\"205.121,405.484 2352.76,405.484 \"/>\n<polyline clip-path=\"url(#clip012)\" style=\"stroke:#000000; stroke-linecap:round; stroke-linejoin:round; stroke-width:2; stroke-opacity:0.1; fill:none\" points=\"205.121,160.256 2352.76,160.256 \"/>\n<polyline clip-path=\"url(#clip010)\" style=\"stroke:#000000; stroke-linecap:round; stroke-linejoin:round; stroke-width:4; stroke-opacity:1; fill:none\" points=\"205.121,1423.18 205.121,123.472 \"/>\n<polyline clip-path=\"url(#clip010)\" style=\"stroke:#000000; stroke-linecap:round; stroke-linejoin:round; stroke-width:4; stroke-opacity:1; fill:none\" points=\"205.121,1386.4 224.019,1386.4 \"/>\n<polyline clip-path=\"url(#clip010)\" style=\"stroke:#000000; stroke-linecap:round; stroke-linejoin:round; stroke-width:4; stroke-opacity:1; fill:none\" points=\"205.121,1141.17 224.019,1141.17 \"/>\n<polyline clip-path=\"url(#clip010)\" style=\"stroke:#000000; stroke-linecap:round; stroke-linejoin:round; stroke-width:4; stroke-opacity:1; fill:none\" points=\"205.121,895.94 224.019,895.94 \"/>\n<polyline clip-path=\"url(#clip010)\" style=\"stroke:#000000; stroke-linecap:round; stroke-linejoin:round; stroke-width:4; stroke-opacity:1; fill:none\" points=\"205.121,650.712 224.019,650.712 \"/>\n<polyline clip-path=\"url(#clip010)\" style=\"stroke:#000000; stroke-linecap:round; stroke-linejoin:round; stroke-width:4; stroke-opacity:1; fill:none\" points=\"205.121,405.484 224.019,405.484 \"/>\n<polyline clip-path=\"url(#clip010)\" style=\"stroke:#000000; stroke-linecap:round; stroke-linejoin:round; stroke-width:4; stroke-opacity:1; fill:none\" points=\"205.121,160.256 224.019,160.256 \"/>\n<path clip-path=\"url(#clip010)\" d=\"M157.177 1372.19 Q153.566 1372.19 151.737 1375.76 Q149.931 1379.3 149.931 1386.43 Q149.931 1393.54 151.737 1397.1 Q153.566 1400.64 157.177 1400.64 Q160.811 1400.64 162.616 1397.1 Q164.445 1393.54 164.445 1386.43 Q164.445 1379.3 162.616 1375.76 Q160.811 1372.19 157.177 1372.19 M157.177 1368.49 Q162.987 1368.49 166.042 1373.1 Q169.121 1377.68 169.121 1386.43 Q169.121 1395.16 166.042 1399.76 Q162.987 1404.35 157.177 1404.35 Q151.366 1404.35 148.288 1399.76 Q145.232 1395.16 145.232 1386.43 Q145.232 1377.68 148.288 1373.1 Q151.366 1368.49 157.177 1368.49 Z\" fill=\"#000000\" fill-rule=\"nonzero\" fill-opacity=\"1\" /><path clip-path=\"url(#clip010)\" d=\"M117.825 1154.51 L125.464 1154.51 L125.464 1128.15 L117.154 1129.81 L117.154 1125.55 L125.418 1123.89 L130.093 1123.89 L130.093 1154.51 L137.732 1154.51 L137.732 1158.45 L117.825 1158.45 L117.825 1154.51 Z\" fill=\"#000000\" fill-rule=\"nonzero\" fill-opacity=\"1\" /><path clip-path=\"url(#clip010)\" d=\"M157.177 1126.97 Q153.566 1126.97 151.737 1130.53 Q149.931 1134.07 149.931 1141.2 Q149.931 1148.31 151.737 1151.87 Q153.566 1155.42 157.177 1155.42 Q160.811 1155.42 162.616 1151.87 Q164.445 1148.31 164.445 1141.2 Q164.445 1134.07 162.616 1130.53 Q160.811 1126.97 157.177 1126.97 M157.177 1123.26 Q162.987 1123.26 166.042 1127.87 Q169.121 1132.45 169.121 1141.2 Q169.121 1149.93 166.042 1154.54 Q162.987 1159.12 157.177 1159.12 Q151.366 1159.12 148.288 1154.54 Q145.232 1149.93 145.232 1141.2 Q145.232 1132.45 148.288 1127.87 Q151.366 1123.26 157.177 1123.26 Z\" fill=\"#000000\" fill-rule=\"nonzero\" fill-opacity=\"1\" /><path clip-path=\"url(#clip010)\" d=\"M121.043 909.285 L137.362 909.285 L137.362 913.22 L115.418 913.22 L115.418 909.285 Q118.08 906.53 122.663 901.901 Q127.269 897.248 128.45 895.905 Q130.695 893.382 131.575 891.646 Q132.478 889.887 132.478 888.197 Q132.478 885.442 130.533 883.706 Q128.612 881.97 125.51 881.97 Q123.311 881.97 120.857 882.734 Q118.427 883.498 115.649 885.049 L115.649 880.327 Q118.473 879.192 120.927 878.614 Q123.38 878.035 125.418 878.035 Q130.788 878.035 133.982 880.72 Q137.177 883.405 137.177 887.896 Q137.177 890.026 136.367 891.947 Q135.579 893.845 133.473 896.438 Q132.894 897.109 129.792 900.326 Q126.691 903.521 121.043 909.285 Z\" fill=\"#000000\" fill-rule=\"nonzero\" fill-opacity=\"1\" /><path clip-path=\"url(#clip010)\" d=\"M157.177 881.739 Q153.566 881.739 151.737 885.303 Q149.931 888.845 149.931 895.975 Q149.931 903.081 151.737 906.646 Q153.566 910.188 157.177 910.188 Q160.811 910.188 162.616 906.646 Q164.445 903.081 164.445 895.975 Q164.445 888.845 162.616 885.303 Q160.811 881.739 157.177 881.739 M157.177 878.035 Q162.987 878.035 166.042 882.641 Q169.121 887.225 169.121 895.975 Q169.121 904.701 166.042 909.308 Q162.987 913.891 157.177 913.891 Q151.366 913.891 148.288 909.308 Q145.232 904.701 145.232 895.975 Q145.232 887.225 148.288 882.641 Q151.366 878.035 157.177 878.035 Z\" fill=\"#000000\" fill-rule=\"nonzero\" fill-opacity=\"1\" /><path clip-path=\"url(#clip010)\" d=\"M131.181 649.358 Q134.538 650.075 136.413 652.344 Q138.311 654.612 138.311 657.946 Q138.311 663.062 134.792 665.862 Q131.274 668.663 124.793 668.663 Q122.617 668.663 120.302 668.224 Q118.01 667.807 115.556 666.95 L115.556 662.437 Q117.501 663.571 119.816 664.149 Q122.13 664.728 124.654 664.728 Q129.052 664.728 131.343 662.992 Q133.658 661.256 133.658 657.946 Q133.658 654.89 131.505 653.177 Q129.376 651.441 125.556 651.441 L121.529 651.441 L121.529 647.599 L125.742 647.599 Q129.191 647.599 131.019 646.233 Q132.848 644.844 132.848 642.251 Q132.848 639.589 130.95 638.177 Q129.075 636.742 125.556 636.742 Q123.635 636.742 121.436 637.159 Q119.237 637.576 116.598 638.455 L116.598 634.289 Q119.26 633.548 121.575 633.177 Q123.913 632.807 125.973 632.807 Q131.297 632.807 134.399 635.238 Q137.501 637.645 137.501 641.765 Q137.501 644.636 135.857 646.626 Q134.214 648.594 131.181 649.358 Z\" fill=\"#000000\" fill-rule=\"nonzero\" fill-opacity=\"1\" /><path clip-path=\"url(#clip010)\" d=\"M157.177 636.511 Q153.566 636.511 151.737 640.076 Q149.931 643.617 149.931 650.747 Q149.931 657.853 151.737 661.418 Q153.566 664.96 157.177 664.96 Q160.811 664.96 162.616 661.418 Q164.445 657.853 164.445 650.747 Q164.445 643.617 162.616 640.076 Q160.811 636.511 157.177 636.511 M157.177 632.807 Q162.987 632.807 166.042 637.414 Q169.121 641.997 169.121 650.747 Q169.121 659.474 166.042 664.08 Q162.987 668.663 157.177 668.663 Q151.366 668.663 148.288 664.08 Q145.232 659.474 145.232 650.747 Q145.232 641.997 148.288 637.414 Q151.366 632.807 157.177 632.807 Z\" fill=\"#000000\" fill-rule=\"nonzero\" fill-opacity=\"1\" /><path clip-path=\"url(#clip010)\" d=\"M129.862 392.278 L118.056 410.727 L129.862 410.727 L129.862 392.278 M128.635 388.204 L134.515 388.204 L134.515 410.727 L139.445 410.727 L139.445 414.616 L134.515 414.616 L134.515 422.764 L129.862 422.764 L129.862 414.616 L114.26 414.616 L114.26 410.102 L128.635 388.204 Z\" fill=\"#000000\" fill-rule=\"nonzero\" fill-opacity=\"1\" /><path clip-path=\"url(#clip010)\" d=\"M157.177 391.283 Q153.566 391.283 151.737 394.848 Q149.931 398.389 149.931 405.519 Q149.931 412.625 151.737 416.19 Q153.566 419.732 157.177 419.732 Q160.811 419.732 162.616 416.19 Q164.445 412.625 164.445 405.519 Q164.445 398.389 162.616 394.848 Q160.811 391.283 157.177 391.283 M157.177 387.579 Q162.987 387.579 166.042 392.186 Q169.121 396.769 169.121 405.519 Q169.121 414.246 166.042 418.852 Q162.987 423.435 157.177 423.435 Q151.366 423.435 148.288 418.852 Q145.232 414.246 145.232 405.519 Q145.232 396.769 148.288 392.186 Q151.366 387.579 157.177 387.579 Z\" fill=\"#000000\" fill-rule=\"nonzero\" fill-opacity=\"1\" /><path clip-path=\"url(#clip010)\" d=\"M117.061 142.976 L135.417 142.976 L135.417 146.911 L121.343 146.911 L121.343 155.384 Q122.362 155.036 123.38 154.874 Q124.399 154.689 125.418 154.689 Q131.205 154.689 134.584 157.86 Q137.964 161.032 137.964 166.448 Q137.964 172.027 134.492 175.129 Q131.019 178.208 124.7 178.208 Q122.524 178.208 120.255 177.837 Q118.01 177.467 115.603 176.726 L115.603 172.027 Q117.686 173.161 119.908 173.717 Q122.13 174.272 124.607 174.272 Q128.612 174.272 130.95 172.166 Q133.288 170.059 133.288 166.448 Q133.288 162.837 130.95 160.731 Q128.612 158.624 124.607 158.624 Q122.732 158.624 120.857 159.041 Q119.006 159.458 117.061 160.337 L117.061 142.976 Z\" fill=\"#000000\" fill-rule=\"nonzero\" fill-opacity=\"1\" /><path clip-path=\"url(#clip010)\" d=\"M157.177 146.055 Q153.566 146.055 151.737 149.62 Q149.931 153.161 149.931 160.291 Q149.931 167.397 151.737 170.962 Q153.566 174.504 157.177 174.504 Q160.811 174.504 162.616 170.962 Q164.445 167.397 164.445 160.291 Q164.445 153.161 162.616 149.62 Q160.811 146.055 157.177 146.055 M157.177 142.351 Q162.987 142.351 166.042 146.958 Q169.121 151.541 169.121 160.291 Q169.121 169.018 166.042 173.624 Q162.987 178.208 157.177 178.208 Q151.366 178.208 148.288 173.624 Q145.232 169.018 145.232 160.291 Q145.232 151.541 148.288 146.958 Q151.366 142.351 157.177 142.351 Z\" fill=\"#000000\" fill-rule=\"nonzero\" fill-opacity=\"1\" /><path clip-path=\"url(#clip010)\" d=\"M16.4842 945.28 L16.4842 917.971 L21.895 917.971 L21.895 938.85 L35.8996 938.85 L35.8996 920.008 L41.3104 920.008 L41.3104 938.85 L64.0042 938.85 L64.0042 945.28 L16.4842 945.28 Z\" fill=\"#000000\" fill-rule=\"nonzero\" fill-opacity=\"1\" /><path clip-path=\"url(#clip010)\" d=\"M33.8307 892.126 Q33.2578 893.113 33.0032 894.29 Q32.7167 895.436 32.7167 896.837 Q32.7167 901.802 35.9632 904.475 Q39.1779 907.117 45.2253 907.117 L64.0042 907.117 L64.0042 913.006 L28.3562 913.006 L28.3562 907.117 L33.8944 907.117 Q30.6479 905.271 29.0883 902.311 Q27.4968 899.351 27.4968 895.118 Q27.4968 894.513 27.5923 893.781 Q27.656 893.049 27.8151 892.158 L33.8307 892.126 Z\" fill=\"#000000\" fill-rule=\"nonzero\" fill-opacity=\"1\" /><path clip-path=\"url(#clip010)\" d=\"M44.7161 856.924 L47.5806 856.924 L47.5806 883.851 Q53.6281 883.469 56.8109 880.222 Q59.9619 876.944 59.9619 871.119 Q59.9619 867.745 59.1344 864.594 Q58.3069 861.411 56.6518 858.292 L62.1899 858.292 Q63.5267 861.443 64.227 864.753 Q64.9272 868.064 64.9272 871.469 Q64.9272 879.999 59.9619 884.996 Q54.9967 889.962 46.5303 889.962 Q37.7774 889.962 32.6531 885.251 Q27.4968 880.509 27.4968 872.488 Q27.4968 865.295 32.1438 861.125 Q36.7589 856.924 44.7161 856.924 M42.9973 862.78 Q38.1912 862.844 35.3266 865.486 Q32.4621 868.095 32.4621 872.424 Q32.4621 877.326 35.2312 880.286 Q38.0002 883.214 43.0292 883.66 L42.9973 862.78 Z\" fill=\"#000000\" fill-rule=\"nonzero\" fill-opacity=\"1\" /><path clip-path=\"url(#clip010)\" d=\"M46.212 843.81 Q52.6732 843.81 56.3653 841.169 Q60.0256 838.495 60.0256 833.848 Q60.0256 829.201 56.3653 826.527 Q52.6732 823.854 46.212 823.854 Q39.7508 823.854 36.0905 826.527 Q32.3984 829.201 32.3984 833.848 Q32.3984 838.495 36.0905 841.169 Q39.7508 843.81 46.212 843.81 M58.657 823.854 Q61.8398 825.7 63.3994 828.533 Q64.9272 831.333 64.9272 835.28 Q64.9272 841.741 59.771 845.815 Q54.6147 849.858 46.212 849.858 Q37.8093 849.858 32.6531 845.815 Q27.4968 841.741 27.4968 835.28 Q27.4968 831.333 29.0564 828.533 Q30.5842 825.7 33.7671 823.854 L28.3562 823.854 L28.3562 817.997 L77.5631 817.997 L77.5631 823.854 L58.657 823.854 Z\" fill=\"#000000\" fill-rule=\"nonzero\" fill-opacity=\"1\" /><path clip-path=\"url(#clip010)\" d=\"M49.9359 806.539 L28.3562 806.539 L28.3562 800.683 L49.7131 800.683 Q54.7739 800.683 57.3202 798.709 Q59.8346 796.736 59.8346 792.789 Q59.8346 788.047 56.8109 785.309 Q53.7872 782.54 48.5673 782.54 L28.3562 782.54 L28.3562 776.684 L64.0042 776.684 L64.0042 782.54 L58.5296 782.54 Q61.7762 784.673 63.3676 787.506 Q64.9272 790.307 64.9272 794.03 Q64.9272 800.173 61.1078 803.356 Q57.2883 806.539 49.9359 806.539 M27.4968 791.802 L27.4968 791.802 Z\" fill=\"#000000\" fill-rule=\"nonzero\" fill-opacity=\"1\" /><path clip-path=\"url(#clip010)\" d=\"M44.7161 734.129 L47.5806 734.129 L47.5806 761.056 Q53.6281 760.674 56.8109 757.428 Q59.9619 754.149 59.9619 748.325 Q59.9619 744.951 59.1344 741.8 Q58.3069 738.617 56.6518 735.498 L62.1899 735.498 Q63.5267 738.649 64.227 741.959 Q64.9272 745.269 64.9272 748.675 Q64.9272 757.205 59.9619 762.202 Q54.9967 767.167 46.5303 767.167 Q37.7774 767.167 32.6531 762.457 Q27.4968 757.714 27.4968 749.693 Q27.4968 742.5 32.1438 738.331 Q36.7589 734.129 44.7161 734.129 M42.9973 739.986 Q38.1912 740.049 35.3266 742.691 Q32.4621 745.301 32.4621 749.63 Q32.4621 754.531 35.2312 757.491 Q38.0002 760.42 43.0292 760.865 L42.9973 739.986 M11.869 752.399 L11.869 747.688 L23.8365 739.89 L23.8365 744.314 L16.0386 750.043 L23.8365 755.773 L23.8365 760.197 L11.869 752.399 Z\" fill=\"#000000\" fill-rule=\"nonzero\" fill-opacity=\"1\" /><path clip-path=\"url(#clip010)\" d=\"M42.4881 694.885 L64.0042 694.885 L64.0042 700.741 L42.679 700.741 Q37.6183 700.741 35.1038 702.714 Q32.5894 704.688 32.5894 708.634 Q32.5894 713.377 35.6131 716.114 Q38.6368 718.851 43.8567 718.851 L64.0042 718.851 L64.0042 724.74 L28.3562 724.74 L28.3562 718.851 L33.8944 718.851 Q30.6797 716.751 29.0883 713.918 Q27.4968 711.053 27.4968 707.33 Q27.4968 701.187 31.3163 698.036 Q35.1038 694.885 42.4881 694.885 Z\" fill=\"#000000\" fill-rule=\"nonzero\" fill-opacity=\"1\" /><path clip-path=\"url(#clip010)\" d=\"M29.7248 657.55 L35.1993 657.55 Q33.8307 660.032 33.1623 662.547 Q32.4621 665.029 32.4621 667.576 Q32.4621 673.273 36.0905 676.424 Q39.6872 679.575 46.212 679.575 Q52.7369 679.575 56.3653 676.424 Q59.9619 673.273 59.9619 667.576 Q59.9619 665.029 59.2935 662.547 Q58.5933 660.032 57.2247 657.55 L62.6355 657.55 Q63.7814 660 64.3543 662.642 Q64.9272 665.252 64.9272 668.212 Q64.9272 676.265 59.8664 681.007 Q54.8057 685.75 46.212 685.75 Q37.491 685.75 32.4939 680.975 Q27.4968 676.169 27.4968 667.83 Q27.4968 665.125 28.0697 662.547 Q28.6108 659.969 29.7248 657.55 Z\" fill=\"#000000\" fill-rule=\"nonzero\" fill-opacity=\"1\" /><path clip-path=\"url(#clip010)\" d=\"M28.3562 647.365 L28.3562 641.508 L64.0042 641.508 L64.0042 647.365 L28.3562 647.365 M14.479 647.365 L14.479 641.508 L21.895 641.508 L21.895 647.365 L14.479 647.365 Z\" fill=\"#000000\" fill-rule=\"nonzero\" fill-opacity=\"1\" /><path clip-path=\"url(#clip010)\" d=\"M46.0847 613.053 Q46.0847 620.151 47.7079 622.888 Q49.3312 625.626 53.2461 625.626 Q56.3653 625.626 58.2114 623.589 Q60.0256 621.52 60.0256 617.987 Q60.0256 613.117 56.5881 610.189 Q53.1188 607.229 47.3897 607.229 L46.0847 607.229 L46.0847 613.053 M43.6657 601.372 L64.0042 601.372 L64.0042 607.229 L58.5933 607.229 Q61.8398 609.234 63.3994 612.226 Q64.9272 615.218 64.9272 619.546 Q64.9272 625.021 61.8716 628.267 Q58.7843 631.482 53.6281 631.482 Q47.6125 631.482 44.5569 627.472 Q41.5014 623.43 41.5014 615.441 L41.5014 607.229 L40.9285 607.229 Q36.8862 607.229 34.6901 609.902 Q32.4621 612.544 32.4621 617.35 Q32.4621 620.406 33.1941 623.302 Q33.9262 626.199 35.3903 628.872 L29.9795 628.872 Q28.7381 625.658 28.1334 622.634 Q27.4968 619.61 27.4968 616.746 Q27.4968 609.011 31.5072 605.192 Q35.5176 601.372 43.6657 601.372 Z\" fill=\"#000000\" fill-rule=\"nonzero\" fill-opacity=\"1\" /><path clip-path=\"url(#clip010)\" d=\"M483.24 18.8205 L483.24 65.8515 L493.124 65.8515 Q505.641 65.8515 511.434 60.1802 Q517.267 54.509 517.267 42.2752 Q517.267 30.1225 511.434 24.4918 Q505.641 18.8205 493.124 18.8205 L483.24 18.8205 M475.057 12.096 L491.868 12.096 Q509.449 12.096 517.672 19.4281 Q525.896 26.7198 525.896 42.2752 Q525.896 57.9117 517.632 65.2439 Q509.368 72.576 491.868 72.576 L475.057 72.576 L475.057 12.096 Z\" fill=\"#000000\" fill-rule=\"nonzero\" fill-opacity=\"1\" /><path clip-path=\"url(#clip010)\" d=\"M538.615 27.2059 L546.069 27.2059 L546.069 72.576 L538.615 72.576 L538.615 27.2059 M538.615 9.54393 L546.069 9.54393 L546.069 18.9825 L538.615 18.9825 L538.615 9.54393 Z\" fill=\"#000000\" fill-rule=\"nonzero\" fill-opacity=\"1\" /><path clip-path=\"url(#clip010)\" d=\"M590.589 28.5427 L590.589 35.5912 Q587.429 33.9709 584.026 33.1607 Q580.623 32.3505 576.978 32.3505 Q571.428 32.3505 568.633 34.0519 Q565.878 35.7533 565.878 39.156 Q565.878 41.7486 567.863 43.2475 Q569.848 44.7058 575.843 46.0426 L578.395 46.6097 Q586.335 48.3111 589.657 51.4303 Q593.019 54.509 593.019 60.0587 Q593.019 66.3781 587.996 70.0644 Q583.013 73.7508 574.263 73.7508 Q570.618 73.7508 566.648 73.0216 Q562.718 72.3329 558.343 70.9151 L558.343 63.2184 Q562.475 65.3654 566.486 66.4591 Q570.496 67.5124 574.425 67.5124 Q579.692 67.5124 582.527 65.73 Q585.363 63.9071 585.363 60.6258 Q585.363 57.5877 583.297 55.9673 Q581.271 54.3469 574.344 52.8481 L571.752 52.2405 Q564.825 50.7821 561.746 47.7845 Q558.667 44.7463 558.667 39.4801 Q558.667 33.0797 563.204 29.5959 Q567.741 26.1121 576.086 26.1121 Q580.218 26.1121 583.864 26.7198 Q587.51 27.3274 590.589 28.5427 Z\" fill=\"#000000\" fill-rule=\"nonzero\" fill-opacity=\"1\" /><path clip-path=\"url(#clip010)\" d=\"M612.261 14.324 L612.261 27.2059 L627.614 27.2059 L627.614 32.9987 L612.261 32.9987 L612.261 57.6282 Q612.261 63.1779 613.76 64.7578 Q615.299 66.3376 619.958 66.3376 L627.614 66.3376 L627.614 72.576 L619.958 72.576 Q611.329 72.576 608.048 69.3758 Q604.767 66.1351 604.767 57.6282 L604.767 32.9987 L599.298 32.9987 L599.298 27.2059 L604.767 27.2059 L604.767 14.324 L612.261 14.324 Z\" fill=\"#000000\" fill-rule=\"nonzero\" fill-opacity=\"1\" /><path clip-path=\"url(#clip010)\" d=\"M663.707 34.1734 Q662.452 33.4443 660.953 33.1202 Q659.494 32.7556 657.712 32.7556 Q651.393 32.7556 647.99 36.8875 Q644.628 40.9789 644.628 48.6757 L644.628 72.576 L637.133 72.576 L637.133 27.2059 L644.628 27.2059 L644.628 34.2544 Q646.977 30.1225 650.744 28.1376 Q654.512 26.1121 659.9 26.1121 Q660.669 26.1121 661.601 26.2337 Q662.533 26.3147 663.667 26.5172 L663.707 34.1734 Z\" fill=\"#000000\" fill-rule=\"nonzero\" fill-opacity=\"1\" /><path clip-path=\"url(#clip010)\" d=\"M671.526 27.2059 L678.979 27.2059 L678.979 72.576 L671.526 72.576 L671.526 27.2059 M671.526 9.54393 L678.979 9.54393 L678.979 18.9825 L671.526 18.9825 L671.526 9.54393 Z\" fill=\"#000000\" fill-rule=\"nonzero\" fill-opacity=\"1\" /><path clip-path=\"url(#clip010)\" d=\"M727.145 49.9314 Q727.145 41.7081 723.742 37.0496 Q720.38 32.3505 714.465 32.3505 Q708.551 32.3505 705.148 37.0496 Q701.786 41.7081 701.786 49.9314 Q701.786 58.1548 705.148 62.8538 Q708.551 67.5124 714.465 67.5124 Q720.38 67.5124 723.742 62.8538 Q727.145 58.1548 727.145 49.9314 M701.786 34.0924 Q704.135 30.0415 707.7 28.0971 Q711.305 26.1121 716.288 26.1121 Q724.552 26.1121 729.697 32.6746 Q734.882 39.2371 734.882 49.9314 Q734.882 60.6258 729.697 67.1883 Q724.552 73.7508 716.288 73.7508 Q711.305 73.7508 707.7 71.8063 Q704.135 69.8214 701.786 65.7705 L701.786 72.576 L694.292 72.576 L694.292 9.54393 L701.786 9.54393 L701.786 34.0924 Z\" fill=\"#000000\" fill-rule=\"nonzero\" fill-opacity=\"1\" /><path clip-path=\"url(#clip010)\" d=\"M746.467 54.671 L746.467 27.2059 L753.921 27.2059 L753.921 54.3874 Q753.921 60.8284 756.433 64.0691 Q758.944 67.2693 763.967 67.2693 Q770.003 67.2693 773.487 63.421 Q777.011 59.5726 777.011 52.9291 L777.011 27.2059 L784.465 27.2059 L784.465 72.576 L777.011 72.576 L777.011 65.6084 Q774.297 69.7404 770.692 71.7658 Q767.127 73.7508 762.387 73.7508 Q754.569 73.7508 750.518 68.8897 Q746.467 64.0286 746.467 54.671 M765.223 26.1121 L765.223 26.1121 Z\" fill=\"#000000\" fill-rule=\"nonzero\" fill-opacity=\"1\" /><path clip-path=\"url(#clip010)\" d=\"M799.818 27.2059 L807.271 27.2059 L807.271 72.576 L799.818 72.576 L799.818 27.2059 M799.818 9.54393 L807.271 9.54393 L807.271 18.9825 L799.818 18.9825 L799.818 9.54393 Z\" fill=\"#000000\" fill-rule=\"nonzero\" fill-opacity=\"1\" /><path clip-path=\"url(#clip010)\" d=\"M855.518 28.9478 L855.518 35.9153 Q852.358 34.1734 849.158 33.3227 Q845.998 32.4315 842.757 32.4315 Q835.506 32.4315 831.496 37.0496 Q827.485 41.6271 827.485 49.9314 Q827.485 58.2358 831.496 62.8538 Q835.506 67.4314 842.757 67.4314 Q845.998 67.4314 849.158 66.5807 Q852.358 65.6895 855.518 63.9476 L855.518 70.8341 Q852.398 72.2924 849.036 73.0216 Q845.714 73.7508 841.947 73.7508 Q831.698 73.7508 825.663 67.3098 Q819.627 60.8689 819.627 49.9314 Q819.627 38.832 825.703 32.472 Q831.82 26.1121 842.433 26.1121 Q845.877 26.1121 849.158 26.8413 Q852.439 27.5299 855.518 28.9478 M844.985 72.576 Q847.213 75.0876 848.307 77.194 Q849.401 79.341 849.401 81.2854 Q849.401 84.8907 846.97 86.7137 Q844.54 88.5771 839.76 88.5771 Q837.896 88.5771 836.114 88.334 Q834.372 88.091 832.63 87.6049 L832.63 82.2982 Q834.007 82.9868 835.506 83.2704 Q837.005 83.5945 838.909 83.5945 Q841.299 83.5945 842.514 82.6222 Q843.73 81.65 843.73 79.7866 Q843.73 78.5713 842.838 76.7889 Q841.988 75.0471 840.165 72.576 L844.985 72.576 Z\" fill=\"#000000\" fill-rule=\"nonzero\" fill-opacity=\"1\" /><path clip-path=\"url(#clip010)\" d=\"M889.1 49.7694 Q880.066 49.7694 876.582 51.8354 Q873.099 53.9013 873.099 58.8839 Q873.099 62.8538 875.691 65.2034 Q878.324 67.5124 882.821 67.5124 Q889.019 67.5124 892.745 63.1374 Q896.513 58.7219 896.513 51.4303 L896.513 49.7694 L889.1 49.7694 M903.966 46.6907 L903.966 72.576 L896.513 72.576 L896.513 65.6895 Q893.961 69.8214 890.153 71.8063 Q886.345 73.7508 880.836 73.7508 Q873.868 73.7508 869.736 69.8619 Q865.645 65.9325 865.645 59.3701 Q865.645 51.7138 870.749 47.825 Q875.894 43.9361 886.061 43.9361 L896.513 43.9361 L896.513 43.2069 Q896.513 38.0623 893.11 35.2672 Q889.748 32.4315 883.631 32.4315 Q879.742 32.4315 876.056 33.3632 Q872.369 34.295 868.967 36.1584 L868.967 29.2718 Q873.058 27.692 876.906 26.9223 Q880.755 26.1121 884.401 26.1121 Q894.244 26.1121 899.105 31.2163 Q903.966 36.3204 903.966 46.6907 M884.563 17.0786 L882.254 14.8506 Q881.362 14.0404 880.674 13.6759 Q880.026 13.2708 879.499 13.2708 Q877.96 13.2708 877.231 14.7696 Q876.501 16.2279 876.42 19.5497 L871.357 19.5497 Q871.438 14.0809 873.504 11.1238 Q875.57 8.12611 879.256 8.12611 Q880.795 8.12611 882.092 8.69324 Q883.388 9.26037 884.887 10.5972 L887.196 12.8252 Q888.087 13.6353 888.735 14.0404 Q889.424 14.405 889.95 14.405 Q891.49 14.405 892.219 12.9467 Q892.948 11.4479 893.029 8.12611 L898.093 8.12611 Q898.012 13.5948 895.946 16.5925 Q893.88 19.5497 890.193 19.5497 Q888.654 19.5497 887.358 18.9825 Q886.061 18.4154 884.563 17.0786 Z\" fill=\"#000000\" fill-rule=\"nonzero\" fill-opacity=\"1\" /><path clip-path=\"url(#clip010)\" d=\"M936.9 32.4315 Q930.905 32.4315 927.421 37.1306 Q923.937 41.7891 923.937 49.9314 Q923.937 58.0738 927.381 62.7728 Q930.864 67.4314 936.9 67.4314 Q942.855 67.4314 946.339 62.7323 Q949.823 58.0333 949.823 49.9314 Q949.823 41.8701 946.339 37.1711 Q942.855 32.4315 936.9 32.4315 M936.9 26.1121 Q946.623 26.1121 952.172 32.4315 Q957.722 38.7509 957.722 49.9314 Q957.722 61.0714 952.172 67.4314 Q946.623 73.7508 936.9 73.7508 Q927.138 73.7508 921.588 67.4314 Q916.079 61.0714 916.079 49.9314 Q916.079 38.7509 921.588 32.4315 Q927.138 26.1121 936.9 26.1121 Z\" fill=\"#000000\" fill-rule=\"nonzero\" fill-opacity=\"1\" /><path clip-path=\"url(#clip010)\" d=\"M1026.3 34.0924 L1026.3 9.54393 L1033.76 9.54393 L1033.76 72.576 L1026.3 72.576 L1026.3 65.7705 Q1023.95 69.8214 1020.35 71.8063 Q1016.78 73.7508 1011.76 73.7508 Q1003.54 73.7508 998.353 67.1883 Q993.208 60.6258 993.208 49.9314 Q993.208 39.2371 998.353 32.6746 Q1003.54 26.1121 1011.76 26.1121 Q1016.78 26.1121 1020.35 28.0971 Q1023.95 30.0415 1026.3 34.0924 M1000.9 49.9314 Q1000.9 58.1548 1004.27 62.8538 Q1007.67 67.5124 1013.58 67.5124 Q1019.5 67.5124 1022.9 62.8538 Q1026.3 58.1548 1026.3 49.9314 Q1026.3 41.7081 1022.9 37.0496 Q1019.5 32.3505 1013.58 32.3505 Q1007.67 32.3505 1004.27 37.0496 Q1000.9 41.7081 1000.9 49.9314 Z\" fill=\"#000000\" fill-rule=\"nonzero\" fill-opacity=\"1\" /><path clip-path=\"url(#clip010)\" d=\"M1066.69 32.4315 Q1060.7 32.4315 1057.21 37.1306 Q1053.73 41.7891 1053.73 49.9314 Q1053.73 58.0738 1057.17 62.7728 Q1060.66 67.4314 1066.69 67.4314 Q1072.65 67.4314 1076.13 62.7323 Q1079.61 58.0333 1079.61 49.9314 Q1079.61 41.8701 1076.13 37.1711 Q1072.65 32.4315 1066.69 32.4315 M1066.69 26.1121 Q1076.41 26.1121 1081.96 32.4315 Q1087.51 38.7509 1087.51 49.9314 Q1087.51 61.0714 1081.96 67.4314 Q1076.41 73.7508 1066.69 73.7508 Q1056.93 73.7508 1051.38 67.4314 Q1045.87 61.0714 1045.87 49.9314 Q1045.87 38.7509 1051.38 32.4315 Q1056.93 26.1121 1066.69 26.1121 Z\" fill=\"#000000\" fill-rule=\"nonzero\" fill-opacity=\"1\" /><path clip-path=\"url(#clip010)\" d=\"M1158.89 28.9478 L1158.89 35.9153 Q1155.73 34.1734 1152.53 33.3227 Q1149.37 32.4315 1146.13 32.4315 Q1138.88 32.4315 1134.87 37.0496 Q1130.86 41.6271 1130.86 49.9314 Q1130.86 58.2358 1134.87 62.8538 Q1138.88 67.4314 1146.13 67.4314 Q1149.37 67.4314 1152.53 66.5807 Q1155.73 65.6895 1158.89 63.9476 L1158.89 70.8341 Q1155.77 72.2924 1152.41 73.0216 Q1149.09 73.7508 1145.32 73.7508 Q1135.07 73.7508 1129.03 67.3098 Q1123 60.8689 1123 49.9314 Q1123 38.832 1129.08 32.472 Q1135.19 26.1121 1145.81 26.1121 Q1149.25 26.1121 1152.53 26.8413 Q1155.81 27.5299 1158.89 28.9478 Z\" fill=\"#000000\" fill-rule=\"nonzero\" fill-opacity=\"1\" /><path clip-path=\"url(#clip010)\" d=\"M1189.43 32.4315 Q1183.44 32.4315 1179.95 37.1306 Q1176.47 41.7891 1176.47 49.9314 Q1176.47 58.0738 1179.91 62.7728 Q1183.4 67.4314 1189.43 67.4314 Q1195.39 67.4314 1198.87 62.7323 Q1202.36 58.0333 1202.36 49.9314 Q1202.36 41.8701 1198.87 37.1711 Q1195.39 32.4315 1189.43 32.4315 M1189.43 26.1121 Q1199.16 26.1121 1204.71 32.4315 Q1210.26 38.7509 1210.26 49.9314 Q1210.26 61.0714 1204.71 67.4314 Q1199.16 73.7508 1189.43 73.7508 Q1179.67 73.7508 1174.12 67.4314 Q1168.61 61.0714 1168.61 49.9314 Q1168.61 38.7509 1174.12 32.4315 Q1179.67 26.1121 1189.43 26.1121 Z\" fill=\"#000000\" fill-rule=\"nonzero\" fill-opacity=\"1\" /><path clip-path=\"url(#clip010)\" d=\"M1257.93 35.9153 Q1260.73 30.8922 1264.62 28.5022 Q1268.51 26.1121 1273.77 26.1121 Q1280.86 26.1121 1284.71 31.0947 Q1288.56 36.0368 1288.56 45.1919 L1288.56 72.576 L1281.07 72.576 L1281.07 45.4349 Q1281.07 38.913 1278.76 35.7533 Q1276.45 32.5936 1271.71 32.5936 Q1265.91 32.5936 1262.55 36.4419 Q1259.19 40.2903 1259.19 46.9338 L1259.19 72.576 L1251.7 72.576 L1251.7 45.4349 Q1251.7 38.8725 1249.39 35.7533 Q1247.08 32.5936 1242.26 32.5936 Q1236.55 32.5936 1233.18 36.4824 Q1229.82 40.3308 1229.82 46.9338 L1229.82 72.576 L1222.33 72.576 L1222.33 27.2059 L1229.82 27.2059 L1229.82 34.2544 Q1232.37 30.082 1235.94 28.0971 Q1239.5 26.1121 1244.4 26.1121 Q1249.35 26.1121 1252.79 28.6237 Q1256.27 31.1352 1257.93 35.9153 Z\" fill=\"#000000\" fill-rule=\"nonzero\" fill-opacity=\"1\" /><path clip-path=\"url(#clip010)\" d=\"M1310.64 65.7705 L1310.64 89.8329 L1303.14 89.8329 L1303.14 27.2059 L1310.64 27.2059 L1310.64 34.0924 Q1312.99 30.0415 1316.55 28.0971 Q1320.16 26.1121 1325.14 26.1121 Q1333.4 26.1121 1338.55 32.6746 Q1343.73 39.2371 1343.73 49.9314 Q1343.73 60.6258 1338.55 67.1883 Q1333.4 73.7508 1325.14 73.7508 Q1320.16 73.7508 1316.55 71.8063 Q1312.99 69.8214 1310.64 65.7705 M1336 49.9314 Q1336 41.7081 1332.59 37.0496 Q1329.23 32.3505 1323.32 32.3505 Q1317.4 32.3505 1314 37.0496 Q1310.64 41.7081 1310.64 49.9314 Q1310.64 58.1548 1314 62.8538 Q1317.4 67.5124 1323.32 67.5124 Q1329.23 67.5124 1332.59 62.8538 Q1336 58.1548 1336 49.9314 Z\" fill=\"#000000\" fill-rule=\"nonzero\" fill-opacity=\"1\" /><path clip-path=\"url(#clip010)\" d=\"M1382.38 34.1734 Q1381.12 33.4443 1379.62 33.1202 Q1378.17 32.7556 1376.38 32.7556 Q1370.06 32.7556 1366.66 36.8875 Q1363.3 40.9789 1363.3 48.6757 L1363.3 72.576 L1355.8 72.576 L1355.8 27.2059 L1363.3 27.2059 L1363.3 34.2544 Q1365.65 30.1225 1369.42 28.1376 Q1373.18 26.1121 1378.57 26.1121 Q1379.34 26.1121 1380.27 26.2337 Q1381.2 26.3147 1382.34 26.5172 L1382.38 34.1734 Z\" fill=\"#000000\" fill-rule=\"nonzero\" fill-opacity=\"1\" /><path clip-path=\"url(#clip010)\" d=\"M1390.2 27.2059 L1397.65 27.2059 L1397.65 72.576 L1390.2 72.576 L1390.2 27.2059 M1390.2 9.54393 L1397.65 9.54393 L1397.65 18.9825 L1390.2 18.9825 L1390.2 9.54393 Z\" fill=\"#000000\" fill-rule=\"nonzero\" fill-opacity=\"1\" /><path clip-path=\"url(#clip010)\" d=\"M1448.57 35.9153 Q1451.37 30.8922 1455.25 28.5022 Q1459.14 26.1121 1464.41 26.1121 Q1471.5 26.1121 1475.35 31.0947 Q1479.19 36.0368 1479.19 45.1919 L1479.19 72.576 L1471.7 72.576 L1471.7 45.4349 Q1471.7 38.913 1469.39 35.7533 Q1467.08 32.5936 1462.34 32.5936 Q1456.55 32.5936 1453.19 36.4419 Q1449.83 40.2903 1449.83 46.9338 L1449.83 72.576 L1442.33 72.576 L1442.33 45.4349 Q1442.33 38.8725 1440.02 35.7533 Q1437.71 32.5936 1432.89 32.5936 Q1427.18 32.5936 1423.82 36.4824 Q1420.46 40.3308 1420.46 46.9338 L1420.46 72.576 L1412.96 72.576 L1412.96 27.2059 L1420.46 27.2059 L1420.46 34.2544 Q1423.01 30.082 1426.57 28.0971 Q1430.14 26.1121 1435.04 26.1121 Q1439.98 26.1121 1443.43 28.6237 Q1446.91 31.1352 1448.57 35.9153 Z\" fill=\"#000000\" fill-rule=\"nonzero\" fill-opacity=\"1\" /><path clip-path=\"url(#clip010)\" d=\"M1532.87 48.0275 L1532.87 51.6733 L1498.6 51.6733 Q1499.08 59.3701 1503.22 63.421 Q1507.39 67.4314 1514.8 67.4314 Q1519.1 67.4314 1523.11 66.3781 Q1527.16 65.3249 1531.13 63.2184 L1531.13 70.267 Q1527.12 71.9684 1522.9 72.8596 Q1518.69 73.7508 1514.36 73.7508 Q1503.5 73.7508 1497.14 67.4314 Q1490.82 61.1119 1490.82 50.3365 Q1490.82 39.1965 1496.82 32.6746 Q1502.85 26.1121 1513.06 26.1121 Q1522.22 26.1121 1527.52 32.0264 Q1532.87 37.9003 1532.87 48.0275 M1525.42 45.84 Q1525.33 39.7232 1521.97 36.0774 Q1518.65 32.4315 1513.14 32.4315 Q1506.9 32.4315 1503.14 35.9558 Q1499.41 39.4801 1498.84 45.8805 L1525.42 45.84 Z\" fill=\"#000000\" fill-rule=\"nonzero\" fill-opacity=\"1\" /><path clip-path=\"url(#clip010)\" d=\"M1582.82 45.1919 L1582.82 72.576 L1575.36 72.576 L1575.36 45.4349 Q1575.36 38.994 1572.85 35.7938 Q1570.34 32.5936 1565.32 32.5936 Q1559.28 32.5936 1555.8 36.4419 Q1552.31 40.2903 1552.31 46.9338 L1552.31 72.576 L1544.82 72.576 L1544.82 27.2059 L1552.31 27.2059 L1552.31 34.2544 Q1554.99 30.163 1558.59 28.1376 Q1562.24 26.1121 1566.98 26.1121 Q1574.8 26.1121 1578.81 30.9732 Q1582.82 35.7938 1582.82 45.1919 Z\" fill=\"#000000\" fill-rule=\"nonzero\" fill-opacity=\"1\" /><path clip-path=\"url(#clip010)\" d=\"M1605.06 14.324 L1605.06 27.2059 L1620.41 27.2059 L1620.41 32.9987 L1605.06 32.9987 L1605.06 57.6282 Q1605.06 63.1779 1606.56 64.7578 Q1608.09 66.3376 1612.75 66.3376 L1620.41 66.3376 L1620.41 72.576 L1612.75 72.576 Q1604.12 72.576 1600.84 69.3758 Q1597.56 66.1351 1597.56 57.6282 L1597.56 32.9987 L1592.09 32.9987 L1592.09 27.2059 L1597.56 27.2059 L1597.56 14.324 L1605.06 14.324 Z\" fill=\"#000000\" fill-rule=\"nonzero\" fill-opacity=\"1\" /><path clip-path=\"url(#clip010)\" d=\"M1647.79 32.4315 Q1641.8 32.4315 1638.31 37.1306 Q1634.83 41.7891 1634.83 49.9314 Q1634.83 58.0738 1638.27 62.7728 Q1641.76 67.4314 1647.79 67.4314 Q1653.75 67.4314 1657.23 62.7323 Q1660.72 58.0333 1660.72 49.9314 Q1660.72 41.8701 1657.23 37.1711 Q1653.75 32.4315 1647.79 32.4315 M1647.79 26.1121 Q1657.52 26.1121 1663.07 32.4315 Q1668.62 38.7509 1668.62 49.9314 Q1668.62 61.0714 1663.07 67.4314 Q1657.52 73.7508 1647.79 73.7508 Q1638.03 73.7508 1632.48 67.4314 Q1626.97 61.0714 1626.97 49.9314 Q1626.97 38.7509 1632.48 32.4315 Q1638.03 26.1121 1647.79 26.1121 Z\" fill=\"#000000\" fill-rule=\"nonzero\" fill-opacity=\"1\" /><path clip-path=\"url(#clip010)\" d=\"M1737.2 34.0924 L1737.2 9.54393 L1744.65 9.54393 L1744.65 72.576 L1737.2 72.576 L1737.2 65.7705 Q1734.85 69.8214 1731.24 71.8063 Q1727.68 73.7508 1722.65 73.7508 Q1714.43 73.7508 1709.25 67.1883 Q1704.1 60.6258 1704.1 49.9314 Q1704.1 39.2371 1709.25 32.6746 Q1714.43 26.1121 1722.65 26.1121 Q1727.68 26.1121 1731.24 28.0971 Q1734.85 30.0415 1737.2 34.0924 M1711.8 49.9314 Q1711.8 58.1548 1715.16 62.8538 Q1718.56 67.5124 1724.48 67.5124 Q1730.39 67.5124 1733.79 62.8538 Q1737.2 58.1548 1737.2 49.9314 Q1737.2 41.7081 1733.79 37.0496 Q1730.39 32.3505 1724.48 32.3505 Q1718.56 32.3505 1715.16 37.0496 Q1711.8 41.7081 1711.8 49.9314 Z\" fill=\"#000000\" fill-rule=\"nonzero\" fill-opacity=\"1\" /><path clip-path=\"url(#clip010)\" d=\"M1780.62 49.7694 Q1771.59 49.7694 1768.11 51.8354 Q1764.62 53.9013 1764.62 58.8839 Q1764.62 62.8538 1767.21 65.2034 Q1769.85 67.5124 1774.34 67.5124 Q1780.54 67.5124 1784.27 63.1374 Q1788.04 58.7219 1788.04 51.4303 L1788.04 49.7694 L1780.62 49.7694 M1795.49 46.6907 L1795.49 72.576 L1788.04 72.576 L1788.04 65.6895 Q1785.48 69.8214 1781.68 71.8063 Q1777.87 73.7508 1772.36 73.7508 Q1765.39 73.7508 1761.26 69.8619 Q1757.17 65.9325 1757.17 59.3701 Q1757.17 51.7138 1762.27 47.825 Q1767.42 43.9361 1777.58 43.9361 L1788.04 43.9361 L1788.04 43.2069 Q1788.04 38.0623 1784.63 35.2672 Q1781.27 32.4315 1775.15 32.4315 Q1771.27 32.4315 1767.58 33.3632 Q1763.89 34.295 1760.49 36.1584 L1760.49 29.2718 Q1764.58 27.692 1768.43 26.9223 Q1772.28 26.1121 1775.92 26.1121 Q1785.77 26.1121 1790.63 31.2163 Q1795.49 36.3204 1795.49 46.6907 Z\" fill=\"#000000\" fill-rule=\"nonzero\" fill-opacity=\"1\" /><path clip-path=\"url(#clip010)\" d=\"M1844.42 65.7705 L1844.42 89.8329 L1836.93 89.8329 L1836.93 27.2059 L1844.42 27.2059 L1844.42 34.0924 Q1846.77 30.0415 1850.34 28.0971 Q1853.94 26.1121 1858.93 26.1121 Q1867.19 26.1121 1872.34 32.6746 Q1877.52 39.2371 1877.52 49.9314 Q1877.52 60.6258 1872.34 67.1883 Q1867.19 73.7508 1858.93 73.7508 Q1853.94 73.7508 1850.34 71.8063 Q1846.77 69.8214 1844.42 65.7705 M1869.78 49.9314 Q1869.78 41.7081 1866.38 37.0496 Q1863.02 32.3505 1857.1 32.3505 Q1851.19 32.3505 1847.79 37.0496 Q1844.42 41.7081 1844.42 49.9314 Q1844.42 58.1548 1847.79 62.8538 Q1851.19 67.5124 1857.1 67.5124 Q1863.02 67.5124 1866.38 62.8538 Q1869.78 58.1548 1869.78 49.9314 Z\" fill=\"#000000\" fill-rule=\"nonzero\" fill-opacity=\"1\" /><path clip-path=\"url(#clip010)\" d=\"M1928.68 48.0275 L1928.68 51.6733 L1894.41 51.6733 Q1894.9 59.3701 1899.03 63.421 Q1903.2 67.4314 1910.62 67.4314 Q1914.91 67.4314 1918.92 66.3781 Q1922.97 65.3249 1926.94 63.2184 L1926.94 70.267 Q1922.93 71.9684 1918.72 72.8596 Q1914.51 73.7508 1910.17 73.7508 Q1899.31 73.7508 1892.95 67.4314 Q1886.63 61.1119 1886.63 50.3365 Q1886.63 39.1965 1892.63 32.6746 Q1898.67 26.1121 1908.87 26.1121 Q1918.03 26.1121 1923.34 32.0264 Q1928.68 37.9003 1928.68 48.0275 M1921.23 45.84 Q1921.15 39.7232 1917.79 36.0774 Q1914.46 32.4315 1908.96 32.4315 Q1902.72 32.4315 1898.95 35.9558 Q1895.22 39.4801 1894.66 45.8805 L1921.23 45.84 M1914.06 6.22219 L1922.12 6.22219 L1908.91 21.4536 L1902.72 21.4536 L1914.06 6.22219 Z\" fill=\"#000000\" fill-rule=\"nonzero\" fill-opacity=\"1\" /><path clip-path=\"url(#clip010)\" d=\"M1948.29 14.324 L1948.29 27.2059 L1963.64 27.2059 L1963.64 32.9987 L1948.29 32.9987 L1948.29 57.6282 Q1948.29 63.1779 1949.79 64.7578 Q1951.33 66.3376 1955.99 66.3376 L1963.64 66.3376 L1963.64 72.576 L1955.99 72.576 Q1947.36 72.576 1944.08 69.3758 Q1940.8 66.1351 1940.8 57.6282 L1940.8 32.9987 L1935.33 32.9987 L1935.33 27.2059 L1940.8 27.2059 L1940.8 14.324 L1948.29 14.324 Z\" fill=\"#000000\" fill-rule=\"nonzero\" fill-opacity=\"1\" /><path clip-path=\"url(#clip010)\" d=\"M1994.06 49.7694 Q1985.03 49.7694 1981.55 51.8354 Q1978.06 53.9013 1978.06 58.8839 Q1978.06 62.8538 1980.66 65.2034 Q1983.29 67.5124 1987.79 67.5124 Q1993.98 67.5124 1997.71 63.1374 Q2001.48 58.7219 2001.48 51.4303 L2001.48 49.7694 L1994.06 49.7694 M2008.93 46.6907 L2008.93 72.576 L2001.48 72.576 L2001.48 65.6895 Q1998.93 69.8214 1995.12 71.8063 Q1991.31 73.7508 1985.8 73.7508 Q1978.83 73.7508 1974.7 69.8619 Q1970.61 65.9325 1970.61 59.3701 Q1970.61 51.7138 1975.71 47.825 Q1980.86 43.9361 1991.03 43.9361 L2001.48 43.9361 L2001.48 43.2069 Q2001.48 38.0623 1998.08 35.2672 Q1994.71 32.4315 1988.6 32.4315 Q1984.71 32.4315 1981.02 33.3632 Q1977.33 34.295 1973.93 36.1584 L1973.93 29.2718 Q1978.02 27.692 1981.87 26.9223 Q1985.72 26.1121 1989.37 26.1121 Q1999.21 26.1121 2004.07 31.2163 Q2008.93 36.3204 2008.93 46.6907 Z\" fill=\"#000000\" fill-rule=\"nonzero\" fill-opacity=\"1\" /><path clip-path=\"url(#clip010)\" d=\"M2024.28 9.54393 L2031.74 9.54393 L2031.74 72.576 L2024.28 72.576 L2024.28 9.54393 Z\" fill=\"#000000\" fill-rule=\"nonzero\" fill-opacity=\"1\" /><path clip-path=\"url(#clip010)\" d=\"M2067.95 49.7694 Q2058.92 49.7694 2055.44 51.8354 Q2051.95 53.9013 2051.95 58.8839 Q2051.95 62.8538 2054.54 65.2034 Q2057.18 67.5124 2061.67 67.5124 Q2067.87 67.5124 2071.6 63.1374 Q2075.37 58.7219 2075.37 51.4303 L2075.37 49.7694 L2067.95 49.7694 M2082.82 46.6907 L2082.82 72.576 L2075.37 72.576 L2075.37 65.6895 Q2072.81 69.8214 2069.01 71.8063 Q2065.2 73.7508 2059.69 73.7508 Q2052.72 73.7508 2048.59 69.8619 Q2044.5 65.9325 2044.5 59.3701 Q2044.5 51.7138 2049.6 47.825 Q2054.75 43.9361 2064.92 43.9361 L2075.37 43.9361 L2075.37 43.2069 Q2075.37 38.0623 2071.96 35.2672 Q2068.6 32.4315 2062.48 32.4315 Q2058.6 32.4315 2054.91 33.3632 Q2051.22 34.295 2047.82 36.1584 L2047.82 29.2718 Q2051.91 27.692 2055.76 26.9223 Q2059.61 26.1121 2063.25 26.1121 Q2073.1 26.1121 2077.96 31.2163 Q2082.82 36.3204 2082.82 46.6907 Z\" fill=\"#000000\" fill-rule=\"nonzero\" fill-opacity=\"1\" /><path clip-path=\"url(#clip012)\" d=\"M323.245 160.256 L323.245 1386.4 L641.809 1386.4 L641.809 160.256 L323.245 160.256 L323.245 160.256  Z\" fill=\"#009af9\" fill-rule=\"evenodd\" fill-opacity=\"1\"/>\n<polyline clip-path=\"url(#clip012)\" style=\"stroke:#000000; stroke-linecap:round; stroke-linejoin:round; stroke-width:4; stroke-opacity:1; fill:none\" points=\"323.245,160.256 323.245,1386.4 641.809,1386.4 641.809,160.256 323.245,160.256 \"/>\n<path clip-path=\"url(#clip012)\" d=\"M641.809 1386.4 L641.809 1386.4 L960.374 1386.4 L960.374 1386.4 L641.809 1386.4 L641.809 1386.4  Z\" fill=\"#009af9\" fill-rule=\"evenodd\" fill-opacity=\"1\"/>\n<polyline clip-path=\"url(#clip012)\" style=\"stroke:#000000; stroke-linecap:round; stroke-linejoin:round; stroke-width:4; stroke-opacity:1; fill:none\" points=\"641.809,1386.4 641.809,1386.4 960.374,1386.4 641.809,1386.4 \"/>\n<path clip-path=\"url(#clip012)\" d=\"M960.374 1116.65 L960.374 1386.4 L1278.94 1386.4 L1278.94 1116.65 L960.374 1116.65 L960.374 1116.65  Z\" fill=\"#009af9\" fill-rule=\"evenodd\" fill-opacity=\"1\"/>\n<polyline clip-path=\"url(#clip012)\" style=\"stroke:#000000; stroke-linecap:round; stroke-linejoin:round; stroke-width:4; stroke-opacity:1; fill:none\" points=\"960.374,1116.65 960.374,1386.4 1278.94,1386.4 1278.94,1116.65 960.374,1116.65 \"/>\n<path clip-path=\"url(#clip012)\" d=\"M1278.94 331.916 L1278.94 1386.4 L1597.5 1386.4 L1597.5 331.916 L1278.94 331.916 L1278.94 331.916  Z\" fill=\"#009af9\" fill-rule=\"evenodd\" fill-opacity=\"1\"/>\n<polyline clip-path=\"url(#clip012)\" style=\"stroke:#000000; stroke-linecap:round; stroke-linejoin:round; stroke-width:4; stroke-opacity:1; fill:none\" points=\"1278.94,331.916 1278.94,1386.4 1597.5,1386.4 1597.5,331.916 1278.94,331.916 \"/>\n<path clip-path=\"url(#clip012)\" d=\"M1597.5 528.098 L1597.5 1386.4 L1916.07 1386.4 L1916.07 528.098 L1597.5 528.098 L1597.5 528.098  Z\" fill=\"#009af9\" fill-rule=\"evenodd\" fill-opacity=\"1\"/>\n<polyline clip-path=\"url(#clip012)\" style=\"stroke:#000000; stroke-linecap:round; stroke-linejoin:round; stroke-width:4; stroke-opacity:1; fill:none\" points=\"1597.5,528.098 1597.5,1386.4 1916.07,1386.4 1916.07,528.098 1597.5,528.098 \"/>\n<path clip-path=\"url(#clip012)\" d=\"M1916.07 1116.65 L1916.07 1386.4 L2234.63 1386.4 L2234.63 1116.65 L1916.07 1116.65 L1916.07 1116.65  Z\" fill=\"#009af9\" fill-rule=\"evenodd\" fill-opacity=\"1\"/>\n<polyline clip-path=\"url(#clip012)\" style=\"stroke:#000000; stroke-linecap:round; stroke-linejoin:round; stroke-width:4; stroke-opacity:1; fill:none\" points=\"1916.07,1116.65 1916.07,1386.4 2234.63,1386.4 2234.63,1116.65 1916.07,1116.65 \"/>\n<circle clip-path=\"url(#clip012)\" style=\"fill:#009af9; stroke:none; fill-opacity:0\" cx=\"482.527\" cy=\"160.256\" r=\"2\"/>\n<circle clip-path=\"url(#clip012)\" style=\"fill:#009af9; stroke:none; fill-opacity:0\" cx=\"801.092\" cy=\"1386.4\" r=\"2\"/>\n<circle clip-path=\"url(#clip012)\" style=\"fill:#009af9; stroke:none; fill-opacity:0\" cx=\"1119.66\" cy=\"1116.65\" r=\"2\"/>\n<circle clip-path=\"url(#clip012)\" style=\"fill:#009af9; stroke:none; fill-opacity:0\" cx=\"1438.22\" cy=\"331.916\" r=\"2\"/>\n<circle clip-path=\"url(#clip012)\" style=\"fill:#009af9; stroke:none; fill-opacity:0\" cx=\"1756.79\" cy=\"528.098\" r=\"2\"/>\n<circle clip-path=\"url(#clip012)\" style=\"fill:#009af9; stroke:none; fill-opacity:0\" cx=\"2075.35\" cy=\"1116.65\" r=\"2\"/>\n<path clip-path=\"url(#clip010)\" d=\"M2013.97 270.476 L2281.17 270.476 L2281.17 166.796 L2013.97 166.796  Z\" fill=\"#ffffff\" fill-rule=\"evenodd\" fill-opacity=\"1\"/>\n<polyline clip-path=\"url(#clip010)\" style=\"stroke:#000000; stroke-linecap:round; stroke-linejoin:round; stroke-width:4; stroke-opacity:1; fill:none\" points=\"2013.97,270.476 2281.17,270.476 2281.17,166.796 2013.97,166.796 2013.97,270.476 \"/>\n<path clip-path=\"url(#clip010)\" d=\"M2037.84 239.372 L2181.01 239.372 L2181.01 197.9 L2037.84 197.9 L2037.84 239.372  Z\" fill=\"#009af9\" fill-rule=\"evenodd\" fill-opacity=\"1\"/>\n<polyline clip-path=\"url(#clip010)\" style=\"stroke:#000000; stroke-linecap:round; stroke-linejoin:round; stroke-width:4; stroke-opacity:1; fill:none\" points=\"2037.84,239.372 2181.01,239.372 2181.01,197.9 2037.84,197.9 2037.84,239.372 \"/>\n<path clip-path=\"url(#clip010)\" d=\"M2218.72 238.323 Q2216.91 242.953 2215.2 244.365 Q2213.49 245.777 2210.62 245.777 L2207.21 245.777 L2207.21 242.212 L2209.71 242.212 Q2211.47 242.212 2212.44 241.379 Q2213.42 240.545 2214.6 237.443 L2215.36 235.499 L2204.88 209.99 L2209.39 209.99 L2217.49 230.268 L2225.59 209.99 L2230.11 209.99 L2218.72 238.323 Z\" fill=\"#000000\" fill-rule=\"nonzero\" fill-opacity=\"1\" /><path clip-path=\"url(#clip010)\" d=\"M2237.4 231.981 L2245.04 231.981 L2245.04 205.615 L2236.73 207.282 L2236.73 203.022 L2244.99 201.356 L2249.67 201.356 L2249.67 231.981 L2257.31 231.981 L2257.31 235.916 L2237.4 235.916 L2237.4 231.981 Z\" fill=\"#000000\" fill-rule=\"nonzero\" fill-opacity=\"1\" /></svg>\n"
          },
          "metadata": {},
          "execution_count": 70
        }
      ]
    },
    {
      "cell_type": "code",
      "source": [
        "iris[!, :SepalRatio] = iris[!, :SepalWidth] ./ iris[!, :SepalLength]  # Calcula a relação entre largura e comprimento da sépala e adiciona em uma nova coluna"
      ],
      "metadata": {
        "colab": {
          "base_uri": "https://localhost:8080/"
        },
        "id": "9uET7SBvCg-9",
        "outputId": "9ae39903-05b8-41bf-ee25-6716c6531e30"
      },
      "execution_count": null,
      "outputs": [
        {
          "output_type": "execute_result",
          "data": {
            "text/plain": [
              "150-element Vector{Float64}:\n",
              " 0.6862745098039216\n",
              " 0.6122448979591836\n",
              " 0.6808510638297872\n",
              " 0.673913043478261\n",
              " 0.72\n",
              " 0.7222222222222222\n",
              " 0.7391304347826088\n",
              " 0.6799999999999999\n",
              " 0.6590909090909091\n",
              " 0.6326530612244897\n",
              " 0.6851851851851851\n",
              " 0.7083333333333334\n",
              " 0.625\n",
              " ⋮\n",
              " 0.5\n",
              " 0.4492753623188406\n",
              " 0.4626865671641791\n",
              " 0.4492753623188406\n",
              " 0.4655172413793104\n",
              " 0.4705882352941177\n",
              " 0.4925373134328358\n",
              " 0.44776119402985076\n",
              " 0.39682539682539686\n",
              " 0.46153846153846156\n",
              " 0.5483870967741935\n",
              " 0.5084745762711864"
            ]
          },
          "metadata": {},
          "execution_count": 72
        }
      ]
    },
    {
      "cell_type": "code",
      "source": [
        "first(iris, 5)"
      ],
      "metadata": {
        "colab": {
          "base_uri": "https://localhost:8080/",
          "height": 205
        },
        "id": "e-g9lGP_DA21",
        "outputId": "73e58a58-f04f-4989-e991-700c0ea8827d"
      },
      "execution_count": null,
      "outputs": [
        {
          "output_type": "execute_result",
          "data": {
            "text/plain": [
              "\u001b[1m5×6 DataFrame\u001b[0m\n",
              "\u001b[1m Row \u001b[0m│\u001b[1m SepalLength \u001b[0m\u001b[1m SepalWidth \u001b[0m\u001b[1m PetalLength \u001b[0m\u001b[1m PetalWidth \u001b[0m\u001b[1m Species \u001b[0m\u001b[1m SepalRatio \u001b[0m\n",
              "     │\u001b[90m Float64     \u001b[0m\u001b[90m Float64    \u001b[0m\u001b[90m Float64     \u001b[0m\u001b[90m Float64    \u001b[0m\u001b[90m Cat…    \u001b[0m\u001b[90m Float64    \u001b[0m\n",
              "─────┼───────────────────────────────────────────────────────────────────────\n",
              "   1 │         5.1         3.5          1.4         0.2  setosa     0.686275\n",
              "   2 │         4.9         3.0          1.4         0.2  setosa     0.612245\n",
              "   3 │         4.7         3.2          1.3         0.2  setosa     0.680851\n",
              "   4 │         4.6         3.1          1.5         0.2  setosa     0.673913\n",
              "   5 │         5.0         3.6          1.4         0.2  setosa     0.72"
            ],
            "text/html": [
              "<div><div style = \"float: left;\"><span>5×6 DataFrame</span></div><div style = \"clear: both;\"></div></div><div class = \"data-frame\" style = \"overflow-x: scroll;\"><table class = \"data-frame\" style = \"margin-bottom: 6px;\"><thead><tr class = \"header\"><th class = \"rowNumber\" style = \"font-weight: bold; text-align: right;\">Row</th><th style = \"text-align: left;\">SepalLength</th><th style = \"text-align: left;\">SepalWidth</th><th style = \"text-align: left;\">PetalLength</th><th style = \"text-align: left;\">PetalWidth</th><th style = \"text-align: left;\">Species</th><th style = \"text-align: left;\">SepalRatio</th></tr><tr class = \"subheader headerLastRow\"><th class = \"rowNumber\" style = \"font-weight: bold; text-align: right;\"></th><th title = \"Float64\" style = \"text-align: left;\">Float64</th><th title = \"Float64\" style = \"text-align: left;\">Float64</th><th title = \"Float64\" style = \"text-align: left;\">Float64</th><th title = \"Float64\" style = \"text-align: left;\">Float64</th><th title = \"CategoricalArrays.CategoricalValue{String, UInt8}\" style = \"text-align: left;\">Cat…</th><th title = \"Float64\" style = \"text-align: left;\">Float64</th></tr></thead><tbody><tr><td class = \"rowNumber\" style = \"font-weight: bold; text-align: right;\">1</td><td style = \"text-align: right;\">5.1</td><td style = \"text-align: right;\">3.5</td><td style = \"text-align: right;\">1.4</td><td style = \"text-align: right;\">0.2</td><td style = \"text-align: left;\">setosa</td><td style = \"text-align: right;\">0.686275</td></tr><tr><td class = \"rowNumber\" style = \"font-weight: bold; text-align: right;\">2</td><td style = \"text-align: right;\">4.9</td><td style = \"text-align: right;\">3.0</td><td style = \"text-align: right;\">1.4</td><td style = \"text-align: right;\">0.2</td><td style = \"text-align: left;\">setosa</td><td style = \"text-align: right;\">0.612245</td></tr><tr><td class = \"rowNumber\" style = \"font-weight: bold; text-align: right;\">3</td><td style = \"text-align: right;\">4.7</td><td style = \"text-align: right;\">3.2</td><td style = \"text-align: right;\">1.3</td><td style = \"text-align: right;\">0.2</td><td style = \"text-align: left;\">setosa</td><td style = \"text-align: right;\">0.680851</td></tr><tr><td class = \"rowNumber\" style = \"font-weight: bold; text-align: right;\">4</td><td style = \"text-align: right;\">4.6</td><td style = \"text-align: right;\">3.1</td><td style = \"text-align: right;\">1.5</td><td style = \"text-align: right;\">0.2</td><td style = \"text-align: left;\">setosa</td><td style = \"text-align: right;\">0.673913</td></tr><tr><td class = \"rowNumber\" style = \"font-weight: bold; text-align: right;\">5</td><td style = \"text-align: right;\">5.0</td><td style = \"text-align: right;\">3.6</td><td style = \"text-align: right;\">1.4</td><td style = \"text-align: right;\">0.2</td><td style = \"text-align: left;\">setosa</td><td style = \"text-align: right;\">0.72</td></tr></tbody></table></div>"
            ],
            "text/latex": "\\begin{tabular}{r|cccccc}\n\t& SepalLength & SepalWidth & PetalLength & PetalWidth & Species & SepalRatio\\\\\n\t\\hline\n\t& Float64 & Float64 & Float64 & Float64 & Cat… & Float64\\\\\n\t\\hline\n\t1 & 5.1 & 3.5 & 1.4 & 0.2 & setosa & 0.686275 \\\\\n\t2 & 4.9 & 3.0 & 1.4 & 0.2 & setosa & 0.612245 \\\\\n\t3 & 4.7 & 3.2 & 1.3 & 0.2 & setosa & 0.680851 \\\\\n\t4 & 4.6 & 3.1 & 1.5 & 0.2 & setosa & 0.673913 \\\\\n\t5 & 5.0 & 3.6 & 1.4 & 0.2 & setosa & 0.72 \\\\\n\\end{tabular}\n"
          },
          "metadata": {},
          "execution_count": 73
        }
      ]
    },
    {
      "cell_type": "code",
      "source": [
        "using DataFrames, Statistics\n",
        "\n",
        "grouped_data = combine(groupby(iris, :Species),\n",
        "                       :SepalLength => mean => :avg_sepal_length,\n",
        "                       :PetalWidth => maximum => :max_petal_width)\n"
      ],
      "metadata": {
        "colab": {
          "base_uri": "https://localhost:8080/",
          "height": 164
        },
        "id": "oBOOoK2eDgO9",
        "outputId": "7ca44765-2f2c-48a2-be25-4c50041a043a"
      },
      "execution_count": null,
      "outputs": [
        {
          "output_type": "execute_result",
          "data": {
            "text/plain": [
              "\u001b[1m3×3 DataFrame\u001b[0m\n",
              "\u001b[1m Row \u001b[0m│\u001b[1m Species    \u001b[0m\u001b[1m avg_sepal_length \u001b[0m\u001b[1m max_petal_width \u001b[0m\n",
              "     │\u001b[90m Cat…       \u001b[0m\u001b[90m Float64          \u001b[0m\u001b[90m Float64         \u001b[0m\n",
              "─────┼───────────────────────────────────────────────\n",
              "   1 │ setosa                 5.006              0.6\n",
              "   2 │ versicolor             5.936              1.8\n",
              "   3 │ virginica              6.588              2.5"
            ],
            "text/html": [
              "<div><div style = \"float: left;\"><span>3×3 DataFrame</span></div><div style = \"clear: both;\"></div></div><div class = \"data-frame\" style = \"overflow-x: scroll;\"><table class = \"data-frame\" style = \"margin-bottom: 6px;\"><thead><tr class = \"header\"><th class = \"rowNumber\" style = \"font-weight: bold; text-align: right;\">Row</th><th style = \"text-align: left;\">Species</th><th style = \"text-align: left;\">avg_sepal_length</th><th style = \"text-align: left;\">max_petal_width</th></tr><tr class = \"subheader headerLastRow\"><th class = \"rowNumber\" style = \"font-weight: bold; text-align: right;\"></th><th title = \"CategoricalArrays.CategoricalValue{String, UInt8}\" style = \"text-align: left;\">Cat…</th><th title = \"Float64\" style = \"text-align: left;\">Float64</th><th title = \"Float64\" style = \"text-align: left;\">Float64</th></tr></thead><tbody><tr><td class = \"rowNumber\" style = \"font-weight: bold; text-align: right;\">1</td><td style = \"text-align: left;\">setosa</td><td style = \"text-align: right;\">5.006</td><td style = \"text-align: right;\">0.6</td></tr><tr><td class = \"rowNumber\" style = \"font-weight: bold; text-align: right;\">2</td><td style = \"text-align: left;\">versicolor</td><td style = \"text-align: right;\">5.936</td><td style = \"text-align: right;\">1.8</td></tr><tr><td class = \"rowNumber\" style = \"font-weight: bold; text-align: right;\">3</td><td style = \"text-align: left;\">virginica</td><td style = \"text-align: right;\">6.588</td><td style = \"text-align: right;\">2.5</td></tr></tbody></table></div>"
            ],
            "text/latex": "\\begin{tabular}{r|ccc}\n\t& Species & avg\\_sepal\\_length & max\\_petal\\_width\\\\\n\t\\hline\n\t& Cat… & Float64 & Float64\\\\\n\t\\hline\n\t1 & setosa & 5.006 & 0.6 \\\\\n\t2 & versicolor & 5.936 & 1.8 \\\\\n\t3 & virginica & 6.588 & 2.5 \\\\\n\\end{tabular}\n"
          },
          "metadata": {},
          "execution_count": 79
        }
      ]
    },
    {
      "cell_type": "code",
      "source": [
        "Pkg.add(\"CSV\")\n",
        "using CSV\n",
        "\n",
        "CSV.write(\"iris.csv\", iris)"
      ],
      "metadata": {
        "colab": {
          "base_uri": "https://localhost:8080/"
        },
        "id": "TLzbrHRQD_Q5",
        "outputId": "dcd7e902-a4e7-4840-df4f-2f90c672204f"
      },
      "execution_count": null,
      "outputs": [
        {
          "output_type": "stream",
          "name": "stderr",
          "text": [
            "\u001b[32m\u001b[1m   Resolving\u001b[22m\u001b[39m package versions...\n",
            "\u001b[32m\u001b[1m    Updating\u001b[22m\u001b[39m `~/.julia/environments/v1.8/Project.toml`\n",
            " \u001b[90m [336ed68f] \u001b[39m\u001b[92m+ CSV v0.10.11\u001b[39m\n",
            "\u001b[32m\u001b[1m  No Changes\u001b[22m\u001b[39m to `~/.julia/environments/v1.8/Manifest.toml`\n"
          ]
        },
        {
          "output_type": "execute_result",
          "data": {
            "text/plain": [
              "\"iris.csv\""
            ]
          },
          "metadata": {},
          "execution_count": 81
        }
      ]
    },
    {
      "cell_type": "markdown",
      "source": [
        "Machine Learning"
      ],
      "metadata": {
        "id": "ahcy1rOmEYQw"
      }
    },
    {
      "cell_type": "code",
      "source": [
        "begin\n",
        "    Pkg.add(\"Flux\")\n",
        "    Pkg.add(\"CUDA\")\n",
        "    Pkg.add(\"IterTools\")\n",
        "\n",
        "    using Flux\n",
        "    using Flux: Data.DataLoader\n",
        "    using Flux: @epochs\n",
        "    using CUDA\n",
        "    using Random\n",
        "    using IterTools: ncycle\n",
        "\n",
        "    Random.seed!(123);\n",
        "end"
      ],
      "metadata": {
        "colab": {
          "base_uri": "https://localhost:8080/"
        },
        "id": "yhrEcueTKWiS",
        "outputId": "f5ea966c-52eb-4ce2-d8a9-f7c062b2dee2"
      },
      "execution_count": null,
      "outputs": [
        {
          "output_type": "stream",
          "name": "stderr",
          "text": [
            "\u001b[32m\u001b[1m   Resolving\u001b[22m\u001b[39m package versions...\n",
            "\u001b[32m\u001b[1m   Installed\u001b[22m\u001b[39m ContextVariablesX ────── v0.1.3\n",
            "\u001b[32m\u001b[1m   Installed\u001b[22m\u001b[39m InitialValues ────────── v0.3.1\n",
            "\u001b[32m\u001b[1m   Installed\u001b[22m\u001b[39m NNlibCUDA ────────────── v0.2.7\n",
            "\u001b[32m\u001b[1m   Installed\u001b[22m\u001b[39m TimerOutputs ─────────── v0.5.23\n",
            "\u001b[32m\u001b[1m   Installed\u001b[22m\u001b[39m ShowCases ────────────── v0.1.0\n",
            "\u001b[32m\u001b[1m   Installed\u001b[22m\u001b[39m cuDNN ────────────────── v1.0.4\n",
            "\u001b[32m\u001b[1m   Installed\u001b[22m\u001b[39m CEnum ────────────────── v0.4.2\n",
            "\u001b[32m\u001b[1m   Installed\u001b[22m\u001b[39m Optimisers ───────────── v0.2.18\n",
            "\u001b[32m\u001b[1m   Installed\u001b[22m\u001b[39m BFloat16s ────────────── v0.4.2\n",
            "\u001b[32m\u001b[1m   Installed\u001b[22m\u001b[39m CUDA_Runtime_jll ─────── v0.6.0+0\n",
            "\u001b[32m\u001b[1m   Installed\u001b[22m\u001b[39m GPUArrays ────────────── v8.7.1\n",
            "\u001b[32m\u001b[1m   Installed\u001b[22m\u001b[39m NNlib ────────────────── v0.8.21\n",
            "\u001b[32m\u001b[1m   Installed\u001b[22m\u001b[39m RandomNumbers ────────── v1.5.3\n",
            "\u001b[32m\u001b[1m   Installed\u001b[22m\u001b[39m PrettyPrint ──────────── v0.2.0\n",
            "\u001b[32m\u001b[1m   Installed\u001b[22m\u001b[39m ZygoteRules ──────────── v0.2.3\n",
            "\u001b[32m\u001b[1m   Installed\u001b[22m\u001b[39m MLUtils ──────────────── v0.4.3\n",
            "\u001b[32m\u001b[1m   Installed\u001b[22m\u001b[39m RealDot ──────────────── v0.1.0\n",
            "\u001b[32m\u001b[1m   Installed\u001b[22m\u001b[39m LLVM ─────────────────── v5.2.0\n",
            "\u001b[32m\u001b[1m   Installed\u001b[22m\u001b[39m CUDA_Driver_jll ──────── v0.5.0+1\n",
            "\u001b[32m\u001b[1m   Installed\u001b[22m\u001b[39m ProgressLogging ──────── v0.1.4\n",
            "\u001b[32m\u001b[1m   Installed\u001b[22m\u001b[39m IRTools ──────────────── v0.4.10\n",
            "\u001b[32m\u001b[1m   Installed\u001b[22m\u001b[39m OneHotArrays ─────────── v0.2.4\n",
            "\u001b[32m\u001b[1m   Installed\u001b[22m\u001b[39m CUDA_Runtime_Discovery ─ v0.2.2\n",
            "\u001b[32m\u001b[1m   Installed\u001b[22m\u001b[39m FLoopsBase ───────────── v0.1.1\n",
            "\u001b[32m\u001b[1m   Installed\u001b[22m\u001b[39m DefineSingletons ─────── v0.1.2\n",
            "\u001b[32m\u001b[1m   Installed\u001b[22m\u001b[39m NameResolution ───────── v0.1.5\n",
            "\u001b[32m\u001b[1m   Installed\u001b[22m\u001b[39m MicroCollections ─────── v0.1.4\n",
            "\u001b[32m\u001b[1m   Installed\u001b[22m\u001b[39m Functors ─────────────── v0.4.4\n",
            "\u001b[32m\u001b[1m   Installed\u001b[22m\u001b[39m UnsafeAtomicsLLVM ────── v0.1.2\n",
            "\u001b[32m\u001b[1m   Installed\u001b[22m\u001b[39m Random123 ────────────── v1.6.1\n",
            "\u001b[32m\u001b[1m   Installed\u001b[22m\u001b[39m BangBang ─────────────── v0.3.39\n",
            "\u001b[32m\u001b[1m   Installed\u001b[22m\u001b[39m Zygote ───────────────── v0.6.62\n",
            "\u001b[32m\u001b[1m   Installed\u001b[22m\u001b[39m CommonSubexpressions ─── v0.3.0\n",
            "\u001b[32m\u001b[1m   Installed\u001b[22m\u001b[39m MLStyle ──────────────── v0.4.17\n",
            "\u001b[32m\u001b[1m   Installed\u001b[22m\u001b[39m ChainRules ───────────── v1.51.0\n",
            "\u001b[32m\u001b[1m   Installed\u001b[22m\u001b[39m DiffRules ────────────── v1.15.1\n",
            "\u001b[32m\u001b[1m   Installed\u001b[22m\u001b[39m ArgCheck ─────────────── v2.3.0\n",
            "\u001b[32m\u001b[1m   Installed\u001b[22m\u001b[39m DiffResults ──────────── v1.1.0\n",
            "\u001b[32m\u001b[1m   Installed\u001b[22m\u001b[39m FLoops ───────────────── v0.2.1\n",
            "\u001b[32m\u001b[1m   Installed\u001b[22m\u001b[39m AbstractFFTs ─────────── v1.3.1\n",
            "\u001b[32m\u001b[1m   Installed\u001b[22m\u001b[39m LLVMExtra_jll ────────── v0.0.22+0\n",
            "\u001b[32m\u001b[1m   Installed\u001b[22m\u001b[39m CompositionsBase ─────── v0.1.2\n",
            "\u001b[32m\u001b[1m   Installed\u001b[22m\u001b[39m UnsafeAtomics ────────── v0.2.1\n",
            "\u001b[32m\u001b[1m   Installed\u001b[22m\u001b[39m JuliaVariables ───────── v0.2.4\n",
            "\u001b[32m\u001b[1m   Installed\u001b[22m\u001b[39m Setfield ─────────────── v1.1.1\n",
            "\u001b[32m\u001b[1m   Installed\u001b[22m\u001b[39m GPUArraysCore ────────── v0.1.5\n",
            "\u001b[32m\u001b[1m   Installed\u001b[22m\u001b[39m SimpleTraits ─────────── v0.9.4\n",
            "\u001b[32m\u001b[1m   Installed\u001b[22m\u001b[39m Atomix ───────────────── v0.1.0\n",
            "\u001b[32m\u001b[1m   Installed\u001b[22m\u001b[39m KernelAbstractions ───── v0.9.4\n",
            "\u001b[32m\u001b[1m   Installed\u001b[22m\u001b[39m Adapt ────────────────── v3.6.2\n",
            "\u001b[32m\u001b[1m   Installed\u001b[22m\u001b[39m Transducers ──────────── v0.4.76\n",
            "\u001b[32m\u001b[1m   Installed\u001b[22m\u001b[39m Flux ─────────────────── v0.13.17\n",
            "\u001b[32m\u001b[1m   Installed\u001b[22m\u001b[39m Baselet ──────────────── v0.1.1\n",
            "\u001b[32m\u001b[1m   Installed\u001b[22m\u001b[39m StructArrays ─────────── v0.6.15\n",
            "\u001b[32m\u001b[1m   Installed\u001b[22m\u001b[39m ForwardDiff ──────────── v0.10.35\n",
            "\u001b[32m\u001b[1m   Installed\u001b[22m\u001b[39m SplittablesBase ──────── v0.1.15\n",
            "\u001b[32m\u001b[1m   Installed\u001b[22m\u001b[39m GPUCompiler ──────────── v0.20.3\n",
            "\u001b[32m\u001b[1m   Installed\u001b[22m\u001b[39m CUDNN_jll ────────────── v8.8.1+0\n",
            "\u001b[32m\u001b[1m   Installed\u001b[22m\u001b[39m CUDA ─────────────────── v4.3.2\n",
            "\u001b[32m\u001b[1m    Updating\u001b[22m\u001b[39m `~/.julia/environments/v1.8/Project.toml`\n",
            " \u001b[90m [587475ba] \u001b[39m\u001b[92m+ Flux v0.13.17\u001b[39m\n",
            "\u001b[32m\u001b[1m    Updating\u001b[22m\u001b[39m `~/.julia/environments/v1.8/Manifest.toml`\n",
            " Downloading artifact: CUDA_Driver\n",
            " \u001b[90m [621f4979] \u001b[39m\u001b[92m+ AbstractFFTs v1.3.1\u001b[39m\n",
            " \u001b[90m [79e6a3ab] \u001b[39m\u001b[92m+ Adapt v3.6.2\u001b[39m\n",
            " \u001b[90m [dce04be8] \u001b[39m\u001b[92m+ ArgCheck v2.3.0\u001b[39m\n",
            " \u001b[90m [a9b6321e] \u001b[39m\u001b[92m+ Atomix v0.1.0\u001b[39m\n",
            " \u001b[90m [ab4f0b2a] \u001b[39m\u001b[92m+ BFloat16s v0.4.2\u001b[39m\n",
            " \u001b[90m [198e06fe] \u001b[39m\u001b[92m+ BangBang v0.3.39\u001b[39m\n",
            " \u001b[90m [9718e550] \u001b[39m\u001b[92m+ Baselet v0.1.1\u001b[39m\n",
            " \u001b[90m [fa961155] \u001b[39m\u001b[92m+ CEnum v0.4.2\u001b[39m\n",
            " \u001b[90m [052768ef] \u001b[39m\u001b[92m+ CUDA v4.3.2\u001b[39m\n",
            " \u001b[90m [1af6417a] \u001b[39m\u001b[92m+ CUDA_Runtime_Discovery v0.2.2\u001b[39m\n",
            " \u001b[90m [082447d4] \u001b[39m\u001b[92m+ ChainRules v1.51.0\u001b[39m\n",
            " \u001b[90m [bbf7d656] \u001b[39m\u001b[92m+ CommonSubexpressions v0.3.0\u001b[39m\n",
            " \u001b[90m [a33af91c] \u001b[39m\u001b[92m+ CompositionsBase v0.1.2\u001b[39m\n",
            " \u001b[90m [6add18c4] \u001b[39m\u001b[92m+ ContextVariablesX v0.1.3\u001b[39m\n",
            " \u001b[90m [244e2a9f] \u001b[39m\u001b[92m+ DefineSingletons v0.1.2\u001b[39m\n",
            " \u001b[90m [163ba53b] \u001b[39m\u001b[92m+ DiffResults v1.1.0\u001b[39m\n",
            " \u001b[90m [b552c78f] \u001b[39m\u001b[92m+ DiffRules v1.15.1\u001b[39m\n",
            " \u001b[90m [cc61a311] \u001b[39m\u001b[92m+ FLoops v0.2.1\u001b[39m\n",
            " \u001b[90m [b9860ae5] \u001b[39m\u001b[92m+ FLoopsBase v0.1.1\u001b[39m\n",
            " \u001b[90m [587475ba] \u001b[39m\u001b[92m+ Flux v0.13.17\u001b[39m\n",
            " \u001b[90m [f6369f11] \u001b[39m\u001b[92m+ ForwardDiff v0.10.35\u001b[39m\n",
            " \u001b[90m [d9f16b24] \u001b[39m\u001b[92m+ Functors v0.4.4\u001b[39m\n",
            " \u001b[90m [0c68f7d7] \u001b[39m\u001b[92m+ GPUArrays v8.7.1\u001b[39m\n",
            " \u001b[90m [46192b85] \u001b[39m\u001b[92m+ GPUArraysCore v0.1.5\u001b[39m\n",
            "\u001b[33m⌅\u001b[39m\u001b[90m [61eb1bfa] \u001b[39m\u001b[92m+ GPUCompiler v0.20.3\u001b[39m\n",
            " \u001b[90m [7869d1d1] \u001b[39m\u001b[92m+ IRTools v0.4.10\u001b[39m\n",
            " \u001b[90m [22cec73e] \u001b[39m\u001b[92m+ InitialValues v0.3.1\u001b[39m\n",
            " \u001b[90m [b14d175d] \u001b[39m\u001b[92m+ JuliaVariables v0.2.4\u001b[39m\n",
            " \u001b[90m [63c18a36] \u001b[39m\u001b[92m+ KernelAbstractions v0.9.4\u001b[39m\n",
            " \u001b[90m [929cbde3] \u001b[39m\u001b[92m+ LLVM v5.2.0\u001b[39m\n",
            " \u001b[90m [d8e11817] \u001b[39m\u001b[92m+ MLStyle v0.4.17\u001b[39m\n",
            " \u001b[90m [f1d291b0] \u001b[39m\u001b[92m+ MLUtils v0.4.3\u001b[39m\n",
            " \u001b[90m [128add7d] \u001b[39m\u001b[92m+ MicroCollections v0.1.4\u001b[39m\n",
            "\u001b[33m⌅\u001b[39m\u001b[90m [872c559c] \u001b[39m\u001b[92m+ NNlib v0.8.21\u001b[39m\n",
            " \u001b[90m [a00861dc] \u001b[39m\u001b[92m+ NNlibCUDA v0.2.7\u001b[39m\n",
            " \u001b[90m [71a1bf82] \u001b[39m\u001b[92m+ NameResolution v0.1.5\u001b[39m\n",
            " \u001b[90m [0b1bfda6] \u001b[39m\u001b[92m+ OneHotArrays v0.2.4\u001b[39m\n",
            " \u001b[90m [3bd65402] \u001b[39m\u001b[92m+ Optimisers v0.2.18\u001b[39m\n",
            " \u001b[90m [8162dcfd] \u001b[39m\u001b[92m+ PrettyPrint v0.2.0\u001b[39m\n",
            " \u001b[90m [33c8b6b6] \u001b[39m\u001b[92m+ ProgressLogging v0.1.4\u001b[39m\n",
            " \u001b[90m [74087812] \u001b[39m\u001b[92m+ Random123 v1.6.1\u001b[39m\n",
            " \u001b[90m [e6cf234a] \u001b[39m\u001b[92m+ RandomNumbers v1.5.3\u001b[39m\n",
            " \u001b[90m [c1ae055f] \u001b[39m\u001b[92m+ RealDot v0.1.0\u001b[39m\n",
            " \u001b[90m [efcf1570] \u001b[39m\u001b[92m+ Setfield v1.1.1\u001b[39m\n",
            " \u001b[90m [605ecd9f] \u001b[39m\u001b[92m+ ShowCases v0.1.0\u001b[39m\n",
            " \u001b[90m [699a6c99] \u001b[39m\u001b[92m+ SimpleTraits v0.9.4\u001b[39m\n",
            " \u001b[90m [171d559e] \u001b[39m\u001b[92m+ SplittablesBase v0.1.15\u001b[39m\n",
            " \u001b[90m [09ab397b] \u001b[39m\u001b[92m+ StructArrays v0.6.15\u001b[39m\n",
            " \u001b[90m [a759f4b9] \u001b[39m\u001b[92m+ TimerOutputs v0.5.23\u001b[39m\n",
            " \u001b[90m [28d57a85] \u001b[39m\u001b[92m+ Transducers v0.4.76\u001b[39m\n",
            " \u001b[90m [013be700] \u001b[39m\u001b[92m+ UnsafeAtomics v0.2.1\u001b[39m\n",
            " \u001b[90m [d80eeb9a] \u001b[39m\u001b[92m+ UnsafeAtomicsLLVM v0.1.2\u001b[39m\n",
            " \u001b[90m [e88e6eb3] \u001b[39m\u001b[92m+ Zygote v0.6.62\u001b[39m\n",
            " \u001b[90m [700de1a5] \u001b[39m\u001b[92m+ ZygoteRules v0.2.3\u001b[39m\n",
            " \u001b[90m [02a925ec] \u001b[39m\u001b[92m+ cuDNN v1.0.4\u001b[39m\n",
            " \u001b[90m [4ee394cb] \u001b[39m\u001b[92m+ CUDA_Driver_jll v0.5.0+1\u001b[39m\n",
            " \u001b[90m [76a88914] \u001b[39m\u001b[92m+ CUDA_Runtime_jll v0.6.0+0\u001b[39m\n",
            "\u001b[33m⌅\u001b[39m\u001b[90m [62b44479] \u001b[39m\u001b[92m+ CUDNN_jll v8.8.1+0\u001b[39m\n",
            " \u001b[90m [dad2f222] \u001b[39m\u001b[92m+ LLVMExtra_jll v0.0.22+0\u001b[39m\n",
            "\u001b[36m\u001b[1m        Info\u001b[22m\u001b[39m Packages marked with \u001b[33m⌅\u001b[39m have new versions available but compatibility constraints restrict them from upgrading. To see why use `status --outdated -m`\n",
            "\u001b[32m\u001b[1mPrecompiling\u001b[22m\u001b[39m project...\n",
            "\u001b[32m  ✓ \u001b[39m\u001b[90mCEnum\u001b[39m\n",
            "\u001b[32m  ✓ \u001b[39m\u001b[90mInitialValues\u001b[39m\n",
            "\u001b[32m  ✓ \u001b[39m\u001b[90mPrettyPrint\u001b[39m\n",
            "\u001b[32m  ✓ \u001b[39m\u001b[90mArgCheck\u001b[39m\n",
            "\u001b[32m  ✓ \u001b[39m\u001b[90mRealDot\u001b[39m\n",
            "\u001b[32m  ✓ \u001b[39m\u001b[90mShowCases\u001b[39m\n",
            "\u001b[32m  ✓ \u001b[39m\u001b[90mBFloat16s\u001b[39m\n",
            "\u001b[32m  ✓ \u001b[39m\u001b[90mUnsafeAtomics\u001b[39m\n",
            "\u001b[32m  ✓ \u001b[39m\u001b[90mCompositionsBase\u001b[39m\n",
            "\u001b[32m  ✓ \u001b[39m\u001b[90mDefineSingletons\u001b[39m\n",
            "\u001b[32m  ✓ \u001b[39m\u001b[90mContextVariablesX\u001b[39m\n",
            "\u001b[32m  ✓ \u001b[39m\u001b[90mCUDA_Runtime_Discovery\u001b[39m\n",
            "\u001b[32m  ✓ \u001b[39m\u001b[90mAdapt\u001b[39m\n",
            "\u001b[32m  ✓ \u001b[39m\u001b[90mTimerOutputs\u001b[39m\n",
            "\u001b[32m  ✓ \u001b[39m\u001b[90mIRTools\u001b[39m\n",
            "\u001b[32m  ✓ \u001b[39m\u001b[90mProgressLogging\u001b[39m\n",
            "\u001b[32m  ✓ \u001b[39m\u001b[90mFunctors\u001b[39m\n",
            "\u001b[32m  ✓ \u001b[39m\u001b[90mSimpleTraits\u001b[39m\n",
            "\u001b[32m  ✓ \u001b[39m\u001b[90mBaselet\u001b[39m\n",
            "\u001b[32m  ✓ \u001b[39m\u001b[90mCommonSubexpressions\u001b[39m\n",
            "\u001b[32m  ✓ \u001b[39m\u001b[90mRandomNumbers\u001b[39m\n",
            "\u001b[32m  ✓ \u001b[39m\u001b[90mAbstractFFTs\u001b[39m\n",
            "\u001b[32m  ✓ \u001b[39m\u001b[90mDiffResults\u001b[39m\n",
            "\u001b[32m  ✓ \u001b[39m\u001b[90mZygoteRules\u001b[39m\n",
            "\u001b[32m  ✓ \u001b[39m\u001b[90mSetfield\u001b[39m\n",
            "\u001b[32m  ✓ \u001b[39m\u001b[90mLLVMExtra_jll\u001b[39m\n",
            "\u001b[32m  ✓ \u001b[39m\u001b[90mCUDNN_jll\u001b[39m\n",
            "\u001b[32m  ✓ \u001b[39m\u001b[90mNameResolution\u001b[39m\n",
            "\u001b[32m  ✓ \u001b[39m\u001b[90mDiffRules\u001b[39m\n",
            "\u001b[32m  ✓ \u001b[39m\u001b[90mAtomix\u001b[39m\n",
            "\u001b[32m  ✓ \u001b[39m\u001b[90mFLoopsBase\u001b[39m\n",
            "\u001b[32m  ✓ \u001b[39m\u001b[90mGPUArraysCore\u001b[39m\n",
            "\u001b[32m  ✓ \u001b[39m\u001b[90mRandom123\u001b[39m\n",
            "\u001b[32m  ✓ \u001b[39m\u001b[90mOptimisers\u001b[39m\n",
            "\u001b[32m  ✓ \u001b[39m\u001b[90mSplittablesBase\u001b[39m\n",
            "\u001b[32m  ✓ \u001b[39m\u001b[90mBangBang\u001b[39m\n",
            "\u001b[32m  ✓ \u001b[39m\u001b[90mMLStyle\u001b[39m\n",
            "\u001b[32m  ✓ \u001b[39m\u001b[90mStructArrays\u001b[39m\n",
            "\u001b[32m  ✓ \u001b[39m\u001b[90mLLVM\u001b[39m\n",
            "\u001b[32m  ✓ \u001b[39m\u001b[90mMicroCollections\u001b[39m\n",
            "\u001b[32m  ✓ \u001b[39m\u001b[90mForwardDiff\u001b[39m\n",
            "\u001b[32m  ✓ \u001b[39m\u001b[90mGPUArrays\u001b[39m\n",
            "\u001b[32m  ✓ \u001b[39m\u001b[90mJuliaVariables\u001b[39m\n",
            "\u001b[32m  ✓ \u001b[39m\u001b[90mUnsafeAtomicsLLVM\u001b[39m\n",
            "\u001b[32m  ✓ \u001b[39m\u001b[90mChainRules\u001b[39m\n",
            "\u001b[32m  ✓ \u001b[39m\u001b[90mTransducers\u001b[39m\n",
            "\u001b[32m  ✓ \u001b[39m\u001b[90mGPUCompiler\u001b[39m\n",
            "\u001b[32m  ✓ \u001b[39m\u001b[90mKernelAbstractions\u001b[39m\n",
            "\u001b[32m  ✓ \u001b[39m\u001b[90mFLoops\u001b[39m\n",
            "\u001b[32m  ✓ \u001b[39m\u001b[90mNNlib\u001b[39m\n",
            "\u001b[32m  ✓ \u001b[39m\u001b[90mZygote\u001b[39m\n",
            "\u001b[32m  ✓ \u001b[39m\u001b[90mOneHotArrays\u001b[39m\n",
            "\u001b[32m  ✓ \u001b[39m\u001b[90mMLUtils\u001b[39m\n",
            "\u001b[32m  ✓ \u001b[39m\u001b[90mCUDA\u001b[39m\n",
            "\u001b[32m  ✓ \u001b[39m\u001b[90mcuDNN\u001b[39m\n",
            "\u001b[32m  ✓ \u001b[39m\u001b[90mNNlibCUDA\u001b[39m\n",
            "\u001b[32m  ✓ \u001b[39mFlux\n",
            "  57 dependencies successfully precompiled in 131 seconds. 220 already precompiled.\n",
            "\u001b[32m\u001b[1m   Resolving\u001b[22m\u001b[39m package versions...\n",
            "\u001b[32m\u001b[1m    Updating\u001b[22m\u001b[39m `~/.julia/environments/v1.8/Project.toml`\n",
            " \u001b[90m [052768ef] \u001b[39m\u001b[92m+ CUDA v4.3.2\u001b[39m\n",
            "\u001b[32m\u001b[1m  No Changes\u001b[22m\u001b[39m to `~/.julia/environments/v1.8/Manifest.toml`\n",
            "\u001b[32m\u001b[1m   Resolving\u001b[22m\u001b[39m package versions...\n",
            "\u001b[32m\u001b[1m    Updating\u001b[22m\u001b[39m `~/.julia/environments/v1.8/Project.toml`\n",
            " \u001b[90m [c8e1da08] \u001b[39m\u001b[92m+ IterTools v1.8.0\u001b[39m\n",
            "\u001b[32m\u001b[1m  No Changes\u001b[22m\u001b[39m to `~/.julia/environments/v1.8/Manifest.toml`\n",
            "\u001b[36m\u001b[1m[ \u001b[22m\u001b[39m\u001b[36m\u001b[1mInfo: \u001b[22m\u001b[39mPrecompiling Flux [587475ba-b771-5e3f-ad9e-33799f191a9c]\n",
            "\u001b[33m\u001b[1m┌ \u001b[22m\u001b[39m\u001b[33m\u001b[1mWarning: \u001b[22m\u001b[39mModule StatsBase with build ID 553018574582 is missing from the cache.\n",
            "\u001b[33m\u001b[1m│ \u001b[22m\u001b[39mThis may mean StatsBase [2913bbd2-ae8a-5f71-8c99-4fb6c76f3a91] does not support precompilation but is imported by a module that does.\n",
            "\u001b[33m\u001b[1m└ \u001b[22m\u001b[39m\u001b[90m@ Base loading.jl:1325\u001b[39m\n",
            "\u001b[33m\u001b[1m┌ \u001b[22m\u001b[39m\u001b[33m\u001b[1mWarning: \u001b[22m\u001b[39mModule StatsBase with build ID 553018574582 is missing from the cache.\n",
            "\u001b[33m\u001b[1m│ \u001b[22m\u001b[39mThis may mean StatsBase [2913bbd2-ae8a-5f71-8c99-4fb6c76f3a91] does not support precompilation but is imported by a module that does.\n",
            "\u001b[33m\u001b[1m└ \u001b[22m\u001b[39m\u001b[90m@ Base loading.jl:1325\u001b[39m\n",
            "\u001b[36m\u001b[1m[ \u001b[22m\u001b[39m\u001b[36m\u001b[1mInfo: \u001b[22m\u001b[39mSkipping precompilation since __precompile__(false). Importing Flux [587475ba-b771-5e3f-ad9e-33799f191a9c].\n",
            "\u001b[36m\u001b[1m[ \u001b[22m\u001b[39m\u001b[36m\u001b[1mInfo: \u001b[22m\u001b[39mPrecompiling MLUtils [f1d291b0-491e-4a28-83b9-f70985020b54]\n",
            "\u001b[33m\u001b[1m┌ \u001b[22m\u001b[39m\u001b[33m\u001b[1mWarning: \u001b[22m\u001b[39mModule StatsBase with build ID 553018574582 is missing from the cache.\n",
            "\u001b[33m\u001b[1m│ \u001b[22m\u001b[39mThis may mean StatsBase [2913bbd2-ae8a-5f71-8c99-4fb6c76f3a91] does not support precompilation but is imported by a module that does.\n",
            "\u001b[33m\u001b[1m└ \u001b[22m\u001b[39m\u001b[90m@ Base loading.jl:1325\u001b[39m\n",
            "\u001b[36m\u001b[1m[ \u001b[22m\u001b[39m\u001b[36m\u001b[1mInfo: \u001b[22m\u001b[39mSkipping precompilation since __precompile__(false). Importing MLUtils [f1d291b0-491e-4a28-83b9-f70985020b54].\n"
          ]
        },
        {
          "output_type": "execute_result",
          "data": {
            "text/plain": [
              "TaskLocalRNG()"
            ]
          },
          "metadata": {},
          "execution_count": 130
        }
      ]
    },
    {
      "cell_type": "markdown",
      "source": [
        "A biblioteca DataFrames é usada para trabalhar com o conjunto de dados. Random é utilizada para definir uma semente para reprodução dos resultados.\n",
        "Flux é uma biblioteca de aprendizado de máquina que será utilizada para construir e treinar o modelo de classificação.\n",
        " As outras importações específicas do Flux são funções e tipos específicos utilizados no código."
      ],
      "metadata": {
        "id": "WIEnPa1vOuhS"
      }
    },
    {
      "cell_type": "code",
      "source": [
        "using DataFrames\n",
        "using Random\n",
        "using Flux\n",
        "using Flux: Chain, Dense, softmax, crossentropy, onecold, params, train!, relu"
      ],
      "metadata": {
        "id": "Nd6mQqluOn9v"
      },
      "execution_count": null,
      "outputs": []
    },
    {
      "cell_type": "code",
      "source": [
        "df = dataset(\"datasets\", \"iris\")"
      ],
      "metadata": {
        "colab": {
          "base_uri": "https://localhost:8080/",
          "height": 645
        },
        "id": "pzmR2iOcOwRs",
        "outputId": "823f503d-b7e1-47e4-f2c4-9db40a073063"
      },
      "execution_count": null,
      "outputs": [
        {
          "output_type": "execute_result",
          "data": {
            "text/plain": [
              "\u001b[1m150×5 DataFrame\u001b[0m\n",
              "\u001b[1m Row \u001b[0m│\u001b[1m SepalLength \u001b[0m\u001b[1m SepalWidth \u001b[0m\u001b[1m PetalLength \u001b[0m\u001b[1m PetalWidth \u001b[0m\u001b[1m Species   \u001b[0m\n",
              "     │\u001b[90m Float64     \u001b[0m\u001b[90m Float64    \u001b[0m\u001b[90m Float64     \u001b[0m\u001b[90m Float64    \u001b[0m\u001b[90m Cat…      \u001b[0m\n",
              "─────┼─────────────────────────────────────────────────────────────\n",
              "   1 │         5.1         3.5          1.4         0.2  setosa\n",
              "   2 │         4.9         3.0          1.4         0.2  setosa\n",
              "   3 │         4.7         3.2          1.3         0.2  setosa\n",
              "   4 │         4.6         3.1          1.5         0.2  setosa\n",
              "   5 │         5.0         3.6          1.4         0.2  setosa\n",
              "   6 │         5.4         3.9          1.7         0.4  setosa\n",
              "   7 │         4.6         3.4          1.4         0.3  setosa\n",
              "   8 │         5.0         3.4          1.5         0.2  setosa\n",
              "   9 │         4.4         2.9          1.4         0.2  setosa\n",
              "  10 │         4.9         3.1          1.5         0.1  setosa\n",
              "  11 │         5.4         3.7          1.5         0.2  setosa\n",
              "  ⋮  │      ⋮           ⋮            ⋮           ⋮           ⋮\n",
              " 141 │         6.7         3.1          5.6         2.4  virginica\n",
              " 142 │         6.9         3.1          5.1         2.3  virginica\n",
              " 143 │         5.8         2.7          5.1         1.9  virginica\n",
              " 144 │         6.8         3.2          5.9         2.3  virginica\n",
              " 145 │         6.7         3.3          5.7         2.5  virginica\n",
              " 146 │         6.7         3.0          5.2         2.3  virginica\n",
              " 147 │         6.3         2.5          5.0         1.9  virginica\n",
              " 148 │         6.5         3.0          5.2         2.0  virginica\n",
              " 149 │         6.2         3.4          5.4         2.3  virginica\n",
              " 150 │         5.9         3.0          5.1         1.8  virginica\n",
              "\u001b[36m                                                   129 rows omitted\u001b[0m"
            ],
            "text/html": [
              "<div><div style = \"float: left;\"><span>150×5 DataFrame</span></div><div style = \"float: right;\"><span style = \"font-style: italic;\">125 rows omitted</span></div><div style = \"clear: both;\"></div></div><div class = \"data-frame\" style = \"overflow-x: scroll;\"><table class = \"data-frame\" style = \"margin-bottom: 6px;\"><thead><tr class = \"header\"><th class = \"rowNumber\" style = \"font-weight: bold; text-align: right;\">Row</th><th style = \"text-align: left;\">SepalLength</th><th style = \"text-align: left;\">SepalWidth</th><th style = \"text-align: left;\">PetalLength</th><th style = \"text-align: left;\">PetalWidth</th><th style = \"text-align: left;\">Species</th></tr><tr class = \"subheader headerLastRow\"><th class = \"rowNumber\" style = \"font-weight: bold; text-align: right;\"></th><th title = \"Float64\" style = \"text-align: left;\">Float64</th><th title = \"Float64\" style = \"text-align: left;\">Float64</th><th title = \"Float64\" style = \"text-align: left;\">Float64</th><th title = \"Float64\" style = \"text-align: left;\">Float64</th><th title = \"CategoricalValue{String, UInt8}\" style = \"text-align: left;\">Cat…</th></tr></thead><tbody><tr><td class = \"rowNumber\" style = \"font-weight: bold; text-align: right;\">1</td><td style = \"text-align: right;\">5.1</td><td style = \"text-align: right;\">3.5</td><td style = \"text-align: right;\">1.4</td><td style = \"text-align: right;\">0.2</td><td style = \"text-align: left;\">setosa</td></tr><tr><td class = \"rowNumber\" style = \"font-weight: bold; text-align: right;\">2</td><td style = \"text-align: right;\">4.9</td><td style = \"text-align: right;\">3.0</td><td style = \"text-align: right;\">1.4</td><td style = \"text-align: right;\">0.2</td><td style = \"text-align: left;\">setosa</td></tr><tr><td class = \"rowNumber\" style = \"font-weight: bold; text-align: right;\">3</td><td style = \"text-align: right;\">4.7</td><td style = \"text-align: right;\">3.2</td><td style = \"text-align: right;\">1.3</td><td style = \"text-align: right;\">0.2</td><td style = \"text-align: left;\">setosa</td></tr><tr><td class = \"rowNumber\" style = \"font-weight: bold; text-align: right;\">4</td><td style = \"text-align: right;\">4.6</td><td style = \"text-align: right;\">3.1</td><td style = \"text-align: right;\">1.5</td><td style = \"text-align: right;\">0.2</td><td style = \"text-align: left;\">setosa</td></tr><tr><td class = \"rowNumber\" style = \"font-weight: bold; text-align: right;\">5</td><td style = \"text-align: right;\">5.0</td><td style = \"text-align: right;\">3.6</td><td style = \"text-align: right;\">1.4</td><td style = \"text-align: right;\">0.2</td><td style = \"text-align: left;\">setosa</td></tr><tr><td class = \"rowNumber\" style = \"font-weight: bold; text-align: right;\">6</td><td style = \"text-align: right;\">5.4</td><td style = \"text-align: right;\">3.9</td><td style = \"text-align: right;\">1.7</td><td style = \"text-align: right;\">0.4</td><td style = \"text-align: left;\">setosa</td></tr><tr><td class = \"rowNumber\" style = \"font-weight: bold; text-align: right;\">7</td><td style = \"text-align: right;\">4.6</td><td style = \"text-align: right;\">3.4</td><td style = \"text-align: right;\">1.4</td><td style = \"text-align: right;\">0.3</td><td style = \"text-align: left;\">setosa</td></tr><tr><td class = \"rowNumber\" style = \"font-weight: bold; text-align: right;\">8</td><td style = \"text-align: right;\">5.0</td><td style = \"text-align: right;\">3.4</td><td style = \"text-align: right;\">1.5</td><td style = \"text-align: right;\">0.2</td><td style = \"text-align: left;\">setosa</td></tr><tr><td class = \"rowNumber\" style = \"font-weight: bold; text-align: right;\">9</td><td style = \"text-align: right;\">4.4</td><td style = \"text-align: right;\">2.9</td><td style = \"text-align: right;\">1.4</td><td style = \"text-align: right;\">0.2</td><td style = \"text-align: left;\">setosa</td></tr><tr><td class = \"rowNumber\" style = \"font-weight: bold; text-align: right;\">10</td><td style = \"text-align: right;\">4.9</td><td style = \"text-align: right;\">3.1</td><td style = \"text-align: right;\">1.5</td><td style = \"text-align: right;\">0.1</td><td style = \"text-align: left;\">setosa</td></tr><tr><td class = \"rowNumber\" style = \"font-weight: bold; text-align: right;\">11</td><td style = \"text-align: right;\">5.4</td><td style = \"text-align: right;\">3.7</td><td style = \"text-align: right;\">1.5</td><td style = \"text-align: right;\">0.2</td><td style = \"text-align: left;\">setosa</td></tr><tr><td class = \"rowNumber\" style = \"font-weight: bold; text-align: right;\">12</td><td style = \"text-align: right;\">4.8</td><td style = \"text-align: right;\">3.4</td><td style = \"text-align: right;\">1.6</td><td style = \"text-align: right;\">0.2</td><td style = \"text-align: left;\">setosa</td></tr><tr><td class = \"rowNumber\" style = \"font-weight: bold; text-align: right;\">13</td><td style = \"text-align: right;\">4.8</td><td style = \"text-align: right;\">3.0</td><td style = \"text-align: right;\">1.4</td><td style = \"text-align: right;\">0.1</td><td style = \"text-align: left;\">setosa</td></tr><tr><td style = \"text-align: right;\">&vellip;</td><td style = \"text-align: right;\">&vellip;</td><td style = \"text-align: right;\">&vellip;</td><td style = \"text-align: right;\">&vellip;</td><td style = \"text-align: right;\">&vellip;</td><td style = \"text-align: right;\">&vellip;</td></tr><tr><td class = \"rowNumber\" style = \"font-weight: bold; text-align: right;\">139</td><td style = \"text-align: right;\">6.0</td><td style = \"text-align: right;\">3.0</td><td style = \"text-align: right;\">4.8</td><td style = \"text-align: right;\">1.8</td><td style = \"text-align: left;\">virginica</td></tr><tr><td class = \"rowNumber\" style = \"font-weight: bold; text-align: right;\">140</td><td style = \"text-align: right;\">6.9</td><td style = \"text-align: right;\">3.1</td><td style = \"text-align: right;\">5.4</td><td style = \"text-align: right;\">2.1</td><td style = \"text-align: left;\">virginica</td></tr><tr><td class = \"rowNumber\" style = \"font-weight: bold; text-align: right;\">141</td><td style = \"text-align: right;\">6.7</td><td style = \"text-align: right;\">3.1</td><td style = \"text-align: right;\">5.6</td><td style = \"text-align: right;\">2.4</td><td style = \"text-align: left;\">virginica</td></tr><tr><td class = \"rowNumber\" style = \"font-weight: bold; text-align: right;\">142</td><td style = \"text-align: right;\">6.9</td><td style = \"text-align: right;\">3.1</td><td style = \"text-align: right;\">5.1</td><td style = \"text-align: right;\">2.3</td><td style = \"text-align: left;\">virginica</td></tr><tr><td class = \"rowNumber\" style = \"font-weight: bold; text-align: right;\">143</td><td style = \"text-align: right;\">5.8</td><td style = \"text-align: right;\">2.7</td><td style = \"text-align: right;\">5.1</td><td style = \"text-align: right;\">1.9</td><td style = \"text-align: left;\">virginica</td></tr><tr><td class = \"rowNumber\" style = \"font-weight: bold; text-align: right;\">144</td><td style = \"text-align: right;\">6.8</td><td style = \"text-align: right;\">3.2</td><td style = \"text-align: right;\">5.9</td><td style = \"text-align: right;\">2.3</td><td style = \"text-align: left;\">virginica</td></tr><tr><td class = \"rowNumber\" style = \"font-weight: bold; text-align: right;\">145</td><td style = \"text-align: right;\">6.7</td><td style = \"text-align: right;\">3.3</td><td style = \"text-align: right;\">5.7</td><td style = \"text-align: right;\">2.5</td><td style = \"text-align: left;\">virginica</td></tr><tr><td class = \"rowNumber\" style = \"font-weight: bold; text-align: right;\">146</td><td style = \"text-align: right;\">6.7</td><td style = \"text-align: right;\">3.0</td><td style = \"text-align: right;\">5.2</td><td style = \"text-align: right;\">2.3</td><td style = \"text-align: left;\">virginica</td></tr><tr><td class = \"rowNumber\" style = \"font-weight: bold; text-align: right;\">147</td><td style = \"text-align: right;\">6.3</td><td style = \"text-align: right;\">2.5</td><td style = \"text-align: right;\">5.0</td><td style = \"text-align: right;\">1.9</td><td style = \"text-align: left;\">virginica</td></tr><tr><td class = \"rowNumber\" style = \"font-weight: bold; text-align: right;\">148</td><td style = \"text-align: right;\">6.5</td><td style = \"text-align: right;\">3.0</td><td style = \"text-align: right;\">5.2</td><td style = \"text-align: right;\">2.0</td><td style = \"text-align: left;\">virginica</td></tr><tr><td class = \"rowNumber\" style = \"font-weight: bold; text-align: right;\">149</td><td style = \"text-align: right;\">6.2</td><td style = \"text-align: right;\">3.4</td><td style = \"text-align: right;\">5.4</td><td style = \"text-align: right;\">2.3</td><td style = \"text-align: left;\">virginica</td></tr><tr><td class = \"rowNumber\" style = \"font-weight: bold; text-align: right;\">150</td><td style = \"text-align: right;\">5.9</td><td style = \"text-align: right;\">3.0</td><td style = \"text-align: right;\">5.1</td><td style = \"text-align: right;\">1.8</td><td style = \"text-align: left;\">virginica</td></tr></tbody></table></div>"
            ],
            "text/latex": "\\begin{tabular}{r|ccccc}\n\t& SepalLength & SepalWidth & PetalLength & PetalWidth & Species\\\\\n\t\\hline\n\t& Float64 & Float64 & Float64 & Float64 & Cat…\\\\\n\t\\hline\n\t1 & 5.1 & 3.5 & 1.4 & 0.2 & setosa \\\\\n\t2 & 4.9 & 3.0 & 1.4 & 0.2 & setosa \\\\\n\t3 & 4.7 & 3.2 & 1.3 & 0.2 & setosa \\\\\n\t4 & 4.6 & 3.1 & 1.5 & 0.2 & setosa \\\\\n\t5 & 5.0 & 3.6 & 1.4 & 0.2 & setosa \\\\\n\t6 & 5.4 & 3.9 & 1.7 & 0.4 & setosa \\\\\n\t7 & 4.6 & 3.4 & 1.4 & 0.3 & setosa \\\\\n\t8 & 5.0 & 3.4 & 1.5 & 0.2 & setosa \\\\\n\t9 & 4.4 & 2.9 & 1.4 & 0.2 & setosa \\\\\n\t10 & 4.9 & 3.1 & 1.5 & 0.1 & setosa \\\\\n\t11 & 5.4 & 3.7 & 1.5 & 0.2 & setosa \\\\\n\t12 & 4.8 & 3.4 & 1.6 & 0.2 & setosa \\\\\n\t13 & 4.8 & 3.0 & 1.4 & 0.1 & setosa \\\\\n\t14 & 4.3 & 3.0 & 1.1 & 0.1 & setosa \\\\\n\t15 & 5.8 & 4.0 & 1.2 & 0.2 & setosa \\\\\n\t16 & 5.7 & 4.4 & 1.5 & 0.4 & setosa \\\\\n\t17 & 5.4 & 3.9 & 1.3 & 0.4 & setosa \\\\\n\t18 & 5.1 & 3.5 & 1.4 & 0.3 & setosa \\\\\n\t19 & 5.7 & 3.8 & 1.7 & 0.3 & setosa \\\\\n\t20 & 5.1 & 3.8 & 1.5 & 0.3 & setosa \\\\\n\t21 & 5.4 & 3.4 & 1.7 & 0.2 & setosa \\\\\n\t22 & 5.1 & 3.7 & 1.5 & 0.4 & setosa \\\\\n\t23 & 4.6 & 3.6 & 1.0 & 0.2 & setosa \\\\\n\t24 & 5.1 & 3.3 & 1.7 & 0.5 & setosa \\\\\n\t25 & 4.8 & 3.4 & 1.9 & 0.2 & setosa \\\\\n\t26 & 5.0 & 3.0 & 1.6 & 0.2 & setosa \\\\\n\t27 & 5.0 & 3.4 & 1.6 & 0.4 & setosa \\\\\n\t28 & 5.2 & 3.5 & 1.5 & 0.2 & setosa \\\\\n\t29 & 5.2 & 3.4 & 1.4 & 0.2 & setosa \\\\\n\t30 & 4.7 & 3.2 & 1.6 & 0.2 & setosa \\\\\n\t$\\dots$ & $\\dots$ & $\\dots$ & $\\dots$ & $\\dots$ & $\\dots$ \\\\\n\\end{tabular}\n"
          },
          "metadata": {},
          "execution_count": 148
        }
      ]
    },
    {
      "cell_type": "markdown",
      "source": [
        "A função Matrix é usada para converter o DataFrame em uma matriz, que será mais conveniente para o processamento posterior."
      ],
      "metadata": {
        "id": "kVM5wN1dOz_5"
      }
    },
    {
      "cell_type": "code",
      "source": [
        "data = Matrix(df)"
      ],
      "metadata": {
        "colab": {
          "base_uri": "https://localhost:8080/"
        },
        "id": "0Z7fu1XLO2T0",
        "outputId": "5b8863c0-30f0-486e-fa4a-c25e4892aca5"
      },
      "execution_count": null,
      "outputs": [
        {
          "output_type": "execute_result",
          "data": {
            "text/plain": [
              "150×5 Matrix{Any}:\n",
              " 5.1  3.5  1.4  0.2  \"setosa\"\n",
              " 4.9  3.0  1.4  0.2  \"setosa\"\n",
              " 4.7  3.2  1.3  0.2  \"setosa\"\n",
              " 4.6  3.1  1.5  0.2  \"setosa\"\n",
              " 5.0  3.6  1.4  0.2  \"setosa\"\n",
              " 5.4  3.9  1.7  0.4  \"setosa\"\n",
              " 4.6  3.4  1.4  0.3  \"setosa\"\n",
              " 5.0  3.4  1.5  0.2  \"setosa\"\n",
              " 4.4  2.9  1.4  0.2  \"setosa\"\n",
              " 4.9  3.1  1.5  0.1  \"setosa\"\n",
              " 5.4  3.7  1.5  0.2  \"setosa\"\n",
              " 4.8  3.4  1.6  0.2  \"setosa\"\n",
              " 4.8  3.0  1.4  0.1  \"setosa\"\n",
              " ⋮                   \n",
              " 6.0  3.0  4.8  1.8  \"virginica\"\n",
              " 6.9  3.1  5.4  2.1  \"virginica\"\n",
              " 6.7  3.1  5.6  2.4  \"virginica\"\n",
              " 6.9  3.1  5.1  2.3  \"virginica\"\n",
              " 5.8  2.7  5.1  1.9  \"virginica\"\n",
              " 6.8  3.2  5.9  2.3  \"virginica\"\n",
              " 6.7  3.3  5.7  2.5  \"virginica\"\n",
              " 6.7  3.0  5.2  2.3  \"virginica\"\n",
              " 6.3  2.5  5.0  1.9  \"virginica\"\n",
              " 6.5  3.0  5.2  2.0  \"virginica\"\n",
              " 6.2  3.4  5.4  2.3  \"virginica\"\n",
              " 5.9  3.0  5.1  1.8  \"virginica\""
            ]
          },
          "metadata": {},
          "execution_count": 149
        }
      ]
    },
    {
      "cell_type": "markdown",
      "source": [
        "Embaralhando os dados: A função shuffle é utilizada para embaralhar as linhas da matriz de dados. A função Random.seed! é utilizada para definir uma semente de aleatoriedade fixa, garantindo que os resultados possam ser reproduzidos."
      ],
      "metadata": {
        "id": "f6f2sfI-O5ue"
      }
    },
    {
      "cell_type": "code",
      "source": [
        "Random.seed!(1234)\n",
        "data = data[shuffle(1:end), :]\n"
      ],
      "metadata": {
        "colab": {
          "base_uri": "https://localhost:8080/"
        },
        "id": "cQeVtPIiO7RR",
        "outputId": "aac9493a-5d5b-4bb9-ba83-22ecccf433f4"
      },
      "execution_count": null,
      "outputs": [
        {
          "output_type": "execute_result",
          "data": {
            "text/plain": [
              "150×5 Matrix{Any}:\n",
              " 5.6  3.0  4.5  1.5  \"versicolor\"\n",
              " 5.2  3.4  1.4  0.2  \"setosa\"\n",
              " 6.4  2.9  4.3  1.3  \"versicolor\"\n",
              " 4.9  3.1  1.5  0.1  \"setosa\"\n",
              " 5.4  3.9  1.3  0.4  \"setosa\"\n",
              " 4.9  3.0  1.4  0.2  \"setosa\"\n",
              " 4.6  3.4  1.4  0.3  \"setosa\"\n",
              " 5.0  3.6  1.4  0.2  \"setosa\"\n",
              " 4.4  2.9  1.4  0.2  \"setosa\"\n",
              " 5.7  4.4  1.5  0.4  \"setosa\"\n",
              " 5.6  2.5  3.9  1.1  \"versicolor\"\n",
              " 5.0  3.5  1.6  0.6  \"setosa\"\n",
              " 5.1  3.4  1.5  0.2  \"setosa\"\n",
              " ⋮                   \n",
              " 5.7  2.8  4.1  1.3  \"versicolor\"\n",
              " 7.3  2.9  6.3  1.8  \"virginica\"\n",
              " 5.4  3.4  1.7  0.2  \"setosa\"\n",
              " 5.5  2.4  3.8  1.1  \"versicolor\"\n",
              " 4.8  3.1  1.6  0.2  \"setosa\"\n",
              " 5.4  3.4  1.5  0.4  \"setosa\"\n",
              " 5.4  3.7  1.5  0.2  \"setosa\"\n",
              " 5.2  2.7  3.9  1.4  \"versicolor\"\n",
              " 5.0  2.0  3.5  1.0  \"versicolor\"\n",
              " 7.6  3.0  6.6  2.1  \"virginica\"\n",
              " 7.7  2.6  6.9  2.3  \"virginica\"\n",
              " 7.9  3.8  6.4  2.0  \"virginica\""
            ]
          },
          "metadata": {},
          "execution_count": 150
        }
      ]
    },
    {
      "cell_type": "markdown",
      "source": [
        "A variável train_test_ratio define a proporção entre dados de treinamento e teste. O índice idx é calculado como a parte inteira do número de linhas do DataFrame multiplicado pela proporção de treinamento. Em seguida, os dados são divididos em data_train (dados de treinamento) e data_test (dados de teste)."
      ],
      "metadata": {
        "id": "LC6cS2gXPA4A"
      }
    },
    {
      "cell_type": "code",
      "source": [
        "train_test_ratio = 0.7\n",
        "idx = Int(floor(size(df, 1) * train_test_ratio))\n",
        "data_train = data[1:idx, :]\n",
        "data_test = data[idx+1:end, :]"
      ],
      "metadata": {
        "colab": {
          "base_uri": "https://localhost:8080/"
        },
        "id": "ZS5KZWKvPAU1",
        "outputId": "f408cadc-133a-424b-b70e-4d25a14787a3"
      },
      "execution_count": null,
      "outputs": [
        {
          "output_type": "execute_result",
          "data": {
            "text/plain": [
              "45×5 Matrix{Any}:\n",
              " 6.8  2.8  4.8  1.4  \"versicolor\"\n",
              " 6.8  3.0  5.5  2.1  \"virginica\"\n",
              " 5.9  3.0  5.1  1.8  \"virginica\"\n",
              " 6.0  3.0  4.8  1.8  \"virginica\"\n",
              " 7.7  3.8  6.7  2.2  \"virginica\"\n",
              " 6.5  3.2  5.1  2.0  \"virginica\"\n",
              " 5.6  2.9  3.6  1.3  \"versicolor\"\n",
              " 6.2  2.2  4.5  1.5  \"versicolor\"\n",
              " 6.3  3.3  6.0  2.5  \"virginica\"\n",
              " 5.1  3.7  1.5  0.4  \"setosa\"\n",
              " 4.7  3.2  1.3  0.2  \"setosa\"\n",
              " 4.6  3.1  1.5  0.2  \"setosa\"\n",
              " 5.8  2.6  4.0  1.2  \"versicolor\"\n",
              " ⋮                   \n",
              " 5.7  2.8  4.1  1.3  \"versicolor\"\n",
              " 7.3  2.9  6.3  1.8  \"virginica\"\n",
              " 5.4  3.4  1.7  0.2  \"setosa\"\n",
              " 5.5  2.4  3.8  1.1  \"versicolor\"\n",
              " 4.8  3.1  1.6  0.2  \"setosa\"\n",
              " 5.4  3.4  1.5  0.4  \"setosa\"\n",
              " 5.4  3.7  1.5  0.2  \"setosa\"\n",
              " 5.2  2.7  3.9  1.4  \"versicolor\"\n",
              " 5.0  2.0  3.5  1.0  \"versicolor\"\n",
              " 7.6  3.0  6.6  2.1  \"virginica\"\n",
              " 7.7  2.6  6.9  2.3  \"virginica\"\n",
              " 7.9  3.8  6.4  2.0  \"virginica\""
            ]
          },
          "metadata": {},
          "execution_count": 151
        }
      ]
    },
    {
      "cell_type": "markdown",
      "source": [
        "Esta função recebe uma matriz de dados d e retorna os vetores de características, que são obtidos selecionando todas as colunas, exceto a última, e transpondo a matriz resultante."
      ],
      "metadata": {
        "id": "8CXV8-PAPMAc"
      }
    },
    {
      "cell_type": "code",
      "source": [
        "function get_feat(d)\n",
        "    transpose(convert(Array{Float32}, d[:, 1:end-1]))\n",
        "end"
      ],
      "metadata": {
        "colab": {
          "base_uri": "https://localhost:8080/"
        },
        "id": "RkLnie1gPKOC",
        "outputId": "c74e5157-2425-45ad-e9ad-3b052e2efd93"
      },
      "execution_count": null,
      "outputs": [
        {
          "output_type": "execute_result",
          "data": {
            "text/plain": [
              "get_feat (generic function with 1 method)"
            ]
          },
          "metadata": {},
          "execution_count": 152
        }
      ]
    },
    {
      "cell_type": "markdown",
      "source": [
        "Os vetores de características dos dados de treinamento e teste são obtidos utilizando a função get_feat."
      ],
      "metadata": {
        "id": "OuY61rD5PNqs"
      }
    },
    {
      "cell_type": "code",
      "source": [
        "x_train = get_feat(data_train)\n",
        "x_test = get_feat(data_test)"
      ],
      "metadata": {
        "colab": {
          "base_uri": "https://localhost:8080/"
        },
        "id": "hYqlRlBKPO2D",
        "outputId": "223031a0-33ec-43c5-9a1e-9e5d5208880e"
      },
      "execution_count": null,
      "outputs": [
        {
          "output_type": "execute_result",
          "data": {
            "text/plain": [
              "4×45 transpose(::Matrix{Float32}) with eltype Float32:\n",
              " 6.8  6.8  5.9  6.0  7.7  6.5  5.6  6.2  …  5.4  5.4  5.2  5.0  7.6  7.7  7.9\n",
              " 2.8  3.0  3.0  3.0  3.8  3.2  2.9  2.2     3.4  3.7  2.7  2.0  3.0  2.6  3.8\n",
              " 4.8  5.5  5.1  4.8  6.7  5.1  3.6  4.5     1.5  1.5  3.9  3.5  6.6  6.9  6.4\n",
              " 1.4  2.1  1.8  1.8  2.2  2.0  1.3  1.5     0.4  0.2  1.4  1.0  2.1  2.3  2.0"
            ]
          },
          "metadata": {},
          "execution_count": 153
        }
      ]
    },
    {
      "cell_type": "markdown",
      "source": [
        "Esta função recebe uma matriz de dados d e retorna a codificação one-hot dos rótulos, que é obtida selecionando a última coluna da matriz e usando a função Flux.onehotbatch para realizar a codificação."
      ],
      "metadata": {
        "id": "VXIlN2tQPT9I"
      }
    },
    {
      "cell_type": "code",
      "source": [
        "function onehot(d)\n",
        "    Flux.onehotbatch(d[:, end], unique(df[!, :Species]))\n",
        "end"
      ],
      "metadata": {
        "colab": {
          "base_uri": "https://localhost:8080/"
        },
        "id": "MMU0moA6PYvR",
        "outputId": "b776a949-2a5e-4b94-dd61-70423dc667cb"
      },
      "execution_count": null,
      "outputs": [
        {
          "output_type": "execute_result",
          "data": {
            "text/plain": [
              "onehot (generic function with 1 method)"
            ]
          },
          "metadata": {},
          "execution_count": 155
        }
      ]
    },
    {
      "cell_type": "code",
      "source": [
        "y_train = onehot(data_train)\n",
        "y_test = onehot(data_test)"
      ],
      "metadata": {
        "colab": {
          "base_uri": "https://localhost:8080/"
        },
        "id": "VLoeuTC2Pa2_",
        "outputId": "2718c0e5-b6bc-4847-f481-e13cd6b2cce0"
      },
      "execution_count": null,
      "outputs": [
        {
          "output_type": "execute_result",
          "data": {
            "text/plain": [
              "3×45 OneHotMatrix(::Vector{UInt32}) with eltype Bool:\n",
              " ⋅  ⋅  ⋅  ⋅  ⋅  ⋅  ⋅  ⋅  ⋅  1  1  1  ⋅  …  ⋅  ⋅  1  ⋅  1  1  1  ⋅  ⋅  ⋅  ⋅  ⋅\n",
              " 1  ⋅  ⋅  ⋅  ⋅  ⋅  1  1  ⋅  ⋅  ⋅  ⋅  1     1  ⋅  ⋅  1  ⋅  ⋅  ⋅  1  1  ⋅  ⋅  ⋅\n",
              " ⋅  1  1  1  1  1  ⋅  ⋅  1  ⋅  ⋅  ⋅  ⋅     ⋅  1  ⋅  ⋅  ⋅  ⋅  ⋅  ⋅  ⋅  1  1  1"
            ]
          },
          "metadata": {},
          "execution_count": 157
        }
      ]
    },
    {
      "cell_type": "markdown",
      "source": [
        "A codificação one-hot dos rótulos dos dados de treinamento e teste é obtida utilizando a função onehot."
      ],
      "metadata": {
        "id": "qiW7qsqlPeoR"
      }
    },
    {
      "cell_type": "code",
      "source": [
        "model = Chain(\n",
        "    Dense(size(x_train, 1), 16, relu),\n",
        "    Dense(16, 8, relu),\n",
        "    Dense(8, size(y_train, 1)),\n",
        "    softmax\n",
        ")"
      ],
      "metadata": {
        "colab": {
          "base_uri": "https://localhost:8080/"
        },
        "id": "T5F7E3cbPfso",
        "outputId": "ec38901e-4f9e-473a-ea53-4f53d5d19611"
      },
      "execution_count": null,
      "outputs": [
        {
          "output_type": "execute_result",
          "data": {
            "text/plain": [
              "Chain(\n",
              "  Dense(4 => 16, relu),                 \u001b[90m# 80 parameters\u001b[39m\n",
              "  Dense(16 => 8, relu),                 \u001b[90m# 136 parameters\u001b[39m\n",
              "  Dense(8 => 3),                        \u001b[90m# 27 parameters\u001b[39m\n",
              "  NNlib.softmax,\n",
              ") \u001b[90m                  # Total: 6 arrays, \u001b[39m243 parameters, 1.324 KiB."
            ]
          },
          "metadata": {},
          "execution_count": 158
        }
      ]
    },
    {
      "cell_type": "markdown",
      "source": [
        "O modelo de classificação é definido utilizando a função Chain da biblioteca Flux. O modelo consiste em três camadas densas (totalmente conectadas) com ativação ReLU, seguidas por uma camada de saída softmax."
      ],
      "metadata": {
        "id": "5gTfY3e7PiUX"
      }
    },
    {
      "cell_type": "code",
      "source": [
        "loss(x, y) = crossentropy(model(x), y)\n",
        "optimizer = ADAM(0.01)"
      ],
      "metadata": {
        "colab": {
          "base_uri": "https://localhost:8080/"
        },
        "id": "PtGD6dxePkYi",
        "outputId": "3b9f3a95-cab8-4320-d20e-6d287c45cdda"
      },
      "execution_count": null,
      "outputs": [
        {
          "output_type": "execute_result",
          "data": {
            "text/plain": [
              "Adam(0.01, (0.9, 0.999), 1.0e-8, IdDict{Any, Any}())"
            ]
          },
          "metadata": {},
          "execution_count": 159
        }
      ]
    },
    {
      "cell_type": "markdown",
      "source": [
        "A função de perda é definida como a entropia cruzada entre as previsões do modelo e os rótulos verdadeiros. O otimizador ADAM é escolhido com uma taxa de aprendizado de 0.01."
      ],
      "metadata": {
        "id": "waGO2dyWPnNr"
      }
    },
    {
      "cell_type": "code",
      "source": [
        "losses = []\n",
        "accuracies = []\n",
        "\n",
        "\n",
        "for epoch in 1:epochs\n",
        "    for batch in 1:num_batches\n",
        "        batch_start = (batch - 1) * batch_size + 1\n",
        "        batch_end = min(batch * batch_size, data_size)\n",
        "        x_batch = x_train[:, batch_start:batch_end]\n",
        "        y_batch = y_train[:, batch_start:batch_end]\n",
        "        train!(loss, params(model), [(x_batch, y_batch)], optimizer)\n",
        "    end\n",
        "\n",
        "    # Calcular a função de perda no conjunto de teste\n",
        "    test_loss = loss(x_test, y_test)\n",
        "    push!(losses, test_loss)\n",
        "\n",
        "    # Calcular a precisão do modelo no conjunto de teste\n",
        "    test_accuracy = sum(onecold(model(x_test)) .== onecold(y_test)) / size(y_test, 2)\n",
        "    push!(accuracies, test_accuracy)\n",
        "end"
      ],
      "metadata": {
        "id": "oE2yaRRaPoLv"
      },
      "execution_count": null,
      "outputs": []
    },
    {
      "cell_type": "markdown",
      "source": [
        "O modelo é treinado por um número fixo de épocas. Em cada época, os dados de treinamento são divididos em lotes de tamanho batch_size e o modelo é treinado com cada lote utilizando a função train! da biblioteca Flux. A função train! atualiza os parâmetros do modelo de acordo com a função de perda e o otimizador."
      ],
      "metadata": {
        "id": "SdBgjz8qPq4x"
      }
    },
    {
      "cell_type": "code",
      "source": [
        "# Avaliar o modelo nos dados de teste\n",
        "accuracy = sum(onecold(model(x_test)) .== onecold(y_test)) / size(y_test, 2)"
      ],
      "metadata": {
        "colab": {
          "base_uri": "https://localhost:8080/"
        },
        "id": "LG1wORUnPssn",
        "outputId": "b8986ae5-c47e-43b7-ec05-b1af7e430a44"
      },
      "execution_count": null,
      "outputs": [
        {
          "output_type": "execute_result",
          "data": {
            "text/plain": [
              "0.9777777777777777"
            ]
          },
          "metadata": {},
          "execution_count": 168
        }
      ]
    },
    {
      "cell_type": "markdown",
      "source": [
        "A precisão do modelo é calculada comparando as previsões do modelo nos dados de teste com os rótulos verdadeiros. A função onecold é utilizada para obter os rótulos previstos pelo modelo e a função sum é utilizada para contar o número de rótulos corretos. O resultado é dividido pelo número total de exemplos de teste para obter a precisão."
      ],
      "metadata": {
        "id": "klgIbqPfPt_3"
      }
    },
    {
      "cell_type": "markdown",
      "source": [
        "# **TESTE**"
      ],
      "metadata": {
        "id": "-rCIwId0fC6j"
      }
    },
    {
      "cell_type": "code",
      "source": [
        "# Dado fictício para teste\n",
        "new_data = [5.1, 3.5, 1.4, 0.2]  # Características da nova flor\n"
      ],
      "metadata": {
        "colab": {
          "base_uri": "https://localhost:8080/"
        },
        "id": "oObEN61belTb",
        "outputId": "354b9e63-6999-4aa8-da95-b94362ff28c1"
      },
      "execution_count": null,
      "outputs": [
        {
          "output_type": "execute_result",
          "data": {
            "text/plain": [
              "4-element Vector{Float64}:\n",
              " 5.1\n",
              " 3.5\n",
              " 1.4\n",
              " 0.2"
            ]
          },
          "metadata": {},
          "execution_count": 223
        }
      ]
    },
    {
      "cell_type": "code",
      "source": [
        "# Converter dado em matriz de características\n",
        "x_new = reshape(new_data, (size(new_data)[1], 1))\n",
        "\n",
        "# Aplicar o modelo para prever a classe da nova flor\n",
        "predicted_class = Flux.onecold(model(x_new))\n"
      ],
      "metadata": {
        "colab": {
          "base_uri": "https://localhost:8080/"
        },
        "id": "m7pGr0Y5em3r",
        "outputId": "a6f93346-8706-44c7-e287-7a9df3fb3052"
      },
      "execution_count": null,
      "outputs": [
        {
          "output_type": "execute_result",
          "data": {
            "text/plain": [
              "1-element Vector{Int64}:\n",
              " 1"
            ]
          },
          "metadata": {},
          "execution_count": 227
        }
      ]
    },
    {
      "cell_type": "code",
      "source": [
        "# Mapear o número da classe para o nome da espécie\n",
        "species_names = [\"setosa\", \"versicolor\", \"virginica\"]\n",
        "predicted_species = species_names[predicted_class[1]]\n",
        "\n",
        "# Exibir a espécie prevista\n",
        "println(\"A espécie prevista para a nova flor é: \", predicted_species)\n"
      ],
      "metadata": {
        "colab": {
          "base_uri": "https://localhost:8080/"
        },
        "id": "qrvAyyJNeoo0",
        "outputId": "9ae46b95-fcc1-4735-9db5-1e6ff2748c37"
      },
      "execution_count": null,
      "outputs": [
        {
          "output_type": "stream",
          "name": "stdout",
          "text": [
            "A espécie prevista para a nova flor é: setosa\n"
          ]
        }
      ]
    }
  ],
  "metadata": {
    "colab": {
      "provenance": [],
      "include_colab_link": true
    },
    "kernelspec": {
      "display_name": "Julia",
      "language": "julia",
      "name": "julia"
    },
    "language_info": {
      "file_extension": ".jl",
      "mimetype": "application/julia",
      "name": "julia"
    }
  },
  "nbformat": 4,
  "nbformat_minor": 0
}